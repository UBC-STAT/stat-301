{
 "cells": [
  {
   "cell_type": "markdown",
   "metadata": {
    "deletable": false,
    "editable": false,
    "nbgrader": {
     "cell_type": "markdown",
     "checksum": "f5f5ff431672d61abab3a88847cc5cbe",
     "grade": false,
     "grade_id": "cell-f1e1d845873036f4",
     "locked": true,
     "schema_version": 3,
     "solution": false,
     "task": false
    }
   },
   "source": [
    "# Tutorial 06: Goodness of Fit and Nested Models"
   ]
  },
  {
   "cell_type": "markdown",
   "metadata": {
    "deletable": false,
    "editable": false,
    "nbgrader": {
     "cell_type": "markdown",
     "checksum": "caffbbb944f0b79a2e615660f395e77c",
     "grade": false,
     "grade_id": "cell-82d9926086d47a80",
     "locked": true,
     "schema_version": 3,
     "solution": false,
     "task": false
    }
   },
   "source": [
    "#### Lecture and Tutorial Learning Goals:\n",
    "After completing this week's lecture and tutorial work, you will be able to:\n",
    "\n",
    "1. List model metrics that are suitable for evaluation of a statistical model developed to make inferences about the data-generating mechanism (e.g., $R^2$, $\\text{AIC}$, Likelihood ratio test/$F$-test), their strengths and limitations, as well as how they are calculated.\n",
    "2. Write a computer script to calculate these model metrics. Interpret and communicate the results from that computer script.\n",
    "3. Explain how an $F$-test to compare nested models can be used as a variable selection methods."
   ]
  },
  {
   "cell_type": "code",
   "execution_count": null,
   "metadata": {
    "deletable": false,
    "editable": false,
    "nbgrader": {
     "cell_type": "code",
     "checksum": "1548248787ad5d436f1f3d6c3c08729b",
     "grade": false,
     "grade_id": "cell-a2a153352bc44a68",
     "locked": true,
     "schema_version": 3,
     "solution": false,
     "task": false
    },
    "tags": []
   },
   "outputs": [],
   "source": [
    "# Run this cell before continuing.\n",
    "\n",
    "library(broom)\n",
    "library(tidyverse)\n",
    "source(\"tests_tutorial_06.R\")"
   ]
  },
  {
   "cell_type": "markdown",
   "metadata": {
    "deletable": false,
    "editable": false,
    "nbgrader": {
     "cell_type": "markdown",
     "checksum": "2fdc64fbb3fd315f6c8183780b806582",
     "grade": false,
     "grade_id": "cell-93ac8765d809417c",
     "locked": true,
     "schema_version": 3,
     "solution": false,
     "task": false
    },
    "tags": []
   },
   "source": [
    "## Can we predict protein from mRNA?\n",
    "\n",
    "In *Worksheet 06*, you studied the significance of `mrna` and analyzed the goodness-of-fit of some models. However, there are other models that can be compared. For example, are interaction terms needed, or should we just use an additive model? "
   ]
  },
  {
   "cell_type": "markdown",
   "metadata": {
    "deletable": false,
    "editable": false,
    "nbgrader": {
     "cell_type": "markdown",
     "checksum": "76c9c8ad5318480e67f9d80f4ae641ba",
     "grade": false,
     "grade_id": "cell-58724295b3683c74",
     "locked": true,
     "schema_version": 3,
     "solution": false,
     "task": false
    },
    "tags": []
   },
   "source": [
    "Consider the following models using a dataset with 3 randomly selected genes:\n",
    "\n",
    "- model.1: $\\text{prot}_t=\\beta_0 + \\varepsilon_t$ \n",
    "\n",
    "- model.2:  $\\text{prot}_t=\\beta_0 + \\beta_1 \\text{mrna}_{t} + \\varepsilon_t$ \n",
    "\n",
    "- model.3:  $\\text{prot}_t=\\beta_0 + \\beta_2 \\text{gene2}_{t} + \\beta_3 \\text{gene3}_{t} + \\varepsilon_t$ \n",
    "\n",
    "- model.4:  $\\text{prot}_t=\\beta_0 + \\beta_1 \\text{mrna}_{t} + \\beta_2 \\text{gene2}_{t} + \\beta_3 \\text{gene3}_{t} + \\varepsilon_t$ \n",
    "\n",
    "- model.5:  $\\text{prot}_t=\\beta_0 + \\beta_1 \\text{mrna}_{t} + \\beta_2 \\text{gene2}_{t} + \\beta_3 \\text{gene3}_{t} + \\beta_4 \\text{gene2}_{t}\\text{mrna}_{t} + \\beta_5 \\text{gene3}_{t}\\text{mrna}_{t} + \\varepsilon_t$ "
   ]
  },
  {
   "cell_type": "code",
   "execution_count": null,
   "metadata": {
    "deletable": false,
    "editable": false,
    "nbgrader": {
     "cell_type": "code",
     "checksum": "e1c493bded5954d05ae98f5376e87c96",
     "grade": false,
     "grade_id": "cell-616b8ab2f1452495",
     "locked": true,
     "schema_version": 3,
     "solution": false,
     "task": false
    },
    "tags": []
   },
   "outputs": [],
   "source": [
    "# Read and take a look at the data.\n",
    "dat_bio <- read.csv(\"data/nature_dat.csv\", row.names = 1, stringsAsFactors=TRUE)\n",
    "\n",
    "str(dat_bio)\n",
    "head(dat_bio,3)\n",
    "tail(dat_bio,3)"
   ]
  },
  {
   "cell_type": "code",
   "execution_count": null,
   "metadata": {
    "deletable": false,
    "editable": false,
    "nbgrader": {
     "cell_type": "code",
     "checksum": "fd6ba13bf520cc907cda42e60d0cc87e",
     "grade": false,
     "grade_id": "cell-e4e36c63c003122c",
     "locked": true,
     "schema_version": 3,
     "solution": false,
     "task": false
    },
    "tags": []
   },
   "outputs": [],
   "source": [
    "#run this cell\n",
    "set.seed(561)\n",
    "dat_3genes <- dat_bio  %>%  \n",
    "         subset(gene %in% sample(gene,3)) "
   ]
  },
  {
   "cell_type": "markdown",
   "metadata": {
    "deletable": false,
    "editable": false,
    "nbgrader": {
     "cell_type": "markdown",
     "checksum": "a5362addc7e056c1a1b5a63de54e3e60",
     "grade": false,
     "grade_id": "cell-f435fa7fc65fb16b",
     "locked": true,
     "schema_version": 3,
     "solution": false,
     "task": false
    }
   },
   "source": [
    "**Question 1.0**\n",
    "<br>{points: 4}\n",
    "\n",
    "We can use the adjusted $R^2$ to compare the goodness-of-fit of `model.5` and `model.4` to conclude which fits the data better. \n",
    "\n",
    "a) [2pts] Use the dataset `dat_3genes` to fit both models and the function `glance()` to obtain their $R^2$ and adjusted $R^2$. \n",
    "\n",
    "b) [1pts] Compare the adjusted $R^2$ of the two models and discuss the results. \n",
    "\n",
    "c) [1pts] Compare the $R^2$ of the two models and explain why that of `model.5` is larger."
   ]
  },
  {
   "cell_type": "code",
   "execution_count": null,
   "metadata": {
    "deletable": false,
    "nbgrader": {
     "cell_type": "code",
     "checksum": "798c513b8a42b7ab0cc50bfead4cb95f",
     "grade": false,
     "grade_id": "cell-8949d93baadc071a",
     "locked": false,
     "schema_version": 3,
     "solution": true,
     "task": false
    },
    "tags": []
   },
   "outputs": [],
   "source": [
    "# Your code and numerical results go here. We will grade this cell manually\n",
    "\n",
    "# your code here\n",
    "fail() # No Answer - remove if you provide an answer"
   ]
  },
  {
   "cell_type": "markdown",
   "metadata": {
    "deletable": false,
    "nbgrader": {
     "cell_type": "markdown",
     "checksum": "0959dcbbe4b562e5053fff0e9504dfd1",
     "grade": true,
     "grade_id": "cell-f810ee382faddccf",
     "locked": false,
     "points": 4,
     "schema_version": 3,
     "solution": true,
     "task": false
    },
    "tags": []
   },
   "source": [
    "> *Your explanation of the results goes here.*\n",
    "\n",
    "DOUBLE CLICK TO EDIT **THIS CELL** AND REPLACE THIS TEXT WITH YOUR ANSWER."
   ]
  },
  {
   "cell_type": "markdown",
   "metadata": {
    "deletable": false,
    "editable": false,
    "nbgrader": {
     "cell_type": "markdown",
     "checksum": "85dea372343972f34a176ba5e08b6443",
     "grade": false,
     "grade_id": "cell-6c722e3a372a3114",
     "locked": true,
     "schema_version": 3,
     "solution": false,
     "task": false
    },
    "tags": []
   },
   "source": [
    "**Question 1.1**\n",
    "<br>{points: 1}\n",
    "\n",
    "Use the function `anova()` to test if the model with interaction terms (`model.5`) is significantly different from an additive one (`model.4`). \n",
    "\n",
    "> Note that both models have `mrna`,  but the full model, `model.5`, assumes that the expected change in protein levels per unit change in mRNA levels differs for each gene.\n",
    "\n",
    "Store the output of the `anova` function in an object called `Ftest_3genes_add_full`.\n",
    "\n",
    "*Write your own code and run it.*"
   ]
  },
  {
   "cell_type": "code",
   "execution_count": null,
   "metadata": {
    "deletable": false,
    "nbgrader": {
     "cell_type": "code",
     "checksum": "ad11a880ed5894962e97f681b2dd70ee",
     "grade": false,
     "grade_id": "cell-2d5e8281caac870d",
     "locked": false,
     "schema_version": 3,
     "solution": true,
     "task": false
    },
    "tags": []
   },
   "outputs": [],
   "source": [
    "#[write your code here]\n",
    "\n",
    "# Hints: \n",
    "# - fit the additive model\n",
    "# - fit the full model\n",
    "# - call the anova function and store the output in Ftest_3genes_add_full\n",
    "\n",
    "\n",
    "# your code here\n",
    "fail() # No Answer - remove if you provide an answer\n",
    "\n",
    "Ftest_3genes_add_full"
   ]
  },
  {
   "cell_type": "code",
   "execution_count": null,
   "metadata": {
    "deletable": false,
    "editable": false,
    "nbgrader": {
     "cell_type": "code",
     "checksum": "a7ec8d24a2360c6aba4602585328eb98",
     "grade": true,
     "grade_id": "cell-9520504e5a91abed",
     "locked": true,
     "points": 1,
     "schema_version": 3,
     "solution": false,
     "task": false
    },
    "tags": []
   },
   "outputs": [],
   "source": [
    "test_1.1()"
   ]
  },
  {
   "cell_type": "markdown",
   "metadata": {
    "deletable": false,
    "editable": false,
    "nbgrader": {
     "cell_type": "markdown",
     "checksum": "17c5d69ab3ed55766c71112f40638006",
     "grade": false,
     "grade_id": "cell-633de4d02e393e13",
     "locked": true,
     "schema_version": 3,
     "solution": false,
     "task": false
    },
    "tags": []
   },
   "source": [
    "**Question 1.2**\n",
    "<br>{points: 1}\n",
    "\n",
    "Using a significance level $\\alpha = 0.05$ and the results in `Ftest_3genes_add_full`, in plain words, what is the conclusion from the test run results in *Question 1.1*?\n",
    "\n",
    "**A.** We reject the null hypothesis; thus, the *full* model is significatly better than the *reduced* model.\n",
    "\n",
    "**B.** We fail to reject the null hypothesis; thus, there is not enough evidence that the *full* model with additional interaction terms is better than the additive (reduced) model.\n",
    "\n",
    "**C.** We accept the alternative hypothesis; thus, the *full* model is significantly better than the *reduced* model.\n",
    "\n",
    "**D.** We do not accept the alternative hypothesis; thus, the *full* model with additional interaction terms is not better than the *reduced* model.\n",
    "\n",
    "*Assign your answer to an object called `answer1.2`. Your answer should be one of `\"A\"`, `\"B\"`, `\"C\"`, or `\"D\"` surrounded by quotes.*"
   ]
  },
  {
   "cell_type": "code",
   "execution_count": null,
   "metadata": {
    "deletable": false,
    "nbgrader": {
     "cell_type": "code",
     "checksum": "9cff856f528f0528c33491c897a95600",
     "grade": false,
     "grade_id": "cell-672ea5acf3fcd97f",
     "locked": false,
     "schema_version": 3,
     "solution": true,
     "task": false
    },
    "tags": []
   },
   "outputs": [],
   "source": [
    "# answer1.2 <- \n",
    "\n",
    "# your code here\n",
    "fail() # No Answer - remove if you provide an answer"
   ]
  },
  {
   "cell_type": "code",
   "execution_count": null,
   "metadata": {
    "deletable": false,
    "editable": false,
    "nbgrader": {
     "cell_type": "code",
     "checksum": "3f2632e8bc663bf78e47e8d32a850c11",
     "grade": true,
     "grade_id": "cell-f510cd4a1479fd83",
     "locked": true,
     "points": 1,
     "schema_version": 3,
     "solution": false,
     "task": false
    },
    "tags": []
   },
   "outputs": [],
   "source": [
    "test_1.2()"
   ]
  },
  {
   "cell_type": "markdown",
   "metadata": {
    "deletable": false,
    "editable": false,
    "nbgrader": {
     "cell_type": "markdown",
     "checksum": "80f37c7b193be99f1e6e0e2b6e3d619d",
     "grade": false,
     "grade_id": "cell-73ad156d14319434",
     "locked": true,
     "schema_version": 3,
     "solution": false,
     "task": false
    },
    "tags": []
   },
   "source": [
    "#### Assessing mRNA in the additive model\n",
    "\n",
    "As a final test, let's examine the significance of `mrna` in the additive model."
   ]
  },
  {
   "cell_type": "markdown",
   "metadata": {
    "deletable": false,
    "editable": false,
    "nbgrader": {
     "cell_type": "markdown",
     "checksum": "bfead97aa43e8694162bbde56f89513c",
     "grade": false,
     "grade_id": "cell-95e74ec3f56b4208",
     "locked": true,
     "schema_version": 3,
     "solution": false,
     "task": false
    },
    "tags": []
   },
   "source": [
    "**Question 1.3**\n",
    "<br>{points: 2}\n",
    "\n",
    "Compare the additive model with mRNA as an input and distinct intercepts per gene  (`model.4`) with a model without `mrna` and only the categorical variable `gene` as input variable (`model.3`). Note that the second model predicts protein levels with the average protein level within each gene.\n",
    "\n",
    "Use the function `tidy()` to obtain a summary of the additive model. Include the corresponding asymptotic 90% confidence intervals. Store the results in an object called `add_mrna_results`.\n",
    "\n",
    "Use the function `anova()` to compare these models and store the results in an object called `Ftest_3genes_add_mrna`.\n",
    "\n",
    "*Fill out those parts indicated with `...`, uncomment the corresponding code in the cell below, and run it.*"
   ]
  },
  {
   "cell_type": "code",
   "execution_count": null,
   "metadata": {
    "deletable": false,
    "nbgrader": {
     "cell_type": "code",
     "checksum": "881725097c7a2fcf53e9616ef1fccad5",
     "grade": false,
     "grade_id": "cell-620823d0f6deab4f",
     "locked": false,
     "schema_version": 3,
     "solution": true,
     "task": false
    },
    "tags": []
   },
   "outputs": [],
   "source": [
    "#[write your code here]\n",
    "\n",
    "#add_mrna_results <- ...\n",
    "#Ftest_3genes_add_mrna <- ...\n",
    "\n",
    "# your code here\n",
    "fail() # No Answer - remove if you provide an answer\n",
    "\n",
    "add_mrna_results\n",
    "Ftest_3genes_add_mrna"
   ]
  },
  {
   "cell_type": "code",
   "execution_count": null,
   "metadata": {
    "deletable": false,
    "editable": false,
    "nbgrader": {
     "cell_type": "code",
     "checksum": "4170522107d95699c49bc563b061e017",
     "grade": true,
     "grade_id": "cell-9b6acf3241aeeb8e",
     "locked": true,
     "points": 2,
     "schema_version": 3,
     "solution": false,
     "task": false
    },
    "tags": []
   },
   "outputs": [],
   "source": [
    "test_1.3.0()\n",
    "test_1.3.1()"
   ]
  },
  {
   "cell_type": "markdown",
   "metadata": {
    "deletable": false,
    "editable": false,
    "nbgrader": {
     "cell_type": "markdown",
     "checksum": "57b43eeb5d22cbd419e519b982ef0089",
     "grade": false,
     "grade_id": "cell-2278371543391218",
     "locked": true,
     "schema_version": 3,
     "solution": false,
     "task": false
    },
    "tags": []
   },
   "source": [
    "**Question 1.4**\n",
    "<br>{points: 2}\n",
    "\n",
    "Compare the $p$-value for `mrna` in `add_mrna_results` with that reported in `Ftest_3genes_add_mrna`. What do you observe? Indicate the null hypotheses tested in each case and explain the results."
   ]
  },
  {
   "cell_type": "markdown",
   "metadata": {
    "deletable": false,
    "nbgrader": {
     "cell_type": "markdown",
     "checksum": "f0f24c741ebf551d2ce4b09f3b6a0e1f",
     "grade": true,
     "grade_id": "cell-46d78ce68383a2a1",
     "locked": false,
     "points": 2,
     "schema_version": 3,
     "solution": true,
     "task": false
    },
    "tags": []
   },
   "source": [
    "> *Your explanation of the results goes here.*\n",
    "\n",
    "DOUBLE CLICK TO EDIT **THIS CELL** AND REPLACE THIS TEXT WITH YOUR ANSWER."
   ]
  },
  {
   "cell_type": "markdown",
   "metadata": {
    "deletable": false,
    "editable": false,
    "nbgrader": {
     "cell_type": "markdown",
     "checksum": "44fe2c8dd30b9a85d0919805a4f49c86",
     "grade": false,
     "grade_id": "cell-c096bd3acbd91392",
     "locked": true,
     "schema_version": 3,
     "solution": false,
     "task": false
    }
   },
   "source": [
    "**Question 1.5**\n",
    "<br>{points: 1}\n",
    "\n",
    "Using a **significance level $\\alpha = 0.10$** and the results in `add_mrna_results`, which of the following claims is correct? \n",
    "\n",
    "**A.** The `model.4` that includes `mRNA` is significantly different from `model.3`.\n",
    "\n",
    "**B.** There is not enough evidence that the `model.4` that includes `mRNA` as a predictor is significantly better than `model.3`.\n",
    "\n",
    "**C.** The `model.4` that includes `mrna` as a predictor is equivalent to `model.3` since the coefficient for `mrna` is not significantly different from zero.\n",
    "\n",
    "**D.** The variable `mRNA` is essential to predict protein levels.\n",
    "\n",
    "*Assign your answer to an object called `answer1.5`. Your answer should be one of `\"A\"`, `\"B\"`, `\"C\"`, or `\"D\"` surrounded by quotes.*"
   ]
  },
  {
   "cell_type": "code",
   "execution_count": null,
   "metadata": {
    "deletable": false,
    "nbgrader": {
     "cell_type": "code",
     "checksum": "82147ef53119e2379fffda89d7ccda2f",
     "grade": false,
     "grade_id": "cell-526e7a36d70d7656",
     "locked": false,
     "schema_version": 3,
     "solution": true,
     "task": false
    },
    "tags": []
   },
   "outputs": [],
   "source": [
    "# answer1.5 <- \n",
    "\n",
    "# your code here\n",
    "fail() # No Answer - remove if you provide an answer"
   ]
  },
  {
   "cell_type": "code",
   "execution_count": null,
   "metadata": {
    "deletable": false,
    "editable": false,
    "nbgrader": {
     "cell_type": "code",
     "checksum": "825ca16308c4eb3362e5c7b1c4bf9bdd",
     "grade": true,
     "grade_id": "cell-eaee9f2280c396a0",
     "locked": true,
     "points": 1,
     "schema_version": 3,
     "solution": false,
     "task": false
    },
    "tags": []
   },
   "outputs": [],
   "source": [
    "test_1.5()"
   ]
  }
 ],
 "metadata": {
  "jupytext": {
   "formats": "ipynb,Rmd"
  },
  "kernelspec": {
   "display_name": "R",
   "language": "R",
   "name": "ir"
  },
  "language_info": {
   "codemirror_mode": "r",
   "file_extension": ".r",
   "mimetype": "text/x-r-source",
   "name": "R",
   "pygments_lexer": "r",
   "version": "4.3.3"
  },
  "latex_envs": {
   "LaTeX_envs_menu_present": true,
   "autoclose": false,
   "autocomplete": true,
   "bibliofile": "biblio.bib",
   "cite_by": "apalike",
   "current_citInitial": 1,
   "eqLabelWithNumbers": true,
   "eqNumInitial": 1,
   "hotkeys": {
    "equation": "Ctrl-E",
    "itemize": "Ctrl-I"
   },
   "labels_anchors": false,
   "latex_user_defs": false,
   "report_style_numbering": false,
   "user_envs_cfg": false
  }
 },
 "nbformat": 4,
 "nbformat_minor": 4
}
