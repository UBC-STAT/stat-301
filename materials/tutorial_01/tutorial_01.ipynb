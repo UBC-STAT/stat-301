{
 "cells": [
  {
   "cell_type": "markdown",
   "metadata": {
    "deletable": false,
    "editable": false,
    "nbgrader": {
     "cell_type": "markdown",
     "checksum": "1f2424f6d0b1a0147fe689e3527b589d",
     "grade": false,
     "grade_id": "cell-f1e1d845873036f4",
     "locked": true,
     "schema_version": 3,
     "solution": false,
     "task": false
    }
   },
   "source": [
    "# Tutorial 01: Introduction to Generative Modelling"
   ]
  },
  {
   "cell_type": "markdown",
   "metadata": {
    "deletable": false,
    "editable": false,
    "nbgrader": {
     "cell_type": "markdown",
     "checksum": "0759b285d3e9aab838a8b34ac037782c",
     "grade": false,
     "grade_id": "cell-82d9926086d47a80",
     "locked": true,
     "schema_version": 3,
     "solution": false,
     "task": false
    }
   },
   "source": [
    "## Learning Objectives\n",
    "\n",
    "After completing this week's lecture and tutorial work, you will be able to:\n",
    "\n",
    "1. Give an example of a question that could be answered by generative modelling.\n",
    "2. Explain how a linear regression can be used to approximate the underlying mechanism that generated the data (quantitative response and input variables).\n",
    "3. Interpret the estimated coefficients and $p$-values derived from theoretical results for a simple linear regression (i.e., one input variable).\n",
    "4. Discuss the assumptions made to estimate the simple linear regression coefficients and approximate their sampling distribution.\n",
    "5. Explain how to approximate the sampling distribution of the simple linear regression coefficient estimators using bootstrapping. \n",
    "6. Contrast the sampling distribution approximated using theoretical results with bootstrapping alternatives for a simple linear regression setting.\n",
    "7. Compute confidence intervals for the simple linear regression coefficients using theoretical approximations and bootstrapping results.\n",
    "8. Write a computer script to perform simple linear regression analysis."
   ]
  },
  {
   "cell_type": "code",
   "execution_count": null,
   "metadata": {
    "deletable": false,
    "editable": false,
    "nbgrader": {
     "cell_type": "code",
     "checksum": "0c423d15e77308f5d22a318d9bd80ab2",
     "grade": false,
     "grade_id": "cell-a2a153352bc44a68",
     "locked": true,
     "schema_version": 3,
     "solution": false,
     "task": false
    },
    "tags": []
   },
   "outputs": [],
   "source": [
    "# Run this cell before continuing.\n",
    "library(tidyverse)\n",
    "library(repr)\n",
    "library(infer)\n",
    "library(cowplot)\n",
    "library(broom)\n",
    "library(GGally)\n",
    "library(AER)\n",
    "source(\"tests_tutorial_01.R\")"
   ]
  },
  {
   "cell_type": "markdown",
   "metadata": {
    "deletable": false,
    "editable": false,
    "nbgrader": {
     "cell_type": "markdown",
     "checksum": "3734c11424e1d872ce35ad283985c6bd",
     "grade": false,
     "grade_id": "cell-8f7d7906c474a959",
     "locked": true,
     "schema_version": 3,
     "solution": false,
     "task": false
    }
   },
   "source": [
    "## 1. Warm Up Questions"
   ]
  },
  {
   "cell_type": "markdown",
   "metadata": {
    "deletable": false,
    "editable": false,
    "nbgrader": {
     "cell_type": "markdown",
     "checksum": "8e8fc85408caebc15801a419e9485492",
     "grade": false,
     "grade_id": "cell-1f0ba393fba9e41b",
     "locked": true,
     "schema_version": 3,
     "solution": false,
     "task": false
    }
   },
   "source": [
    "**Question 1.0**\n",
    "<br>{points: 1}\n",
    "\n",
    "**True or false?**\n",
    "\n",
    "To estimate how the weight at birth of a newborn child is affected by the socioeconomic status of the family and the parental stability, a researcher wants to use a linear regression. In this case, the variable that measures the newborns' weight would be the response variable.\n",
    "\n",
    "*Assign your answer to an object called `answer1.0`. Your answer should be either \"true\" or \"false\", surrounded by quotes.*"
   ]
  },
  {
   "cell_type": "code",
   "execution_count": null,
   "metadata": {
    "deletable": false,
    "nbgrader": {
     "cell_type": "code",
     "checksum": "b6362fbfde87c9e5063a05b5e64ddca2",
     "grade": false,
     "grade_id": "cell-29f6b0bdc9445bb2",
     "locked": false,
     "schema_version": 3,
     "solution": true,
     "task": false
    },
    "tags": []
   },
   "outputs": [],
   "source": [
    "# answer1.0 <- ...\n",
    "\n",
    "# your code here\n",
    "fail() # No Answer - remove if you provide an answer"
   ]
  },
  {
   "cell_type": "code",
   "execution_count": null,
   "metadata": {
    "deletable": false,
    "editable": false,
    "nbgrader": {
     "cell_type": "code",
     "checksum": "36a1251bff219f6434b68d3d10f99963",
     "grade": true,
     "grade_id": "cell-c6e402dd6ef02a3a",
     "locked": true,
     "points": 1,
     "schema_version": 3,
     "solution": false,
     "task": false
    },
    "tags": []
   },
   "outputs": [],
   "source": [
    "test_1.0()"
   ]
  },
  {
   "cell_type": "markdown",
   "metadata": {
    "deletable": false,
    "editable": false,
    "nbgrader": {
     "cell_type": "markdown",
     "checksum": "9cce914aabd3416b8128d64257cb9279",
     "grade": false,
     "grade_id": "cell-257142f22ddbd528",
     "locked": true,
     "schema_version": 3,
     "solution": false,
     "task": false
    }
   },
   "source": [
    "**Question 1.1**\n",
    "<br>{points: 1}\n",
    "\n",
    "**True or false?**\n",
    "\n",
    "In a simple linear regression, the response is an exact linear function of the input variable, i.e.,\n",
    "\n",
    "$$Y = \\beta_0 + \\beta_1 X$$\n",
    "\n",
    "*Assign your answer to an object called `answer1.1`. Your answer should be either \"true\" or \"false\", surrounded by quotes.*"
   ]
  },
  {
   "cell_type": "code",
   "execution_count": null,
   "metadata": {
    "deletable": false,
    "nbgrader": {
     "cell_type": "code",
     "checksum": "9407a53e46bd788639c1ed7a461ce71a",
     "grade": false,
     "grade_id": "cell-698602a0493b66ef",
     "locked": false,
     "schema_version": 3,
     "solution": true,
     "task": false
    },
    "tags": []
   },
   "outputs": [],
   "source": [
    "# answer1.1 <- ...\n",
    "\n",
    "# your code here\n",
    "fail() # No Answer - remove if you provide an answer"
   ]
  },
  {
   "cell_type": "code",
   "execution_count": null,
   "metadata": {
    "deletable": false,
    "editable": false,
    "nbgrader": {
     "cell_type": "code",
     "checksum": "beb88a4aac63074c8021e016ae833efc",
     "grade": true,
     "grade_id": "cell-beef4fa7f7f276fe",
     "locked": true,
     "points": 1,
     "schema_version": 3,
     "solution": false,
     "task": false
    },
    "tags": []
   },
   "outputs": [],
   "source": [
    "test_1.1()"
   ]
  },
  {
   "cell_type": "markdown",
   "metadata": {
    "deletable": false,
    "editable": false,
    "nbgrader": {
     "cell_type": "markdown",
     "checksum": "7628d357496dbdeab2fe72918b326b67",
     "grade": false,
     "grade_id": "cell-26631c17b3d8e2c9",
     "locked": true,
     "schema_version": 3,
     "solution": false,
     "task": false
    }
   },
   "source": [
    "**Question 1.2**\n",
    "<br>{points: 1}\n",
    "\n",
    "**True or false?**\n",
    "\n",
    "The error term $\\varepsilon_i$ in the regression equation below contains relevant information of explanatory variables not considered in the model to explain the variation in the response.\n",
    "\n",
    "$$Y_i = \\beta_0 + \\beta_1 X_i + \\varepsilon_i$$\n",
    "\n",
    "*Assign your answer to an object called `answer1.2`. Your answer should be either \"true\" or \"false\", surrounded by quotes.*"
   ]
  },
  {
   "cell_type": "code",
   "execution_count": null,
   "metadata": {
    "deletable": false,
    "nbgrader": {
     "cell_type": "code",
     "checksum": "5ba41a6a01ea68435a7f9b0542c09784",
     "grade": false,
     "grade_id": "cell-4b335cebcde30e1b",
     "locked": false,
     "schema_version": 3,
     "solution": true,
     "task": false
    },
    "tags": []
   },
   "outputs": [],
   "source": [
    "# answer1.2 <- ...\n",
    "\n",
    "# your code here\n",
    "fail() # No Answer - remove if you provide an answer"
   ]
  },
  {
   "cell_type": "code",
   "execution_count": null,
   "metadata": {
    "deletable": false,
    "editable": false,
    "nbgrader": {
     "cell_type": "code",
     "checksum": "9c9f1e3a521ae0f679dc387e57aebbe7",
     "grade": true,
     "grade_id": "cell-75f9ed0505b50f5f",
     "locked": true,
     "points": 1,
     "schema_version": 3,
     "solution": false,
     "task": false
    },
    "tags": []
   },
   "outputs": [],
   "source": [
    "test_1.2()"
   ]
  },
  {
   "cell_type": "markdown",
   "metadata": {
    "deletable": false,
    "editable": false,
    "nbgrader": {
     "cell_type": "markdown",
     "checksum": "62e0bb75d774dcff52f8ee49a886169f",
     "grade": false,
     "grade_id": "cell-a6eb420d8b2ac120",
     "locked": true,
     "schema_version": 3,
     "solution": false,
     "task": false
    }
   },
   "source": [
    "**Question 1.3**\n",
    "<br>{points: 1}\n",
    "\n",
    "**True or false?**\n",
    "\n",
    "The population regression coefficient $\\beta_1$ is always known, and we do not have to estimate it.\n",
    "\n",
    "*Assign your answer to an object called `answer1.5`. Your answer should be either \"true\" or \"false\", surrounded by quotes.*"
   ]
  },
  {
   "cell_type": "code",
   "execution_count": null,
   "metadata": {
    "deletable": false,
    "nbgrader": {
     "cell_type": "code",
     "checksum": "6c7bd18008274221289898df104e1e81",
     "grade": false,
     "grade_id": "cell-b3c45d32dc92b244",
     "locked": false,
     "schema_version": 3,
     "solution": true,
     "task": false
    },
    "tags": []
   },
   "outputs": [],
   "source": [
    "# answer1.3 <- ...\n",
    "\n",
    "# your code here\n",
    "fail() # No Answer - remove if you provide an answer"
   ]
  },
  {
   "cell_type": "code",
   "execution_count": null,
   "metadata": {
    "deletable": false,
    "editable": false,
    "nbgrader": {
     "cell_type": "code",
     "checksum": "9e68ddfc8dc65100c49e7f4ae4d7fbb8",
     "grade": true,
     "grade_id": "cell-bd4a51cafe438c2f",
     "locked": true,
     "points": 1,
     "schema_version": 3,
     "solution": false,
     "task": false
    },
    "tags": []
   },
   "outputs": [],
   "source": [
    "test_1.3()"
   ]
  },
  {
   "cell_type": "markdown",
   "metadata": {
    "deletable": false,
    "editable": false,
    "nbgrader": {
     "cell_type": "markdown",
     "checksum": "4c43ce5a37ff4c29267d4486b63ea0ca",
     "grade": false,
     "grade_id": "cell-f68d435da93f5cd8",
     "locked": true,
     "schema_version": 3,
     "solution": false,
     "task": false
    }
   },
   "source": [
    "## 2. Data Exploratory Analysis\n",
    "\n",
    "An essential step in any data analysis is to explore and know important characteristics of the data. This includes, but is not limited to:\n",
    "\n",
    "- knowing the size of the data \n",
    "\n",
    "- examining distributions of all variables using graphical and numerical summaries\n",
    "\n",
    "- identifying missing values and potential outliers\n",
    "\n",
    "- beginning to discover relationships between variables\n",
    "\n",
    "This step, usually referred to as *Exploratory Data Analysis (EDA)*, is generally the first step in the analysis. However, a typical data science workflow is never linear, and you may need to continue exploring the data at many points of the analysis path. Professors Peng and Matsui, in their book \"The Art of Data Science\", described this process with epicycles."
   ]
  },
  {
   "cell_type": "markdown",
   "metadata": {
    "deletable": false,
    "editable": false,
    "nbgrader": {
     "cell_type": "markdown",
     "checksum": "6de5292b683b01b75df82f7066033b04",
     "grade": false,
     "grade_id": "cell-016fe62d01b50fa2",
     "locked": true,
     "schema_version": 3,
     "solution": false,
     "task": false
    }
   },
   "source": [
    "###  EDA Checklist\n",
    "\n",
    "From The Art of Data Science (by Peng and Matsui)\n",
    "\n",
    "1. Formulate your question\n",
    "2. Read your data\n",
    "3. Check the packaging\n",
    "4. Look at the top and the bottom of your data\n",
    "5. Check your “n”s"
   ]
  },
  {
   "cell_type": "markdown",
   "metadata": {
    "deletable": false,
    "editable": false,
    "nbgrader": {
     "cell_type": "markdown",
     "checksum": "fbba9343768add35fc8e535f31189aae",
     "grade": false,
     "grade_id": "cell-cf77061785254742",
     "locked": true,
     "schema_version": 3,
     "solution": false,
     "task": false
    }
   },
   "source": [
    "#### The question\n",
    "\n",
    "You want to know if students' school performance is associated with the family’s income."
   ]
  },
  {
   "cell_type": "markdown",
   "metadata": {
    "deletable": false,
    "editable": false,
    "nbgrader": {
     "cell_type": "markdown",
     "checksum": "5a34b2f0ae84e69215c39cd911e03ed3",
     "grade": false,
     "grade_id": "cell-448d647bdb079323",
     "locked": true,
     "schema_version": 3,
     "solution": false,
     "task": false
    },
    "tags": []
   },
   "source": [
    "#### Read in the data\n",
    "\n",
    "In this tutorial, we will use a real-world dataset from 420 K-6 and K-8 districts in California with data available for 1998 and 1999. The California School data set (`CASchools`) comes with an R package called AER, an acronym for Applied Econometrics with R (by Christian Kleiber & Zeileis, 2017). \n",
    "\n",
    "The dataset contains data on test performance, school characteristics, and student demographic backgrounds in Californian school districts. Among many variables available, we will use the following:\n",
    "\n",
    "- `grades`: factor indicating grade span of district.\n",
    "\n",
    "- `income`: District average income (in USD 1,000).\n",
    "\n",
    "- `english`: Percent of English learners.\n",
    "\n",
    "- `read`: Average reading score.\n",
    "\n",
    "\n",
    "Consider the dataset `CASchools` as your *random sample* (like in DSCI 100 and STAT 201!) for the analysis.\n",
    "\n",
    "> Recall the importance of using a *random* sample to obtain representative summaries and broad conclusions!\n",
    "\n",
    "Let's start by reading this dataset!"
   ]
  },
  {
   "cell_type": "code",
   "execution_count": null,
   "metadata": {
    "deletable": false,
    "editable": false,
    "nbgrader": {
     "cell_type": "code",
     "checksum": "7b2af8c2d1dd30b80a5d0a06e7c50d66",
     "grade": false,
     "grade_id": "cell-efb34ebf5c1ca2a3",
     "locked": true,
     "schema_version": 3,
     "solution": false,
     "task": false
    },
    "tags": []
   },
   "outputs": [],
   "source": [
    "#run this cell\n",
    "\n",
    "data(CASchools)\n",
    "\n",
    "caschools <- CASchools %>%\n",
    "  select(grades, income, english, read) %>%\n",
    "  mutate_if(is.numeric, round, 2)\n",
    "\n",
    "head(caschools)"
   ]
  },
  {
   "cell_type": "markdown",
   "metadata": {
    "deletable": false,
    "editable": false,
    "nbgrader": {
     "cell_type": "markdown",
     "checksum": "0e032c703c198412ced7225859a8b22d",
     "grade": false,
     "grade_id": "cell-ffd1efc1b0dba586",
     "locked": true,
     "schema_version": 3,
     "solution": false,
     "task": false
    }
   },
   "source": [
    "#### Check the packaging"
   ]
  },
  {
   "cell_type": "code",
   "execution_count": null,
   "metadata": {
    "deletable": false,
    "editable": false,
    "nbgrader": {
     "cell_type": "code",
     "checksum": "717044bee79fc5695991b1c91f1a8dbc",
     "grade": false,
     "grade_id": "cell-69edafdafca96ce8",
     "locked": true,
     "schema_version": 3,
     "solution": false,
     "task": false
    },
    "tags": []
   },
   "outputs": [],
   "source": [
    "str(caschools)"
   ]
  },
  {
   "cell_type": "markdown",
   "metadata": {
    "deletable": false,
    "editable": false,
    "nbgrader": {
     "cell_type": "markdown",
     "checksum": "c5cfe3796bd59e7814065186be533e90",
     "grade": false,
     "grade_id": "cell-468ffcc0b7bab51e",
     "locked": true,
     "schema_version": 3,
     "solution": false,
     "task": false
    }
   },
   "source": [
    "**Question 2.0: Look at the top and the bottom of your data**\n",
    "<br>{points: 1}\n",
    "\n",
    "Get the first and last 3 rows of `caschools_data`. Call these new objects `caschools_head` and `caschools_tail`, respectively.\n",
    "\n",
    "*Fill out those parts indicated with ..., uncomment the corresponding code in the cell below, and run it.*"
   ]
  },
  {
   "cell_type": "code",
   "execution_count": null,
   "metadata": {
    "deletable": false,
    "nbgrader": {
     "cell_type": "code",
     "checksum": "69fbe9b80295bb6cccc14ee83df242b3",
     "grade": false,
     "grade_id": "cell-13a3de40e4cb6cf1",
     "locked": false,
     "schema_version": 3,
     "solution": true,
     "task": false
    },
    "tags": []
   },
   "outputs": [],
   "source": [
    "# caschools_head <- ... %>% ...(...)\n",
    "# caschools_tail <- ... %>% ...(...)\n",
    "#caschools_head\n",
    "#caschools_tail\n",
    "\n",
    "# your code here\n",
    "fail() # No Answer - remove if you provide an answer"
   ]
  },
  {
   "cell_type": "code",
   "execution_count": null,
   "metadata": {
    "deletable": false,
    "editable": false,
    "nbgrader": {
     "cell_type": "code",
     "checksum": "ffd0066afeb38d11c97a77dbbc30fce3",
     "grade": true,
     "grade_id": "cell-3a4512fc9d878ef6",
     "locked": true,
     "points": 1,
     "schema_version": 3,
     "solution": false,
     "task": false
    },
    "tags": []
   },
   "outputs": [],
   "source": [
    "test_2.0()"
   ]
  },
  {
   "cell_type": "markdown",
   "metadata": {
    "deletable": false,
    "editable": false,
    "nbgrader": {
     "cell_type": "markdown",
     "checksum": "b5eb26b452ab0089678498ab09aa32b2",
     "grade": false,
     "grade_id": "cell-b65767ccfba609d1",
     "locked": true,
     "schema_version": 3,
     "solution": false,
     "task": false
    }
   },
   "source": [
    "**Question 2.1: Check the dimensions**\n",
    "<br>{points: 1}\n",
    "\n",
    "Check the dimensions of `caschools`. Call the new objects `caschools_dim`. \n",
    "\n",
    "(*Hint: Check the function `dim`*). \n"
   ]
  },
  {
   "cell_type": "code",
   "execution_count": null,
   "metadata": {
    "deletable": false,
    "nbgrader": {
     "cell_type": "code",
     "checksum": "bff229ce61c5c78457d988f65eef2f4e",
     "grade": false,
     "grade_id": "cell-34849b5d805e2550",
     "locked": false,
     "schema_version": 3,
     "solution": true,
     "task": false
    },
    "tags": []
   },
   "outputs": [],
   "source": [
    "# caschools_dim <- ...\n",
    "# caschools_dim\n",
    "\n",
    "# your code here\n",
    "fail() # No Answer - remove if you provide an answer"
   ]
  },
  {
   "cell_type": "code",
   "execution_count": null,
   "metadata": {
    "deletable": false,
    "editable": false,
    "nbgrader": {
     "cell_type": "code",
     "checksum": "6eed2b93b271c7ee0361e94007e330f5",
     "grade": true,
     "grade_id": "cell-9e5f4eaa53084b69",
     "locked": true,
     "points": 1,
     "schema_version": 3,
     "solution": false,
     "task": false
    },
    "tags": []
   },
   "outputs": [],
   "source": [
    "test_2.1()"
   ]
  },
  {
   "cell_type": "markdown",
   "metadata": {
    "deletable": false,
    "editable": false,
    "nbgrader": {
     "cell_type": "markdown",
     "checksum": "bab2b3e3584f5cdc7daa0ccfd2ea451a",
     "grade": false,
     "grade_id": "cell-c793cb54dfccb989",
     "locked": true,
     "schema_version": 3,
     "solution": false,
     "task": false
    },
    "tags": []
   },
   "source": [
    "#### Get summary statistics\n",
    "\n",
    "In this example, we will obtain some useful summary statistics of all the continuous variables in the dataset. \n",
    "\n",
    "- Use `select` to select only the continuous variables in the dataset\n",
    "\n",
    "- Use the `gather` function to convert the dataset into a *long* format\n",
    "\n",
    "- Then use `summarise` to obtain the summary statistics in the skeleton"
   ]
  },
  {
   "cell_type": "code",
   "execution_count": null,
   "metadata": {
    "deletable": false,
    "editable": false,
    "nbgrader": {
     "cell_type": "code",
     "checksum": "03218d4148fb0bd475fec87e86c2ea5b",
     "grade": false,
     "grade_id": "cell-eb60f5e9eaec111f",
     "locked": true,
     "schema_version": 3,
     "solution": false,
     "task": false
    },
    "tags": []
   },
   "outputs": [],
   "source": [
    "#run this cell\n",
    "\n",
    "caschools_long <- caschools %>%\n",
    "    select(-grades) %>%\n",
    "    gather(factor_key=TRUE, key = 'variable')\n",
    "head(caschools_long)"
   ]
  },
  {
   "cell_type": "markdown",
   "metadata": {
    "deletable": false,
    "editable": false,
    "nbgrader": {
     "cell_type": "markdown",
     "checksum": "1536c1750123b516076e2e58d4825b5f",
     "grade": false,
     "grade_id": "cell-f3f4280bd4c3e5c6",
     "locked": true,
     "schema_version": 3,
     "solution": false,
     "task": false
    }
   },
   "source": [
    "**Question 2.2**\n",
    "<br>{points: 1}\n",
    "\n",
    "Obtain the sample mean, standard deviation, maximum and minimum summary statistics for all continuous variables and save them into an object called `caschools_stats`\n",
    "\n",
    "*Fill out those parts indicated with `...`, uncomment the corresponding code in the cell below, and run it.*"
   ]
  },
  {
   "cell_type": "code",
   "execution_count": null,
   "metadata": {
    "deletable": false,
    "nbgrader": {
     "cell_type": "code",
     "checksum": "f9e3815a71c560d874fb58450294f304",
     "grade": false,
     "grade_id": "cell-5a01e81c2c3ab56d",
     "locked": false,
     "schema_version": 3,
     "solution": true,
     "task": false
    },
    "tags": []
   },
   "outputs": [],
   "source": [
    "# caschools_stats <- \n",
    "#     caschools_long %>% \n",
    "#     group_by(...) %>%\n",
    "#     summarise(mean = ...(...),\n",
    "#               sd = ...(...), \n",
    "#               max = ...(...), \n",
    "#               min = ...(...))\n",
    "\n",
    "\n",
    "# your code here\n",
    "fail() # No Answer - remove if you provide an answer\n",
    "\n",
    "caschools_stats "
   ]
  },
  {
   "cell_type": "code",
   "execution_count": null,
   "metadata": {
    "deletable": false,
    "editable": false,
    "nbgrader": {
     "cell_type": "code",
     "checksum": "000700e32cc883eaff2440c954687705",
     "grade": true,
     "grade_id": "cell-f87e2085b6dc9430",
     "locked": true,
     "points": 1,
     "schema_version": 3,
     "solution": false,
     "task": false
    },
    "tags": []
   },
   "outputs": [],
   "source": [
    "test_2.2()"
   ]
  },
  {
   "cell_type": "markdown",
   "metadata": {
    "deletable": false,
    "editable": false,
    "nbgrader": {
     "cell_type": "markdown",
     "checksum": "8769edd9a12b2c63673ca5ad4eb6af1b",
     "grade": false,
     "grade_id": "cell-c09cfc89f74e515e",
     "locked": true,
     "schema_version": 3,
     "solution": false,
     "task": false
    }
   },
   "source": [
    "**Question 2.3: Check the distribution of the variables**\n",
    "<br>{points: 1}\n",
    "\n",
    "Although not mentioned in the previous checklist, checking the distribution of your variables is an important item in the EDA. Use the plotting function `ggpairs()`, from the library `GGally`, to generate a pair plot of all the variables found in `cashools`.  \n",
    "\n",
    "> **Note**: that when the dataset contains too many variables using `ggpairs()` is not the best visualization you can use.\n",
    "\n",
    "The `ggplot()` object's name will be `caschools_pair_plots`. \n",
    "\n",
    "*Fill out those parts indicated with `...`, uncomment the corresponding code in the cell below, and run it.*"
   ]
  },
  {
   "cell_type": "code",
   "execution_count": null,
   "metadata": {
    "deletable": false,
    "nbgrader": {
     "cell_type": "code",
     "checksum": "53da32abcb1c428daa2e01d3d8883e46",
     "grade": false,
     "grade_id": "cell-fdbe2d5bd858f25e",
     "locked": false,
     "schema_version": 3,
     "solution": true,
     "task": false
    },
    "tags": []
   },
   "outputs": [],
   "source": [
    "# Adjust these numbers so the plot looks good in your computer.\n",
    "options(repr.plot.width = 15, repr.plot.height = 12) \n",
    "\n",
    "# caschools_pair_plots <- \n",
    "#   ... %>%\n",
    "#   ...(progress = FALSE) +\n",
    "#   theme(\n",
    "#     text = element_text(size = 15),\n",
    "#     plot.title = element_text(face = \"bold\"),\n",
    "#     axis.title = element_text(face = \"bold\")\n",
    "#   )\n",
    "\n",
    "# your code here\n",
    "fail() # No Answer - remove if you provide an answer\n",
    "\n",
    "caschools_pair_plots"
   ]
  },
  {
   "cell_type": "code",
   "execution_count": null,
   "metadata": {
    "deletable": false,
    "editable": false,
    "nbgrader": {
     "cell_type": "code",
     "checksum": "aa4e8681dc57327ba977e9841672b030",
     "grade": true,
     "grade_id": "cell-904f59a978421cd6",
     "locked": true,
     "points": 1,
     "schema_version": 3,
     "solution": false,
     "task": false
    },
    "tags": []
   },
   "outputs": [],
   "source": [
    "test_2.3()"
   ]
  },
  {
   "cell_type": "markdown",
   "metadata": {
    "deletable": false,
    "editable": false,
    "nbgrader": {
     "cell_type": "markdown",
     "checksum": "7f8df1dbcf2b5851b80de62b38b346bc",
     "grade": false,
     "grade_id": "cell-5449843681852172",
     "locked": true,
     "schema_version": 3,
     "solution": false,
     "task": false
    }
   },
   "source": [
    "> Compare the output of the function `ggpairs()` with that of the function `pairs()` used in `worksheet_03`. Which one do you prefer? Discuss it with peers!"
   ]
  },
  {
   "cell_type": "markdown",
   "metadata": {
    "deletable": false,
    "editable": false,
    "nbgrader": {
     "cell_type": "markdown",
     "checksum": "5b49ed78204afac6d4316e8c7fb9de2d",
     "grade": false,
     "grade_id": "cell-c92761166fec8ff4",
     "locked": true,
     "schema_version": 3,
     "solution": false,
     "task": false
    }
   },
   "source": [
    "**Question 2.4**\n",
    "<br>{points: 1}\n",
    "\n",
    "Looking at the distribution of `income`, how would you describe the empirical distribution of this variable?\n",
    "\n",
    "**A.** Fairly symmetric.\n",
    "\n",
    "**B.** Left-skewed.\n",
    "\n",
    "**C.** Right-skewed.\n",
    "\n",
    "*Assign your answer to an object called `answer2.4`. Your answer should be one of `\"A\"`, `\"B\"`, or `\"C\"` surrounded by quotes.*"
   ]
  },
  {
   "cell_type": "code",
   "execution_count": null,
   "metadata": {
    "deletable": false,
    "nbgrader": {
     "cell_type": "code",
     "checksum": "24eea822d92629f864a305c6d5a88277",
     "grade": false,
     "grade_id": "cell-2649bbec0ac3611c",
     "locked": false,
     "schema_version": 3,
     "solution": true,
     "task": false
    },
    "tags": []
   },
   "outputs": [],
   "source": [
    "# answer2.4 <- ...\n",
    "\n",
    "# your code here\n",
    "fail() # No Answer - remove if you provide an answer"
   ]
  },
  {
   "cell_type": "code",
   "execution_count": null,
   "metadata": {
    "deletable": false,
    "editable": false,
    "nbgrader": {
     "cell_type": "code",
     "checksum": "2493e095902496fb80b2feb1cd8a5b1b",
     "grade": true,
     "grade_id": "cell-bd862def38ee135d",
     "locked": true,
     "points": 1,
     "schema_version": 3,
     "solution": false,
     "task": false
    },
    "tags": []
   },
   "outputs": [],
   "source": [
    "test_2.4()"
   ]
  },
  {
   "cell_type": "markdown",
   "metadata": {
    "deletable": false,
    "editable": false,
    "nbgrader": {
     "cell_type": "markdown",
     "checksum": "975aa6e07680254bc921a73c7a61f3bd",
     "grade": false,
     "grade_id": "cell-1e846ffbbe3addf9",
     "locked": true,
     "schema_version": 3,
     "solution": false,
     "task": false
    }
   },
   "source": [
    "# 3. Simple Linear Regression (SLR)"
   ]
  },
  {
   "cell_type": "markdown",
   "metadata": {
    "deletable": false,
    "editable": false,
    "nbgrader": {
     "cell_type": "markdown",
     "checksum": "da02ff362e5ad1a1a9eff19525aaa8a2",
     "grade": false,
     "grade_id": "cell-c47f46561d961141",
     "locked": true,
     "schema_version": 3,
     "solution": false,
     "task": false
    }
   },
   "source": [
    "**Question 3.0**\n",
    "<br>{points: 1}\n",
    "\n",
    "Based on the visual inspection of the relationship between the variables in the data, you use a Simple Linear Regression (SLR) to study the relation of `read` and `income`. \n",
    "\n",
    "How would you describe the graphical association between these two variables?\n",
    "\n",
    "\n",
    "**A.** Positive and non-linear.\n",
    "\n",
    "**B.** Positive and linear.\n",
    "\n",
    "**C.** Negative and non-linear.\n",
    "\n",
    "**D.** Negative and linear.\n",
    "\n",
    "*Assign your answer to an object called `answer3.0`. Your answer should be one of `\"A\"` or `\"B\"` surrounded by quotes.*"
   ]
  },
  {
   "cell_type": "code",
   "execution_count": null,
   "metadata": {
    "deletable": false,
    "nbgrader": {
     "cell_type": "code",
     "checksum": "5d8ae9e2ea3e0ecd2092f4f10e2e1d4f",
     "grade": false,
     "grade_id": "cell-575c921b7f74873c",
     "locked": false,
     "schema_version": 3,
     "solution": true,
     "task": false
    },
    "tags": []
   },
   "outputs": [],
   "source": [
    "# answer3.0 <- ...\n",
    "\n",
    "# your code here\n",
    "fail() # No Answer - remove if you provide an answer"
   ]
  },
  {
   "cell_type": "code",
   "execution_count": null,
   "metadata": {
    "deletable": false,
    "editable": false,
    "nbgrader": {
     "cell_type": "code",
     "checksum": "a83b08b77177fd8a812e0b6fb8496748",
     "grade": true,
     "grade_id": "cell-4bb12d40a3a8f9b4",
     "locked": true,
     "points": 1,
     "schema_version": 3,
     "solution": false,
     "task": false
    },
    "tags": []
   },
   "outputs": [],
   "source": [
    "test_3.0()"
   ]
  },
  {
   "cell_type": "markdown",
   "metadata": {
    "deletable": false,
    "editable": false,
    "nbgrader": {
     "cell_type": "markdown",
     "checksum": "f72c1d82fa778757b648dab5261ee58e",
     "grade": false,
     "grade_id": "cell-fedadba17e6eec60",
     "locked": true,
     "schema_version": 3,
     "solution": false,
     "task": false
    }
   },
   "source": [
    "**Question 3.1**\n",
    "<br>{points: 1}\n",
    "\n",
    "Within the context of this exercise and to answer the question of interest:\n",
    "\n",
    "- Which variable will you choose as a response variable? Answer with the column's name from `caschools`. Assign your answer to the object `answer3.1_response`.\n",
    "    \n",
    "    \n",
    "- Which variable will you choose as the input variable? Answer with the column's name from `caschools`. Assign your answer to the object `answer3.1_predictor`."
   ]
  },
  {
   "cell_type": "code",
   "execution_count": null,
   "metadata": {
    "deletable": false,
    "nbgrader": {
     "cell_type": "code",
     "checksum": "eeadfc120b6331c7b9a505b855fa9848",
     "grade": false,
     "grade_id": "cell-ff07c675bb5106b2",
     "locked": false,
     "schema_version": 3,
     "solution": true,
     "task": false
    },
    "tags": []
   },
   "outputs": [],
   "source": [
    "# answer3.1_response <- \"...\"\n",
    "# answer3.1_predictor <- \"...\"\n",
    "\n",
    "# your code here\n",
    "fail() # No Answer - remove if you provide an answer"
   ]
  },
  {
   "cell_type": "code",
   "execution_count": null,
   "metadata": {
    "deletable": false,
    "editable": false,
    "nbgrader": {
     "cell_type": "code",
     "checksum": "f6d91f092b29468d2c3dac1265760779",
     "grade": true,
     "grade_id": "cell-42ab438339d8ae20",
     "locked": true,
     "points": 1,
     "schema_version": 3,
     "solution": false,
     "task": false
    },
    "tags": []
   },
   "outputs": [],
   "source": [
    "test_3.1.0()\n",
    "test_3.1.1()"
   ]
  },
  {
   "cell_type": "markdown",
   "metadata": {
    "deletable": false,
    "editable": false,
    "nbgrader": {
     "cell_type": "markdown",
     "checksum": "ebe2eceb7a986182b9e0b29a4f64e218",
     "grade": false,
     "grade_id": "cell-7779aba406403e7c",
     "locked": true,
     "schema_version": 3,
     "solution": false,
     "task": false
    }
   },
   "source": [
    "**Question 3.2**\n",
    "<br>{points: 1}\n",
    "\n",
    "Even though we found that the relationship between `read` and `income` is non-linear, let us fit the SLR model estimated by least squares (LS) anyway for practice purposes. Assign it to the object `caschools_SLR`.\n",
    "\n",
    "*Fill out those parts indicated with `...`, uncomment the corresponding code in the cell below, and run it.*"
   ]
  },
  {
   "cell_type": "code",
   "execution_count": null,
   "metadata": {
    "deletable": false,
    "nbgrader": {
     "cell_type": "code",
     "checksum": "cf88bd642f5047540af76f6d729f9977",
     "grade": false,
     "grade_id": "cell-5d5858041fa44df8",
     "locked": false,
     "schema_version": 3,
     "solution": true,
     "task": false
    },
    "tags": []
   },
   "outputs": [],
   "source": [
    "# caschools_SLR <- ...(... ~ ..., data = ...)\n",
    "\n",
    "# your code here\n",
    "fail() # No Answer - remove if you provide an answer\n",
    "\n",
    "caschools_SLR"
   ]
  },
  {
   "cell_type": "code",
   "execution_count": null,
   "metadata": {
    "deletable": false,
    "editable": false,
    "nbgrader": {
     "cell_type": "code",
     "checksum": "99979bd4e259fa578a3d96ef2b96d510",
     "grade": true,
     "grade_id": "cell-e689eddd3550d8aa",
     "locked": true,
     "points": 1,
     "schema_version": 3,
     "solution": false,
     "task": false
    },
    "tags": []
   },
   "outputs": [],
   "source": [
    "test_3.2()"
   ]
  },
  {
   "cell_type": "markdown",
   "metadata": {
    "deletable": false,
    "editable": false,
    "nbgrader": {
     "cell_type": "markdown",
     "checksum": "764d8ce95ae9eb233f6e2d37a1dd91be",
     "grade": false,
     "grade_id": "cell-eadd4d25d933e61b",
     "locked": true,
     "schema_version": 3,
     "solution": false,
     "task": false
    }
   },
   "source": [
    "**Question 3.3**\n",
    "<br>{points: 1}\n",
    "\n",
    "Find the estimated coefficients of `caschools_SLR` using `tidy()`. Report the estimated coefficients, their standard errors and corresponding $p$-values. Include the corresponding asymptotic 95% confidence intervals. Store the results in the variable `caschools_SLR_results`.\n",
    "\n",
    "*Fill out those parts indicated with `...`, uncomment the corresponding code in the cell below, and run it.*"
   ]
  },
  {
   "cell_type": "code",
   "execution_count": null,
   "metadata": {
    "deletable": false,
    "nbgrader": {
     "cell_type": "code",
     "checksum": "a1bc4a9f524108a17fd4b6c7c96fbe41",
     "grade": false,
     "grade_id": "cell-de75e38914c8bd71",
     "locked": false,
     "schema_version": 3,
     "solution": true,
     "task": false
    },
    "tags": []
   },
   "outputs": [],
   "source": [
    "# caschools_SLR_results <- \n",
    "#    ...(..., conf.int = ...) %>% \n",
    "#    mutate_if(is.numeric, round, 2)\n",
    "\n",
    "# your code here\n",
    "fail() # No Answer - remove if you provide an answer\n",
    "\n",
    "caschools_SLR_results"
   ]
  },
  {
   "cell_type": "code",
   "execution_count": null,
   "metadata": {
    "deletable": false,
    "editable": false,
    "nbgrader": {
     "cell_type": "code",
     "checksum": "bd5127a60d80a099cc49120535884eda",
     "grade": true,
     "grade_id": "cell-5e03179285a5ab4c",
     "locked": true,
     "points": 1,
     "schema_version": 3,
     "solution": false,
     "task": false
    },
    "tags": []
   },
   "outputs": [],
   "source": [
    "test_3.3()"
   ]
  },
  {
   "cell_type": "markdown",
   "metadata": {
    "deletable": false,
    "editable": false,
    "nbgrader": {
     "cell_type": "markdown",
     "checksum": "92fa8103d462bc980c77702b16313ebe",
     "grade": false,
     "grade_id": "cell-9f32068b813c12cd",
     "locked": true,
     "schema_version": 3,
     "solution": false,
     "task": false
    }
   },
   "source": [
    "**Question 3.4**\n",
    "<br>{points: 1}\n",
    "\n",
    "Using `caschools`, create a scatterplot of the response variable (in the $y$-axis) versus the input variable (in the $x$-axis), but add the estimated SLR line.\n",
    "\n",
    "Call the resulting object `caschools_scatterplot`.\n",
    "\n",
    "*Fill out those parts indicated with ..., uncomment the corresponding code in the cell below, and run it.*"
   ]
  },
  {
   "cell_type": "code",
   "execution_count": null,
   "metadata": {
    "deletable": false,
    "nbgrader": {
     "cell_type": "code",
     "checksum": "9439eec3cf03663591f41350734f971d",
     "grade": false,
     "grade_id": "cell-1e057ff0dcf9cf28",
     "locked": false,
     "schema_version": 3,
     "solution": true,
     "task": false
    },
    "tags": []
   },
   "outputs": [],
   "source": [
    "# Adjust these numbers so the plot looks good in your computer.\n",
    "options(repr.plot.width = 10, repr.plot.height = 5) \n",
    "\n",
    "# caschools_scatterplot <- \n",
    "#   ggplot(..., aes(x = ..., y = ...)) +\n",
    "#   ...() +\n",
    "#   ...(method = ..., se = FALSE, linewidth = 1.5) +\n",
    "#   xlab(...) +\n",
    "#   ylab(...) +\n",
    "#   theme(\n",
    "#     text = element_text(size = 16.5),\n",
    "#     plot.title = element_text(face = \"bold\"),\n",
    "#     axis.title = element_text(face = \"bold\")\n",
    "#   )\n",
    "\n",
    " \n",
    "# your code here\n",
    "fail() # No Answer - remove if you provide an answer\n",
    "\n",
    "caschools_scatterplot"
   ]
  },
  {
   "cell_type": "code",
   "execution_count": null,
   "metadata": {
    "deletable": false,
    "editable": false,
    "nbgrader": {
     "cell_type": "code",
     "checksum": "2289b73c936e424d0bfa3518c1b5ea64",
     "grade": true,
     "grade_id": "cell-17b6e4cdafc14089",
     "locked": true,
     "points": 1,
     "schema_version": 3,
     "solution": false,
     "task": false
    },
    "tags": []
   },
   "outputs": [],
   "source": [
    "test_3.4()"
   ]
  },
  {
   "cell_type": "markdown",
   "metadata": {
    "deletable": false,
    "editable": false,
    "nbgrader": {
     "cell_type": "markdown",
     "checksum": "ad1d8ed108da0943fbbe83e6e0e34a87",
     "grade": false,
     "grade_id": "cell-5de065f5b10f01e4",
     "locked": true,
     "schema_version": 3,
     "solution": false,
     "task": false
    }
   },
   "source": [
    "**Question 3.5**\n",
    "<br>{points: 1}\n",
    "\n",
    "Using the results in  `caschools_SLR_results`, write a correct interpretation of the estimated slope."
   ]
  },
  {
   "cell_type": "markdown",
   "metadata": {
    "deletable": false,
    "nbgrader": {
     "cell_type": "markdown",
     "checksum": "8621a037b7bdde68624bdb7a764f3015",
     "grade": true,
     "grade_id": "cell-96c286a1023992ca",
     "locked": false,
     "points": 1,
     "schema_version": 3,
     "solution": true,
     "task": false
    },
    "tags": []
   },
   "source": [
    "DOUBLE CLICK TO EDIT **THIS CELL** AND REPLACE THIS TEXT WITH YOUR ANSWER."
   ]
  },
  {
   "cell_type": "markdown",
   "metadata": {
    "deletable": false,
    "editable": false,
    "nbgrader": {
     "cell_type": "markdown",
     "checksum": "b67cd086921c97725541afa053cd5688",
     "grade": false,
     "grade_id": "cell-324a8a8a2e08e2e3",
     "locked": true,
     "schema_version": 3,
     "solution": false,
     "task": false
    }
   },
   "source": [
    "# 4. Inference"
   ]
  },
  {
   "cell_type": "markdown",
   "metadata": {
    "deletable": false,
    "editable": false,
    "nbgrader": {
     "cell_type": "markdown",
     "checksum": "714586f7a1bd8a0dc709cdff6b1392e8",
     "grade": false,
     "grade_id": "cell-2cbdf37962999769",
     "locked": true,
     "schema_version": 3,
     "solution": false,
     "task": false
    }
   },
   "source": [
    "**Question 4.0**\n",
    "<br>{points: 1}\n",
    "\n",
    "Using a significance level $\\alpha = 0.05$, is `income` statistically associated with `read`?\n",
    "\n",
    "*Assign your answer to an object called answer4.0. Your answer should be either \"true\" or \"false\", surrounded by quotes.*"
   ]
  },
  {
   "cell_type": "code",
   "execution_count": null,
   "metadata": {
    "deletable": false,
    "nbgrader": {
     "cell_type": "code",
     "checksum": "655af7c16fbda5d7b31ddde0bcc29e2d",
     "grade": false,
     "grade_id": "cell-a9e4780d55b05f26",
     "locked": false,
     "schema_version": 3,
     "solution": true,
     "task": false
    },
    "tags": []
   },
   "outputs": [],
   "source": [
    "# answer4.0 <- \n",
    "\n",
    "# your code here\n",
    "fail() # No Answer - remove if you provide an answer"
   ]
  },
  {
   "cell_type": "code",
   "execution_count": null,
   "metadata": {
    "deletable": false,
    "editable": false,
    "nbgrader": {
     "cell_type": "code",
     "checksum": "56d8e63b1884eaa8368a3b17e8b0c90e",
     "grade": true,
     "grade_id": "cell-2557c5d473cd2ca5",
     "locked": true,
     "points": 1,
     "schema_version": 3,
     "solution": false,
     "task": false
    },
    "tags": []
   },
   "outputs": [],
   "source": [
    "test_4.0()"
   ]
  },
  {
   "cell_type": "markdown",
   "metadata": {
    "deletable": false,
    "editable": false,
    "nbgrader": {
     "cell_type": "markdown",
     "checksum": "41b0449bf0ff240fea2b3e3d73763576",
     "grade": false,
     "grade_id": "cell-3969ac7669b624cc",
     "locked": true,
     "schema_version": 3,
     "solution": false,
     "task": false
    }
   },
   "source": [
    "**Question 4.1**\n",
    "<br>{points: 1}\n",
    "\n",
    "The `p-values` computed by the function `lm` displayed in `caschools_SLR_results` are based on:\n",
    "\n",
    "**A.** classical theoretical approximations or results\n",
    "\n",
    "**B.** bootstrapping experiments\n",
    "\n",
    "**C.** none of the above\n",
    "\n",
    "*Assign your answer to an object called answer4.1 Your answer should be one of \"A\", \"B\", or \"C\" surrounded by quotes.*"
   ]
  },
  {
   "cell_type": "code",
   "execution_count": null,
   "metadata": {
    "deletable": false,
    "nbgrader": {
     "cell_type": "code",
     "checksum": "7b75c3e8a757e01aecd33cd3246495da",
     "grade": false,
     "grade_id": "cell-89fa950b7d61d5ce",
     "locked": false,
     "schema_version": 3,
     "solution": true,
     "task": false
    },
    "tags": []
   },
   "outputs": [],
   "source": [
    "# answer4.1 <- ...\n",
    "\n",
    "# your code here\n",
    "fail() # No Answer - remove if you provide an answer"
   ]
  },
  {
   "cell_type": "code",
   "execution_count": null,
   "metadata": {
    "deletable": false,
    "editable": false,
    "nbgrader": {
     "cell_type": "code",
     "checksum": "940c0d7fdffd05a2c048a7e594e96582",
     "grade": true,
     "grade_id": "cell-4d86eb92b0c66dc0",
     "locked": true,
     "points": 1,
     "schema_version": 3,
     "solution": false,
     "task": false
    },
    "tags": []
   },
   "outputs": [],
   "source": [
    "test_4.1()"
   ]
  },
  {
   "cell_type": "markdown",
   "metadata": {
    "deletable": false,
    "editable": false,
    "nbgrader": {
     "cell_type": "markdown",
     "checksum": "7fa256e5cdfe2cba60434446e11fbb6e",
     "grade": false,
     "grade_id": "cell-4eb270aafed9e9e7",
     "locked": true,
     "schema_version": 3,
     "solution": false,
     "task": false
    }
   },
   "source": [
    "**Question 4.2**\n",
    "<br>{points: 1}\n",
    "\n",
    "Using `caschools_SLR_results`, provide a correct interpretation of the 95% CI for the regression parameter of `income`.\n"
   ]
  },
  {
   "cell_type": "markdown",
   "metadata": {
    "deletable": false,
    "nbgrader": {
     "cell_type": "markdown",
     "checksum": "159841c63b4c9fd1c87e944f46d3bd8a",
     "grade": true,
     "grade_id": "cell-f20007eb5aa52e59",
     "locked": false,
     "points": 1,
     "schema_version": 3,
     "solution": true,
     "task": false
    }
   },
   "source": [
    "\n",
    "DOUBLE CLICK TO EDIT **THIS CELL** AND REPLACE THIS TEXT WITH YOUR ANSWER."
   ]
  },
  {
   "cell_type": "markdown",
   "metadata": {
    "deletable": false,
    "editable": false,
    "nbgrader": {
     "cell_type": "markdown",
     "checksum": "9446adcdd5baebbdafe80b0a317a1623",
     "grade": false,
     "grade_id": "cell-74dcf2dc57354acc",
     "locked": true,
     "schema_version": 3,
     "solution": false,
     "task": false
    }
   },
   "source": [
    "**Question 4.3**\n",
    "<br>{points: 1}\n",
    "\n",
    "One of the *sampling distributions* related to SLR is \n",
    "\n",
    "**A.** The distribution of the response $Y$.\n",
    "\n",
    "**B.** The distribution of the true population slope $\\beta_1$.\n",
    "\n",
    "**C.** The distribution of $\\hat{\\beta}_1$, the estimator of the slope.\n",
    "\n",
    "**D.** The distribution of the input variable $X$.\n",
    "\n",
    "*Assign your answer to an object called `answer4.3`. Your answer should be one of \"A\", \"B\", \"C\", or \"D\" surrounded by quotes.*"
   ]
  },
  {
   "cell_type": "code",
   "execution_count": null,
   "metadata": {
    "deletable": false,
    "nbgrader": {
     "cell_type": "code",
     "checksum": "abb49a119e6a367227d09f2387aee29e",
     "grade": false,
     "grade_id": "cell-67d1fca093753e9d",
     "locked": false,
     "schema_version": 3,
     "solution": true,
     "task": false
    },
    "tags": []
   },
   "outputs": [],
   "source": [
    "# answer4.3<- ...\n",
    "\n",
    "# your code here\n",
    "fail() # No Answer - remove if you provide an answer"
   ]
  },
  {
   "cell_type": "code",
   "execution_count": null,
   "metadata": {
    "deletable": false,
    "editable": false,
    "nbgrader": {
     "cell_type": "code",
     "checksum": "fed1faa450c722a781e401a77350545c",
     "grade": true,
     "grade_id": "cell-6e0c245deaae5bb6",
     "locked": true,
     "points": 1,
     "schema_version": 3,
     "solution": false,
     "task": false
    },
    "tags": []
   },
   "outputs": [],
   "source": [
    "test_4.3()"
   ]
  },
  {
   "cell_type": "markdown",
   "metadata": {
    "deletable": false,
    "editable": false,
    "nbgrader": {
     "cell_type": "markdown",
     "checksum": "7fa59ae188bee558230226cba762164e",
     "grade": false,
     "grade_id": "cell-a4817fbb82f87eeb",
     "locked": true,
     "schema_version": 3,
     "solution": false,
     "task": false
    }
   },
   "source": [
    "**Question 4.4**\n",
    "<br>{points: 1}\n",
    "\n",
    "If we assume that the error terms are Normal, it can be proved that the sampling distributions are also Normal. However, we usually don't know the true distribution of the error terms. \n",
    "\n",
    "If we prefer not to make these assumptions, we can approximate the sampling distribution using bootstrapping from 'caschools'.\n",
    "\n",
    "- Obtain $B = 10000$ sets of regression estimates by fitting an SLR with LS $B$ times for each bootstrapped sample. Note that it might take quite a few seconds to run.  \n",
    "\n",
    "- Store the corresponding bootstrap estimates in the data frame `lm_boot` of $B$ rows and two columns:\n",
    "    - boot_intercept: list of bootstrapped intercepts.\n",
    "    - boot_slope: list of bootstrapped slopes.\n",
    "    \n",
    "*Fill out those parts indicated with ..., uncomment the corresponding code in the cell below, and run it.*"
   ]
  },
  {
   "cell_type": "code",
   "execution_count": null,
   "metadata": {
    "deletable": false,
    "nbgrader": {
     "cell_type": "code",
     "checksum": "cc848bbf893711719257bf001d6ae535",
     "grade": false,
     "grade_id": "cell-2abb129ec95221ad",
     "locked": false,
     "schema_version": 3,
     "solution": true,
     "task": false
    },
    "tags": []
   },
   "outputs": [],
   "source": [
    "set.seed(123)  # DO NOT CHANGE!\n",
    "\n",
    "# n <- ...\n",
    "# B <- ...\n",
    "\n",
    "# lm_boot <- replicate(..., {\n",
    "#   sample_n(..., ..., replace = ...) %>%\n",
    "#     lm(formula = ..., data = .) %>%\n",
    "#     .$coef\n",
    "# })\n",
    "#\n",
    "# lm_boot <- data.frame(boot_intercept = lm_boot[1, ], boot_slope = lm_boot[2, ])\n",
    "\n",
    "# your code here\n",
    "fail() # No Answer - remove if you provide an answer\n",
    "\n",
    "head(lm_boot)\n",
    "tail(lm_boot)"
   ]
  },
  {
   "cell_type": "code",
   "execution_count": null,
   "metadata": {
    "deletable": false,
    "editable": false,
    "nbgrader": {
     "cell_type": "code",
     "checksum": "a7f3ff3508e9a4f5b6be555981a4f29b",
     "grade": true,
     "grade_id": "cell-d6e2116a57b37c60",
     "locked": true,
     "points": 1,
     "schema_version": 3,
     "solution": false,
     "task": false
    },
    "tags": []
   },
   "outputs": [],
   "source": [
    "test_4.4()"
   ]
  },
  {
   "cell_type": "markdown",
   "metadata": {
    "deletable": false,
    "editable": false,
    "nbgrader": {
     "cell_type": "markdown",
     "checksum": "aafefb8730f8085da5c9ef73e93be4cb",
     "grade": false,
     "grade_id": "cell-29b88974801f385c",
     "locked": true,
     "schema_version": 3,
     "solution": false,
     "task": false
    }
   },
   "source": [
    "**Question 4.5**\n",
    "<br>{points: 1}\n",
    "\n",
    "Now that we have a list of bootstrapped estimates, we can visualize the sampling distributions! \n",
    "\n",
    "Let's focus on the sampling distribution of the slope estimator.\n",
    "\n",
    "The ggplot object's name will be `slope_sampling_dist_boot`.\n",
    "\n",
    "*Fill out those parts indicated with ..., uncomment the corresponding code in the cell below, and run it.*"
   ]
  },
  {
   "cell_type": "code",
   "execution_count": null,
   "metadata": {
    "deletable": false,
    "nbgrader": {
     "cell_type": "code",
     "checksum": "1c77410c981e462219e758e73a049791",
     "grade": false,
     "grade_id": "cell-1be0d98a6824963b",
     "locked": false,
     "schema_version": 3,
     "solution": true,
     "task": false
    },
    "tags": []
   },
   "outputs": [],
   "source": [
    "#slope_sampling_dist_boot <-\n",
    "#    ggplot(..., aes(x = ...)) +\n",
    "#    geom_histogram(bins = 30, color = 'white') +\n",
    "#    coord_cartesian(xlim = c(1.5, 2.5)) +\n",
    "#    xlab(\"...\") +\n",
    "#    ggtitle(\"Sampling distribution for the estimator of the slope\")\n",
    "\n",
    "# your code here\n",
    "fail() # No Answer - remove if you provide an answer\n",
    "\n",
    "slope_sampling_dist_boot"
   ]
  },
  {
   "cell_type": "code",
   "execution_count": null,
   "metadata": {
    "deletable": false,
    "editable": false,
    "nbgrader": {
     "cell_type": "code",
     "checksum": "d20686c49b98645360e2e7e344e4f225",
     "grade": true,
     "grade_id": "cell-b9108c2055d3ac91",
     "locked": true,
     "points": 1,
     "schema_version": 3,
     "solution": false,
     "task": false
    },
    "tags": []
   },
   "outputs": [],
   "source": [
    "test_4.5()"
   ]
  },
  {
   "cell_type": "markdown",
   "metadata": {
    "deletable": false,
    "editable": false,
    "nbgrader": {
     "cell_type": "markdown",
     "checksum": "eaa00d27d49bd309fc9d775441a6e743",
     "grade": false,
     "grade_id": "cell-f208a7aad835a1b4",
     "locked": true,
     "schema_version": 3,
     "solution": false,
     "task": false
    }
   },
   "source": [
    "**Question 4.6**\n",
    "<br>{points: 1}\n",
    "\n",
    "Add vertical lines to the plot of the sampling distribution, `slope_sampling_dist_boot`, to visualize the upper and lower limits of the  percentile-based bootstrap *95% CIs* of the slope.\n",
    "\n",
    "The ggplot() object's name will be `slope_sampling_dist_boot_limits`.\n",
    "\n",
    "*Fill out those parts indicated with ..., uncomment the corresponding code in the cell below, and run it.*"
   ]
  },
  {
   "cell_type": "code",
   "execution_count": null,
   "metadata": {
    "deletable": false,
    "nbgrader": {
     "cell_type": "code",
     "checksum": "9cd9c52a5c3369cba8532484ec0e7ab0",
     "grade": false,
     "grade_id": "cell-f1005eef309b7034",
     "locked": false,
     "schema_version": 3,
     "solution": true,
     "task": false
    },
    "tags": []
   },
   "outputs": [],
   "source": [
    "#slope_sampling_dist_boot_limits <- \n",
    "#   ... + \n",
    "#   geom_vline(aes(xintercept = quantile(..., ...)), col = 'blue', size = 1)+\n",
    "#   geom_vline(aes(xintercept = quantile(..., ...)), col = 'blue', size = 1)\n",
    "\n",
    "# your code here\n",
    "fail() # No Answer - remove if you provide an answer\n",
    "\n",
    "slope_sampling_dist_boot_limits"
   ]
  },
  {
   "cell_type": "code",
   "execution_count": null,
   "metadata": {
    "deletable": false,
    "editable": false,
    "nbgrader": {
     "cell_type": "code",
     "checksum": "ab9c3b6254f4bddc787e20a95a311030",
     "grade": true,
     "grade_id": "cell-e99ddded2b8a3b53",
     "locked": true,
     "points": 1,
     "schema_version": 3,
     "solution": false,
     "task": false
    },
    "tags": []
   },
   "outputs": [],
   "source": [
    "test_4.6()"
   ]
  },
  {
   "cell_type": "markdown",
   "metadata": {
    "deletable": false,
    "editable": false,
    "nbgrader": {
     "cell_type": "markdown",
     "checksum": "843a6de144cc86a328645a5133865ca1",
     "grade": false,
     "grade_id": "cell-f6df9aa915de5943",
     "locked": true,
     "schema_version": 3,
     "solution": false,
     "task": false
    }
   },
   "source": [
    "**Question 4.7**\n",
    "<br>{points: 1}\n",
    "\n",
    "In one or two sentences, explain how to use `lm_boot` generated in **Question 4.4** to approximate the sampling distribution of the estimator of the intercept."
   ]
  },
  {
   "cell_type": "markdown",
   "metadata": {
    "deletable": false,
    "nbgrader": {
     "cell_type": "markdown",
     "checksum": "1eea2841bbf778276e7e3a8406c36e69",
     "grade": true,
     "grade_id": "cell-72593ed4ef54b37f",
     "locked": false,
     "points": 1,
     "schema_version": 3,
     "solution": true,
     "task": false
    }
   },
   "source": [
    "DOUBLE CLICK TO EDIT **THIS CELL** AND REPLACE THIS TEXT WITH YOUR ANSWER."
   ]
  },
  {
   "cell_type": "markdown",
   "metadata": {
    "deletable": false,
    "editable": false,
    "nbgrader": {
     "cell_type": "markdown",
     "checksum": "5fa6673ab434dc13de60240df11f0271",
     "grade": false,
     "grade_id": "cell-d3e77ce454454460",
     "locked": true,
     "schema_version": 3,
     "solution": false,
     "task": false
    },
    "tags": []
   },
   "source": [
    "**Question 4.8**\n",
    "<br>{points: 1}\n",
    "\n",
    "Write appropriate code and use `lm_boot` to generate and visualize percentile-based bootstrap 90% confidence intervals for the estimator of the intercept. Your answer must include a visualization and a 90% CI."
   ]
  },
  {
   "cell_type": "code",
   "execution_count": null,
   "metadata": {
    "deletable": false,
    "nbgrader": {
     "cell_type": "code",
     "checksum": "21e4e0ce456b9b3a96b0aac360cc9d56",
     "grade": true,
     "grade_id": "cell-475b23b48cb11450",
     "locked": false,
     "points": 1,
     "schema_version": 3,
     "solution": true,
     "task": false
    },
    "tags": []
   },
   "outputs": [],
   "source": [
    "## Your code goes here\n",
    "\n",
    "# your code here\n",
    "fail() # No Answer - remove if you provide an answer"
   ]
  }
 ],
 "metadata": {
  "jupytext": {
   "formats": "ipynb,Rmd"
  },
  "kernelspec": {
   "display_name": "R",
   "language": "R",
   "name": "ir"
  },
  "language_info": {
   "codemirror_mode": "r",
   "file_extension": ".r",
   "mimetype": "text/x-r-source",
   "name": "R",
   "pygments_lexer": "r",
   "version": "4.3.3"
  },
  "latex_envs": {
   "LaTeX_envs_menu_present": true,
   "autoclose": false,
   "autocomplete": true,
   "bibliofile": "biblio.bib",
   "cite_by": "apalike",
   "current_citInitial": 1,
   "eqLabelWithNumbers": true,
   "eqNumInitial": 1,
   "hotkeys": {
    "equation": "Ctrl-E",
    "itemize": "Ctrl-I"
   },
   "labels_anchors": false,
   "latex_user_defs": false,
   "report_style_numbering": false,
   "user_envs_cfg": false
  }
 },
 "nbformat": 4,
 "nbformat_minor": 4
}
