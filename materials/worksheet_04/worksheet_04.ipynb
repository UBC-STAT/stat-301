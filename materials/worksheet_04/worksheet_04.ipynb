{
 "cells": [
  {
   "cell_type": "markdown",
   "metadata": {
    "deletable": false,
    "editable": false,
    "nbgrader": {
     "cell_type": "markdown",
     "checksum": "f1f49fe946e27f3031a1edb2c9f386cc",
     "grade": false,
     "grade_id": "cell-f1e1d845873036f4",
     "locked": true,
     "schema_version": 3,
     "solution": false,
     "task": false
    }
   },
   "source": [
    "# Worksheet 04: Binary Responses"
   ]
  },
  {
   "cell_type": "markdown",
   "metadata": {
    "deletable": false,
    "editable": false,
    "nbgrader": {
     "cell_type": "markdown",
     "checksum": "ff8a65ce2801db8336ad573495998d58",
     "grade": false,
     "grade_id": "cell-82d9926086d47a80",
     "locked": true,
     "schema_version": 3,
     "solution": false,
     "task": false
    }
   },
   "source": [
    "## Lecture and Tutorial Learning Goals:\n",
    "After completing this week's lecture and tutorial work, you will be able to:\n",
    "\n",
    "1. Describe the logistic regression estimation procedure (binary response variable).\n",
    "2. Discuss the relationship between linear regression and logistic regression. Discuss the consequences of modelling data more suitable for logistic regression as a linear regression model.\n",
    "3. Interpret the coefficients and $p$-values in the estimated logistic regression.\n",
    "4. Write a computer script to perform logistic regression and perform model diagnostics. Interpret and communicate the results from that computer script."
   ]
  },
  {
   "cell_type": "code",
   "execution_count": null,
   "metadata": {
    "deletable": false,
    "editable": false,
    "nbgrader": {
     "cell_type": "code",
     "checksum": "81114a2e67a09fc8526b455c20b7f735",
     "grade": false,
     "grade_id": "cell-3e332afcc2c1cdbb",
     "locked": true,
     "schema_version": 3,
     "solution": false,
     "task": false
    }
   },
   "outputs": [],
   "source": [
    "library(tidyverse)\n",
    "library(broom)\n",
    "library(modelr)\n",
    "library(titanic)\n",
    "\n",
    "titan  <-\n",
    "    titanic_train  %>%\n",
    "    as_tibble() %>%\n",
    "    rename(passenger_class = Pclass,\n",
    "           passenger_id = PassengerId,\n",
    "           ticket_number = Ticket)\n",
    "\n",
    "colnames(titan) <- str_to_lower(colnames(titan))\n",
    "\n",
    "options(repr.plot.width = 10, repr.plot.height = 5)\n",
    "\n",
    "source(\"tests_worksheet_04.R\")"
   ]
  },
  {
   "cell_type": "markdown",
   "metadata": {
    "deletable": false,
    "editable": false,
    "nbgrader": {
     "cell_type": "markdown",
     "checksum": "a7aedb196ddd152c875135c79dbf9c6f",
     "grade": false,
     "grade_id": "cell-82e529f0a9216400",
     "locked": true,
     "schema_version": 3,
     "solution": false,
     "task": false
    }
   },
   "source": [
    "## 0. Intro\n",
    "\n",
    "So far, you have explored the Multiple Linear Regression (MLR) as a way to model the mean of a numeric response variable, $Y$, given a set of covariate $\\mathbf{X}$:\n",
    "\n",
    "$$\n",
    "E\\left[Y\\left|\\mathbf{X}=\\left(X_1,...,X_p\\right)\\right.\\right] = \\beta_0 + \\beta_1X_1 + \\ldots + \\beta_pX_p\n",
    "$$\n",
    "\n",
    "However, in some situations, the MLR is not suitable. This week, we are going to study two of those situations that commonly arise in practice:\n",
    "\n",
    "- **this week**: the case of dichotomous response variables (e.g., yes/no, success/failure, win/lose, sick/not sick)  \n",
    "\n",
    "- **next week**: the case of response variables representing counts (e.g., number of cases of a rare disease in Vancouver in one year; the number of accidents on the Canada Highway in one month)."
   ]
  },
  {
   "cell_type": "markdown",
   "metadata": {
    "deletable": false,
    "editable": false,
    "nbgrader": {
     "cell_type": "markdown",
     "checksum": "8d3d95ab3add8b9d5b28701adf33b335",
     "grade": false,
     "grade_id": "cell-9be71f65643c5906",
     "locked": true,
     "schema_version": 3,
     "solution": false,
     "task": false
    }
   },
   "source": [
    "## 1. Logistic Regression\n",
    "\n",
    "Logistic Regressions are commonly used to model the probability of an event based on a set of observed covariates. As with Linear Regression, Logistic Regression can also be used to:\n",
    "\n",
    "- estimate and test the true relation between different types of variables and a <u>*binary response*</u>.\n",
    "\n",
    "\n",
    "- predict the probability of a <u>*binary response*</u> (aka, classifier)\n",
    "\n",
    "<br>\n",
    "\n",
    "For example, we can use a logistic regression to\n",
    "\n",
    "1. compare the presence of bacteria between groups taking a new drug and a placebo, respectively.\n",
    "    - Response: *present* or *not present*\n",
    "\n",
    "<br>\n",
    "\n",
    "2. predict whether or not a customer will default on a loan given their income and demographic variables.\n",
    "    - Response: *default* or *not default*\n",
    "\n",
    "<br>\n",
    "\n",
    "3. know how GPA, ACT score, and number of AP classes taken are associated with the probability of getting accepted into a particular university.\n",
    "    - Response: *accepted* or *not accepted*\n",
    "    \n",
    "\n",
    "<br>\n"
   ]
  },
  {
   "cell_type": "markdown",
   "metadata": {
    "deletable": false,
    "editable": false,
    "nbgrader": {
     "cell_type": "markdown",
     "checksum": "fcfb8d63afba7acaba42f32cd34c60ac",
     "grade": false,
     "grade_id": "cell-f1fa818e59b35d73",
     "locked": true,
     "schema_version": 3,
     "solution": false,
     "task": false
    }
   },
   "source": [
    "### The response variable:\n",
    "\n",
    "The function in R to fit a logistic regression requires either a numerical response (0 and 1) or a `factor`, with two levels (note that R stores factors as integers). \n",
    "\n",
    "Mathematically, we have to construct a binary response $Y_i$ that flags the successes (S) for a given event of interest: \n",
    "\n",
    "$$\n",
    "Y_i =\n",
    "\\begin{cases}\n",
    "1 \\; \\; \\; \\; \\mbox{if the $i$th observation is S},\\\\\n",
    "0 \\; \\; \\; \\; \t\\mbox{otherwise.}\n",
    "\\end{cases}\n",
    "$$\n",
    "\n",
    "In the examples above, we would set:\n",
    "\n",
    "1. $Y_i = 1$ if the bacteria is present in the blood sample of the $i$th patient \n",
    "\n",
    "\n",
    "2. $Y_i = 1$ if the $i$th customer defaulted on their loan\n",
    "\n",
    "\n",
    "3. $Y_i = 1$ if the $i$th student was accepted to a particular university\n",
    "\n",
    "\n",
    "In statistics, we refer to each $Y_i$ as a Bernoulli trial with a $p_i$ probability of success, i.e., \n",
    "\n",
    "$$Y_i \\sim \\text{Bernoulli}(p_i)$$\n",
    "\n",
    "where \n",
    "\n",
    "$$\n",
    "E(Y_i) = p_i\n",
    "$$"
   ]
  },
  {
   "cell_type": "markdown",
   "metadata": {
    "deletable": false,
    "editable": false,
    "nbgrader": {
     "cell_type": "markdown",
     "checksum": "41dd6918f77077ed0415db57a30e0dfa",
     "grade": false,
     "grade_id": "cell-fca6b190d8246d62",
     "locked": true,
     "schema_version": 3,
     "solution": false,
     "task": false
    }
   },
   "source": [
    "**Note**: Logistic regression can also be used to model a *Binomial* response, which defined as the number of successes in $n$ identical, independent trials with constant probability $p$ of success."
   ]
  },
  {
   "cell_type": "markdown",
   "metadata": {
    "deletable": false,
    "editable": false,
    "nbgrader": {
     "cell_type": "markdown",
     "checksum": "c51dbe119cb191ed8719e722e7f8f732",
     "grade": false,
     "grade_id": "cell-04bed6671c59034d",
     "locked": true,
     "schema_version": 3,
     "solution": false,
     "task": false
    }
   },
   "source": [
    "This worksheet will focus on the dataset `Titanic` dataset (Dawson, Robert J. MacG. (1995), The ‘Unusual Episode’ Data Revisited. Journal of Statistics Education, 3. [doi:10.1080/10691898.1995.11910499.](https://www.tandfonline.com/doi/full/10.1080/10691898.1995.11910499)). \n",
    "\n",
    "The dataset contains survival and demographic information about the passangers.\n",
    "  \n",
    "- You can find details about the columns by typing `?titan `.\n",
    "\n",
    "- We want to explore if there is any association between the information we have about the passengers and the probability of survival (see `Survived` column).\n",
    "\n",
    "- Let's start by using the model we know, MLR, and see why it is less than adequate for this job. "
   ]
  },
  {
   "cell_type": "code",
   "execution_count": null,
   "metadata": {
    "deletable": false,
    "editable": false,
    "nbgrader": {
     "cell_type": "code",
     "checksum": "9b009bea82f4df612dbd2916030c1b2e",
     "grade": false,
     "grade_id": "cell-97b0630cc818e9cd",
     "locked": true,
     "schema_version": 3,
     "solution": false,
     "task": false
    }
   },
   "outputs": [],
   "source": [
    "cat(\"\\nThe titanic dataset has information about\", nrow(titan ), \"passengers.\")\n",
    "\n",
    "titan  %>%\n",
    "    slice_sample(n = 3)"
   ]
  },
  {
   "cell_type": "markdown",
   "metadata": {
    "deletable": false,
    "editable": false,
    "nbgrader": {
     "cell_type": "markdown",
     "checksum": "cd95b630ae2b6faa0713312acf08b68a",
     "grade": false,
     "grade_id": "cell-52cf22804e4f9008",
     "locked": true,
     "schema_version": 3,
     "solution": false,
     "task": false
    }
   },
   "source": [
    "### Simple Linear Regression for Binary Data\n",
    "\n",
    "#### A range problem\n",
    "\n",
    "In this first exercise, we use a simple linear regression (SLR) to estimate the relation between `fare` and the response `survived`.\n",
    "\n",
    "A SLR will model: \n",
    "\n",
    "$$\n",
    "    \\text{survived}_i = \\beta_0 + \\beta_1\\times\\text{fare}_i + \\varepsilon_i\n",
    "$$\n",
    "\n",
    "\n",
    "$$\n",
    "E\\left[\\ \\text{survived}_i\\ |\\ \\text{fare}_i\\ \\right] = \\beta_0 + \\beta_1\\times \\text{fare}_i\n",
    "$$"
   ]
  },
  {
   "cell_type": "markdown",
   "metadata": {
    "deletable": false,
    "editable": false,
    "nbgrader": {
     "cell_type": "markdown",
     "checksum": "d574977623f0e02409af3ac0ae19ba81",
     "grade": false,
     "grade_id": "cell-55ac917f023061b5",
     "locked": true,
     "schema_version": 3,
     "solution": false,
     "task": false
    }
   },
   "source": [
    "- Remember that the linear regression is model the conditional mean $E[\\text{survived}\\ |\\ \\text{fare}]$\n",
    "\n",
    "> **From Probability**: the expected value of *binary* random variable equals the probablity of success\n",
    "\n",
    "- Thus, in the model above, the line equals the probability of `survived` given `fare`:\n",
    "\n",
    "$$E[\\text{survived}\\ |\\ \\text{fare}] =P(\\left.\\text{survived} = 1 \\right| \\text{fare})$$   \n",
    "\n",
    "- However, probabilities are between 0 and 1 (always!), and the model gives us outputs above 1. "
   ]
  },
  {
   "cell_type": "markdown",
   "metadata": {
    "deletable": false,
    "editable": false,
    "nbgrader": {
     "cell_type": "markdown",
     "checksum": "ec79f714377bed4b2c301ad0f0b846c9",
     "grade": false,
     "grade_id": "cell-ec0e34aef0968060",
     "locked": true,
     "schema_version": 3,
     "solution": false,
     "task": false
    }
   },
   "source": [
    "**Question 1.1**\n",
    "<br>{points: 1}\n",
    "\n",
    "Create a plot of the data (using `geom_point()`) along with the estimated regression line (using `geom_smooth()` with `method = \"lm\"`). Include proper axis labels. The `ggplot()` object's name will be `titan_SLR_plot`.\n",
    "\n",
    "> Always check if the response is a numeric variable. In this case it is but if not, you won't be able to fit a SLR to a categorical variable. Recall that you can create numerical variables from categorical variables using `if_else`\n",
    "\n",
    "*Fill out those parts indicated with `...`, uncomment the corresponding code in the cell below, and run it.*"
   ]
  },
  {
   "cell_type": "code",
   "execution_count": null,
   "metadata": {
    "deletable": false,
    "nbgrader": {
     "cell_type": "code",
     "checksum": "047e6d59d1d3586bd1725297a03d4d2f",
     "grade": false,
     "grade_id": "cell-beeb841f20cbe0b7",
     "locked": false,
     "schema_version": 3,
     "solution": true,
     "task": false
    },
    "tags": []
   },
   "outputs": [],
   "source": [
    "# Adjust these numbers so the plot looks good in your desktop.\n",
    "options(repr.plot.width = 7, repr.plot.height = 5) \n",
    "\n",
    "# titan_SLR_plot <- \n",
    "#     titan %>%\n",
    "#     ...\n",
    "#   ...(aes(..., ...)) +\n",
    "#   ...(aes(..., ...), method = ..., se = FALSE) +\n",
    "#   labs(y = ..., x = ...) +\n",
    "#   ggtitle(...) +\n",
    "#   ylim(-0.5, 1.5) +\n",
    "#   theme(text = element_text(size = 16.5)) +\n",
    "#   scale_x_continuous(breaks = seq(0, 2500, 500))\n",
    "\n",
    "\n",
    "# your code here\n",
    "fail() # No Answer - remove if you provide an answer\n",
    "\n",
    "titan_SLR_plot"
   ]
  },
  {
   "cell_type": "code",
   "execution_count": null,
   "metadata": {
    "deletable": false,
    "editable": false,
    "nbgrader": {
     "cell_type": "code",
     "checksum": "517a6cdb14fdc0d88ff2ae2218bd6f20",
     "grade": true,
     "grade_id": "cell-5f01635dd4cf6b6b",
     "locked": true,
     "points": 1,
     "schema_version": 3,
     "solution": false,
     "task": false
    },
    "tags": []
   },
   "outputs": [],
   "source": [
    "test_1.1()"
   ]
  },
  {
   "cell_type": "markdown",
   "metadata": {
    "deletable": false,
    "editable": false,
    "jp-MarkdownHeadingCollapsed": true,
    "nbgrader": {
     "cell_type": "markdown",
     "checksum": "ca557b326dce29e250d87b8a11368210",
     "grade": false,
     "grade_id": "cell-a0c60c4720d6d478",
     "locked": true,
     "schema_version": 3,
     "solution": false,
     "task": false
    }
   },
   "source": [
    "#### Discussion\n",
    "\n",
    "Do you see any problems with our model? Discuss it with a peer."
   ]
  },
  {
   "cell_type": "markdown",
   "metadata": {
    "deletable": false,
    "editable": false,
    "jp-MarkdownHeadingCollapsed": true,
    "nbgrader": {
     "cell_type": "markdown",
     "checksum": "48c8c96d5dc94f484bfa37d52534f9a7",
     "grade": false,
     "grade_id": "cell-e2bdf22d86042c11",
     "locked": true,
     "schema_version": 3,
     "solution": false,
     "task": false
    },
    "tags": []
   },
   "source": [
    "### Logistic Regression: an alternative to LR\n",
    "\n",
    "The problem stems from using the *linear* model to estimate a probability. \n",
    "\n",
    "Mathematically, the linear component $\\beta_0 + \\beta_1X_{i1} + ... +\\beta_pX_{ip}$ can take any value, while probabilities is **always** between 0 and 1.\n",
    "\n",
    "> For simplicity, we'll use a model with only one covariate in all mathematical equations. However, the model can have many variables of different type!\n",
    "\n",
    "A natural way to solve the \"range\" problem is to use a curve, instead of a line, with a range between $[0,1]$. One such curve is the logistic curve:\n",
    "\n",
    "$$E(Y_i|X_i) = P(\\left.Y_{i} = 1 \\right| X_{i}) = p_i = \\frac{e^{\\beta_0 + \\beta_1X_i}}{1+e^{\\beta_0 + \\beta_1X_i}} \\quad\\quad\\quad\\quad\\quad\\quad\\quad\\quad [\\text{Eq. 1}]$$ \n",
    "\n",
    "Note that <font style='color:darkred'>we are still using a linear component but not to model the conditional expectation directly</font>. \n",
    "\n",
    "With some algebra, we can show that:\n",
    "\n",
    "\\begin{equation*}\n",
    "\\log\\left(\\frac{p_i}{1 - p_i}\\right) = \\beta_0 + \\beta_1 X_i\n",
    "\\end{equation*} \n",
    "\n",
    "> Note that mathematically, instead of modeling the probability as a line we model a function of the probability as a line\n",
    "\n",
    "This function is called **logit**, and it is *logarithm of the odds*. Thus, this model is known as the **Logistic Regression**"
   ]
  },
  {
   "cell_type": "markdown",
   "metadata": {
    "deletable": false,
    "editable": false,
    "nbgrader": {
     "cell_type": "markdown",
     "checksum": "b7cfc0c6ada63f712d1f95e0685dc094",
     "grade": false,
     "grade_id": "cell-969bd67eb9d0a10c",
     "locked": true,
     "schema_version": 3,
     "solution": false,
     "task": false
    }
   },
   "source": [
    "### The odds\n",
    "\n",
    "- But note that this is the same as \n",
    "\n",
    "$$\n",
    "\\frac{P(\\left.Y_{i} = 1 \\right| X_{i})}{1-P(\\left.Y_{i} = 1 \\right| X_{i})} = e^{\\beta_0 + \\beta_1 X_{i}}\n",
    "$$\n",
    "\n",
    "- The quantity $P(\\left.Y_{i} = 1 \\right| X_{i})/\\left[1-P(\\left.Y_{i} = 1 \\right| X_{i})\\right]$ is called <font color='darkred'>**odds**</font>.\n",
    "\n",
    "<br>\n",
    "\n",
    "- For the titanic case:\n",
    "$$\n",
    "\\frac{P(\\left.\\text{survived}_i = 1 \\right| \\text{fare}_i)}{1-P(\\left.\\text{survived}_i = 1 \\right| \\text{fare}_i)} = e^{\\beta_0 + \\beta_1 \\text{fare}_i}\n",
    "$$\n",
    "\n",
    "**Definition**: $p_i$ to $1 - p_i$ are also known as the **odds** and can be estimated by *number of sucesses* to *number of failures*\n",
    "\n",
    "    \n",
    "**Numerical Examples:**\n",
    "\n",
    "For example, among 891 passanger, 341 survived. Thus, the odds of surviving is 341 to 550 or $341/550 = 0.62$ to $1$ \n",
    "\n",
    "- A passenger with an odd of $0.25 = 1/4$ means that the passenger has 1 in 5 chance of surviving.\n",
    "- A passenger with an odd of $0.5 = 1/2$ means that the passenger has 1 in 3 chance of surviving.\n",
    "- A passenger with an odd of $0.75 = 3/4$ means that the passenger has 3 in 7 chance of surviving.\n",
    "- A passenger with an odd of $1$ means that the passenger has 1 in 2 chance of surviving.\n",
    "- A passenger with an odd of $2$ means that the passenger has 2 in 3 chance of surviving.\n",
    "- A passenger with an odd of $3$ means that the passenger has 3 in 4 chance of surviving.\n",
    "\n",
    "**Odds versus Probability**\n",
    "\n",
    "Note that *odds* is different from *probability*\n",
    "\n",
    "- odds close to 0 -> low chance of survival;\n",
    "- as the probability of survival increases, the odds increases (indefinitely)."
   ]
  },
  {
   "cell_type": "markdown",
   "metadata": {
    "deletable": false,
    "editable": false,
    "nbgrader": {
     "cell_type": "markdown",
     "checksum": "c95b5f96825d9343c822687a1c72ead3",
     "grade": false,
     "grade_id": "cell-1f6a141622c13896",
     "locked": true,
     "schema_version": 3,
     "solution": false,
     "task": false
    }
   },
   "source": [
    "**Question 1.2: Understanding the odds**\n",
    "<br>{points: 1}\n",
    "\n",
    "Vancouver Canucks is playing against Calgary Flames in the Final of the NHL. The match will be at Rogers' arena, Canucks home. It is expected that out of 18,910 seats in the arena, 13,700 seats will be occupied by Canucks fans. During the match, prizes are randomly distributed among the seats. What are the odds that a Canucks fan wins a given prize? \n",
    "\n",
    "Assign your answer to an object named `answer1.2`."
   ]
  },
  {
   "cell_type": "code",
   "execution_count": null,
   "metadata": {
    "deletable": false,
    "nbgrader": {
     "cell_type": "code",
     "checksum": "533dd39ffa8ffafe4f638c19655eff67",
     "grade": false,
     "grade_id": "cell-ee8b9ad3125f8346",
     "locked": false,
     "schema_version": 3,
     "solution": true,
     "task": false
    },
    "tags": []
   },
   "outputs": [],
   "source": [
    "#answer1.2 <- ...\n",
    "\n",
    "# your code here\n",
    "fail() # No Answer - remove if you provide an answer\n",
    "\n",
    "answer1.2"
   ]
  },
  {
   "cell_type": "code",
   "execution_count": null,
   "metadata": {
    "deletable": false,
    "editable": false,
    "nbgrader": {
     "cell_type": "code",
     "checksum": "8a7cc1986be0d2a223ed1bc9d51b2b77",
     "grade": true,
     "grade_id": "cell-85f66b5726146ab1",
     "locked": true,
     "points": 1,
     "schema_version": 3,
     "solution": false,
     "task": false
    },
    "tags": []
   },
   "outputs": [],
   "source": [
    "test_1.2()"
   ]
  },
  {
   "cell_type": "markdown",
   "metadata": {
    "deletable": false,
    "editable": false,
    "nbgrader": {
     "cell_type": "markdown",
     "checksum": "6100d2aeaa80d7e53ee81c4eab10236c",
     "grade": false,
     "grade_id": "cell-3842d5d8804aef4a",
     "locked": true,
     "schema_version": 3,
     "solution": false,
     "task": false
    }
   },
   "source": [
    "### The Logistic Curve\n",
    "\n",
    "Let's take a look at $P(\\left.Y_{i} = 1 \\right| X_{i1})$ as a function of $X$: \n",
    "\n",
    "$$\n",
    "P(\\left.Y_{i} = 1 \\right| X_{i1}) = \\frac{e^{\\beta_0 + \\beta_1 X_{i1}}}{1 + e^{\\beta_0 + \\beta_1 X_{i1}}}\\quad\\quad\\quad\\quad\\quad\\quad\\quad\\quad [\\text{Eq. 1}]\n",
    "$$\n",
    "\n",
    "> Note that under this model, the estimated probability is always between 0 and 1.  "
   ]
  },
  {
   "cell_type": "markdown",
   "metadata": {
    "deletable": false,
    "editable": false,
    "nbgrader": {
     "cell_type": "markdown",
     "checksum": "4a087b70c783638fd5a417ce4304fb7f",
     "grade": false,
     "grade_id": "cell-33c529c35aa6d29d",
     "locked": true,
     "schema_version": 3,
     "solution": false,
     "task": false
    }
   },
   "source": [
    "**Question 1.3**\n",
    "<br>{points: 1}\n",
    "\n",
    "Let's see what the logistic curve looks like. In this exercise, you will plot the logistic curve to see how it behaves.\n",
    "\n",
    "_Save the plot in an object named `logistic_curve`._"
   ]
  },
  {
   "cell_type": "code",
   "execution_count": null,
   "metadata": {
    "deletable": false,
    "nbgrader": {
     "cell_type": "code",
     "checksum": "a9065d3e33d8b03430b7e82093470e67",
     "grade": false,
     "grade_id": "cell-ebd9f096f835b1b0",
     "locked": false,
     "schema_version": 3,
     "solution": true,
     "task": false
    },
    "tags": []
   },
   "outputs": [],
   "source": [
    "# logistic_curve <-\n",
    "#     tibble(z = seq(-10,10,0.01),\n",
    "#            logistic_z = ...) %>% \n",
    "#     ggplot(aes(z, ...)) + \n",
    "#     geom_line() +\n",
    "#     geom_hline(yintercept = 1, lty=2) + \n",
    "#     geom_hline(yintercept = 0, lty=2) +\n",
    "#     theme(text = element_text(size = 20)) + \n",
    "#     ggtitle(\"Logistic curve\")\n",
    "\n",
    "# your code here\n",
    "fail() # No Answer - remove if you provide an answer\n",
    "\n",
    "logistic_curve"
   ]
  },
  {
   "cell_type": "code",
   "execution_count": null,
   "metadata": {
    "deletable": false,
    "editable": false,
    "nbgrader": {
     "cell_type": "code",
     "checksum": "04576442a3bcb49224a50f0cbdfd51f4",
     "grade": true,
     "grade_id": "cell-7728e71dc711badb",
     "locked": true,
     "points": 1,
     "schema_version": 3,
     "solution": false,
     "task": false
    },
    "tags": []
   },
   "outputs": [],
   "source": [
    "test_1.3()"
   ]
  },
  {
   "cell_type": "markdown",
   "metadata": {
    "deletable": false,
    "editable": false,
    "nbgrader": {
     "cell_type": "markdown",
     "checksum": "4553b5f5cadcd5ea879fce8d3d20fdce",
     "grade": false,
     "grade_id": "cell-8a7c7401c453d69c",
     "locked": true,
     "schema_version": 3,
     "solution": false,
     "task": false
    }
   },
   "source": [
    "**Question 1.4:**\n",
    "<br>{points: 1}\n",
    "\n",
    "Let us plot the predictions of the binary logistic regression model on top of `titan_SLR_plot`. Use `geom_smooth()` with `method = \"glm\"` and `method.args = c(family = binomial)`.\n",
    "\n",
    "*Fill out those parts indicated with `...`, uncomment the corresponding code in the cell below, and run it.*"
   ]
  },
  {
   "cell_type": "code",
   "execution_count": null,
   "metadata": {
    "deletable": false,
    "nbgrader": {
     "cell_type": "code",
     "checksum": "c9bb1e4f53ab7f98aa686e5c830e1ebd",
     "grade": false,
     "grade_id": "cell-47acd27ded854e48",
     "locked": false,
     "schema_version": 3,
     "solution": true,
     "task": false
    },
    "tags": []
   },
   "outputs": [],
   "source": [
    "# titan_SLR_plot <- \n",
    "#     titan_SLR_plot +\n",
    "#     ...(aes(..., ...),\n",
    "#         method = ...,\n",
    "#         method.args = c(family = ...), \n",
    "#         se = FALSE, color = \"red\") +\n",
    "#     ggtitle(\"SLR and Logistic Regression\")\n",
    "\n",
    "# your code here\n",
    "fail() # No Answer - remove if you provide an answer\n",
    "\n",
    "titan_SLR_plot"
   ]
  },
  {
   "cell_type": "code",
   "execution_count": null,
   "metadata": {
    "deletable": false,
    "editable": false,
    "nbgrader": {
     "cell_type": "code",
     "checksum": "e2abe04eb35bee83f8eb82ef34ad35bb",
     "grade": true,
     "grade_id": "cell-4989d973853e512d",
     "locked": true,
     "points": 1,
     "schema_version": 3,
     "solution": false,
     "task": false
    },
    "tags": []
   },
   "outputs": [],
   "source": [
    "test_1.4()"
   ]
  },
  {
   "cell_type": "markdown",
   "metadata": {
    "deletable": false,
    "editable": false,
    "nbgrader": {
     "cell_type": "markdown",
     "checksum": "55d066dcc3c785ec147c6536046c0507",
     "grade": false,
     "grade_id": "cell-a628cff07e7aa9ce",
     "locked": true,
     "schema_version": 3,
     "solution": false,
     "task": false
    }
   },
   "source": [
    "Much better, isn't it? "
   ]
  },
  {
   "cell_type": "markdown",
   "metadata": {
    "deletable": false,
    "editable": false,
    "nbgrader": {
     "cell_type": "markdown",
     "checksum": "691382c568621659f3117205fc48fb33",
     "grade": false,
     "grade_id": "cell-f7510c5644481477",
     "locked": true,
     "schema_version": 3,
     "solution": false,
     "task": false
    }
   },
   "source": [
    "### 1.1 Estimation\n",
    "\n",
    "The question now is, how do we estimate the coefficients $\\beta_j$'s? \n",
    "\n",
    "So far, in the case of linear regression, we have been using the Least Square Estimators. However, due to the type of response of the logistic model, this procedure is no longer appropriate.\n",
    "\n",
    "A common method for estimating a logistic regression (and many other models) is *Maximum Likelihood Estimation (MLE)*. Details of MLE are outside the scope of this course, but we will still implement it using R! \n",
    "\n",
    "To fit the model, we can use the function `glm()` and its argument `family = binomial` (required to specify the binary nature of the response). "
   ]
  },
  {
   "cell_type": "markdown",
   "metadata": {
    "deletable": false,
    "editable": false,
    "nbgrader": {
     "cell_type": "markdown",
     "checksum": "71b03dba4b60066c9815a98a3872e16b",
     "grade": false,
     "grade_id": "cell-9d0d7480099da2c2",
     "locked": true,
     "schema_version": 3,
     "solution": false,
     "task": false
    }
   },
   "source": [
    "#### One categorical covariate\n",
    "\n",
    "Let's fit a logistic regression now using `sex` as covariate. \n",
    "\n",
    "$$\n",
    "\\log\\left(\\frac{P(\\left.\\text{survived} = 1 \\right| \\text{male})}{1-P(\\left.\\text{survived} = 1 \\right| \\text{male})}\\right) = \\beta_0 + \\beta_1 X_\\text{male}\n",
    "$$\n",
    "\n",
    "where $X_\\text{male} = 1$ if passenger is male and 0 if female. \n",
    "\n",
    "> We know that `R` will create a dummy variable $X$ to include in the model in this case."
   ]
  },
  {
   "cell_type": "markdown",
   "metadata": {
    "deletable": false,
    "editable": false,
    "nbgrader": {
     "cell_type": "markdown",
     "checksum": "a673729bbe7ff47f1d42e4d82979be70",
     "grade": false,
     "grade_id": "cell-9e11a13acd8b9ad1",
     "locked": true,
     "schema_version": 3,
     "solution": false,
     "task": false
    }
   },
   "source": [
    "#### Interpretation\n",
    "\n",
    "In LR, we were modelling \n",
    "\n",
    "$$\n",
    "E[Y|X] = \\beta_0 + \\beta_1 X\n",
    "$$\n",
    "\n",
    "but in logistic regression, we are modelling the **logit**\n",
    "\n",
    "$$\n",
    "f(E[Y|X]) = \\log\\left(\\frac{P(\\left.Y = 1 \\right| X)}{1-P(\\left.Y = 1 \\right| X)}\\right) = \\beta_0 + \\beta_1 X\n",
    "$$\n",
    "\n",
    "therefore, we need to adjust our interpretation.\n",
    "\n"
   ]
  },
  {
   "cell_type": "markdown",
   "metadata": {
    "deletable": false,
    "editable": false,
    "jp-MarkdownHeadingCollapsed": true,
    "nbgrader": {
     "cell_type": "markdown",
     "checksum": "74c086deaa4dc64c005fdaa8fe11a49a",
     "grade": false,
     "grade_id": "cell-1cc9ad2b37d6154d",
     "locked": true,
     "schema_version": 3,
     "solution": false,
     "task": false
    }
   },
   "source": [
    "- Intercept: $\\hat{\\beta}_0$ represents the log odds of the reference group (e.g., female)\n",
    "\n",
    "- Slope: $\\hat{\\beta}_1$ represents the difference in log odds between the treatment and the reference group (e.g., male vs. female)\n",
    "\n",
    "**Exponentiated coefficients**\n",
    "\n",
    "Since log-odds are difficult to interpret, it is common to also interpret the exponentiated version of the coefficients:\n",
    "\n",
    "$$\n",
    "\\frac{P(\\left.\\text{survived}_i = 1 \\right| \\text{male}_i)}{1-P(\\left.\\text{survived}_i = 1 \\right| \\text{male}_i)} = \\text{odds}_i = e^{\\beta_0 + \\beta_1 \\text{male}_i}\n",
    "$$"
   ]
  },
  {
   "cell_type": "markdown",
   "metadata": {
    "deletable": false,
    "editable": false,
    "nbgrader": {
     "cell_type": "markdown",
     "checksum": "b1312107a71f8ba1bfe55cc670dccd4d",
     "grade": false,
     "grade_id": "cell-8e79b090178ebd53",
     "locked": true,
     "schema_version": 3,
     "solution": false,
     "task": false
    }
   },
   "source": [
    "- Intercept: $e^{\\hat{\\beta}_0}$ represents the odds of the reference group (`female`)\n",
    "\n",
    "- Slope: $e^{\\hat{\\beta}_1}$ represents the *odds ratio*, i.e., the ratio between the odds of the treatment (`male`) vs the odds of the reference group (`female`)\n",
    "\n",
    "*Run the cell below to compute these quantities. Read and follow calculations*"
   ]
  },
  {
   "cell_type": "code",
   "execution_count": null,
   "metadata": {
    "deletable": false,
    "editable": false,
    "nbgrader": {
     "cell_type": "code",
     "checksum": "2c6f6ed06bbeb784814125010374de6e",
     "grade": false,
     "grade_id": "cell-72f195c2033cf41c",
     "locked": true,
     "schema_version": 3,
     "solution": false,
     "task": false
    },
    "tags": []
   },
   "outputs": [],
   "source": [
    "titan  %>%\n",
    "    group_by(sex) %>%\n",
    "    count(survived)"
   ]
  },
  {
   "cell_type": "code",
   "execution_count": null,
   "metadata": {
    "deletable": false,
    "editable": false,
    "nbgrader": {
     "cell_type": "code",
     "checksum": "6b2e766113ad5a47143deeeb0046dc3f",
     "grade": false,
     "grade_id": "cell-30b101cea83cb90f",
     "locked": true,
     "schema_version": 3,
     "solution": false,
     "task": false
    },
    "tags": []
   },
   "outputs": [],
   "source": [
    "#[9] Odds of surviving - female\n",
    "233/81 # This is our beta0"
   ]
  },
  {
   "cell_type": "code",
   "execution_count": null,
   "metadata": {
    "deletable": false,
    "editable": false,
    "nbgrader": {
     "cell_type": "code",
     "checksum": "bc1593f8928ff62aee082ccc21b803a7",
     "grade": false,
     "grade_id": "cell-dbb9cc3fc57dcd89",
     "locked": true,
     "schema_version": 3,
     "solution": false,
     "task": false
    }
   },
   "outputs": [],
   "source": [
    "#[10] Odds of surviving - male\n",
    "109/468"
   ]
  },
  {
   "cell_type": "code",
   "execution_count": null,
   "metadata": {
    "deletable": false,
    "editable": false,
    "nbgrader": {
     "cell_type": "code",
     "checksum": "e570dfc85faf649db081e970f7daad1e",
     "grade": false,
     "grade_id": "cell-1905d503c123934a",
     "locked": true,
     "schema_version": 3,
     "solution": false,
     "task": false
    }
   },
   "outputs": [],
   "source": [
    "#[11] Odds of surving - male: using beta_1 times odds_surving_female\n",
    "233/81 * 0.08097"
   ]
  },
  {
   "cell_type": "markdown",
   "metadata": {
    "deletable": false,
    "editable": false,
    "nbgrader": {
     "cell_type": "markdown",
     "checksum": "8ce43aeedb4325758b5dca21d1e77d34",
     "grade": false,
     "grade_id": "cell-a3e8e0c543a5d4ea",
     "locked": true,
     "schema_version": 3,
     "solution": false,
     "task": false
    }
   },
   "source": [
    "**Question 1.5:**\n",
    "<br>{points: 1}\n",
    "\n",
    "We'll estimate a binary logistic regression utilizing the function `glm()` with `survived` as the response and `sex` as the input variable. The dataset is `titan`.\n",
    "    \n",
    "Store the model in an object named `model_titanic_logistic_sex`. The `glm()` parameters are analogous to `lm()` (`formula` and `data`) with the addition of `family = binomial` for this specific model. "
   ]
  },
  {
   "cell_type": "code",
   "execution_count": null,
   "metadata": {
    "deletable": false,
    "nbgrader": {
     "cell_type": "code",
     "checksum": "f918ca66d7889b9487d4e4bbca3bdd31",
     "grade": false,
     "grade_id": "cell-8ac0e64c9daf4ffc",
     "locked": false,
     "schema_version": 3,
     "solution": true,
     "task": false
    },
    "tags": []
   },
   "outputs": [],
   "source": [
    "# model_titanic_logistic_sex <- \n",
    "#   ...(formula = ...,\n",
    "#       data = ...,\n",
    "#       family = ...)\n",
    "\n",
    "\n",
    "# your code here\n",
    "fail() # No Answer - remove if you provide an answer\n",
    "\n",
    "summary(model_titanic_logistic_sex)"
   ]
  },
  {
   "cell_type": "code",
   "execution_count": null,
   "metadata": {
    "deletable": false,
    "editable": false,
    "nbgrader": {
     "cell_type": "code",
     "checksum": "9f286a3c5b2ad6c51b25dc02ee65f1ac",
     "grade": true,
     "grade_id": "cell-debd081e1606b49a",
     "locked": true,
     "points": 1,
     "schema_version": 3,
     "solution": false,
     "task": false
    },
    "tags": []
   },
   "outputs": [],
   "source": [
    "test_1.5()"
   ]
  },
  {
   "cell_type": "markdown",
   "metadata": {
    "deletable": false,
    "editable": false,
    "nbgrader": {
     "cell_type": "markdown",
     "checksum": "fd914d6b77839b05b8bcadc7fa98af67",
     "grade": false,
     "grade_id": "cell-72dcff898cde89a6",
     "locked": true,
     "schema_version": 3,
     "solution": false,
     "task": false
    }
   },
   "source": [
    "But interpreting the `logit` function itself is hard. So, we usually interpret the exponential of the coefficients, so we can talk in terms of **odds** instead of logits. \n",
    "\n",
    "**Coefficients for the odds**"
   ]
  },
  {
   "cell_type": "code",
   "execution_count": null,
   "metadata": {
    "deletable": false,
    "editable": false,
    "nbgrader": {
     "cell_type": "code",
     "checksum": "50553dd9b13165585f7f0ca88d5c4687",
     "grade": false,
     "grade_id": "cell-5ea9f99fbfee8f5b",
     "locked": true,
     "schema_version": 3,
     "solution": false,
     "task": false
    }
   },
   "outputs": [],
   "source": [
    "tidy(model_titanic_logistic_sex, exponentiate = TRUE)"
   ]
  },
  {
   "cell_type": "markdown",
   "metadata": {
    "deletable": false,
    "editable": false,
    "nbgrader": {
     "cell_type": "markdown",
     "checksum": "5bf9f20eecd7b35bea83e310d83a5fcd",
     "grade": false,
     "grade_id": "cell-deb2102321e6f885",
     "locked": true,
     "schema_version": 3,
     "solution": false,
     "task": false
    }
   },
   "source": [
    "**Note**:  that the `std.error` column still refers to the non-exponentiated estimators, e.g., it refers to $\\hat{\\beta}_0$ not $e^{\\hat{\\beta}_0}$"
   ]
  },
  {
   "cell_type": "code",
   "execution_count": null,
   "metadata": {
    "deletable": false,
    "editable": false,
    "nbgrader": {
     "cell_type": "code",
     "checksum": "32344f9eeac661585320f0b91041efad",
     "grade": false,
     "grade_id": "cell-2433566b1002849d",
     "locked": true,
     "schema_version": 3,
     "solution": false,
     "task": false
    }
   },
   "outputs": [],
   "source": [
    "tidy(model_titanic_logistic_sex)"
   ]
  },
  {
   "cell_type": "markdown",
   "metadata": {
    "deletable": false,
    "editable": false,
    "nbgrader": {
     "cell_type": "markdown",
     "checksum": "68ff633d5510f52ed88c108a3cde84dd",
     "grade": false,
     "grade_id": "cell-2b6b14ccc2b9ce81",
     "locked": true,
     "schema_version": 3,
     "solution": false,
     "task": false
    }
   },
   "source": [
    "**Question 1.6**\n",
    "<br>{points: 1}\n",
    "\n",
    "Considering the results of the estimated `model_titanic_logistic_sex`, what is the correct interpretation of the \"Intercept\", $\\hat{\\beta}_0$?\n",
    "\n",
    "Note that the following interpretations correspond to its exponential form, i.e., $e^{\\hat{\\beta}_0}$\n",
    "\n",
    "**A.** A female passenger had a 1.0566 odds of surviving (i.e., the proportion of of survivals relative to the proportion of deaths in the sample)\n",
    "\n",
    "**B.** A female passenger had a 2.8765 odds of surviving (i.e., the proportion of survivals relative to the proportion of deaths in the sample)\n",
    "\n",
    "**C.** A male passenger had a 1.0566 odds of surviving (i.e., the proportion of survivals relative to the proportion of deaths in the sample)\n",
    "\n",
    "**D.** A male passenger had a 2.8765 odds of surviving (i.e., the proportion of survivals relative to the proportion of deaths in the sample)\n",
    "\n",
    "**E.** A female passenger had a 2.8765 odds of dying (i.e., the proportion of death relative to the proportion of survival in the sample)\n",
    "\n",
    "**F.** A male passenger had a 2.8765 odds of dying (i.e., the proportion of death relative to the proportion of survival in the sample)"
   ]
  },
  {
   "cell_type": "code",
   "execution_count": null,
   "metadata": {
    "deletable": false,
    "nbgrader": {
     "cell_type": "code",
     "checksum": "77ab58824be17fce9bec468bd3dd13e6",
     "grade": false,
     "grade_id": "cell-d7f2a33eae3d58cd",
     "locked": false,
     "schema_version": 3,
     "solution": true,
     "task": false
    }
   },
   "outputs": [],
   "source": [
    "# answer1.6 <- ...\n",
    "\n",
    "# your code here\n",
    "fail() # No Answer - remove if you provide an answer"
   ]
  },
  {
   "cell_type": "code",
   "execution_count": null,
   "metadata": {
    "deletable": false,
    "editable": false,
    "nbgrader": {
     "cell_type": "code",
     "checksum": "48a900d29872eb46d146064466276e40",
     "grade": true,
     "grade_id": "cell-454d0bf3ba416081",
     "locked": true,
     "points": 1,
     "schema_version": 3,
     "solution": false,
     "task": false
    },
    "tags": []
   },
   "outputs": [],
   "source": [
    "test_1.6()"
   ]
  },
  {
   "cell_type": "markdown",
   "metadata": {
    "deletable": false,
    "editable": false,
    "nbgrader": {
     "cell_type": "markdown",
     "checksum": "0debc7c41012bfde1cfa05601e104609",
     "grade": false,
     "grade_id": "cell-6665a0ff5a730bdf",
     "locked": true,
     "schema_version": 3,
     "solution": false,
     "task": false
    }
   },
   "source": [
    "**Question 1.7**\n",
    "<br>{points: 1}\n",
    "\n",
    "Considering the results of the estimated `model_titanic_logistic_sex`, which of the following is(are) the correct interpretation(s) of $\\hat{\\beta}_\\textit{male}$?\n",
    "\n",
    "Note that the following interpretations correspond to its exponential form, i.e., $e^{\\hat{\\beta}_\\textit{male}}$\n",
    "\n",
    "**A.** The odds of surviving for males are $8\\%$ higher than the odds of survival for females passangers.\n",
    "\n",
    "**B.** The odds of surviving for males are $91\\%$ lower than the odds of survival for females passangers, $e^{-2.514} = 0.0809$\n",
    "\n",
    "**C.** The odds of dying for males are $91\\%$ lower than the odds of survival for females passangers, $e^{-2.514} = 0.0809$\n",
    "\n",
    "**D.** Being male decreases the log-odds of survival by $2.513710$ compared to females\n",
    "\n",
    "**E.** Being female decreases the log-odds of survival by $2.513710$ compared to males\n",
    "\n",
    "*Assign your answer to the object `answer1.7`. Your answers have to be included in a single string indicating the correct options **in alphabetical order** and surrounded by quotes (e.g., `\"ABCDE\"` indicates you are selecting the five options).*"
   ]
  },
  {
   "cell_type": "code",
   "execution_count": null,
   "metadata": {
    "deletable": false,
    "nbgrader": {
     "cell_type": "code",
     "checksum": "a25a7ae78c3f0e4078f877da27ae6db6",
     "grade": false,
     "grade_id": "cell-5d1d7024f7137136",
     "locked": false,
     "schema_version": 3,
     "solution": true,
     "task": false
    }
   },
   "outputs": [],
   "source": [
    "# answer1.7 <- ...\n",
    "\n",
    "# your code here\n",
    "fail() # No Answer - remove if you provide an answer"
   ]
  },
  {
   "cell_type": "code",
   "execution_count": null,
   "metadata": {
    "deletable": false,
    "editable": false,
    "nbgrader": {
     "cell_type": "code",
     "checksum": "2aeb12c7d1e5cdeab3e335d5302387e8",
     "grade": true,
     "grade_id": "cell-c3b71b1eb7de5432",
     "locked": true,
     "points": 1,
     "schema_version": 3,
     "solution": false,
     "task": false
    }
   },
   "outputs": [],
   "source": [
    "test_1.7()"
   ]
  },
  {
   "cell_type": "markdown",
   "metadata": {
    "deletable": false,
    "editable": false,
    "nbgrader": {
     "cell_type": "markdown",
     "checksum": "1166e509d556bda46a5c8a00f39357e4",
     "grade": false,
     "grade_id": "cell-030e8c848a3fc981",
     "locked": true,
     "schema_version": 3,
     "solution": false,
     "task": false
    }
   },
   "source": [
    "**Discussion**:\n",
    "\n",
    "What would be the estimated male passangers's **odds** of **dying** ??"
   ]
  },
  {
   "cell_type": "markdown",
   "metadata": {
    "deletable": false,
    "editable": false,
    "nbgrader": {
     "cell_type": "markdown",
     "checksum": "2997fbcd3c9625ab4ed566312b536c6a",
     "grade": false,
     "grade_id": "cell-75dd783ddc5ad004",
     "locked": true,
     "schema_version": 3,
     "solution": false,
     "task": false
    }
   },
   "source": [
    "#### One numeric covariate\n",
    "\n",
    "Let's see a case where the model has only one continuous covariate\n",
    "\n",
    "$$\n",
    "\\log\\left(\\frac{P(\\left.\\text{survived} = 1 \\right| \\text{fare})}{1-P(\\left.\\text{survived} = 1 \\right| \\text{fare})}\\right) = \\beta_0 + \\beta_1\\times\\text{fare}\n",
    "$$"
   ]
  },
  {
   "cell_type": "code",
   "execution_count": null,
   "metadata": {
    "deletable": false,
    "editable": false,
    "nbgrader": {
     "cell_type": "code",
     "checksum": "bb3ec0b0c0bc8a4637daa82e4b2755cc",
     "grade": false,
     "grade_id": "cell-57b0b2a4202e8d37",
     "locked": true,
     "schema_version": 3,
     "solution": false,
     "task": false
    }
   },
   "outputs": [],
   "source": [
    "#[3] Fitting Logistic Regression\n",
    "\n",
    "model_titanic_logistic <- glm(formula = survived ~ fare, data = titan, \n",
    "                              family = 'binomial')\n",
    "summary(model_titanic_logistic)"
   ]
  },
  {
   "cell_type": "code",
   "execution_count": null,
   "metadata": {
    "deletable": false,
    "editable": false,
    "nbgrader": {
     "cell_type": "code",
     "checksum": "70e90618838c530eab12a82cb7032e76",
     "grade": false,
     "grade_id": "cell-4953b41e690dec56",
     "locked": true,
     "schema_version": 3,
     "solution": false,
     "task": false
    }
   },
   "outputs": [],
   "source": [
    "tidy(model_titanic_logistic)"
   ]
  },
  {
   "cell_type": "markdown",
   "metadata": {
    "deletable": false,
    "editable": false,
    "nbgrader": {
     "cell_type": "markdown",
     "checksum": "2d81e5647ffb01f3d2c7c28d80b960ef",
     "grade": false,
     "grade_id": "cell-8f684252898de4a5",
     "locked": true,
     "schema_version": 3,
     "solution": false,
     "task": false
    }
   },
   "source": [
    "**Interpretation:**\n",
    "\n",
    "- Intercept - $\\hat{\\beta}_0 = -0.9413$: if the `fare` paid was 0 dollars, the logit is expected to be -0.9413.\n",
    "- Slope - $\\hat{\\beta}_1 = 0.0152$: an increase of 1 dollar in the `fare` paid is associated with an increase in the logit of 0.0152."
   ]
  },
  {
   "cell_type": "markdown",
   "metadata": {
    "deletable": false,
    "editable": false,
    "nbgrader": {
     "cell_type": "markdown",
     "checksum": "6df5375803c59b054b9f1c097539818f",
     "grade": false,
     "grade_id": "cell-0656f59032e52261",
     "locked": true,
     "schema_version": 3,
     "solution": false,
     "task": false
    }
   },
   "source": [
    "You can also get the exponentiated coefficients with the argument `exponentiate = TRUE` in `tidy()`."
   ]
  },
  {
   "cell_type": "code",
   "execution_count": null,
   "metadata": {
    "deletable": false,
    "editable": false,
    "nbgrader": {
     "cell_type": "code",
     "checksum": "2d5ede950abb4dcb83c8ce72e48bf0e7",
     "grade": false,
     "grade_id": "cell-fc36e37c4dd2fdf0",
     "locked": true,
     "schema_version": 3,
     "solution": false,
     "task": false
    }
   },
   "outputs": [],
   "source": [
    "tidy(model_titanic_logistic, exponentiate = TRUE)"
   ]
  },
  {
   "cell_type": "markdown",
   "metadata": {
    "deletable": false,
    "editable": false,
    "jp-MarkdownHeadingCollapsed": true,
    "nbgrader": {
     "cell_type": "markdown",
     "checksum": "4335c45870e3a3e830e36d5c0f4614e2",
     "grade": false,
     "grade_id": "cell-42249525f1b9bc4e",
     "locked": true,
     "schema_version": 3,
     "solution": false,
     "task": false
    }
   },
   "source": [
    "- Intercept: $e^{\\hat{\\beta}_0} = e^{-0.9413} = 0.3901$, if the `fare` paid was 0 dollars, the **odds** is expected to be 0.3901.\n",
    "  \n",
    "- Slope: $e^{\\hat{\\beta}_1} = e^{0.0152} = 1.0153$, it <font color='darkred'>**multiplies**</font> the **odds** by 1.0153, i.e., an increase of 1 dollar in the fare paid is associated with an increase in the odds of $1.53\\%$ of its value."
   ]
  },
  {
   "cell_type": "markdown",
   "metadata": {
    "deletable": false,
    "editable": false,
    "nbgrader": {
     "cell_type": "markdown",
     "checksum": "9c7dde17a781cb24faa0325d75de2adb",
     "grade": false,
     "grade_id": "cell-54a61e92275f05a9",
     "locked": true,
     "schema_version": 3,
     "solution": false,
     "task": false
    }
   },
   "source": [
    "**One categorical one numerical covariate**\n",
    "\n",
    "Let's fit a logistic regression using `Sex` and `Fare`:\n",
    "\n",
    "$$\n",
    "\\log\\left(\\frac{P(\\left.\\text{survived} = 1 \\right| \\text{fare})}{1-P(\\left.\\text{survived} = 1 \\right| \\text{fare})}\\right) = \\beta_0 + \\beta_1 X_\\text{male} + \\beta_2\\times\\text{fare}\n",
    "$$\n",
    "\n",
    "where $X_\\text{male} = 1$ if passenger is male and 0 if female. "
   ]
  },
  {
   "cell_type": "markdown",
   "metadata": {
    "deletable": false,
    "editable": false,
    "nbgrader": {
     "cell_type": "markdown",
     "checksum": "040534beac8bce1247356aa5e3423b16",
     "grade": false,
     "grade_id": "cell-148b1dc1b2667581",
     "locked": true,
     "schema_version": 3,
     "solution": false,
     "task": false
    }
   },
   "source": [
    "**Question 1.8:**\n",
    "<br>{points: 1}\n",
    "\n",
    "In order to fit the model, we can use the function `glm()` and its argument `family = binomial` (required to specify the binary nature of the response). \n",
    "\n",
    "Let us use the function `glm()` to estimate a binary logistic regression. Using the `titan` dataset, we will fit a binary logistic model with `survived` as the response and `sex` and `fare` as input variables.\n",
    "    \n",
    "Store the model in an object named `model_titanic_logistic_multiple `. The `glm()` parameters are analogous to `lm()` (`formula` and `data`) with the addition of `family = binomial` for this specific model. "
   ]
  },
  {
   "cell_type": "code",
   "execution_count": null,
   "metadata": {
    "deletable": false,
    "nbgrader": {
     "cell_type": "code",
     "checksum": "cda93e6f69e26f8407f4fabd96cc41fa",
     "grade": false,
     "grade_id": "cell-7097573be6a38bf2",
     "locked": false,
     "schema_version": 3,
     "solution": true,
     "task": false
    },
    "tags": []
   },
   "outputs": [],
   "source": [
    "# model_titanic_logistic_multiple <- \n",
    "#   ...(...,\n",
    "#       ...,\n",
    "#       ...)\n",
    "\n",
    "# your code here\n",
    "fail() # No Answer - remove if you provide an answer\n",
    "\n",
    "model_titanic_logistic_multiple  %>%\n",
    "    tidy() %>% \n",
    "    mutate_if(is.numeric, round, 3)\n",
    "\n",
    "model_titanic_logistic_multiple  %>%\n",
    "    tidy(exponentiate = TRUE) %>% \n",
    "    mutate_if(is.numeric, round, 3)"
   ]
  },
  {
   "cell_type": "code",
   "execution_count": null,
   "metadata": {
    "deletable": false,
    "editable": false,
    "nbgrader": {
     "cell_type": "code",
     "checksum": "5ee2172dfc1695a80a4e35bc9e6601f1",
     "grade": true,
     "grade_id": "cell-a0e923b260f01656",
     "locked": true,
     "points": 1,
     "schema_version": 3,
     "solution": false,
     "task": false
    },
    "tags": []
   },
   "outputs": [],
   "source": [
    "test_1.8()"
   ]
  },
  {
   "cell_type": "markdown",
   "metadata": {
    "deletable": false,
    "editable": false,
    "nbgrader": {
     "cell_type": "markdown",
     "checksum": "ecd6fab43c1ad9f33dd92061478237b3",
     "grade": false,
     "grade_id": "cell-5fe352592ed23811",
     "locked": true,
     "schema_version": 3,
     "solution": false,
     "task": false
    }
   },
   "source": [
    "**Question 1.9**\n",
    "<br>{points: 1}\n",
    "\n",
    "Considering the `model_titanic_logistic_multiple` tibble, what is the correct interpretation of the  $\\hat{\\beta}_\\textit{sex}$?\n",
    "\n",
    "Note that the following interpretations correspond to its exponential form.\n",
    "\n",
    "**A.** Being male changes the odds of surviving by different factors depending on the fare value.\n",
    "\n",
    "**B.** For any constant fare value, being female changes the odds of surviving by a factor of $e^{-2.42276} = 0.0887$, or in other words, it decreases the odds of surviving by $91\\%$.\n",
    "\n",
    "**C.** For any constant fare value, being male changes the odds of surviving by a factor of $e^{-2.42276} = 0.0887$, or in other words, it decreases the odds of surviving by $91\\%$.\n",
    "\n",
    "**D.** None of the above.\n",
    "\n",
    "*Assign your answer to the object `answer1.8` (character type surrounded by quotes).*"
   ]
  },
  {
   "cell_type": "code",
   "execution_count": null,
   "metadata": {
    "deletable": false,
    "nbgrader": {
     "cell_type": "code",
     "checksum": "eac6ef1776d5db1ef18f0ab7427f20c6",
     "grade": false,
     "grade_id": "cell-11677807d101b133",
     "locked": false,
     "schema_version": 3,
     "solution": true,
     "task": false
    },
    "tags": []
   },
   "outputs": [],
   "source": [
    "# answer1.9 <- ...\n",
    "\n",
    "# your code here\n",
    "fail() # No Answer - remove if you provide an answer"
   ]
  },
  {
   "cell_type": "code",
   "execution_count": null,
   "metadata": {
    "deletable": false,
    "editable": false,
    "nbgrader": {
     "cell_type": "code",
     "checksum": "7e13fd8c1ed9d34a2fd864805ca4b601",
     "grade": true,
     "grade_id": "cell-30f034478ea08799",
     "locked": true,
     "points": 1,
     "schema_version": 3,
     "solution": false,
     "task": false
    }
   },
   "outputs": [],
   "source": [
    "test_1.9()"
   ]
  },
  {
   "cell_type": "markdown",
   "metadata": {
    "deletable": false,
    "editable": false,
    "nbgrader": {
     "cell_type": "markdown",
     "checksum": "8de6fed75ad43fe6f06f122acc70e19a",
     "grade": false,
     "grade_id": "cell-7960f6f613499491",
     "locked": true,
     "schema_version": 3,
     "solution": false,
     "task": false
    }
   },
   "source": [
    "**Question 1.10**\n",
    "<br>{points: 1}\n",
    "\n",
    "What is the correct interpretation of the regression equation's estimated slope for `fare`?\n",
    "\n",
    "Note that the following interpretations correspond to its exponential form.\n",
    "\n",
    "**A.** A $\\$1$ increase in `fare` is associated with a $1.1\\%$ increase in the odds of survival for either male or female passangers. \n",
    "\n",
    "**B.** A $\\$1$ increase in `fare` is associated with a $1.1\\%$ increase in the odds of survival only for male passangers. \n",
    "\n",
    "**C.** A $\\$1$ increase in `fare` is associated with a $1.1\\%$ increase in the odds of dying for either male or female passangers. \n",
    "\n",
    "**D.** A $\\$1$ increase in `fare` is associated with a $1.1\\%$ decrease in the odds of survival for either male or female passangers. \n",
    "\n",
    "*Assign your answer to the object `answer1.10` (character type surrounded by quotes).*"
   ]
  },
  {
   "cell_type": "code",
   "execution_count": null,
   "metadata": {
    "deletable": false,
    "nbgrader": {
     "cell_type": "code",
     "checksum": "92dd4b1331c4ff95aa12eb0753532bda",
     "grade": false,
     "grade_id": "cell-7441e6aa1307023f",
     "locked": false,
     "schema_version": 3,
     "solution": true,
     "task": false
    },
    "tags": []
   },
   "outputs": [],
   "source": [
    "# answer1.10 <- ...\n",
    "\n",
    "# your code here\n",
    "fail() # No Answer - remove if you provide an answer\n"
   ]
  },
  {
   "cell_type": "code",
   "execution_count": null,
   "metadata": {
    "deletable": false,
    "editable": false,
    "nbgrader": {
     "cell_type": "code",
     "checksum": "6eafe4562cc248b2bb59651b95e81256",
     "grade": true,
     "grade_id": "cell-347ad929fad50479",
     "locked": true,
     "points": 1,
     "schema_version": 3,
     "solution": false,
     "task": false
    },
    "tags": []
   },
   "outputs": [],
   "source": [
    "test_1.10()"
   ]
  },
  {
   "cell_type": "code",
   "execution_count": null,
   "metadata": {
    "deletable": false,
    "editable": false,
    "nbgrader": {
     "cell_type": "code",
     "checksum": "5c2fdd0db369831e8a6a7c75a3bad6a8",
     "grade": false,
     "grade_id": "cell-a759a8f4b0275d31",
     "locked": true,
     "schema_version": 3,
     "solution": false,
     "task": false
    }
   },
   "outputs": [],
   "source": [
    "#[21c] Plotting \n",
    "\n",
    "# Don't worry about this part of the code\n",
    "data_for_plotting <-  \n",
    "    tibble(fare = rep(seq(0, 499.99, 0.1), 2), \n",
    "           sex = c(rep('female', 5000), rep('male', 5000))) %>%\n",
    "    add_predictions(model = model_titanic_logistic_multiple, var = 'pred', type = 'response')\n",
    "##############################################\n",
    "\n",
    "titan  %>%\n",
    "    ggplot(aes(fare, survived, color = sex)) + \n",
    "    geom_point() + \n",
    "    geom_line(aes(y = pred), data = data_for_plotting) + \n",
    "    theme(text = element_text(size = 18))"
   ]
  },
  {
   "cell_type": "markdown",
   "metadata": {
    "deletable": false,
    "editable": false,
    "nbgrader": {
     "cell_type": "markdown",
     "checksum": "407902780b68b37af97fdbce8c5738f4",
     "grade": false,
     "grade_id": "cell-69697cc0a73122ef",
     "locked": true,
     "schema_version": 3,
     "solution": false,
     "task": false
    },
    "tags": []
   },
   "source": [
    "### 1.4 Conclusions\n",
    "\n",
    "- The (conditional) expectation of a binary response is the probability of success.\n",
    "\n",
    "- A LR can not be used to model the conditional expectation of a binary response since its range extends beyond the interval $[0,1]$\n",
    "\n",
    "- Instead, one can model a function of the conditional probability. A common choice in logistic regression is to use the *logit* function (logarithm of odds)\n",
    "\n",
    "- The interpretation of the coefficients depends on the type of variables and the form of the model:\n",
    "\n",
    "The raw coefficients are interpreted as:\n",
    "\n",
    "- log odds of a reference group\n",
    "- difference of log odds of a treatment vs a control group\n",
    "- changes in log odds per unit change in the input\n",
    "    \n",
    "The exponentiated coefficients are interpreted as:\n",
    "- odds of a reference group\n",
    "- odds ratio of a treatment vs a control group\n",
    "- multiplicative changes in odds per unit change in the input\n",
    "    \n",
    "- The estimated logistic model can be used to make inference using the Wald's test (see tutorial_04)\n",
    "\n",
    "- The estimated logistic model can be used to make predictions (see tutorial_04)\n",
    "    - the probability of success\n",
    "    - the odds of success relative to failure"
   ]
  }
 ],
 "metadata": {
  "jupytext": {
   "formats": "ipynb,Rmd"
  },
  "kernelspec": {
   "display_name": "R",
   "language": "R",
   "name": "ir"
  },
  "language_info": {
   "codemirror_mode": "r",
   "file_extension": ".r",
   "mimetype": "text/x-r-source",
   "name": "R",
   "pygments_lexer": "r",
   "version": "4.3.3"
  },
  "latex_envs": {
   "LaTeX_envs_menu_present": true,
   "autoclose": false,
   "autocomplete": true,
   "bibliofile": "biblio.bib",
   "cite_by": "apalike",
   "current_citInitial": 1,
   "eqLabelWithNumbers": true,
   "eqNumInitial": 1,
   "hotkeys": {
    "equation": "Ctrl-E",
    "itemize": "Ctrl-I"
   },
   "labels_anchors": false,
   "latex_user_defs": false,
   "report_style_numbering": false,
   "user_envs_cfg": false
  }
 },
 "nbformat": 4,
 "nbformat_minor": 4
}
