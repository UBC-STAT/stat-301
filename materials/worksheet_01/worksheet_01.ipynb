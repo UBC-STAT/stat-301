{
 "cells": [
  {
   "cell_type": "markdown",
   "metadata": {
    "deletable": false,
    "editable": false,
    "nbgrader": {
     "cell_type": "markdown",
     "checksum": "ed73f9085d5b7cd1812f8521a8f09fb6",
     "grade": false,
     "grade_id": "cell-f1e1d845873036f4",
     "locked": true,
     "schema_version": 3,
     "solution": false,
     "task": false
    }
   },
   "source": [
    "# Worksheet 01: Introduction to Generative Modelling"
   ]
  },
  {
   "cell_type": "markdown",
   "metadata": {
    "deletable": false,
    "editable": false,
    "nbgrader": {
     "cell_type": "markdown",
     "checksum": "b997f1541578c288f7f8bb05c1089c6e",
     "grade": false,
     "grade_id": "cell-82d9926086d47a80",
     "locked": true,
     "schema_version": 3,
     "solution": false,
     "task": false
    }
   },
   "source": [
    "## Learning Objectives\n",
    "\n",
    "After completing this week's lecture and tutorial work, you will be able to:\n",
    "\n",
    "1. Give an example of a question that could be answered by generative modelling.\n",
    "2. Explain how linear regression can be used to approximate the underlying mechanism that generated the data (quantitative response and input variables).\n",
    "3. Interpret the estimated coefficients and 𝑝𝑝-values derived from theoretical results for a simple linear regression (i.e., one input variable).\n",
    "4. Discuss the assumptions made to estimate the simple linear regression coefficients and approximate their sampling distribution.\n",
    "5. Explain how to approximate the sampling distribution of the simple linear regression coefficient estimators using bootstrapping.\n",
    "6. Contrast the sampling distribution approximated using theoretical results with bootstrapping alternatives for a simple linear regression setting.\n",
    "7. Compute confidence intervals for the simple linear regression coefficients using theoretical approximations and bootstrapping results.\n",
    "8. Write a computer script to perform a simple linear regression analysis.\n"
   ]
  },
  {
   "cell_type": "code",
   "execution_count": null,
   "metadata": {
    "deletable": false,
    "editable": false,
    "nbgrader": {
     "cell_type": "code",
     "checksum": "66da6c3be8465c5c880d7d418a03b382",
     "grade": false,
     "grade_id": "cell-a2a153352bc44a68",
     "locked": true,
     "schema_version": 3,
     "solution": false,
     "task": false
    },
    "tags": []
   },
   "outputs": [],
   "source": [
    "# Run this cell before continuing.\n",
    "library(tidyverse)\n",
    "library(repr)\n",
    "library(infer)\n",
    "library(cowplot)\n",
    "library(broom)\n",
    "source(\"tests_worksheet_01.R\")"
   ]
  },
  {
   "cell_type": "markdown",
   "metadata": {
    "deletable": false,
    "editable": false,
    "nbgrader": {
     "cell_type": "markdown",
     "checksum": "b1f2f66371e234def57ba23c4c7254d5",
     "grade": false,
     "grade_id": "cell-7a45b51c13b6ebc9",
     "locked": true,
     "schema_version": 3,
     "solution": false,
     "task": false
    },
    "tags": []
   },
   "source": [
    "## Introduction: Generative models\n",
    "\n",
    "As data scientists, we are often interested in understanding the relationship between variables in our data using *models*. For example:\n",
    "\n",
    "- which variables are associated with a response of interest? \n",
    "\n",
    "- can we model the relationship between the response and the input variables? Is a linear model adequate?\n",
    "\n",
    "- which variables are positively/negatively associated with the response? \n",
    "\n",
    "- does the relationship between the response and an input variable depend on the values of the other variables?\n",
    "\n",
    "Linear Regression Models can be used to answer these questions, providing a unifying framework to study the relation between different types of variables and a continuous response. Research in linear models has been focused on three important aspects: *estimation, inference*, and *prediction*. \n",
    "\n",
    "- **Estimation**: how to estimate the true (but unknown) relation between the response and the input variables\n",
    "\n",
    "- **Inference**: how to use the model to infer information about the unknown relation between variables\n",
    "\n",
    "- **Prediction**: how to use the model to predict the value of the response for new observations \n",
    "\n",
    "These three aspects are intimately connected, and understanding their relationships is key to unlocking the full potential of Linear Regression Models.\n",
    "\n",
    "The purpose of this worksheet is to practice building, interpreting and testing Simple Linear Regression (SLR) models (note that \"*Simple*\" refers to a linear model with only *one* input variable - it is not because it is easy!) . You will also become familiar with `R` functions such as `lm()` and `broom()` to accomplish these tasks. "
   ]
  },
  {
   "cell_type": "markdown",
   "metadata": {
    "deletable": false,
    "editable": false,
    "nbgrader": {
     "cell_type": "markdown",
     "checksum": "448b9ccf7da23968064dac7e36ac1f66",
     "grade": false,
     "grade_id": "cell-09b1d3cf9ae20175",
     "locked": true,
     "schema_version": 3,
     "solution": false,
     "task": false
    },
    "tags": []
   },
   "source": [
    "## Case study: Cancer Mortality\n",
    "\n",
    "In this worksheet, you will use the dataset `US_cancer_data`, which contains data on cancer mortality rates and different demographic and medical variables in American counties. \n",
    "\n",
    "**The question:** What is the relationship between cancer mortality rates and different demographic and medical variables?\n",
    "\n",
    "The data come from [data.world](https://data.world/nrippner/ols-regression-challenge) and other sources: [census.gov](http://census.gov/), [clinicaltrials.gov](http://clinicaltrials.gov/), and [cancer.gov](http://cancer.gov/). All values were collected in the 2010s but varied according to source. (Warning: Recall the importance of using a *random* sample to obtain representative summaries and broad conclusions!)\n",
    "\n",
    "In the [source documentation](https://data.world/nrippner/ols-regression-challenge) you can find the definition of each of the selected variables:\n",
    "\n",
    "- `TARGET_deathRate`: a continuous variable that measures cancer mortality per capita (for every 100,000 inhabitants), obtained as an average of data collected from 2010 to 2016.\n",
    "\n",
    "- `povertyPercent`: a continuous variable that measures the percentage of the county's population in poverty, based on 2013 American Census estimates.\n",
    "\n",
    "- `PctPrivateCoverage`: a continuous variable that measures the percentage of county residents with private health coverage, based on 2013 American Census estimates. \n",
    "\n",
    "Let's start by reading this dataset!"
   ]
  },
  {
   "cell_type": "code",
   "execution_count": null,
   "metadata": {
    "deletable": false,
    "editable": false,
    "nbgrader": {
     "cell_type": "code",
     "checksum": "5c0bbf1b20f562c9a347453b400babda",
     "grade": false,
     "grade_id": "cell-3e3dd54caa25ebd4",
     "locked": true,
     "schema_version": 3,
     "solution": false,
     "task": false
    },
    "tags": []
   },
   "outputs": [],
   "source": [
    "# Run this cell to read the dataset\n",
    "\n",
    "US_cancer_data <- \n",
    "    read_csv(\"data/US_county_cancer_data.csv\") %>%\n",
    "    select(TARGET_deathRate, povertyPercent, PctPrivateCoverage)"
   ]
  },
  {
   "cell_type": "markdown",
   "metadata": {
    "deletable": false,
    "editable": false,
    "nbgrader": {
     "cell_type": "markdown",
     "checksum": "612b62e208c248aea2a1f4414d62804c",
     "grade": false,
     "grade_id": "cell-3443ed42bc9381f7",
     "locked": true,
     "schema_version": 3,
     "solution": false,
     "task": false
    },
    "tags": []
   },
   "source": [
    "## PART I: Estimation"
   ]
  },
  {
   "cell_type": "markdown",
   "metadata": {
    "deletable": false,
    "editable": false,
    "nbgrader": {
     "cell_type": "markdown",
     "checksum": "03103a1a5249d4ea35de8000356c8ba9",
     "grade": false,
     "grade_id": "cell-09645dfe5eb37823",
     "locked": true,
     "schema_version": 3,
     "solution": false,
     "task": false
    },
    "tags": []
   },
   "source": [
    "### 1.  The Model\n",
    "\n",
    "You can hypothesize that each county's cancer mortality is related to the average level of poverty. In this worksheet, you will quantitatively study the association, at the county level, between `TARGET_deathRate` and `povertyPercent` using an SLR. \n",
    "\n",
    "The model equation is given by:\n",
    "\n",
    "$\\quad\\quad\\quad\\quad\\quad\\quad\\quad\\quad\\quad$ `TARGET_deathRate` = $\\beta_0$ + $\\beta_1\\times$`povertyPercent`\n",
    "\n",
    "Note that this model is an approximation (actually, pretty much <u>all models are approximations</u>) and cannot be considered exact. For example, the equation above states that the cancer mortality rate changes at a constant rate based on the percentage of the population living in poverty. Is this a reasonable assumption?"
   ]
  },
  {
   "cell_type": "markdown",
   "metadata": {
    "deletable": false,
    "editable": false,
    "nbgrader": {
     "cell_type": "markdown",
     "checksum": "62d9ae311f9c47af834e8d20ae25ed2f",
     "grade": false,
     "grade_id": "cell-53d9eed9dc88d641",
     "locked": true,
     "schema_version": 3,
     "solution": false,
     "task": false
    }
   },
   "source": [
    "**Question 1.0**\n",
    "<br>{points: 1}\n",
    "\n",
    "Within the context of this case study, answer the following:\n",
    "\n",
    "**1.0.0.** Which variable will you choose as the response variable? Answer with the column's name from `US_cancer_data`.\n",
    "\n",
    "**1.0.1.** Which variable will you choose as the input variable? Answer with the column's name from `US_cancer_data`.\n",
    "\n",
    "\n",
    "*Assign your answers to the objects `answer1.0.0` (character type surrounded by quotes) and `answer1.0.1` (character type surrounded by quotes).*"
   ]
  },
  {
   "cell_type": "code",
   "execution_count": null,
   "metadata": {
    "deletable": false,
    "nbgrader": {
     "cell_type": "code",
     "checksum": "6547a57ecb49182531c7df767c6e0be5",
     "grade": false,
     "grade_id": "cell-5df91bad44bb6ee6",
     "locked": false,
     "schema_version": 3,
     "solution": true,
     "task": false
    },
    "tags": []
   },
   "outputs": [],
   "source": [
    "# (answer1.0.0 <- ...)\n",
    "# (answer1.0.1 <- ...)\n",
    "\n",
    "# your code here\n",
    "fail() # No Answer - remove if you provide an answer"
   ]
  },
  {
   "cell_type": "code",
   "execution_count": null,
   "metadata": {
    "deletable": false,
    "editable": false,
    "nbgrader": {
     "cell_type": "code",
     "checksum": "d099695f89e7cf95b93c48282c167a7a",
     "grade": true,
     "grade_id": "cell-44112c42fed63850",
     "locked": true,
     "points": 1,
     "schema_version": 3,
     "solution": false,
     "task": false
    },
    "tags": []
   },
   "outputs": [],
   "source": [
    "test_1.0()"
   ]
  },
  {
   "cell_type": "markdown",
   "metadata": {
    "deletable": false,
    "editable": false,
    "nbgrader": {
     "cell_type": "markdown",
     "checksum": "11b684ab06097c7172aab277bbbe03b0",
     "grade": false,
     "grade_id": "cell-f5afa719df22abe6",
     "locked": true,
     "schema_version": 3,
     "solution": false,
     "task": false
    }
   },
   "source": [
    "**Question 1.1**\n",
    "<br>{points: 1}\n",
    "\n",
    "Using `US_cancer_data`, create a scatterplot of the response variable (in the y-axis) versus the input variable (in the x-axis). Call the resulting object `cancer_poverty_scatterplot` (note: it is important to display units of variables in plots to allow their proper interpretation!)\n",
    "\n",
    "*Fill out those parts indicated with `...`, uncomment the corresponding code in the cell below, and run it.*"
   ]
  },
  {
   "cell_type": "code",
   "execution_count": null,
   "metadata": {
    "deletable": false,
    "nbgrader": {
     "cell_type": "code",
     "checksum": "bf9446af4672fec8a6361e1435a0755b",
     "grade": false,
     "grade_id": "cell-0c778621438a3597",
     "locked": false,
     "schema_version": 3,
     "solution": true,
     "task": false
    },
    "tags": []
   },
   "outputs": [],
   "source": [
    "options(repr.plot.width = 10, repr.plot.height = 7) # Adjust these numbers so the plot looks good in your desktop.\n",
    "\n",
    "# cancer_poverty_scatterplot <- ggplot(..., aes(..., ...)) +\n",
    "#   ...() +\n",
    "#   xlab(...) +\n",
    "#   ylab(...) +\n",
    "#   theme(\n",
    "#     text = element_text(size = 16.5),\n",
    "#     plot.title = element_text(face = \"bold\"),\n",
    "#     axis.title = element_text(face = \"bold\")\n",
    "#   )\n",
    "# cancer_poverty_scatterplot\n",
    "\n",
    "# your code here\n",
    "fail() # No Answer - remove if you provide an answer"
   ]
  },
  {
   "cell_type": "code",
   "execution_count": null,
   "metadata": {
    "deletable": false,
    "editable": false,
    "nbgrader": {
     "cell_type": "code",
     "checksum": "59dd1e81a122412c6ba1b3798c47daca",
     "grade": true,
     "grade_id": "cell-9ab30539bf2fa701",
     "locked": true,
     "points": 1,
     "schema_version": 3,
     "solution": false,
     "task": false
    },
    "tags": []
   },
   "outputs": [],
   "source": [
    "test_1.1()"
   ]
  },
  {
   "cell_type": "markdown",
   "metadata": {
    "deletable": false,
    "editable": false,
    "nbgrader": {
     "cell_type": "markdown",
     "checksum": "cb8637afe8273fb89b64f3d192a865bb",
     "grade": false,
     "grade_id": "cell-7067872e63649111",
     "locked": true,
     "schema_version": 3,
     "solution": false,
     "task": false
    }
   },
   "source": [
    "**Question 1.2**\n",
    "<br>{points: 1}\n",
    "\n",
    "Based on the `cancer_poverty_scatterplot`, how would you describe the association between the response and the input variables?\n",
    "\n",
    "A. Negative.\n",
    "\n",
    "B. Positive.\n",
    "\n",
    "C. No association.\n",
    "\n",
    "*Assign your answer to an object called `answer1.2`. Your answer should be one of `\"A\"`, `\"B\"` or `\"C\"` surrounded by quotes.*"
   ]
  },
  {
   "cell_type": "code",
   "execution_count": null,
   "metadata": {
    "deletable": false,
    "nbgrader": {
     "cell_type": "code",
     "checksum": "be4bc439c3f93ba197765ea1ffdec82a",
     "grade": false,
     "grade_id": "cell-429bf5b7ffbb89e3",
     "locked": false,
     "schema_version": 3,
     "solution": true,
     "task": false
    },
    "tags": []
   },
   "outputs": [],
   "source": [
    "# answer1.2 <- ...\n",
    "\n",
    "# your code here\n",
    "fail() # No Answer - remove if you provide an answer"
   ]
  },
  {
   "cell_type": "code",
   "execution_count": null,
   "metadata": {
    "deletable": false,
    "editable": false,
    "nbgrader": {
     "cell_type": "code",
     "checksum": "7454a137074dc31c13726ec510817fc9",
     "grade": true,
     "grade_id": "cell-191c4f6b4b8c3368",
     "locked": true,
     "points": 1,
     "schema_version": 3,
     "solution": false,
     "task": false
    },
    "tags": []
   },
   "outputs": [],
   "source": [
    "test_1.2()"
   ]
  },
  {
   "cell_type": "markdown",
   "metadata": {
    "deletable": false,
    "editable": false,
    "nbgrader": {
     "cell_type": "markdown",
     "checksum": "d4bb498ee136d75cae807897dba734e7",
     "grade": false,
     "grade_id": "cell-8b6239aadc3aeeb8",
     "locked": true,
     "schema_version": 3,
     "solution": false,
     "task": false
    }
   },
   "source": [
    "### 2. Estimation of the regression line\n",
    "\n",
    "Let's start by formally defining the linear model. Let ${(X_i,Y_i), i = 1, \\ldots , n,}$ be a <font color=\"red\">random sample</font> of size $n$ from the population. \n",
    "\n",
    "In this example:\n",
    "\n",
    "- $Y_i$: the cancer mortality per capita for the $i$th county\n",
    "\n",
    "- $X_i$: percentage of the populace in poverty for the $i$th county\n",
    "\n",
    "- the index $i$ identifies the county and goes from $1$ to $n$.\n",
    "\n",
    "The model equation is:\n",
    "\n",
    "$$\n",
    "Y_i = \\beta_0 + \\beta_1 X_i + \\epsilon_i\n",
    "$$\n",
    "where $\\epsilon_i$ is the error term. Observations from a random sample won't be perfectly lined. The error term contains all factors that deviate $Y_i$ from its conditional expected value.\n",
    "\n",
    "Note that this model is an approximation (actually, pretty much <u>all models are approximations</u>) and cannot be considered exact. For example, the equation above states that the cancer mortality rate changes at a constant rate based on the percentage of the population living in poverty. Is this a reasonable assumption?\n",
    "\n",
    "**The best line:**\n",
    "\n",
    "But what values should we use for $\\beta_0$ and $\\beta_1$? These are our population parameters. As we know, population parameters are *unknown* and *non-random*. We need to estimate them from the data (a random sample)! But how?\n",
    "\n",
    "There are infinite lines to choose from. Which one is the best line?"
   ]
  },
  {
   "cell_type": "code",
   "execution_count": null,
   "metadata": {
    "deletable": false,
    "editable": false,
    "nbgrader": {
     "cell_type": "code",
     "checksum": "4d726ac95ebb7e50de24a0b38085c404",
     "grade": false,
     "grade_id": "cell-268c65ead72e509c",
     "locked": true,
     "schema_version": 3,
     "solution": false,
     "task": false
    },
    "slideshow": {
     "slide_type": "subslide"
    },
    "tags": []
   },
   "outputs": [],
   "source": [
    "US_cancer_data %>% ggplot(aes(povertyPercent, TARGET_deathRate)) + theme(axis.text.x = element_text(angle = 90))+\n",
    "    geom_point()+ \n",
    "    geom_abline(intercept=145,slope=1.5, size=2, col = \"blue\")+\n",
    "    geom_abline(intercept=200,slope=-1, size=2, col = \"orange\")+\n",
    "    geom_abline(intercept=100,slope=5, size=2, col = \"red\")+\n",
    "    geom_abline(intercept=155,slope=1.2, size=2, col = \"green\")+\n",
    "    geom_abline(intercept=147,slope=1.9, size=2, col = \"purple\")+\n",
    "    xlab(\"Populace in Poverty (%)\") +\n",
    "    ylab(\"Cancer Mortality per Capita (cases/100,000)\")"
   ]
  },
  {
   "cell_type": "markdown",
   "metadata": {
    "deletable": false,
    "editable": false,
    "nbgrader": {
     "cell_type": "markdown",
     "checksum": "23d333949eb4992e655241e6dc19019c",
     "grade": false,
     "grade_id": "cell-2b158505c3861cdb",
     "locked": true,
     "schema_version": 3,
     "solution": false,
     "task": false
    }
   },
   "source": [
    "**Question 2.0**\n",
    "<br>{points: 1}\n",
    "\n",
    "How would you choose the *best* line? \n",
    "\n",
    "**A.** The line that contains most data points \n",
    "\n",
    "**B.** The line that minimizes the distance of the points to the line \n",
    "\n",
    "**C.** The line that looks the best upon visual inspection\n",
    "\n",
    "*Assign your answer to an object called `answer2.0`. Your answer should be one of `\"A\"`, `\"B\"`, or `\"C\"` surrounded by quotes.*"
   ]
  },
  {
   "cell_type": "code",
   "execution_count": null,
   "metadata": {
    "deletable": false,
    "nbgrader": {
     "cell_type": "code",
     "checksum": "7c01a5b325328e23c7e13150a295e4ad",
     "grade": false,
     "grade_id": "cell-b459136dda679dcc",
     "locked": false,
     "schema_version": 3,
     "solution": true,
     "task": false
    },
    "tags": []
   },
   "outputs": [],
   "source": [
    "# answer2.0 <- ...\n",
    "\n",
    "# your code here\n",
    "fail() # No Answer - remove if you provide an answer"
   ]
  },
  {
   "cell_type": "code",
   "execution_count": null,
   "metadata": {
    "deletable": false,
    "editable": false,
    "nbgrader": {
     "cell_type": "code",
     "checksum": "46bfea70534d580f63fa47671fe8350f",
     "grade": true,
     "grade_id": "cell-cd9fd974ce85c373",
     "locked": true,
     "points": 1,
     "schema_version": 3,
     "solution": false,
     "task": false
    },
    "tags": []
   },
   "outputs": [],
   "source": [
    "test_2.0()"
   ]
  },
  {
   "cell_type": "markdown",
   "metadata": {
    "deletable": false,
    "editable": false,
    "nbgrader": {
     "cell_type": "markdown",
     "checksum": "23b5742ae73dc2b66be072445604ac7f",
     "grade": false,
     "grade_id": "cell-c4485d13b5cbfabd",
     "locked": true,
     "schema_version": 3,
     "solution": false,
     "task": false
    }
   },
   "source": [
    "**Question 2.1**\n",
    "<br>{points: 1}\n",
    "\n",
    "In order to determine the \"best\" line, we must first establish what we mean by \"best\". One way to do this is to find the line \"closer\" to all the points. However, to measure the distance between the points and the line, we need to determine a suitable criterion. Which of the following three criteria would you select to define the \"distance of a point to the line\"? (<u>Hint:</u> think about the variable we are trying to explain.)\n",
    "\n",
    "\n",
    "![](img/dist.png)\n",
    "\n",
    "Figure by Prof. Joel Ostblom\n",
    "\n",
    "*Assign your answer to an object called `answer2.1`. Your answer should be one of `\"A\"`, `\"B\"`, or `\"C\"` surrounded by quotes.*"
   ]
  },
  {
   "cell_type": "code",
   "execution_count": null,
   "metadata": {
    "deletable": false,
    "nbgrader": {
     "cell_type": "code",
     "checksum": "b49e286c5cd5b0f9662b62f39f56c335",
     "grade": false,
     "grade_id": "cell-0a1ade7f65d6d7ba",
     "locked": false,
     "schema_version": 3,
     "solution": true,
     "task": false
    },
    "tags": []
   },
   "outputs": [],
   "source": [
    "# answer2.1 <- ...\n",
    "\n",
    "# your code here\n",
    "fail() # No Answer - remove if you provide an answer"
   ]
  },
  {
   "cell_type": "code",
   "execution_count": null,
   "metadata": {
    "deletable": false,
    "editable": false,
    "nbgrader": {
     "cell_type": "code",
     "checksum": "8a1ee332fb09c598699b04610bd66f1a",
     "grade": true,
     "grade_id": "cell-4383e4539b493894",
     "locked": true,
     "points": 1,
     "schema_version": 3,
     "solution": false,
     "task": false
    },
    "tags": []
   },
   "outputs": [],
   "source": [
    "test_2.1()"
   ]
  },
  {
   "cell_type": "markdown",
   "metadata": {
    "deletable": false,
    "editable": false,
    "jp-MarkdownHeadingCollapsed": true,
    "nbgrader": {
     "cell_type": "markdown",
     "checksum": "6006ab6e22ca58355c2ca6e369b332d9",
     "grade": false,
     "grade_id": "cell-1dfa03dc1c34b14c",
     "locked": true,
     "schema_version": 3,
     "solution": false,
     "task": false
    },
    "tags": []
   },
   "source": [
    "\n",
    "\n",
    "Many methods can be used to estimate the true regression line depending on the criteria used to define \"optimal\"! **Least Squares (LS) method** minimizes the sum of the *squares of the residuals*! The residual of an observation is the difference between its response value and its predicted response on the line (represented by the dotted vertical line in Item B above). Check [this application](http://setosa.io/ev/ordinary-least-squares-regression/). \n",
    "\n",
    "> **Activity**: discuss why the *residual* is different from the *error term*?\n",
    "\n",
    "\n",
    "\n",
    "\n"
   ]
  },
  {
   "cell_type": "markdown",
   "metadata": {
    "deletable": false,
    "editable": false,
    "nbgrader": {
     "cell_type": "markdown",
     "checksum": "19f4c74ae78d44a8cd530b7d6aab041c",
     "grade": false,
     "grade_id": "cell-f86b3d1e24441d05",
     "locked": true,
     "schema_version": 3,
     "solution": false,
     "task": false
    }
   },
   "source": [
    "### 3. Least Square (LS) in R\n",
    "\n",
    "We will use the `lm` function in R to obtain the Least Square (LS) Estimates using the data in `US_cancer_data`. The LS method is not the only method to estimate the regression coefficients. However, it is the default method in `lm`.\n",
    "\n",
    "The `lm` function has two main arguments:\n",
    "\n",
    "- `formula`: takes the form `response ~ input`.\n",
    "- `data`: takes a data frame in a tidy format.\n",
    "\n",
    "In the `lm` function, there are some helpers to handle the inputs. We'll explore them further as the course progresses, but for now, let's start exploring two: \n",
    " - If you use `lm(response ~ ., data = df)`, all variables in the dataset `df`, except the `response`, will be used as predictors.\n",
    " - `lm(response ~ input - 1, data = df)` forces the estimated intercept to be 0. Never do this unless you know what you are doing and why. \n",
    "\n",
    "In this dataset we have sample of size in $n = 3047$ to estimate the regression coefficients. To examine the properties of the estimator let's start with a smaller sample and see what happens as the sample size increases."
   ]
  },
  {
   "cell_type": "markdown",
   "metadata": {
    "deletable": false,
    "editable": false,
    "nbgrader": {
     "cell_type": "markdown",
     "checksum": "92fc0b3c533a5b8877acc54ef69cf7d6",
     "grade": false,
     "grade_id": "cell-6343bf91f6dd54a9",
     "locked": true,
     "schema_version": 3,
     "solution": false,
     "task": false
    }
   },
   "source": [
    "**Question 3.0**\n",
    "<br>{points: 1}\n",
    "\n",
    "From the pool of American counties `US_cancer_data`, use the function `slice_sample()` to collect one random sample of size `250` and call it `US_cancer_sample250`.\n",
    "\n",
    "\n",
    "*Fill out those parts indicated with `...`, uncomment the corresponding code in the cell below, and run it.*"
   ]
  },
  {
   "cell_type": "code",
   "execution_count": null,
   "metadata": {
    "deletable": false,
    "nbgrader": {
     "cell_type": "code",
     "checksum": "ec2c570dddb70303f4cceb9afddf04e4",
     "grade": false,
     "grade_id": "cell-ecd77df8d80a2f0c",
     "locked": false,
     "schema_version": 3,
     "solution": true,
     "task": false
    },
    "tags": []
   },
   "outputs": [],
   "source": [
    "set.seed(123) # DO NOT CHANGE!\n",
    "\n",
    "# US_cancer_sample250 <- \n",
    "#    US_cancer_data %>%\n",
    "#    ...(n = )\n",
    "\n",
    "# your code here\n",
    "fail() # No Answer - remove if you provide an answer\n",
    "\n",
    "head(US_cancer_sample250)"
   ]
  },
  {
   "cell_type": "code",
   "execution_count": null,
   "metadata": {
    "deletable": false,
    "editable": false,
    "nbgrader": {
     "cell_type": "code",
     "checksum": "1dfbe813f08a689765737bd3c17f5f2e",
     "grade": true,
     "grade_id": "cell-d2d2ec2ce9fbba53",
     "locked": true,
     "points": 1,
     "schema_version": 3,
     "solution": false,
     "task": false
    },
    "tags": []
   },
   "outputs": [],
   "source": [
    "test_3.0()"
   ]
  },
  {
   "cell_type": "markdown",
   "metadata": {
    "deletable": false,
    "editable": false,
    "nbgrader": {
     "cell_type": "markdown",
     "checksum": "08585b5a241a65ca09b9f99f4373a172",
     "grade": false,
     "grade_id": "cell-1e2f57ba013fa9eb",
     "locked": true,
     "schema_version": 3,
     "solution": false,
     "task": false
    }
   },
   "source": [
    "**Question 3.1**\n",
    "<br>{points: 1}\n",
    "\n",
    "It is time to use `R` to estimate the Simple Linear Regression (SLR) using `US_cancer_sample250`. This estimated model can be used to evaluate if there exists a linear association between cancer mortality and poverty.\n",
    "\n",
    "Use the `lm()` function to estimate the SLR. \n",
    "\n",
    "Store this estimated model in the variable `SLR_cancer_sample250`.\n",
    "\n",
    "*Fill out those parts indicated with `...`, uncomment the corresponding code in the cell below, and run it.*"
   ]
  },
  {
   "cell_type": "code",
   "execution_count": null,
   "metadata": {
    "deletable": false,
    "nbgrader": {
     "cell_type": "code",
     "checksum": "54cad00e26c4cffddf8d04215a26e2ce",
     "grade": false,
     "grade_id": "cell-ea84f46f9ddc7886",
     "locked": false,
     "schema_version": 3,
     "solution": true,
     "task": false
    },
    "tags": []
   },
   "outputs": [],
   "source": [
    "# SLR_cancer_sample250 <- ...(formula = , data = ...)\n",
    "# SLR_cancer_sample250\n",
    "\n",
    "# your code here\n",
    "fail() # No Answer - remove if you provide an answer"
   ]
  },
  {
   "cell_type": "code",
   "execution_count": null,
   "metadata": {
    "deletable": false,
    "editable": false,
    "nbgrader": {
     "cell_type": "code",
     "checksum": "c7c679db630331d6ad1b7a1953992d00",
     "grade": true,
     "grade_id": "cell-b1563dd87c648835",
     "locked": true,
     "points": 1,
     "schema_version": 3,
     "solution": false,
     "task": false
    },
    "tags": []
   },
   "outputs": [],
   "source": [
    "test_3.1()"
   ]
  },
  {
   "cell_type": "markdown",
   "metadata": {
    "deletable": false,
    "editable": false,
    "nbgrader": {
     "cell_type": "markdown",
     "checksum": "dff5c3ee336d183692a560f9b4b6e7e9",
     "grade": false,
     "grade_id": "cell-cc795e1b37ab4190",
     "locked": true,
     "schema_version": 3,
     "solution": false,
     "task": false
    }
   },
   "source": [
    "**Question 3.2: Interpretation of the estimated line**\n",
    "<br>{points: 1}\n",
    "\n",
    "What is the correct interpretation of the regression estimated slope in `SLR_cancer_sample250_results`?\n",
    "\n",
    "A. The effect of a one percent increase of the county's populace in poverty is 1.52 increase in the cancer mortality per capita (cases/100,000).\n",
    "\n",
    "B. One percent increase of the county's populace in poverty causes 1.52 increase in cancer mortality per capita (cases/100,000).\n",
    "\n",
    "C. The expected cancer mortality per capita (cases/100,000) increases by 1.52 per one percent increase of the county's populace in poverty.\n",
    "\n",
    "*Assign your answer to an object called `answer3.2`. Your answer should be one of `\"A\"`, `\"B\"`, or `\"C\"` surrounded by quotes.*"
   ]
  },
  {
   "cell_type": "code",
   "execution_count": null,
   "metadata": {
    "deletable": false,
    "nbgrader": {
     "cell_type": "code",
     "checksum": "90ee2a04952b7d13b7f96b2aac68138b",
     "grade": false,
     "grade_id": "cell-230aae9574584b5d",
     "locked": false,
     "schema_version": 3,
     "solution": true,
     "task": false
    },
    "tags": []
   },
   "outputs": [],
   "source": [
    "# answer3.2 <- ...\n",
    "\n",
    "# your code here\n",
    "fail() # No Answer - remove if you provide an answer"
   ]
  },
  {
   "cell_type": "code",
   "execution_count": null,
   "metadata": {
    "deletable": false,
    "editable": false,
    "nbgrader": {
     "cell_type": "code",
     "checksum": "1a61917d3308d35ccd65f34508ea4041",
     "grade": true,
     "grade_id": "cell-1d526f4a65786abe",
     "locked": true,
     "points": 1,
     "schema_version": 3,
     "solution": false,
     "task": false
    },
    "tags": []
   },
   "outputs": [],
   "source": [
    "test_3.2()"
   ]
  },
  {
   "cell_type": "markdown",
   "metadata": {
    "deletable": false,
    "editable": false,
    "nbgrader": {
     "cell_type": "markdown",
     "checksum": "e3c0a7d074164419dd0c472fbaa1e1bc",
     "grade": false,
     "grade_id": "cell-11a76c9e8ed8deca",
     "locked": true,
     "schema_version": 3,
     "solution": false,
     "task": false
    }
   },
   "source": [
    "**Question 3.3: Visualization of the estimated line**\n",
    "<br>{points: 1}\n",
    "\n",
    "Using `US_cancer_sample250`, create a scatterplot of`TARGET_deathRate` versus `povertyPercent` and add the estimated SLR. The `ggplot()` object's name will be `SLR_cancer_sample250_plot`. Take a look at `geom_smooth`. \n",
    "\n",
    "*Fill out those parts indicated with `...`, uncomment the corresponding code in the cell below, and run it.*"
   ]
  },
  {
   "cell_type": "code",
   "execution_count": null,
   "metadata": {
    "deletable": false,
    "nbgrader": {
     "cell_type": "code",
     "checksum": "f62fd86071d46cca56211e554ef87c06",
     "grade": false,
     "grade_id": "cell-004d6fa208dffe3c",
     "locked": false,
     "schema_version": 3,
     "solution": true,
     "task": false
    },
    "tags": []
   },
   "outputs": [],
   "source": [
    "# SLR_cancer_sample250_plot <- \n",
    "#     US_cancer_sample250 %>%\n",
    "#     ggplot(aes(x = ..., y = ...)) +\n",
    "#     ...() +\n",
    "#     ...(method = ..., se = FALSE, size = 1.5) +\n",
    "#     coord_cartesian(xlim = c(0, 50), ylim = c(50, 400)) +\n",
    "#     xlab(...) +\n",
    "#     ylab(...) +\n",
    "#     ggtitle(...) +\n",
    "#     theme(\n",
    "#         text = element_text(size = 16.5),\n",
    "#         plot.title = element_text(face = \"bold\"),\n",
    "#         axis.title = element_text(face = \"bold\"))\n",
    "\n",
    "\n",
    "# your code here\n",
    "fail() # No Answer - remove if you provide an answer\n",
    "\n",
    "SLR_cancer_sample250_plot \n"
   ]
  },
  {
   "cell_type": "code",
   "execution_count": null,
   "metadata": {
    "deletable": false,
    "editable": false,
    "nbgrader": {
     "cell_type": "code",
     "checksum": "6ba6bed05ae51ca92cacf6486a494e65",
     "grade": true,
     "grade_id": "cell-623838e992d12dcf",
     "locked": true,
     "points": 1,
     "schema_version": 3,
     "solution": false,
     "task": false
    },
    "tags": []
   },
   "outputs": [],
   "source": [
    "test_3.3()"
   ]
  },
  {
   "cell_type": "markdown",
   "metadata": {
    "deletable": false,
    "editable": false,
    "nbgrader": {
     "cell_type": "markdown",
     "checksum": "5dc64c29f1bda401bed782441c3a3bde",
     "grade": false,
     "grade_id": "cell-90c1efbcff5d2739",
     "locked": true,
     "schema_version": 3,
     "solution": false,
     "task": false
    }
   },
   "source": [
    "**Question 3.4**\n",
    "<br>{points: 1}\n",
    "\n",
    "Considering the SLR model estimated in this exercise, which of the following questions relates to inference and estimation, and which relates to prediction? \n",
    "\n",
    "| **Question** | **Type** |\n",
    "| ------------------------------- | ----------------------- |\n",
    "| How can we determine an association between the expected cancer mortality per capita (cases/100,000) and the county’s populace living in poverty of all American counties? | `answer3.4.0` |\n",
    "| We observe a new American county with 14% of its populace living in poverty. What cancer mortality per capita (cases/100,000) should we expect? | `answer3.4.1` |\n",
    "\n",
    "The right column of the table is empty but should describe one of the following: \n",
    "\n",
    "**A.** Prediction.\n",
    "\n",
    "**B.** Inference and estimation.\n",
    "\n",
    "*Assign your answers to the objects `answer3.4.0` and `answer3.4.1`. Your answer should each be a single character (`\"A\"` or `\"B\"`) surrounded by quotes.*"
   ]
  },
  {
   "cell_type": "code",
   "execution_count": null,
   "metadata": {
    "deletable": false,
    "nbgrader": {
     "cell_type": "code",
     "checksum": "ffb380dd27c18eecb0913977c01c1689",
     "grade": false,
     "grade_id": "cell-48589f0e8415d279",
     "locked": false,
     "schema_version": 3,
     "solution": true,
     "task": false
    },
    "tags": []
   },
   "outputs": [],
   "source": [
    "# answer3.4.0 <- ...\n",
    "# answer3.4.1 <- ...\n",
    "\n",
    "# your code here\n",
    "fail() # No Answer - remove if you provide an answer"
   ]
  },
  {
   "cell_type": "code",
   "execution_count": null,
   "metadata": {
    "deletable": false,
    "editable": false,
    "nbgrader": {
     "cell_type": "code",
     "checksum": "745eee2014caf24b111deee5ca2cc1fe",
     "grade": true,
     "grade_id": "cell-c2bcf367549a3797",
     "locked": true,
     "points": 1,
     "schema_version": 3,
     "solution": false,
     "task": false
    },
    "tags": []
   },
   "outputs": [],
   "source": [
    "test_3.4()"
   ]
  },
  {
   "cell_type": "markdown",
   "metadata": {
    "deletable": false,
    "editable": false,
    "nbgrader": {
     "cell_type": "markdown",
     "checksum": "48ff03dfa2ca55fd1c6338de7599346c",
     "grade": false,
     "grade_id": "cell-e24077061b7962f7",
     "locked": true,
     "schema_version": 3,
     "solution": false,
     "task": false
    },
    "tags": []
   },
   "source": [
    "## PART II: Inference"
   ]
  },
  {
   "cell_type": "markdown",
   "metadata": {
    "deletable": false,
    "editable": false,
    "nbgrader": {
     "cell_type": "markdown",
     "checksum": "138ca6ded117801c619926dddfa1d2d4",
     "grade": false,
     "grade_id": "cell-298b195aadb7b3e9",
     "locked": true,
     "schema_version": 3,
     "solution": false,
     "task": false
    }
   },
   "source": [
    "Since the parameters of the linear model ($\\beta_0$ and $\\beta_1$) are unknown, you use a random sample to estimate with a LS estimator ($\\hat{\\beta}_0$ and $\\hat{\\beta}_1$). \n",
    "\n",
    "In particular, in this case study, the estimated intercept and slope in `SLR_cancer_sample250_results` are computed using the $n = 250$ sampled observations from `US_cancer_data`. We can think that the *estimates* are \"good\" guesses about the population parameters based on our data. \n",
    "\n",
    "In this section, we will examine how we can infer information about the *population*'s parameters from the *estimated* parameters. "
   ]
  },
  {
   "cell_type": "markdown",
   "metadata": {
    "deletable": false,
    "editable": false,
    "nbgrader": {
     "cell_type": "markdown",
     "checksum": "ccb36f465523bcabaadb01e9c1cfe867",
     "grade": false,
     "grade_id": "cell-c73ed4b937081d6a",
     "locked": true,
     "schema_version": 3,
     "solution": false,
     "task": false
    }
   },
   "source": [
    "### A note on randomness of the estimators\n",
    "\n",
    "It's important to understand that $\\hat{\\beta}_0$ and $\\hat{\\beta}_1$ are estimates computed from random samples and, therefore, are themselves random variables. In other words, the values of $\\hat{\\beta}_0$ and $\\hat{\\beta}_1$ will vary depending on the particular sample used to compute them. This means that different samples of the same population will yield different estimates of $\\hat{\\beta}_0$ and $\\hat{\\beta}_1$.\n",
    "\n",
    "Let's see an example! Recall the estimates we obtained with the sample taken:"
   ]
  },
  {
   "cell_type": "code",
   "execution_count": null,
   "metadata": {
    "deletable": false,
    "editable": false,
    "nbgrader": {
     "cell_type": "code",
     "checksum": "029e41a3d36e8148c3fb413a9646c23a",
     "grade": false,
     "grade_id": "cell-103fb55d72933468",
     "locked": true,
     "schema_version": 3,
     "solution": false,
     "task": false
    },
    "tags": []
   },
   "outputs": [],
   "source": [
    "SLR_sample250_0 <- \n",
    "    tidy(lm(formula = TARGET_deathRate ~ povertyPercent, data = US_cancer_sample250)) %>% \n",
    "    select(estimate)\n",
    "\n",
    "many_SLR <- SLR_sample250_0 \n",
    "many_SLR"
   ]
  },
  {
   "cell_type": "markdown",
   "metadata": {
    "deletable": false,
    "editable": false,
    "nbgrader": {
     "cell_type": "markdown",
     "checksum": "af5dec3dea4397b08b9cfaaad195edbd",
     "grade": false,
     "grade_id": "cell-6535c30895a53ccd",
     "locked": true,
     "schema_version": 3,
     "solution": false,
     "task": false
    }
   },
   "source": [
    "Take another sample from the full dataset and estimate the regression line. A couple of notes that are important to keep in mind:\n",
    "\n",
    "- This is a pedagogical exercise -- in practice, we rarely take multiple samples!\n",
    "- This is NOT bootstrapping! Why?\n"
   ]
  },
  {
   "cell_type": "code",
   "execution_count": null,
   "metadata": {
    "deletable": false,
    "editable": false,
    "nbgrader": {
     "cell_type": "code",
     "checksum": "1fac31977fdbc4628dbe39e71f4a547f",
     "grade": false,
     "grade_id": "cell-4485e6151bc62eb9",
     "locked": true,
     "schema_version": 3,
     "solution": false,
     "task": false
    },
    "tags": []
   },
   "outputs": [],
   "source": [
    "set.seed(301)\n",
    "\n",
    "US_cancer_sample250_1 <- rep_sample_n(US_cancer_data, size = 250)"
   ]
  },
  {
   "cell_type": "code",
   "execution_count": null,
   "metadata": {
    "deletable": false,
    "editable": false,
    "nbgrader": {
     "cell_type": "code",
     "checksum": "7b36644290e5399c16a487f49f963d73",
     "grade": false,
     "grade_id": "cell-3a8d370d09a8e5ad",
     "locked": true,
     "schema_version": 3,
     "solution": false,
     "task": false
    },
    "tags": []
   },
   "outputs": [],
   "source": [
    "# NEW POINT ESTIMATES\n",
    "\n",
    "SLR_sample250_1 <- \n",
    "    tidy(lm(formula = TARGET_deathRate ~ povertyPercent, data = US_cancer_sample250_1))  %>% \n",
    "    select(estimate)\n",
    "\n",
    "many_SLR <- many_SLR %>% bind_cols(SLR_sample250_1)\n",
    "many_SLR"
   ]
  },
  {
   "cell_type": "markdown",
   "metadata": {},
   "source": [
    "Let's do this again and take yet another sample. "
   ]
  },
  {
   "cell_type": "code",
   "execution_count": null,
   "metadata": {
    "deletable": false,
    "editable": false,
    "nbgrader": {
     "cell_type": "code",
     "checksum": "be141f5618073a587a7d6de82bbe73fd",
     "grade": false,
     "grade_id": "cell-bb611db621ae47fd",
     "locked": true,
     "schema_version": 3,
     "solution": false,
     "task": false
    },
    "tags": []
   },
   "outputs": [],
   "source": [
    "set.seed(30)\n",
    "\n",
    "US_cancer_sample250_2 <- rep_sample_n(US_cancer_data, size = 250)"
   ]
  },
  {
   "cell_type": "code",
   "execution_count": null,
   "metadata": {
    "deletable": false,
    "editable": false,
    "nbgrader": {
     "cell_type": "code",
     "checksum": "2aa9b82b5193b149104258e97813cfc3",
     "grade": false,
     "grade_id": "cell-bff2112896f5ac31",
     "locked": true,
     "schema_version": 3,
     "solution": false,
     "task": false
    },
    "tags": []
   },
   "outputs": [],
   "source": [
    "# ANOTHER POINT ESTIMATES\n",
    "\n",
    "SLR_sample250_2 <- \n",
    "    tidy(lm(formula = TARGET_deathRate ~ povertyPercent, data = US_cancer_sample250_2))  %>% \n",
    "    select(estimate)\n",
    "\n",
    "many_SLR <- many_SLR  %>% bind_cols(SLR_sample250_2)\n",
    "many_SLR"
   ]
  },
  {
   "cell_type": "markdown",
   "metadata": {
    "deletable": false,
    "editable": false,
    "nbgrader": {
     "cell_type": "markdown",
     "checksum": "874541f66f383d8182bfc27f681e6d0b",
     "grade": false,
     "grade_id": "cell-2e1e8a7cab7c4b20",
     "locked": true,
     "schema_version": 3,
     "solution": false,
     "task": false
    }
   },
   "source": [
    "As we collect new samples, we observe that the regression parameters generate varying estimates. This is a common occurrence, as you learned in STAT 201, where you were introduced to the idea that estimators have sampling distributions. In other words, the estimates of regression parameters vary from one sample to the next, reflecting the natural variability that is inherent in statistical inference, and they also have sampling distributions.\n",
    "\n",
    "### 4. The standard error\n",
    "\n",
    "The variation of these estimates from sample to sample is measured by their standard deviation, which has a special name: *the standard error* (SE). But in practice, how can we compute the standard error if we have only 1 sample?\n",
    "\n",
    "We have different ways of answering this question:\n",
    "\n",
    "1. take multiple samples from the population and compute multiple estimates as we did above. Then, compute their SD. But this is *not a realistic option*;\n",
    "\n",
    "2. use a theoretical result, which is what the `lm` function does;\n",
    "\n",
    "3. use bootstrapping (similarly to what you did in STAT 201);"
   ]
  },
  {
   "cell_type": "markdown",
   "metadata": {
    "deletable": false,
    "editable": false,
    "nbgrader": {
     "cell_type": "markdown",
     "checksum": "21a17e4a50823f6d44245cdbce48b5e5",
     "grade": false,
     "grade_id": "cell-7b727dcdc90f2a93",
     "locked": true,
     "schema_version": 3,
     "solution": false,
     "task": false
    }
   },
   "source": [
    "**Question 4.0**\n",
    "<br>{points: 1}\n",
    "\n",
    "Use the `broom` package's `tidy()` to obtain the estimated coefficients, associated standard errors, $t$-statistics, and $p$-values obtained from the random sample `SLR_cancer_sample250`. \n",
    "\n",
    "Store them in the variable `SLR_cancer_sample250_results` whose columns are the following:\n",
    "\n",
    "- The first column has the names of the regression terms.\n",
    "\n",
    "- The second column shows the values of the estimated coefficients of the regression line, $\\hat{\\beta}_0$ and $\\hat{\\beta}_1$ \n",
    "\n",
    "- The remaining three columns have important quantities to assess uncertainty and test hypotheses about the regression terms (we'll learn more about these quantities soon).\n",
    "\n",
    "*Fill out those parts indicated with `...`, uncomment the corresponding code in the cell below, and run it.*"
   ]
  },
  {
   "cell_type": "code",
   "execution_count": null,
   "metadata": {
    "deletable": false,
    "nbgrader": {
     "cell_type": "code",
     "checksum": "342e2f2e8e63a63f5745e961cdfee946",
     "grade": false,
     "grade_id": "cell-52d5c9eef3b26e20",
     "locked": false,
     "schema_version": 3,
     "solution": true,
     "task": false
    },
    "tags": []
   },
   "outputs": [],
   "source": [
    "# SLR_cancer_sample250_results <- \n",
    "#    ...(SLR_cancer_sample250) %>% \n",
    "#    mutate_if(is.numeric, round, 2) # This just rounds the numbers to two decimal places \n",
    "\n",
    "# your code here\n",
    "fail() # No Answer - remove if you provide an answer\n",
    "\n",
    "SLR_cancer_sample250_results"
   ]
  },
  {
   "cell_type": "code",
   "execution_count": null,
   "metadata": {
    "deletable": false,
    "editable": false,
    "nbgrader": {
     "cell_type": "code",
     "checksum": "d7dd796963e48c42d4407504af6dd56c",
     "grade": true,
     "grade_id": "cell-635ad3148a1c83b4",
     "locked": true,
     "points": 1,
     "schema_version": 3,
     "solution": false,
     "task": false
    },
    "tags": []
   },
   "outputs": [],
   "source": [
    "test_4.0()"
   ]
  },
  {
   "cell_type": "markdown",
   "metadata": {
    "deletable": false,
    "editable": false,
    "nbgrader": {
     "cell_type": "markdown",
     "checksum": "2741d9deb01c44fd83d1eb2f40fe2cca",
     "grade": false,
     "grade_id": "cell-c8684be2efde0514",
     "locked": true,
     "schema_version": 3,
     "solution": false,
     "task": false
    }
   },
   "source": [
    "### 5. Hypothesis Tests\n",
    "\n",
    "The object `SLR_cancer_sample250_results` contains useful information to test some hypotheses about the regression coefficients."
   ]
  },
  {
   "cell_type": "markdown",
   "metadata": {
    "deletable": false,
    "editable": false,
    "nbgrader": {
     "cell_type": "markdown",
     "checksum": "1730a90d36170f9f656acb3cb2f194a6",
     "grade": false,
     "grade_id": "cell-39c0e09371a6e400",
     "locked": true,
     "schema_version": 3,
     "solution": false,
     "task": false
    }
   },
   "source": [
    "### 5.1 The null hypothesis\n",
    "\n",
    "In other hypothesis tests, the null hypothesis claims a *null* state, i.e., the status-quo. In SLR, the status-quo is the absence of a relation between the response and the input variable(s). \n",
    "\n",
    "**Question 5.1**\n",
    "<br>{points: 1}\n",
    "\n",
    "Suppose we want to test if the there exist a linear association between cancer mortality and poverty. Which of the following null hypotheses is correct:\n",
    "\n",
    "**A.** $H_0: \\hat{\\beta}_1 = 0 $\n",
    "\n",
    "**B.** $H_0: \\hat{\\beta}_0 = 0 $\n",
    "\n",
    "**C.** $H_0: \\beta_1 = 0$ \n",
    "\n",
    "**D.** $H_0: \\beta_0 = 0$ \n",
    "\n",
    "*Assign your answer to an object called `answer5.1`. Your answer should be one of `\"A\"`, `\"B\"`, `\"C\"`, or `\"D\"` surrounded by quotes.*"
   ]
  },
  {
   "cell_type": "code",
   "execution_count": null,
   "metadata": {
    "deletable": false,
    "nbgrader": {
     "cell_type": "code",
     "checksum": "109bb0f3ef423971a95c4cdd864e8bcf",
     "grade": false,
     "grade_id": "cell-0e00abceb50441a9",
     "locked": false,
     "schema_version": 3,
     "solution": true,
     "task": false
    },
    "tags": []
   },
   "outputs": [],
   "source": [
    "# answer5.1 <- \n",
    "\n",
    "# your code here\n",
    "fail() # No Answer - remove if you provide an answer"
   ]
  },
  {
   "cell_type": "code",
   "execution_count": null,
   "metadata": {
    "deletable": false,
    "editable": false,
    "nbgrader": {
     "cell_type": "code",
     "checksum": "9c2955bb1c3f23e20048a28dabc2afe2",
     "grade": true,
     "grade_id": "cell-7ff71adbd8d78931",
     "locked": true,
     "points": 1,
     "schema_version": 3,
     "solution": false,
     "task": false
    },
    "tags": []
   },
   "outputs": [],
   "source": [
    "test_5.1()"
   ]
  },
  {
   "cell_type": "markdown",
   "metadata": {
    "deletable": false,
    "editable": false,
    "nbgrader": {
     "cell_type": "markdown",
     "checksum": "19d4f252da1b5d646acbd9c20e24e8c9",
     "grade": false,
     "grade_id": "cell-80d21f8215791485",
     "locked": true,
     "schema_version": 3,
     "solution": false,
     "task": false
    },
    "tags": []
   },
   "source": [
    "### 5.2 The alternative hypothesis \n",
    "\n",
    "The alternative hypothesis reflects our believes about reality. \n",
    "\n",
    "><u>Warning</u>: Although the alternative hypothesis contains the claim that we want to prove, it is important to note that in statistics we are not proving that the null hypothesis is true or false! We can only *reject* or *fail to reject* the null hypothesis based on our evidence in the data!!\n",
    "\n",
    "**Question 5.2**\n",
    "<br>{points: 1}\n",
    "\n",
    "Suppose we want to test if the there exist a positive (linear) association between the response and the input variable. Which of the following alternative hypotheses is correct:\n",
    "\n",
    "**A.** $H_1: \\hat{\\beta}_1 > 0 $\n",
    "\n",
    "**B.** $H_1: \\hat{\\beta}_0 > 0 $\n",
    "\n",
    "**C.** $H_1: \\beta_1 \\neq 0$ \n",
    "\n",
    "**D.** $H_1: \\beta_1 > 0$ \n",
    "\n",
    "*Assign your answer to an object called `answer5.2`. Your answer should be one of `\"A\"`, `\"B\"`, `\"C\"`, or `\"D\"` surrounded by quotes.*"
   ]
  },
  {
   "cell_type": "code",
   "execution_count": null,
   "metadata": {
    "deletable": false,
    "nbgrader": {
     "cell_type": "code",
     "checksum": "0c5d49a184867b37f7c698e1af500203",
     "grade": false,
     "grade_id": "cell-a52907f64399935c",
     "locked": false,
     "schema_version": 3,
     "solution": true,
     "task": false
    }
   },
   "outputs": [],
   "source": [
    "# answer5.2 <- \n",
    "\n",
    "# your code here\n",
    "fail() # No Answer - remove if you provide an answer"
   ]
  },
  {
   "cell_type": "code",
   "execution_count": null,
   "metadata": {
    "deletable": false,
    "editable": false,
    "nbgrader": {
     "cell_type": "code",
     "checksum": "8fc58f7443e24814f1c74291acf89c7e",
     "grade": true,
     "grade_id": "cell-354611ba3fc83f6f",
     "locked": true,
     "points": 1,
     "schema_version": 3,
     "solution": false,
     "task": false
    }
   },
   "outputs": [],
   "source": [
    "test_5.2()"
   ]
  },
  {
   "cell_type": "markdown",
   "metadata": {
    "deletable": false,
    "editable": false,
    "nbgrader": {
     "cell_type": "markdown",
     "checksum": "9b948e04dc42a5798d5e07fba6f078a1",
     "grade": false,
     "grade_id": "cell-391c3bab7c1d8f34",
     "locked": true,
     "schema_version": 3,
     "solution": false,
     "task": false
    }
   },
   "source": [
    "### 5.3 The statistic and $p$-value\n",
    "\n",
    "To test $H_0$ we can use our estimated slope and check how far the estimate $\\hat{\\beta}_1$ is from $0$. The test statistic is a relative measure that we can use based on our data. It can be found in the column `statistic` from `SLR_cancer_sample250_results`\n",
    "\n",
    "Using classical results of the sampling distribution of the LS estimators, `lm` computes $p$-values for the test. In `SLR_cancer_sample250_results`, you can find the $p$-values in the column `p.value`. Note that, by default, the alternative hypothesis is $H_1: \\beta_j \\neq 0$, for all $j$th coefficients. However, we can change the default settings.\n",
    "\n",
    "The `p.value` is interpreted as the probability, under $H_0$, that the test statistic is equal more extreme than the value observed in our sample (given in the column `statistic` of `SLR_cancer_sample250_results`). "
   ]
  },
  {
   "cell_type": "markdown",
   "metadata": {
    "deletable": false,
    "editable": false,
    "nbgrader": {
     "cell_type": "markdown",
     "checksum": "ddaf5593ae8e1f3446c32135ccb89187",
     "grade": false,
     "grade_id": "cell-aceb18fffce6f3bd",
     "locked": true,
     "schema_version": 3,
     "solution": false,
     "task": false
    }
   },
   "source": [
    "**Question 5.3**\n",
    "\n",
    "Which of the following statement is correct??\n",
    "\n",
    "A. The p-value is not the probability that the null hypothesis is true\n",
    "\n",
    "B. The p-value is the probability that the alternative hypothesis is false\n",
    "\n",
    "C. The p-value indicates the size or importance of the observed effect\n",
    "\n",
    "D. The p-value is the probability that the observed effects were produced by random chance alone.\n",
    "\n",
    "*Assign your answer to an object called `answer5.3`. Your answer should be one of `\"A\"`, `\"B\"`, `\"C\"`, or `\"D\"` surrounded by quotes.*"
   ]
  },
  {
   "cell_type": "code",
   "execution_count": null,
   "metadata": {
    "deletable": false,
    "nbgrader": {
     "cell_type": "code",
     "checksum": "5fa8e6a3b98463b88f31693185ebf723",
     "grade": false,
     "grade_id": "cell-8f6efb5c992214ae",
     "locked": false,
     "schema_version": 3,
     "solution": true,
     "task": false
    },
    "tags": []
   },
   "outputs": [],
   "source": [
    "# answer5.3 <- \n",
    "\n",
    "# your code here\n",
    "fail() # No Answer - remove if you provide an answer"
   ]
  },
  {
   "cell_type": "code",
   "execution_count": null,
   "metadata": {
    "deletable": false,
    "editable": false,
    "nbgrader": {
     "cell_type": "code",
     "checksum": "00b10a9dcf422c8a5fa7d437bf078029",
     "grade": true,
     "grade_id": "cell-2cbff06858dd9fe1",
     "locked": true,
     "points": 1,
     "schema_version": 3,
     "solution": false,
     "task": false
    },
    "tags": []
   },
   "outputs": [],
   "source": [
    "test_5.3()"
   ]
  },
  {
   "cell_type": "markdown",
   "metadata": {
    "deletable": false,
    "editable": false,
    "nbgrader": {
     "cell_type": "markdown",
     "checksum": "d5f18cf523a15b9a45aac57911795434",
     "grade": false,
     "grade_id": "cell-2427447083645e6e",
     "locked": true,
     "schema_version": 3,
     "solution": false,
     "task": false
    }
   },
   "source": [
    "### 5.4 Decision rule\n",
    "\n",
    "The smaller the $p$-value, the stronger the evidence against $H_0$. Thus, small $p$-values (less than the significance level $\\alpha$) indicate that the data provides enough statistical evidence against the null hypothesis of no association (i.e., to reject $H_0$).\n",
    "\n",
    "> **Heads up**: in the last years, the scientific community has identified the \"crisis of p-values\". If you are interested in this topic you can read more about it in [this article](https://www.nature.com/articles/d41586-019-00857-9) and in the [ASA statement](https://www.stat.berkeley.edu/~aldous/Real_World/ASA_statement.pdf)."
   ]
  },
  {
   "cell_type": "markdown",
   "metadata": {
    "deletable": false,
    "editable": false,
    "nbgrader": {
     "cell_type": "markdown",
     "checksum": "25fbd53b7c2e40177eed2a6cec151a6d",
     "grade": false,
     "grade_id": "cell-3c6059e23bc9f677",
     "locked": true,
     "schema_version": 3,
     "solution": false,
     "task": false
    }
   },
   "source": [
    "**Question 5.4**\n",
    "<br>{points: 1}\n",
    "\n",
    "Using the output stored in `SLR_cancer_sample250_results` and a significance level $\\alpha = 0.05$, in plain words, what is the conclusion of the following hypothesis test?\n",
    "\n",
    "$H_0: \\beta_1 = 0 $\n",
    "\n",
    "$H_1: \\beta_1 \\neq 0 $\n",
    "\n",
    "A. We accept the alternative hypothesis; thus, the percentage of the county's populace in poverty has a statistically significant effect on the county's cancer mortality per capita (cases/100,000).\n",
    "\n",
    "B. We reject the null hypothesis; thus, the percentage of the county's populace in poverty is statistically associated with the county's cancer mortality per capita (cases/100,000).\n",
    "\n",
    "C. We fail to reject the null hypothesis; thus, the percentage of the county's populace in poverty is not statistically associated with the county's cancer mortality per capita (cases/100,000).\n",
    "\n",
    "*Assign your answer to an object called `answer5.4`. Your answer should be one of `\"A\"`, `\"B\"`, or `\"C\"` surrounded by quotes.*"
   ]
  },
  {
   "cell_type": "code",
   "execution_count": null,
   "metadata": {
    "deletable": false,
    "nbgrader": {
     "cell_type": "code",
     "checksum": "7a3e3ce3002777d2e77185fce447146d",
     "grade": false,
     "grade_id": "cell-82d0f59970d0e80b",
     "locked": false,
     "schema_version": 3,
     "solution": true,
     "task": false
    }
   },
   "outputs": [],
   "source": [
    "# answer5.4 <- \n",
    "\n",
    "# your code here\n",
    "fail() # No Answer - remove if you provide an answer"
   ]
  },
  {
   "cell_type": "code",
   "execution_count": null,
   "metadata": {
    "deletable": false,
    "editable": false,
    "nbgrader": {
     "cell_type": "code",
     "checksum": "15a53f5140ec0c579bf954258317e635",
     "grade": true,
     "grade_id": "cell-f9f55247b699d582",
     "locked": true,
     "points": 1,
     "schema_version": 3,
     "solution": false,
     "task": false
    }
   },
   "outputs": [],
   "source": [
    "test_5.4()"
   ]
  },
  {
   "cell_type": "markdown",
   "metadata": {
    "deletable": false,
    "editable": false,
    "nbgrader": {
     "cell_type": "markdown",
     "checksum": "15c0c4686fde7b723a9f0768cbf28279",
     "grade": false,
     "grade_id": "cell-686562cd18489a63",
     "locked": true,
     "schema_version": 3,
     "solution": false,
     "task": false
    }
   },
   "source": [
    "### 6. Confidence Intervals\n",
    "\n",
    "The values in `SLR_cancer_sample250_results` can also be used to compute confidence intervals for the regression parameters. \n",
    "\n",
    "> Remember that a 95% CI computed from the data is not a range of values that contain the true regression parameter with 95% probability. Once the interval has been computed based on the data, *nothing is random*! So it either covers or does not the true value. "
   ]
  },
  {
   "cell_type": "markdown",
   "metadata": {
    "deletable": false,
    "editable": false,
    "nbgrader": {
     "cell_type": "markdown",
     "checksum": "05f9b5ca7e9f8400eb93873ecc74fbb6",
     "grade": false,
     "grade_id": "cell-f2039776b449200a",
     "locked": true,
     "schema_version": 3,
     "solution": false,
     "task": false
    }
   },
   "source": [
    "**Question 6.0**\n",
    "<br>{points: 1}\n",
    "\n",
    "Using `SLR_cancer_sample250` via `tidy()`, obtain the asymptotic 95% CIs for each regression parameters.\n",
    "\n",
    "*Fill out those parts indicated with `...`, uncomment the corresponding code in the cell below, and run it.*"
   ]
  },
  {
   "cell_type": "code",
   "execution_count": null,
   "metadata": {
    "deletable": false,
    "nbgrader": {
     "cell_type": "code",
     "checksum": "e5be3e76bdf27223b33f880d8dcf7d63",
     "grade": false,
     "grade_id": "cell-0468635376dc8c51",
     "locked": false,
     "schema_version": 3,
     "solution": true,
     "task": false
    },
    "tags": []
   },
   "outputs": [],
   "source": [
    "# SLR_cancer_sample250_CIs <- \n",
    "#    ... %>%\n",
    "#    ...(conf.int = ...) %>% \n",
    "#    mutate_if(is.numeric, round, 2)\n",
    "\n",
    "# your code here\n",
    "fail() # No Answer - remove if you provide an answer\n",
    "\n",
    "SLR_cancer_sample250_CIs"
   ]
  },
  {
   "cell_type": "code",
   "execution_count": null,
   "metadata": {
    "deletable": false,
    "editable": false,
    "nbgrader": {
     "cell_type": "code",
     "checksum": "4d689653c19ec74cf2f9ce35f4b492a2",
     "grade": true,
     "grade_id": "cell-5fb8e28b96479507",
     "locked": true,
     "points": 1,
     "schema_version": 3,
     "solution": false,
     "task": false
    },
    "tags": []
   },
   "outputs": [],
   "source": [
    "test_6.0()"
   ]
  },
  {
   "cell_type": "markdown",
   "metadata": {
    "deletable": false,
    "editable": false,
    "nbgrader": {
     "cell_type": "markdown",
     "checksum": "f750a76ee0a72e4c3169633404d70993",
     "grade": false,
     "grade_id": "cell-757d9c75042a3693",
     "locked": true,
     "schema_version": 3,
     "solution": false,
     "task": false
    }
   },
   "source": [
    "### 7. The Sampling Distribution\n",
    "\n",
    "We mentioned before that the estimators of the regression coefficient, $\\hat{\\beta}_0$ and $\\hat{\\beta}_1$, are *random variables*. Hence, they also have a *sampling distribution* (same as in STAT 201!). We need this distribution for confidence intervals and hypothesis testing.\n",
    "\n",
    "The `lm` function will rely on the mathematical approximations. In this section, we will explore an alternative approach that you are familiar with: bootstrapping.  "
   ]
  },
  {
   "cell_type": "markdown",
   "metadata": {
    "deletable": false,
    "editable": false,
    "nbgrader": {
     "cell_type": "markdown",
     "checksum": "5ab717a06467535003307724716c09a3",
     "grade": false,
     "grade_id": "cell-445f38e1a47dfe51",
     "locked": true,
     "schema_version": 3,
     "solution": false,
     "task": false
    }
   },
   "source": [
    "> In Statistics, bootstrapping refers to sampling from our original sample with replacement to generate a *bootstrap sampling distribution*. The idea is to use the original sample as an *estimate* of the unknown population. "
   ]
  },
  {
   "cell_type": "markdown",
   "metadata": {
    "deletable": false,
    "editable": false,
    "nbgrader": {
     "cell_type": "markdown",
     "checksum": "e07aa44d2461573002f0b6372e9dfd7c",
     "grade": false,
     "grade_id": "cell-6f316bcec0b455d7",
     "locked": true,
     "schema_version": 3,
     "solution": false,
     "task": false
    }
   },
   "source": [
    "Using *bootstrapping*, we generate a *long* list of estimates to *empirically* approximate the sampling distribution. The steps are as follows: \n",
    "\n",
    "- sample with replacement to obtain $B$ samples with size $n$;\n",
    "\n",
    "- for each sample, compute the estimated regression coefficients;\n",
    "\n",
    "- use the $B$ regression estimates of a given population parameter to calculate the sampling distribution of its estimator\n",
    "(note: this list can also be used to estimate the mean and the standard error of the estimator)."
   ]
  },
  {
   "cell_type": "markdown",
   "metadata": {
    "deletable": false,
    "editable": false,
    "nbgrader": {
     "cell_type": "markdown",
     "checksum": "f450eabf4143d8dcf1a5df3c752eedfb",
     "grade": false,
     "grade_id": "cell-3dd94e05c39bfb81",
     "locked": true,
     "schema_version": 3,
     "solution": false,
     "task": false
    },
    "tags": []
   },
   "source": [
    "#### 7.1 Bootstrap estimates\n",
    "\n",
    "Let's generate a bootstrap list of estimates from `US_cancer_sample250`."
   ]
  },
  {
   "cell_type": "markdown",
   "metadata": {
    "deletable": false,
    "editable": false,
    "nbgrader": {
     "cell_type": "markdown",
     "checksum": "58c7550316f8ad6a30023aaeb13a776f",
     "grade": false,
     "grade_id": "cell-d57a445477211915",
     "locked": true,
     "schema_version": 3,
     "solution": false,
     "task": false
    }
   },
   "source": [
    "**Question 7.1.0**\n",
    "<br>{points: 1}\n",
    "\n",
    "Let's approximate the bootstrapping sampling distribution using `US_cancer_sample250`. \n",
    "\n",
    "Obtain $B = 1000$ sets of regression estimates by fitting a SLR $B$ times using their respective boostrap sample. Store the corresponding bootstrap estimates in the data frame `lm_boot250` of 1000 rows and two columns:\n",
    "\n",
    "- `boot_intercept`: list of bootstrap intercepts\n",
    "- `boot_slope`: list of bootstrap slopes \n",
    "\n",
    "*Fill out those parts indicated with `...`, uncomment the corresponding code in the cell below, and run it.*"
   ]
  },
  {
   "cell_type": "code",
   "execution_count": null,
   "metadata": {
    "deletable": false,
    "nbgrader": {
     "cell_type": "code",
     "checksum": "38d0129fdb358cf0e34b3799a0cced06",
     "grade": false,
     "grade_id": "cell-6f2151f404bba317",
     "locked": false,
     "schema_version": 3,
     "solution": true,
     "task": false
    },
    "tags": []
   },
   "outputs": [],
   "source": [
    "set.seed(123)  # DO NOT CHANGE!\n",
    "\n",
    "# n <- ...\n",
    "# B <- ...\n",
    "\n",
    "# lm_boot250 <- replicate(..., {\n",
    "#   sample_n(..., ..., ...) %>%\n",
    "#     lm(..., data = .) %>%\n",
    "#     .$coef\n",
    "# })\n",
    "# lm_boot250 <- data.frame(boot_intercept = lm_boot250[1, ], boot_slope = lm_boot250[2, ])\n",
    "\n",
    "# your code here\n",
    "fail() # No Answer - remove if you provide an answer\n",
    "\n",
    "tail(lm_boot250)    "
   ]
  },
  {
   "cell_type": "code",
   "execution_count": null,
   "metadata": {
    "deletable": false,
    "editable": false,
    "nbgrader": {
     "cell_type": "code",
     "checksum": "d51ec5c3513ad950d6a3d1709217f0bf",
     "grade": true,
     "grade_id": "cell-13b76464c3364af8",
     "locked": true,
     "points": 1,
     "schema_version": 3,
     "solution": false,
     "task": false
    },
    "tags": []
   },
   "outputs": [],
   "source": [
    "test_7.1.0()"
   ]
  },
  {
   "cell_type": "markdown",
   "metadata": {
    "deletable": false,
    "editable": false,
    "nbgrader": {
     "cell_type": "markdown",
     "checksum": "2be422dea994368a8d9efeea6d4f1332",
     "grade": false,
     "grade_id": "cell-02d8481cfbb57f95",
     "locked": true,
     "schema_version": 3,
     "solution": false,
     "task": false
    },
    "tags": []
   },
   "source": [
    "##### Using `infer`\n",
    "\n",
    "The `infer` package can also help us generate bootstrap estimates of the regression coefficients. As an example, let's get the list of the slope of the SLR."
   ]
  },
  {
   "cell_type": "markdown",
   "metadata": {
    "deletable": false,
    "editable": false,
    "nbgrader": {
     "cell_type": "markdown",
     "checksum": "3c1c20009911c6aee7ddf0cec2c4e2a9",
     "grade": false,
     "grade_id": "cell-2d1e3e7a9b0f5a20",
     "locked": true,
     "schema_version": 3,
     "solution": false,
     "task": false
    },
    "tags": []
   },
   "source": [
    "**Question 7.1.1**\n",
    "<br>{points: 1}\n",
    "\n",
    "Use the package `infer` to generate bootstrap samples from `US_cancer_sample250` and estimate the slope of the SLR for each bootstrap sample.\n",
    "\n",
    "Obtain $B = 1000$ sets of regression estimates by fitting an SLR $B$ times using their respective bootstrap sample. Store the results in an object called `bootstrap_slope_infer`. \n",
    "\n",
    "The resulting object should have 1000 rows and two columns:\n",
    "\n",
    "- `replicate`: a numeric ID to identify the bootstrap sample and estimate\n",
    "- `stat`: the bootstrap slope estimated from the corresponding bootstrap sample\n",
    "\n",
    "*Fill out those parts indicated with `...`, uncomment the corresponding code in the cell below, and run it.*"
   ]
  },
  {
   "cell_type": "code",
   "execution_count": null,
   "metadata": {
    "deletable": false,
    "nbgrader": {
     "cell_type": "code",
     "checksum": "0812b6522142e1b737a8e67b7b7e1f8b",
     "grade": false,
     "grade_id": "cell-509840208b086dee",
     "locked": false,
     "schema_version": 3,
     "solution": true,
     "task": false
    },
    "tags": []
   },
   "outputs": [],
   "source": [
    "set.seed(123)  # DO NOT CHANGE!\n",
    "\n",
    "# bootstrap_slope_infer <- \n",
    "#   ... %>% \n",
    "#   specify(formula = ... ~ ...) %>%\n",
    "#   generate(reps = ..., type = \"bootstrap\") %>% \n",
    "#   calculate(stat = \"slope\")\n",
    "\n",
    "# your code here\n",
    "fail() # No Answer - remove if you provide an answer\n",
    "\n",
    "head(bootstrap_slope_infer)"
   ]
  },
  {
   "cell_type": "markdown",
   "metadata": {
    "deletable": false,
    "editable": false,
    "nbgrader": {
     "cell_type": "markdown",
     "checksum": "62d40c2c4189818598763841b7b64f3e",
     "grade": false,
     "grade_id": "cell-eb44619c08f82263",
     "locked": true,
     "schema_version": 3,
     "solution": false,
     "task": false
    },
    "tags": []
   },
   "source": [
    "Note: Each method uses different functions to generate bootstrap samples, so even if we use the same seeds, you don't get exactly the same samples and estimates."
   ]
  },
  {
   "cell_type": "code",
   "execution_count": null,
   "metadata": {
    "deletable": false,
    "editable": false,
    "nbgrader": {
     "cell_type": "code",
     "checksum": "94049c78ca151f1c2fe06bc6c8d4a330",
     "grade": true,
     "grade_id": "cell-2b71a7f905dd38a3",
     "locked": true,
     "points": 1,
     "schema_version": 3,
     "solution": false,
     "task": false
    },
    "tags": []
   },
   "outputs": [],
   "source": [
    "test_7.1.1()"
   ]
  },
  {
   "cell_type": "markdown",
   "metadata": {
    "deletable": false,
    "editable": false,
    "nbgrader": {
     "cell_type": "markdown",
     "checksum": "a4031a1a9edf5f832360f5371fba8371",
     "grade": false,
     "grade_id": "cell-7ba7a6a784df3e04",
     "locked": true,
     "schema_version": 3,
     "solution": false,
     "task": false
    },
    "tags": []
   },
   "source": [
    "#### 7.2 Bootstrap sampling distribution\n",
    "\n",
    "Let's approximate the sampling distribution of the regression estimators in our problem using the list of bootstrap estimates generated from `US_cancer_sample250`."
   ]
  },
  {
   "cell_type": "markdown",
   "metadata": {
    "deletable": false,
    "editable": false,
    "nbgrader": {
     "cell_type": "markdown",
     "checksum": "441ae955383034a098a41b1cea5715a4",
     "grade": false,
     "grade_id": "cell-551d6111e2c02e14",
     "locked": true,
     "schema_version": 3,
     "solution": false,
     "task": false
    }
   },
   "source": [
    "**Question 7.2.0**\n",
    "<br>{points: 1}\n",
    "\n",
    "Now that we have a list of bootstrap estimates, we can visualize sampling distribution!\n",
    "\n",
    "Let's focus on the slope's sampling distribution. Use the list of bootstrapped estimates of the slopes stored in `lm_boot250` to plot the sampling distribution of the least square estimator of the slope.\n",
    "\n",
    "Name the `ggplot()` object as `slope_sampling_dist_250`.\n",
    "\n",
    "\n",
    "*Fill out those parts indicated with `...`, uncomment the corresponding code in the cell below, and run it.*"
   ]
  },
  {
   "cell_type": "code",
   "execution_count": null,
   "metadata": {
    "deletable": false,
    "nbgrader": {
     "cell_type": "code",
     "checksum": "2e6d6ccaf6db6f2e3a5693ab7548ac07",
     "grade": false,
     "grade_id": "cell-7e48d70a5fd7e6ba",
     "locked": false,
     "schema_version": 3,
     "solution": true,
     "task": false
    },
    "tags": []
   },
   "outputs": [],
   "source": [
    "#slope_sampling_dist_250 <-  \n",
    "#    lm_boot250 %>%\n",
    "#    ggplot(..., aes(x = ...)) +\n",
    "#    geom_histogram(bins = 30, color = \"white\", fill = \"blue\") +\n",
    "#    xlab(\"...\") +\n",
    "#    ggtitle(\"Bootstrap sampling distribution for the estimator of the slope, n=250\") +\n",
    "#    coord_cartesian(xlim = c(0, 3))\n",
    "\n",
    "# your code here\n",
    "fail() # No Answer - remove if you provide an answer\n",
    "\n",
    "slope_sampling_dist_250 "
   ]
  },
  {
   "cell_type": "code",
   "execution_count": null,
   "metadata": {
    "deletable": false,
    "editable": false,
    "nbgrader": {
     "cell_type": "code",
     "checksum": "8c83ba36ef90d11a23def9e22b99ad00",
     "grade": true,
     "grade_id": "cell-52143fa0beedf514",
     "locked": true,
     "points": 1,
     "schema_version": 3,
     "solution": false,
     "task": false
    },
    "tags": []
   },
   "outputs": [],
   "source": [
    "test_7.2.0()"
   ]
  },
  {
   "cell_type": "markdown",
   "metadata": {
    "deletable": false,
    "editable": false,
    "nbgrader": {
     "cell_type": "markdown",
     "checksum": "7ee1d07d8d6bb376efea3e503c7f6496",
     "grade": false,
     "grade_id": "cell-ce690379019a47b5",
     "locked": true,
     "schema_version": 3,
     "solution": false,
     "task": false
    },
    "tags": []
   },
   "source": [
    "##### With `infer`\n",
    "\n",
    "You can also use the package `infer` to visualize the distribution of the bootstrap estimates generated. Check how similar both plots are!!"
   ]
  },
  {
   "cell_type": "code",
   "execution_count": null,
   "metadata": {
    "deletable": false,
    "editable": false,
    "nbgrader": {
     "cell_type": "code",
     "checksum": "d6b9443f413d116ea90375ba3453b178",
     "grade": false,
     "grade_id": "cell-4c22b93a3fb803cc",
     "locked": true,
     "schema_version": 3,
     "solution": false,
     "task": false
    },
    "tags": []
   },
   "outputs": [],
   "source": [
    "#run this cell\n",
    "bootstrap_slope_infer %>%\n",
    "    visualize(bin=30)"
   ]
  },
  {
   "cell_type": "markdown",
   "metadata": {
    "deletable": false,
    "editable": false,
    "nbgrader": {
     "cell_type": "markdown",
     "checksum": "14fc0908e929ec8433c8c33101da6415",
     "grade": false,
     "grade_id": "cell-50ed6b45bdefbbcc",
     "locked": true,
     "schema_version": 3,
     "solution": false,
     "task": false
    }
   },
   "source": [
    "#### Does the sample size matter?\n",
    "\n",
    "Our estimator depends on a random sample and, thus, on its size! What happens to the estimates and the sampling distribution when we change the sample size?\n",
    "\n",
    "Let's approximate the sampling distribution of estimators computed from samples of different sizes."
   ]
  },
  {
   "cell_type": "markdown",
   "metadata": {
    "deletable": false,
    "editable": false,
    "nbgrader": {
     "cell_type": "markdown",
     "checksum": "b0473d36b8e8b0a6ae5bf1a6d8bb2a89",
     "grade": false,
     "grade_id": "cell-4222768aa1dba6ad",
     "locked": true,
     "schema_version": 3,
     "solution": false,
     "task": false
    }
   },
   "source": [
    "**Question 7.2.1**\n",
    "<br>{points: 2}\n",
    "\n",
    "We will now work with a sample of size $n=500$, stored in `US_cancer_sample500`.\n",
    "Your job is to:\n",
    "\n",
    "1. repeat the bootstrapping experiment above using the `infer` package. \n",
    "\n",
    "2. plot the sampling distribution\n",
    "\n",
    "The `ggplot()` object's name will be `slope_sampling_dist_500`\n",
    "\n",
    "*Fill out those parts indicated with `...`, uncomment the corresponding code in the cell below, and run it.*"
   ]
  },
  {
   "cell_type": "code",
   "execution_count": null,
   "metadata": {
    "deletable": false,
    "nbgrader": {
     "cell_type": "code",
     "checksum": "9fb85184d48266e07dce48872cca784b",
     "grade": false,
     "grade_id": "cell-5e67e1eed426b7b9",
     "locked": false,
     "schema_version": 3,
     "solution": true,
     "task": false
    },
    "tags": []
   },
   "outputs": [],
   "source": [
    "set.seed(123)  # DO NOT CHANGE!\n",
    "\n",
    "US_cancer_sample500 <-     # DO NOT CHANGE!\n",
    "    US_cancer_data %>%     # DO NOT CHANGE!\n",
    "    slice_sample(n = 500)  # DO NOT CHANGE!\n",
    "\n",
    "# B <- ...\n",
    "\n",
    "# slope_sampling_dist_500 <- \n",
    "#    US_cancer_sample500 %>% \n",
    "#    ...(formula = ...) %>%\n",
    "#    ...(reps = ..., type = ...) %>% \n",
    "#    ...(stat = ...) %>%\n",
    "#    ...() + \n",
    "#    xlab(\"Estimated Slope\") +\n",
    "#    ggtitle(\"Bootstrap sampling distribution for the estimator of the slope, n=500\") +\n",
    "#    coord_cartesian(xlim = c(0, 3))\n",
    "\n",
    "\n",
    "\n",
    "# your code here\n",
    "fail() # No Answer - remove if you provide an answer\n",
    "\n",
    "slope_sampling_dist_500 \n"
   ]
  },
  {
   "cell_type": "code",
   "execution_count": null,
   "metadata": {
    "deletable": false,
    "editable": false,
    "nbgrader": {
     "cell_type": "code",
     "checksum": "402527823371026dd505a9512683e0e5",
     "grade": true,
     "grade_id": "cell-8bf369dbf7a904aa",
     "locked": true,
     "points": 1,
     "schema_version": 3,
     "solution": false,
     "task": false
    },
    "tags": []
   },
   "outputs": [],
   "source": [
    "test_7.2.1()"
   ]
  },
  {
   "cell_type": "markdown",
   "metadata": {
    "deletable": false,
    "editable": false,
    "nbgrader": {
     "cell_type": "markdown",
     "checksum": "77da146b3d1e80ab081cd8a6fd353aa4",
     "grade": false,
     "grade_id": "cell-181f6cd34bc0fc7c",
     "locked": true,
     "schema_version": 3,
     "solution": false,
     "task": false
    }
   },
   "source": [
    "**Question 7.2.2**\n",
    "<br>{points: 1}\n",
    "\n",
    "We will now work with a sample of size $n=1500$, stored in `US_cancer_sample1500`.\n",
    "Once again, your job is to:\n",
    "\n",
    "1. repeat the bootstrapping experiment above using the *infer* package; \n",
    "\n",
    "2. plot the sampling distribution\n",
    "\n",
    "The `ggplot()` object's name will be `slope_sampling_dist_1500`\n",
    "\n",
    "*Fill out those parts indicated with `...`, uncomment the corresponding code in the cell below, and run it.*"
   ]
  },
  {
   "cell_type": "code",
   "execution_count": null,
   "metadata": {
    "deletable": false,
    "nbgrader": {
     "cell_type": "code",
     "checksum": "9c2ef1e6e8f4891338c481c6f30c6633",
     "grade": false,
     "grade_id": "cell-3277df29e2a26547",
     "locked": false,
     "schema_version": 3,
     "solution": true,
     "task": false
    },
    "tags": []
   },
   "outputs": [],
   "source": [
    "set.seed(123)  # DO NOT CHANGE!\n",
    "\n",
    "US_cancer_sample1500 <-     # DO NOT CHANGE!\n",
    "    US_cancer_data %>%      # DO NOT CHANGE!\n",
    "    slice_sample(n = 1500)  # DO NOT CHANGE!\n",
    "\n",
    "# B <- ...\n",
    "\n",
    "# slope_sampling_dist_1500 <- \n",
    "#    US_cancer_sample1500 %>% \n",
    "#    ...(formula = ...) %>%\n",
    "#    ...(reps = ..., type = ...) %>% \n",
    "#    ...(stat = ...) %>%\n",
    "#    ...() + \n",
    "#    xlab(\"Estimated Slope\") +\n",
    "#    ggtitle(\"Bootstrap sampling distribution for the estimator of the slope, n=1500\")+\n",
    "#    coord_cartesian(xlim = c(0, 3))\n",
    "\n",
    "\n",
    "\n",
    "# your code here\n",
    "fail() # No Answer - remove if you provide an answer\n",
    "\n",
    "slope_sampling_dist_1500 "
   ]
  },
  {
   "cell_type": "code",
   "execution_count": null,
   "metadata": {
    "deletable": false,
    "editable": false,
    "nbgrader": {
     "cell_type": "code",
     "checksum": "be3371ea19fdaf6f530d4fe20265ac35",
     "grade": true,
     "grade_id": "cell-9eacf9d8f5f16848",
     "locked": true,
     "points": 1,
     "schema_version": 3,
     "solution": false,
     "task": false
    },
    "tags": []
   },
   "outputs": [],
   "source": [
    "test_7.2.2()"
   ]
  },
  {
   "cell_type": "markdown",
   "metadata": {
    "deletable": false,
    "editable": false,
    "nbgrader": {
     "cell_type": "markdown",
     "checksum": "fe270f76eeed88c50e728900935f1695",
     "grade": false,
     "grade_id": "cell-b6e751621f62bdc3",
     "locked": true,
     "schema_version": 3,
     "solution": false,
     "task": false
    }
   },
   "source": [
    "Looking at the 3 sampling distributions obtained by bootstrapping from samples of different sizes, side-by-side"
   ]
  },
  {
   "cell_type": "code",
   "execution_count": null,
   "metadata": {
    "deletable": false,
    "editable": false,
    "nbgrader": {
     "cell_type": "code",
     "checksum": "08a47b1eede2bccf4bf34234db965946",
     "grade": false,
     "grade_id": "cell-9db0f9c688ac0211",
     "locked": true,
     "schema_version": 3,
     "solution": false,
     "task": false
    },
    "tags": []
   },
   "outputs": [],
   "source": [
    "#run this cell\n",
    "\n",
    "plot_grid(slope_sampling_dist_250 , slope_sampling_dist_500 ,slope_sampling_dist_1500, ncol=1 )"
   ]
  },
  {
   "cell_type": "markdown",
   "metadata": {
    "deletable": false,
    "editable": false,
    "nbgrader": {
     "cell_type": "markdown",
     "checksum": "b5c28efa743255d63024ea2d565e4a64",
     "grade": false,
     "grade_id": "cell-d924b53e12f0f3e8",
     "locked": true,
     "schema_version": 3,
     "solution": false,
     "task": false
    }
   },
   "source": [
    "**Question 7.2.3**\n",
    "<br>{points: 1}\n",
    "\n",
    "Which of the following observations about the *bootstrap* sampling distribution is true?\n",
    "\n",
    "A. The bootstrap sampling distribution of the estimator of the slope does not change with the size of the sample we bootstrapped from\n",
    "\n",
    "B. The center of bootstrap sampling distribution of the estimator of the slope does not change with the size of the sample we bootstrapped from\n",
    "\n",
    "C. The bootstrap sampling distribution of the estimator of the slope becomes tighter as the size of the sample we bootstrapped from increases\n",
    "\n",
    "\n",
    "*Assign your answer to an object called `answer7.2.3`. Your answer should be one of `\"A\"`, `\"B\"`, or `\"C\"` surrounded by quotes.*"
   ]
  },
  {
   "cell_type": "code",
   "execution_count": null,
   "metadata": {
    "deletable": false,
    "nbgrader": {
     "cell_type": "code",
     "checksum": "322fbf8eaeab05d650e9c228b105f3c9",
     "grade": false,
     "grade_id": "cell-663ee2b25173845e",
     "locked": false,
     "schema_version": 3,
     "solution": true,
     "task": false
    },
    "tags": []
   },
   "outputs": [],
   "source": [
    "# answer7.2.3 <- \n",
    "\n",
    "# your code here\n",
    "fail() # No Answer - remove if you provide an answer"
   ]
  },
  {
   "cell_type": "code",
   "execution_count": null,
   "metadata": {
    "deletable": false,
    "editable": false,
    "nbgrader": {
     "cell_type": "code",
     "checksum": "ea5cdab4cdecacf1450a52f181422022",
     "grade": true,
     "grade_id": "cell-2f4bff560ebf9499",
     "locked": true,
     "points": 1,
     "schema_version": 3,
     "solution": false,
     "task": false
    },
    "tags": []
   },
   "outputs": [],
   "source": [
    "test_7.2.3()"
   ]
  },
  {
   "cell_type": "markdown",
   "metadata": {
    "deletable": false,
    "editable": false,
    "nbgrader": {
     "cell_type": "markdown",
     "checksum": "e43f5845bba7c7946a8c35236a2b578a",
     "grade": false,
     "grade_id": "cell-255147851923a584",
     "locked": true,
     "schema_version": 3,
     "solution": false,
     "task": false
    }
   },
   "source": [
    "#### 7.3 Bootstrap Confidence Intervals\n",
    "\n",
    "In this exercise, we use the bootstrapping sampling distribution to compute *bootstrap percentile* CIs of regression parameters.\n",
    "\n",
    "This empirical sampling distribution can be used to make inferences, for example, to construct CIs (also done in STAT 201). We will use the percentile method to obtain CIs from the list of bootstrap estimates."
   ]
  },
  {
   "cell_type": "markdown",
   "metadata": {
    "deletable": false,
    "editable": false,
    "nbgrader": {
     "cell_type": "markdown",
     "checksum": "ee7b02c372e0e12c4ebc18a6464365d3",
     "grade": false,
     "grade_id": "cell-9e63ef9fff646bef",
     "locked": true,
     "schema_version": 3,
     "solution": false,
     "task": false
    }
   },
   "source": [
    "**Question 7.3**\n",
    "<br>{points: 1}\n",
    "\n",
    "Using the $ B$ bootstrap samples generated for a 250-sample size, stored in' lm_boot250', obtain a 95% confidence interval for the intercept and slope. The output must be a data frame with four columns: `statistic,` `avg,` `lower_ci,` and `upper_ci.`\n",
    "\n",
    "*Fill out those parts indicated with `...`, uncomment the corresponding code in the cell below, and run it.*"
   ]
  },
  {
   "cell_type": "code",
   "execution_count": null,
   "metadata": {
    "deletable": false,
    "nbgrader": {
     "cell_type": "code",
     "checksum": "4c22c6e2984becb182334dde778c1f47",
     "grade": false,
     "grade_id": "cell-a482050162452f49",
     "locked": false,
     "schema_version": 3,
     "solution": true,
     "task": false
    },
    "tags": []
   },
   "outputs": [],
   "source": [
    "# boot_SLR_CIs <-\n",
    "#     lm_boot250 %>%\n",
    "#     pivot_longer(cols = contains('boot'), names_prefix = 'boot_', names_to = 'statistic') %>%\n",
    "#     group_by(...) %>%\n",
    "#     summarise(...)\n",
    "\n",
    "\n",
    "# your code here\n",
    "fail() # No Answer - remove if you provide an answer\n",
    "\n",
    "boot_SLR_CIs"
   ]
  },
  {
   "cell_type": "code",
   "execution_count": null,
   "metadata": {
    "deletable": false,
    "editable": false,
    "nbgrader": {
     "cell_type": "code",
     "checksum": "73d1c353bd941165f36abd9eeac785ab",
     "grade": true,
     "grade_id": "cell-ef0c4b63ae9bcccb",
     "locked": true,
     "points": 1,
     "schema_version": 3,
     "solution": false,
     "task": false
    },
    "tags": []
   },
   "outputs": [],
   "source": [
    "test_7.3()"
   ]
  },
  {
   "cell_type": "markdown",
   "metadata": {
    "deletable": false,
    "editable": false,
    "nbgrader": {
     "cell_type": "markdown",
     "checksum": "ac2a126c92707405b8f5b4647b8ed5d8",
     "grade": false,
     "grade_id": "cell-76a07ae1a0fce105",
     "locked": true,
     "schema_version": 3,
     "solution": false,
     "task": false
    },
    "tags": []
   },
   "source": [
    "##### With `infer`"
   ]
  },
  {
   "cell_type": "code",
   "execution_count": null,
   "metadata": {
    "deletable": false,
    "editable": false,
    "nbgrader": {
     "cell_type": "code",
     "checksum": "193a3d36b8d0fd8c5d10c99534e669e7",
     "grade": false,
     "grade_id": "cell-aa2fd985f1e73da9",
     "locked": true,
     "schema_version": 3,
     "solution": false,
     "task": false
    },
    "tags": []
   },
   "outputs": [],
   "source": [
    "#run this cell\n",
    "\n",
    "percentile_ci <- \n",
    "    bootstrap_slope_infer %>% \n",
    "    get_confidence_interval(type = \"percentile\", level = 0.95)\n",
    "\n",
    "percentile_ci"
   ]
  },
  {
   "cell_type": "code",
   "execution_count": null,
   "metadata": {
    "deletable": false,
    "editable": false,
    "nbgrader": {
     "cell_type": "code",
     "checksum": "c86159f3d26cfa8b0db0b18f9ca6d252",
     "grade": false,
     "grade_id": "cell-ef37e444faa69059",
     "locked": true,
     "schema_version": 3,
     "solution": false,
     "task": false
    },
    "tags": []
   },
   "outputs": [],
   "source": [
    "#run this cell\n",
    "\n",
    "bootstrap_slope_infer %>%\n",
    "    visualize(bin=20) + \n",
    "    shade_confidence_interval(endpoints = percentile_ci) "
   ]
  }
 ],
 "metadata": {
  "jupytext": {
   "formats": "ipynb,Rmd"
  },
  "kernelspec": {
   "display_name": "R",
   "language": "R",
   "name": "ir"
  },
  "language_info": {
   "codemirror_mode": "r",
   "file_extension": ".r",
   "mimetype": "text/x-r-source",
   "name": "R",
   "pygments_lexer": "r",
   "version": "4.3.3"
  },
  "latex_envs": {
   "LaTeX_envs_menu_present": true,
   "autoclose": false,
   "autocomplete": true,
   "bibliofile": "biblio.bib",
   "cite_by": "apalike",
   "current_citInitial": 1,
   "eqLabelWithNumbers": true,
   "eqNumInitial": 1,
   "hotkeys": {
    "equation": "Ctrl-E",
    "itemize": "Ctrl-I"
   },
   "labels_anchors": false,
   "latex_user_defs": false,
   "report_style_numbering": false,
   "user_envs_cfg": false
  }
 },
 "nbformat": 4,
 "nbformat_minor": 4
}
