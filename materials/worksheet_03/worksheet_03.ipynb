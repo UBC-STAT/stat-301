{
 "cells": [
  {
   "cell_type": "markdown",
   "metadata": {
    "deletable": false,
    "editable": false,
    "nbgrader": {
     "cell_type": "markdown",
     "checksum": "dc855c508ad472b1f6b8bda2a8add82c",
     "grade": false,
     "grade_id": "cell-f1e1d845873036f4",
     "locked": true,
     "schema_version": 3,
     "solution": false,
     "task": false
    }
   },
   "source": [
    "# Worksheet 03: Model Asssumptions and Causality"
   ]
  },
  {
   "cell_type": "markdown",
   "metadata": {
    "deletable": false,
    "editable": false,
    "nbgrader": {
     "cell_type": "markdown",
     "checksum": "269780424e0fc2bb3714b131df6e3a00",
     "grade": false,
     "grade_id": "cell-82d9926086d47a80",
     "locked": true,
     "schema_version": 3,
     "solution": false,
     "task": false
    }
   },
   "source": [
    "## Lecture and Tutorial Learning Goals:\n",
    "After completing this week's lecture and tutorial work, you will be able to:\n",
    "\n",
    "1. Describe heteroscedasticity and the problem it presents to generative modelling.\n",
    "2. Write a computer script to assess whether heteroscedasticity is present in a given data set, and if so, use practical solutions to manage it.\n",
    "3. Describe colinearity and the problem it presents to generative modelling.\n",
    "4. Write a computer script to assess whether collinearity exists between input variables in a given data set, and if so, use practical solutions to manage it.\n",
    "5. Discuss why a data scientist may need to consult a domain expert when examining model assumptions.\n",
    "6. Give an example of a real problem that aims to test a causal relationship between variables.\n",
    "7. Give an example of a real problem where the model can only establish an association between the response and the input variables.\n",
    "8. Discuss how the desired goal of generative modelling is usually to make causal claims; however, we cannot often/easily do so (e.g., in particular, in the context of observational studies).\n",
    "9. Discuss the role of confounders in causal inference."
   ]
  },
  {
   "cell_type": "code",
   "execution_count": null,
   "metadata": {
    "deletable": false,
    "editable": false,
    "nbgrader": {
     "cell_type": "code",
     "checksum": "862a53d3ac4d0736ea75647ee19df8a0",
     "grade": false,
     "grade_id": "cell-a2a153352bc44a68",
     "locked": true,
     "schema_version": 3,
     "solution": false,
     "task": false
    },
    "tags": []
   },
   "outputs": [],
   "source": [
    "# Run this cell before continuing.\n",
    "library(tidyverse)\n",
    "library(repr)\n",
    "library(infer)\n",
    "library(cowplot)\n",
    "library(broom)\n",
    "library(faux)\n",
    "source(\"tests_worksheet_03.R\")"
   ]
  },
  {
   "cell_type": "markdown",
   "metadata": {
    "deletable": false,
    "editable": false,
    "nbgrader": {
     "cell_type": "markdown",
     "checksum": "b707f9fb7319543017edea9384fc5dba",
     "grade": false,
     "grade_id": "cell-a7afce7a95d0bf98",
     "locked": true,
     "schema_version": 3,
     "solution": false,
     "task": false
    }
   },
   "source": [
    "## PART I - Model Assumptions"
   ]
  },
  {
   "cell_type": "markdown",
   "metadata": {
    "deletable": false,
    "editable": false,
    "nbgrader": {
     "cell_type": "markdown",
     "checksum": "8d7483b1c393360b5eea042536782ce6",
     "grade": false,
     "grade_id": "cell-fa599c4dd2ab0c31",
     "locked": true,
     "schema_version": 3,
     "solution": false,
     "task": false
    },
    "tags": []
   },
   "source": [
    "When we analyze a dataset to respond to a question of interest, we make several assumptions. However, in practice, many of these assumptions may not be true, posing many problems for our analysis. The most common problems that we may encounter are:\n",
    "\n",
    "1. the relation between the response and the input variable(s) is not linear\n",
    "2. error terms are correlated (not independent as we assumed)\n",
    "3. error terms do not have a common variance (not identically distributed as we assumed)\n",
    "4. error terms are not Normally distributed (not a strong assumption, but convenient)\n",
    "5. (some) input variables are correlated\n",
    "\n",
    "> \"In practice, identifying and overcoming these problems is as much an\n",
    "art as a science\" (from ISL, Section 3.3.3). "
   ]
  },
  {
   "cell_type": "markdown",
   "metadata": {
    "deletable": false,
    "editable": false,
    "nbgrader": {
     "cell_type": "markdown",
     "checksum": "a5138d0b2bafa0af9333b659ac41b63c",
     "grade": false,
     "grade_id": "cell-382d4cff30ea6f88",
     "locked": true,
     "schema_version": 3,
     "solution": false,
     "task": false
    }
   },
   "source": [
    "### 1. Warm Up Questions"
   ]
  },
  {
   "cell_type": "markdown",
   "metadata": {
    "deletable": false,
    "editable": false,
    "nbgrader": {
     "cell_type": "markdown",
     "checksum": "f59c5059d287d95a631338b01ea93603",
     "grade": false,
     "grade_id": "cell-e09a0361f4541bf3",
     "locked": true,
     "schema_version": 3,
     "solution": false,
     "task": false
    }
   },
   "source": [
    "**Question 1.1**\n",
    "<br>{points: 1}\n",
    "\n",
    "True or false?\n",
    "\n",
    "The results of the hypotheses tests given by `lm()` are only valid if we assume that the errors in the linear regression model are (exactly) Normally distributed.\n",
    "\n",
    "*Assign your answer to an object called `answer1.1`. Your answer should be either \"true\" or \"false\", surrounded by quotes.*"
   ]
  },
  {
   "cell_type": "code",
   "execution_count": null,
   "metadata": {
    "deletable": false,
    "nbgrader": {
     "cell_type": "code",
     "checksum": "72e1f9812d2c8ae9f6befa18ba62bf9e",
     "grade": false,
     "grade_id": "cell-44f5390242e66448",
     "locked": false,
     "schema_version": 3,
     "solution": true,
     "task": false
    },
    "tags": []
   },
   "outputs": [],
   "source": [
    "# answer1.1 <- ...\n",
    "\n",
    "# your code here\n",
    "fail() # No Answer - remove if you provide an answer"
   ]
  },
  {
   "cell_type": "code",
   "execution_count": null,
   "metadata": {
    "deletable": false,
    "editable": false,
    "nbgrader": {
     "cell_type": "code",
     "checksum": "ef677d01b8a28c62ca8865971fc84219",
     "grade": true,
     "grade_id": "cell-8fed7ee78a3eb713",
     "locked": true,
     "points": 1,
     "schema_version": 3,
     "solution": false,
     "task": false
    },
    "tags": []
   },
   "outputs": [],
   "source": [
    "test_1.1()"
   ]
  },
  {
   "cell_type": "markdown",
   "metadata": {
    "deletable": false,
    "editable": false,
    "nbgrader": {
     "cell_type": "markdown",
     "checksum": "1733240b8da1560889d743889967981f",
     "grade": false,
     "grade_id": "cell-0cd72706949e2df2",
     "locked": true,
     "schema_version": 3,
     "solution": false,
     "task": false
    }
   },
   "source": [
    "**Question 1.2**\n",
    "<br>{points: 1}\n",
    "\n",
    "True or false?\n",
    "\n",
    "In linear regression, multicollinearity refers to the correlation between each input variable and the response variable.\n",
    "\n",
    "*Assign your answer to an object called `answer1.2`. Your answer should be either \"true\" or \"false\", surrounded by quotes.*"
   ]
  },
  {
   "cell_type": "code",
   "execution_count": null,
   "metadata": {
    "deletable": false,
    "nbgrader": {
     "cell_type": "code",
     "checksum": "7e068c65b003a4402a11e3835d9485c2",
     "grade": false,
     "grade_id": "cell-dcf5e346ae4d23b2",
     "locked": false,
     "schema_version": 3,
     "solution": true,
     "task": false
    },
    "tags": []
   },
   "outputs": [],
   "source": [
    "# answer1.2 <- ...\n",
    "\n",
    "# your code here\n",
    "fail() # No Answer - remove if you provide an answer"
   ]
  },
  {
   "cell_type": "code",
   "execution_count": null,
   "metadata": {
    "deletable": false,
    "editable": false,
    "nbgrader": {
     "cell_type": "code",
     "checksum": "38c9bfbb9000f54bf51e4ca3098d2c69",
     "grade": true,
     "grade_id": "cell-9c7fa20462d3583a",
     "locked": true,
     "points": 1,
     "schema_version": 3,
     "solution": false,
     "task": false
    },
    "tags": []
   },
   "outputs": [],
   "source": [
    "test_1.2()"
   ]
  },
  {
   "cell_type": "markdown",
   "metadata": {
    "deletable": false,
    "editable": false,
    "nbgrader": {
     "cell_type": "markdown",
     "checksum": "7e9e0e0edfe2b1449cb51255d8922c89",
     "grade": false,
     "grade_id": "cell-b081691974727e18",
     "locked": true,
     "schema_version": 3,
     "solution": false,
     "task": false
    }
   },
   "source": [
    "**Question 1.3**\n",
    "<br>{points: 1}\n",
    "\n",
    "True or false?\n",
    "\n",
    "In the presence of multicollinearity in multiple linear regression (MLR), it can be difficult to determine how collinear variables are separately associated with the response.\n",
    "\n",
    "*Assign your answer to an object called `answer1.3`. Your answer should be either \"true\" or \"false\", surrounded by quotes.*"
   ]
  },
  {
   "cell_type": "code",
   "execution_count": null,
   "metadata": {
    "deletable": false,
    "nbgrader": {
     "cell_type": "code",
     "checksum": "ae93575c0096dac56dbc38fc1630d809",
     "grade": false,
     "grade_id": "cell-2e7e71146f6c4cf0",
     "locked": false,
     "schema_version": 3,
     "solution": true,
     "task": false
    },
    "tags": []
   },
   "outputs": [],
   "source": [
    "# answer1.3 <- ...\n",
    "\n",
    "# your code here\n",
    "fail() # No Answer - remove if you provide an answer"
   ]
  },
  {
   "cell_type": "code",
   "execution_count": null,
   "metadata": {
    "deletable": false,
    "editable": false,
    "nbgrader": {
     "cell_type": "code",
     "checksum": "9e0b37b9acc3eb4033227043a72b6c3d",
     "grade": true,
     "grade_id": "cell-3e42935abf1a7270",
     "locked": true,
     "points": 1,
     "schema_version": 3,
     "solution": false,
     "task": false
    },
    "tags": []
   },
   "outputs": [],
   "source": [
    "test_1.3()"
   ]
  },
  {
   "cell_type": "markdown",
   "metadata": {
    "deletable": false,
    "editable": false,
    "nbgrader": {
     "cell_type": "markdown",
     "checksum": "20c99119c82f2feb2f8c20e68bf9551a",
     "grade": false,
     "grade_id": "cell-bfd0d54d4d051503",
     "locked": true,
     "schema_version": 3,
     "solution": false,
     "task": false
    }
   },
   "source": [
    "**Question 1.4**\n",
    "<br>{points: 1}\n",
    "\n",
    "True or false?\n",
    "\n",
    "Multicollinearity inflates the estimates of the standard errors of the least squares (LS) estimators of the regression coefficients.\n",
    "\n",
    "*Assign your answer to an object called `answer1.4`. Your answer should be either \"true\" or \"false\", surrounded by quotes.*"
   ]
  },
  {
   "cell_type": "code",
   "execution_count": null,
   "metadata": {
    "deletable": false,
    "nbgrader": {
     "cell_type": "code",
     "checksum": "3d5814ef6c366a3b35c06e25b7fa80e9",
     "grade": false,
     "grade_id": "cell-77075476489b956d",
     "locked": false,
     "schema_version": 3,
     "solution": true,
     "task": false
    },
    "tags": []
   },
   "outputs": [],
   "source": [
    "# answer1.4 <- ...\n",
    "\n",
    "# your code here\n",
    "fail() # No Answer - remove if you provide an answer"
   ]
  },
  {
   "cell_type": "code",
   "execution_count": null,
   "metadata": {
    "deletable": false,
    "editable": false,
    "nbgrader": {
     "cell_type": "code",
     "checksum": "f283e016fb5bfb61bb1e3ba7fcd6dc51",
     "grade": true,
     "grade_id": "cell-b1048804f31dc9ea",
     "locked": true,
     "points": 1,
     "schema_version": 3,
     "solution": false,
     "task": false
    },
    "tags": []
   },
   "outputs": [],
   "source": [
    "test_1.4()"
   ]
  },
  {
   "cell_type": "markdown",
   "metadata": {
    "deletable": false,
    "editable": false,
    "nbgrader": {
     "cell_type": "markdown",
     "checksum": "c75f56990343bf26ff33ba1dc00d1949",
     "grade": false,
     "grade_id": "cell-9c2b725ee6ef8b19",
     "locked": true,
     "schema_version": 3,
     "solution": false,
     "task": false
    }
   },
   "source": [
    "**Question 1.5**\n",
    "<br>{points: 1}\n",
    "\n",
    "True or false?\n",
    "\n",
    "The assumption that all the error terms have the same variance does not affect the estimator of the standard error of the LS estimators.\n",
    "\n",
    "*Assign your answer to an object called `answer1.5`. Your answer should be either \"true\" or \"false\", surrounded by quotes.*"
   ]
  },
  {
   "cell_type": "code",
   "execution_count": null,
   "metadata": {
    "deletable": false,
    "nbgrader": {
     "cell_type": "code",
     "checksum": "27a858948e265422862427b63a146712",
     "grade": false,
     "grade_id": "cell-71b8eca6f72e054f",
     "locked": false,
     "schema_version": 3,
     "solution": true,
     "task": false
    },
    "tags": []
   },
   "outputs": [],
   "source": [
    "# answer1.5 <- ...\n",
    "\n",
    "# your code here\n",
    "fail() # No Answer - remove if you provide an answer"
   ]
  },
  {
   "cell_type": "code",
   "execution_count": null,
   "metadata": {
    "deletable": false,
    "editable": false,
    "nbgrader": {
     "cell_type": "code",
     "checksum": "f728f1c9afde6acaf0de394ba7f5a824",
     "grade": true,
     "grade_id": "cell-212dc805b92990b7",
     "locked": true,
     "points": 1,
     "schema_version": 3,
     "solution": false,
     "task": false
    },
    "tags": []
   },
   "outputs": [],
   "source": [
    "test_1.5()"
   ]
  },
  {
   "cell_type": "markdown",
   "metadata": {
    "deletable": false,
    "editable": false,
    "nbgrader": {
     "cell_type": "markdown",
     "checksum": "8d5e7f61dfbca2a93c7587349528ec36",
     "grade": false,
     "grade_id": "cell-f0cfb1b73cd006ea",
     "locked": true,
     "schema_version": 3,
     "solution": false,
     "task": false
    }
   },
   "source": [
    "## Part II - Violations of model assuptions\n",
    "\n",
    "In the following problems, we will explore how violations of model assumptions affect our estimation and analyses *using simulated data*. \n",
    "\n",
    "The advantage of simulating data is that we have full control over the data generating process so **we know the true parameters** and we can examine problems in a controlled way. \n",
    "\n",
    "Real datasets are rich and interesting but usually contain many (unknown) problems, and we don't know the true parameters to assess the performance of our estimation and analyses. "
   ]
  },
  {
   "cell_type": "markdown",
   "metadata": {
    "deletable": false,
    "editable": false,
    "nbgrader": {
     "cell_type": "markdown",
     "checksum": "a6212f50cbad1b2cd5b96c2bd154a99f",
     "grade": false,
     "grade_id": "cell-f83f4cfc44d53d11",
     "locked": true,
     "schema_version": 3,
     "solution": false,
     "task": false
    }
   },
   "source": [
    "### 2.1 Bechmark model"
   ]
  },
  {
   "cell_type": "markdown",
   "metadata": {
    "deletable": false,
    "editable": false,
    "nbgrader": {
     "cell_type": "markdown",
     "checksum": "01c0a380d72b5c95493136ddbbffbc6f",
     "grade": false,
     "grade_id": "cell-0352fabc6efebd45",
     "locked": true,
     "schema_version": 3,
     "solution": false,
     "task": false
    }
   },
   "source": [
    "**Question 2.0**\n",
    "<br>{points: 1}\n",
    "\n",
    "Let's start by generating a sample of size $n = 1000$ from a data-generating process that *fulfills all the assumptions* of classical least square estimation in linear regression.\n",
    "\n",
    "In this problem, we generate data from a continuous response, one continuous input variable and one binary input variable. We call this first sample `sample_model_1`.\n",
    "\n",
    "That is, for $i = 1, \\dots, n$:\n",
    "\n",
    "$$Y_i = \\beta_0 + \\beta_1 X_{i1} + \\beta_2 X_{i2} + \\varepsilon_i$$ \n",
    "\n",
    "where the error terms $\\varepsilon_i \\sim \\mathcal{N}(0, \\sigma^2 = 4)$ are independent and identically distributed. Assume that $X_{1}$ is uniformly distributed between 2 and 5, and $X_{2}$ is a binary random variable with levels \"A\" (value of 0) and \"B\" (value of 1) with equal probability.\n",
    "\n",
    "Generate a response variable using these model assumptions and true (population) regression coefficients $\\beta_0$, $\\beta_1$, and $\\beta_2$ equal to $10$, $8$, and $5$, respectively. \n",
    "\n",
    "> **Heads up**: The distributions used to generate the input variables do not affect the results of our analysis. \n",
    "\n",
    "Note that the columns of `sample_model_1` are:\n",
    "\n",
    "- `x_1`: the values of the continuous input $X_{i1}$\n",
    "- `x_2`: the levels of the discrete input $X_{i2}$\n",
    "- `y`: the sampled response values $Y_i$\n",
    "\n",
    "*Fill out those parts indicated with `...`, uncomment the corresponding code in the cell below, and run it.*"
   ]
  },
  {
   "cell_type": "code",
   "execution_count": null,
   "metadata": {
    "deletable": false,
    "nbgrader": {
     "cell_type": "code",
     "checksum": "db3feb55bbf4d1a01036e8c07c62f016",
     "grade": false,
     "grade_id": "cell-5005e2d15ce1ed92",
     "locked": false,
     "schema_version": 3,
     "solution": true,
     "task": false
    },
    "tags": []
   },
   "outputs": [],
   "source": [
    "set.seed(123) # DO NOT CHANGE!\n",
    "\n",
    "sample_size <- 1000\n",
    "\n",
    "# sample_model_1 <- tibble(\n",
    "#   x_1 = runif(n = ..., ..., ...),\n",
    "#   x_2 = factor(rbinom(n = ..., size = 1, prob = 0.5), labels=c(\"A\", \"B\")),\n",
    "#   y = ... * if_else(x_2 == \"B\", ..., ...) + rnorm(n = ..., mean = ..., sd = ...)\n",
    "# )\n",
    "\n",
    "# your code here\n",
    "fail() # No Answer - remove if you provide an answer\n",
    "\n",
    "head(sample_model_1)"
   ]
  },
  {
   "cell_type": "code",
   "execution_count": null,
   "metadata": {
    "deletable": false,
    "editable": false,
    "nbgrader": {
     "cell_type": "code",
     "checksum": "58b8e35732e1c3074bc4fc02f26dbe96",
     "grade": true,
     "grade_id": "cell-4cb5c9662c07edb1",
     "locked": true,
     "points": 1,
     "schema_version": 3,
     "solution": false,
     "task": false
    },
    "tags": []
   },
   "outputs": [],
   "source": [
    "test_2.0()"
   ]
  },
  {
   "cell_type": "markdown",
   "metadata": {
    "deletable": false,
    "editable": false,
    "nbgrader": {
     "cell_type": "markdown",
     "checksum": "bad8497f0aadcaf42fa722f53dbc4598",
     "grade": false,
     "grade_id": "cell-37e2698a76960ba7",
     "locked": true,
     "schema_version": 3,
     "solution": false,
     "task": false
    }
   },
   "source": [
    "**Question 2.1**\n",
    "<br>{points: 1}\n",
    "\n",
    "Use the simulated `sample_model_1` and the `lm` function to estimate the regression parameters $\\beta_0$, $\\beta_1$, and $\\beta_2$ and elements to make inferences using hypothesis tests. Assign the output of `lm` to the object `model_1`.\n",
    "\n",
    "Obtain the estimated coefficients, their standard errors, corresponding $p$-values, and $95\\%$ confidence intervals using `tidy()`. Store the results in `model_1_results`.\n",
    "\n",
    "*Fill out those parts indicated with `...`, uncomment the corresponding code in the cell below, and run it.*"
   ]
  },
  {
   "cell_type": "code",
   "execution_count": null,
   "metadata": {
    "deletable": false,
    "nbgrader": {
     "cell_type": "code",
     "checksum": "df258c28db84e69dd807a542daad530f",
     "grade": false,
     "grade_id": "cell-11ac5eb8d9e9032c",
     "locked": false,
     "schema_version": 3,
     "solution": true,
     "task": false
    },
    "tags": []
   },
   "outputs": [],
   "source": [
    "# model_1 <- ...(..., ...)\n",
    "\n",
    "# model_1_results <- \n",
    "#    ...(..., ...) %>%\n",
    "#    mutate_if(is.numeric, round, 2)\n",
    "\n",
    "# your code here\n",
    "fail() # No Answer - remove if you provide an answer\n",
    "\n",
    "model_1_results"
   ]
  },
  {
   "cell_type": "code",
   "execution_count": null,
   "metadata": {
    "deletable": false,
    "editable": false,
    "nbgrader": {
     "cell_type": "code",
     "checksum": "7d09b65e79e9ec69614d77f7dd8718fc",
     "grade": true,
     "grade_id": "cell-326617182b53a8b9",
     "locked": true,
     "points": 1,
     "schema_version": 3,
     "solution": false,
     "task": false
    },
    "tags": []
   },
   "outputs": [],
   "source": [
    "test_2.1()"
   ]
  },
  {
   "cell_type": "markdown",
   "metadata": {
    "deletable": false,
    "editable": false,
    "nbgrader": {
     "cell_type": "markdown",
     "checksum": "0153b17891b00f5d0c4ec9a50fc6c0cb",
     "grade": false,
     "grade_id": "cell-453527ccc61f4adf",
     "locked": true,
     "schema_version": 3,
     "solution": false,
     "task": false
    }
   },
   "source": [
    "#### Conclusive remarks: Benchmark Model\n",
    "\n",
    "Note that the estimates $\\hat{\\beta}_0$,  $\\hat{\\beta}_1$, and $\\hat{\\beta}_2$ in `model_1` are close to the true population parameters (less than 2 standard errors away). At least for this sample, all of the 95% confidence intervals contain the true parameters that we've used to generate the data. Two final comments are worth making:\n",
    "\n",
    "- Note that, in general, we don't know the true parameters to make this type of assessment.\n",
    "\n",
    "- Even with simulated data, the estimated CI may not contain the true parameters. Why?"
   ]
  },
  {
   "cell_type": "markdown",
   "metadata": {
    "deletable": false,
    "editable": false,
    "nbgrader": {
     "cell_type": "markdown",
     "checksum": "44dbb19032b2fd5dd864918f2edd77b0",
     "grade": false,
     "grade_id": "cell-9939f20b71f46f90",
     "locked": true,
     "schema_version": 3,
     "solution": false,
     "task": false
    }
   },
   "source": [
    "### 2.2 Heteroscedasticity\n",
    "\n",
    "In the previous case, we assume that the error terms were independent and identically distributed. *What would happen if this assumption is violated in the data??*\n",
    "\n",
    "In particular, we will focus on a problem known as *heteroscedasticity*.\n",
    "\n",
    "In the next question, we are going to simulate data from a *data generating process with heteroscedasticity* and use `lm` to estimate the coefficients of the MLR ignoring that the error terms are heteroscedastic."
   ]
  },
  {
   "cell_type": "markdown",
   "metadata": {
    "deletable": false,
    "editable": false,
    "nbgrader": {
     "cell_type": "markdown",
     "checksum": "f2c3a97873cb61689bc99e914ac648d2",
     "grade": false,
     "grade_id": "cell-774140056a754948",
     "locked": true,
     "schema_version": 3,
     "solution": false,
     "task": false
    }
   },
   "source": [
    "**Question 2.2**\n",
    "<br>{points: 1}\n",
    "\n",
    "Again, we generate a sample of size $n = 1000$. The variables $X_{i1}$ and $X_{i2}$ are generated as in *Question 2.0*.\n",
    "\n",
    "The model equation is given by:\n",
    "\n",
    "$$Y_i = \\beta_0 + \\beta_1 X_{i1} + \\beta_2 X_{i2} + \\varepsilon_i, \\quad i = 1, \\dots, n$$ \n",
    "\n",
    "where the error terms $\\varepsilon_i \\sim \\mathcal{N}\\left(0, \\sigma_i^2 = X_{i1}^4\\right)$ (note how now we have **heteroscedasticity**, i.e., the value of $\\sigma_i^2$ is different for each observation). \n",
    "\n",
    "As before, let the true (population) regression terms $\\beta_0$, $\\beta_1$, and $\\beta_2$ be $10$, $8$, and $5$. \n",
    "\n",
    "Call this new sample `sample_model_2`.\n",
    "\n",
    "*Fill out those parts indicated with `...`, uncomment the corresponding code in the cell below, and run it.*"
   ]
  },
  {
   "cell_type": "code",
   "execution_count": null,
   "metadata": {
    "deletable": false,
    "nbgrader": {
     "cell_type": "code",
     "checksum": "5b1494c590121a818ad2afba16131f63",
     "grade": false,
     "grade_id": "cell-7be37d4514cec87d",
     "locked": false,
     "schema_version": 3,
     "solution": true,
     "task": false
    },
    "tags": []
   },
   "outputs": [],
   "source": [
    "set.seed(321) # DO NOT CHANGE!\n",
    "\n",
    "# sample_size = ...\n",
    "# sample_model_2 <- tibble(\n",
    "#   x_1 = runif(n = ..., ..., ...),\n",
    "#   x_2 = factor(rbinom(n = ..., size = 1, prob = 0.5), labels=c(\"A\", \"B\")),\n",
    "#   y = ... * if_else(x_2 == \"B\", ..., ...) + rnorm(n = ..., mean = ..., sd = ...)\n",
    "# )\n",
    "\n",
    "# your code here\n",
    "fail() # No Answer - remove if you provide an answer\n",
    "\n",
    "head(sample_model_2)"
   ]
  },
  {
   "cell_type": "code",
   "execution_count": null,
   "metadata": {
    "deletable": false,
    "editable": false,
    "nbgrader": {
     "cell_type": "code",
     "checksum": "cff9148c006c237c0511d19363454b9f",
     "grade": true,
     "grade_id": "cell-fa963f6510742705",
     "locked": true,
     "points": 1,
     "schema_version": 3,
     "solution": false,
     "task": false
    },
    "tags": []
   },
   "outputs": [],
   "source": [
    "test_2.2()"
   ]
  },
  {
   "cell_type": "markdown",
   "metadata": {
    "deletable": false,
    "editable": false,
    "nbgrader": {
     "cell_type": "markdown",
     "checksum": "fe004edf208786c6c9aa6a33850e3b82",
     "grade": false,
     "grade_id": "cell-2554fcc8ead9b506",
     "locked": true,
     "schema_version": 3,
     "solution": false,
     "task": false
    }
   },
   "source": [
    "**Question 2.3**\n",
    "<br>{points: 1}\n",
    "\n",
    "Use the simulated `sample_model_2` to estimate the regression parameters $\\beta_0$, $\\beta_1$, and $\\beta_2$ and elements to make inferences using hypothesis tests. \n",
    "\n",
    "*Ignore the heteroscedasticity of the data generating process* and use the function `lm()` to estimate the regression parameters. Assign the results to the object `model_2`.\n",
    "\n",
    "Obtain the estimated coefficients, their standard errors, corresponding $p$-values, $95\\%$ confidence intervals using `tidy()`. Store the results in `model_2_results`.\n",
    "\n",
    "*Fill out those parts indicated with `...`, uncomment the corresponding code in the cell below, and run it.*"
   ]
  },
  {
   "cell_type": "code",
   "execution_count": null,
   "metadata": {
    "deletable": false,
    "nbgrader": {
     "cell_type": "code",
     "checksum": "d8c17f4fb83318e13ec40c5871d959d5",
     "grade": false,
     "grade_id": "cell-a4752931d34821b5",
     "locked": false,
     "schema_version": 3,
     "solution": true,
     "task": false
    },
    "tags": []
   },
   "outputs": [],
   "source": [
    "# model_2 <- ...(..., ...)\n",
    "\n",
    "# model_2_results <- \n",
    "#    ...(..., ...) %>% \n",
    "#    mutate_if(is.numeric, round, 2)\n",
    "\n",
    "# your code here\n",
    "fail() # No Answer - remove if you provide an answer\n",
    "\n",
    "model_2_results"
   ]
  },
  {
   "cell_type": "markdown",
   "metadata": {},
   "source": [
    "To be easier for you to compare, here's the Model 1 results: "
   ]
  },
  {
   "cell_type": "code",
   "execution_count": null,
   "metadata": {
    "tags": []
   },
   "outputs": [],
   "source": [
    "# Run this cell and compare Model 1 results against Model 2 results.\n",
    "\n",
    "################################################################################\n",
    "# Pay close attention to the std. error columns and the width of the intervals #\n",
    "################################################################################\n",
    "\n",
    "model_1_results"
   ]
  },
  {
   "cell_type": "code",
   "execution_count": null,
   "metadata": {
    "deletable": false,
    "editable": false,
    "nbgrader": {
     "cell_type": "code",
     "checksum": "8a5cdbf8fe599a17aadaac1e5d186713",
     "grade": true,
     "grade_id": "cell-cb5ea4ece832800f",
     "locked": true,
     "points": 1,
     "schema_version": 3,
     "solution": false,
     "task": false
    },
    "tags": []
   },
   "outputs": [],
   "source": [
    "test_2.3()"
   ]
  },
  {
   "cell_type": "markdown",
   "metadata": {
    "deletable": false,
    "editable": false,
    "nbgrader": {
     "cell_type": "markdown",
     "checksum": "420cbbd5bbd8b597d0aaf161b00867f2",
     "grade": false,
     "grade_id": "cell-358b448fd8b907f1",
     "locked": true,
     "schema_version": 3,
     "solution": false,
     "task": false
    }
   },
   "source": [
    "**Question 2.4**\n",
    "<br>{points: 1}\n",
    "\n",
    "Recall that the true population values of $\\beta_0$, $\\beta_1$, and $\\beta_2$ are $10$, $8$, and $5$ respectively.  Which of the following consequences of ignoring the heteroscedasticity of the data-generating process is true? \n",
    "\n",
    "*Tip*: `lm` assumes that the errors are *iid* as in `sample_model_1`. Thus, you can also use `model_1_results` as a benchmark.\n",
    "\n",
    "**A.** The estimates $\\hat{\\beta}_0$,  $\\hat{\\beta}_1$, and $\\hat{\\beta}_2$ in `model_2_results` are still similar to the true population parameters, but their estimated standard errors are inflated.\n",
    "\n",
    "**B.** The 95% confidence intervals of the regression coefficients are not affected by the heteroscedasticity of the data-generating process.\n",
    "\n",
    "\n",
    "*Assign your answer to an object called `answer2.4`. Your answer should be one of `\"A\"` or `\"B\"` surrounded by quotes.*"
   ]
  },
  {
   "cell_type": "code",
   "execution_count": null,
   "metadata": {
    "deletable": false,
    "nbgrader": {
     "cell_type": "code",
     "checksum": "95d51245afb105007678da849da902ed",
     "grade": false,
     "grade_id": "cell-03200e468b4ed9a7",
     "locked": false,
     "schema_version": 3,
     "solution": true,
     "task": false
    },
    "tags": []
   },
   "outputs": [],
   "source": [
    "# answer2.4 <- \n",
    "\n",
    "# your code here\n",
    "fail() # No Answer - remove if you provide an answer"
   ]
  },
  {
   "cell_type": "code",
   "execution_count": null,
   "metadata": {
    "deletable": false,
    "editable": false,
    "nbgrader": {
     "cell_type": "code",
     "checksum": "44327cb5496dd09bdef564ddfc4235ec",
     "grade": true,
     "grade_id": "cell-d4fa23719518cfae",
     "locked": true,
     "points": 1,
     "schema_version": 3,
     "solution": false,
     "task": false
    },
    "tags": []
   },
   "outputs": [],
   "source": [
    "test_2.4()"
   ]
  },
  {
   "cell_type": "markdown",
   "metadata": {
    "deletable": false,
    "editable": false,
    "nbgrader": {
     "cell_type": "markdown",
     "checksum": "a8ef15d38f1c0b06fece9c3690a85c2e",
     "grade": false,
     "grade_id": "cell-e51a3e421545b891",
     "locked": true,
     "schema_version": 3,
     "solution": false,
     "task": false
    },
    "tags": []
   },
   "source": [
    "#### Detecting heteroscedasticity\n",
    "\n",
    "When we don't have simulated data, we can (graphically) diagnose heteroscedasticity by comparing the fitted values to the **residuals**. \n",
    "\n",
    "<font color=\"darkred\">**Diagnosis rule**</font>\n",
    "\n",
    "<font color=\"darkred\">If the errors are homoscedastic (equal variance), the residuals should show equal variation for all fitted values. </font>\n",
    "\n",
    "Let's take a look at these plots for both cases simulated before: `model_1` (homoscedastic case) versus `model_2` (heteroscedastic case). We can obtain both plots via the function `plot()`.\n",
    "\n",
    "*Run the cell below before continuing.*"
   ]
  },
  {
   "cell_type": "code",
   "execution_count": null,
   "metadata": {
    "deletable": false,
    "editable": false,
    "nbgrader": {
     "cell_type": "code",
     "checksum": "b0c69f85f3cdbae975eb0b5688c60358",
     "grade": false,
     "grade_id": "cell-f9d678639aeb4975",
     "locked": true,
     "schema_version": 3,
     "solution": false,
     "task": false
    },
    "tags": []
   },
   "outputs": [],
   "source": [
    "# Adjust these numbers so the plot looks good in your desktop.\n",
    "options(repr.plot.width = 8, repr.plot.height = 6) \n",
    "\n",
    "plot(model_1, 1, main = \"Model 1: Homoscedastic\")\n",
    "plot(model_2, 1, main = \"Model 2: Heteroscedastic\")"
   ]
  },
  {
   "cell_type": "markdown",
   "metadata": {
    "deletable": false,
    "editable": false,
    "nbgrader": {
     "cell_type": "markdown",
     "checksum": "e4d2b4b63e35bd55a0d905efdaf82436",
     "grade": false,
     "grade_id": "cell-2423a377827ef0db",
     "locked": true,
     "schema_version": 3,
     "solution": false,
     "task": false
    }
   },
   "source": [
    "**Question 2.5**\n",
    "<br>{points: 1}\n",
    "\n",
    "What is the difference between both plots of residuals versus fitted values?\n",
    "\n",
    "**A.** There is no difference between both plots; their respective clouds of points look uniformly similar.\n",
    "\n",
    "**B.** The diagnostic plot of `model_1` shows a uniform and more scattered cloud of points than `model_2`. The cloud of points in `model_2` shows a clear funnel shape, indicating a non-constant variance.\n",
    "\n",
    "**C.** The diagnostic plot of `model_2` shows a uniform and more scattered cloud of points than `model_1`. The cloud of points in `model_1` shows a clear funnel shape, indicating a non-constant variance.\n",
    "\n",
    "*Assign your answer to an object called `answer2.5`. Your answer should be one of `\"A\"`, `\"B\"`, or `\"C\"` surrounded by quotes.*"
   ]
  },
  {
   "cell_type": "code",
   "execution_count": null,
   "metadata": {
    "deletable": false,
    "nbgrader": {
     "cell_type": "code",
     "checksum": "eb4cd9b3ecfb74656a7b6006dff1ff6a",
     "grade": false,
     "grade_id": "cell-0ac7451d1055fdcd",
     "locked": false,
     "schema_version": 3,
     "solution": true,
     "task": false
    },
    "tags": []
   },
   "outputs": [],
   "source": [
    "# answer2.5 <- \n",
    "\n",
    "# your code here\n",
    "fail() # No Answer - remove if you provide an answer"
   ]
  },
  {
   "cell_type": "code",
   "execution_count": null,
   "metadata": {
    "deletable": false,
    "editable": false,
    "nbgrader": {
     "cell_type": "code",
     "checksum": "26c1767686eff9f79a7b5517f3fe86b8",
     "grade": true,
     "grade_id": "cell-a0823aa644741ac9",
     "locked": true,
     "points": 1,
     "schema_version": 3,
     "solution": false,
     "task": false
    },
    "tags": []
   },
   "outputs": [],
   "source": [
    "test_2.5()"
   ]
  },
  {
   "cell_type": "markdown",
   "metadata": {
    "deletable": false,
    "editable": false,
    "nbgrader": {
     "cell_type": "markdown",
     "checksum": "1c09e440b1401e03135d7f54bdb92043",
     "grade": false,
     "grade_id": "cell-32a44b64fde55ec7",
     "locked": true,
     "schema_version": 3,
     "solution": false,
     "task": false
    }
   },
   "source": [
    "### 2.3 Normality\n",
    "\n",
    "Another assumption commonly made in linear regression is that the error terms are Normally distributed. *What would happen if this assumption is violated??*. \n",
    "\n",
    "In the next question, we are going to simulate data using a data-generating process with non-normal errors and use `lm` to estimate the coefficients of the MLR."
   ]
  },
  {
   "cell_type": "markdown",
   "metadata": {
    "deletable": false,
    "editable": false,
    "nbgrader": {
     "cell_type": "markdown",
     "checksum": "19f3c5f71938134d623a6b72687b86f7",
     "grade": false,
     "grade_id": "cell-0583e55524bbbff4",
     "locked": true,
     "schema_version": 3,
     "solution": false,
     "task": false
    }
   },
   "source": [
    "**Question 2.6**\n",
    "<br>{points: 1}\n",
    "\n",
    "Once again, we generate a sample of size $n = 1000$. The variables $X_{i1}$ and $X_{i2}$ are generated as in *Question 2.0*.\n",
    "\n",
    "The model equation is given by:\n",
    "\n",
    "$$Y_i = \\beta_0 + \\beta_1 X_{i1} + \\beta_2 X_{i2} + \\varepsilon_i, \\quad i = 1, \\dots, n$$ \n",
    "\n",
    "where the error terms are independent and identically distributed from a Uniform distribution, $\\varepsilon_i \\sim \\mathrm{U}(-10,10)$. \n",
    "\n",
    "As before, let the true (population) regression terms $\\beta_0$, $\\beta_1$, and $\\beta_2$ be $10$, $8$, and $5$, respectively.\n",
    "\n",
    "Call this new sample `sample_model_3`.\n",
    "\n",
    "*Fill out those parts indicated with `...`, uncomment the corresponding code in the cell below, and run it.*"
   ]
  },
  {
   "cell_type": "code",
   "execution_count": null,
   "metadata": {
    "deletable": false,
    "nbgrader": {
     "cell_type": "code",
     "checksum": "7373bdeedd53f8e02c6139b2c1df0518",
     "grade": false,
     "grade_id": "cell-f4f0d75b03d87416",
     "locked": false,
     "schema_version": 3,
     "solution": true,
     "task": false
    },
    "tags": []
   },
   "outputs": [],
   "source": [
    "set.seed(654) # DO NOT CHANGE!\n",
    "\n",
    "# sample_size = ...\n",
    "\n",
    "# sample_model_3 <- tibble(\n",
    "#   x_1 = runif(n = ..., ..., ...),\n",
    "#   x_2 = factor(rbinom(n = ..., size = ..., prob = ...), labels=c(\"A\", \"B\"))\n",
    "#   y = ... * if_else(x_2 == \"B\", ..., ...) + r...(n = ..., ..., ...)\n",
    "# )\n",
    "\n",
    "# your code here\n",
    "fail() # No Answer - remove if you provide an answer\n",
    "\n",
    "head(sample_model_3)"
   ]
  },
  {
   "cell_type": "code",
   "execution_count": null,
   "metadata": {
    "deletable": false,
    "editable": false,
    "nbgrader": {
     "cell_type": "code",
     "checksum": "94da43d13c406c42ae5f5498362f7867",
     "grade": true,
     "grade_id": "cell-4daac39e2a263638",
     "locked": true,
     "points": 1,
     "schema_version": 3,
     "solution": false,
     "task": false
    },
    "tags": []
   },
   "outputs": [],
   "source": [
    "test_2.6()"
   ]
  },
  {
   "cell_type": "markdown",
   "metadata": {
    "deletable": false,
    "editable": false,
    "nbgrader": {
     "cell_type": "markdown",
     "checksum": "483f088c270975d45ade6720fac964c7",
     "grade": false,
     "grade_id": "cell-31286491f37e5adf",
     "locked": true,
     "schema_version": 3,
     "solution": false,
     "task": false
    }
   },
   "source": [
    "**Question 2.7**\n",
    "<br>{points: 1}\n",
    "\n",
    "Use the simulated `sample_model_3` to estimate the regression parameters $\\beta_0$, $\\beta_1$, and $\\beta_2$ and elements to make inference using hypothesis tests. \n",
    "\n",
    "Use the function `lm()` to estimate the regression parameters. Assign the results to the object `model_3`.\n",
    "\n",
    "Obtain the estimated coefficients, their standard errors, corresponding $p$-values, and $95\\%$ confidence intervals using `tidy()`. Store the results in `model_3_results`.\n",
    "\n",
    "*Fill out those parts indicated with `...`, uncomment the corresponding code in the cell below, and run it.*"
   ]
  },
  {
   "cell_type": "code",
   "execution_count": null,
   "metadata": {
    "deletable": false,
    "nbgrader": {
     "cell_type": "code",
     "checksum": "d12612c0e0982d65fa477ac0e199e655",
     "grade": false,
     "grade_id": "cell-265c75bbb081eb6f",
     "locked": false,
     "schema_version": 3,
     "solution": true,
     "task": false
    },
    "tags": []
   },
   "outputs": [],
   "source": [
    "# model_3 <- ...(..., ...)\n",
    "\n",
    "# model_3_results <- \n",
    "#     ...(..., ...) %>%\n",
    "#     mutate_if(is.numeric, round, 2)\n",
    "\n",
    "# your code here\n",
    "fail() # No Answer - remove if you provide an answer\n",
    "\n",
    "model_3_results"
   ]
  },
  {
   "cell_type": "code",
   "execution_count": null,
   "metadata": {
    "deletable": false,
    "editable": false,
    "nbgrader": {
     "cell_type": "code",
     "checksum": "d4c82e1490254a35bd2affc37305e8db",
     "grade": true,
     "grade_id": "cell-9cc9196c59e66f46",
     "locked": true,
     "points": 1,
     "schema_version": 3,
     "solution": false,
     "task": false
    },
    "tags": []
   },
   "outputs": [],
   "source": [
    "test_2.7()"
   ]
  },
  {
   "cell_type": "markdown",
   "metadata": {
    "deletable": false,
    "editable": false,
    "nbgrader": {
     "cell_type": "markdown",
     "checksum": "f4e0d7d602af6d9155c9ac044932a2cb",
     "grade": false,
     "grade_id": "cell-e68f5ba3f0ccd35f",
     "locked": true,
     "schema_version": 3,
     "solution": false,
     "task": false
    }
   },
   "source": [
    "#### Conclusive remarks: Normality\n",
    "\n",
    "Note that the estimate of the regression parameters are not heavily affected by this problem. However, not only the distribution but also the variance of the error term has changed! As a result, the SE are larger in this case. \n",
    "\n",
    "The distributions of the test statistics such as the $t$ or the $F$-statistics rely on the normality of the $\\varepsilon_i$'s, unless the sample size $n$ is large enough in which case their distribution can be approximated using asymptotic results from the CLT. \n",
    "\n",
    "In this case, the sample size is large so, according to the CLT, the sampling distributions when $\\sigma$ is known is approximately Normal. \n",
    "\n",
    "Since in general, $\\sigma$ is unknown, it needs to be estimated and the sampling distribution becomes a $t$-Student distribution (similar to Normal but with slightly heavier tails).\n",
    "\n",
    "<font style='color: darkred'>*Important note*: `lm` *assumes* that either the errors are Normal or the conditions of the CLT are met. Regardless, `lm` assumes that the sampling distribution can be approximated by a $t$-Student distribution. It is **your** job to check these assumptions!</font>"
   ]
  },
  {
   "cell_type": "markdown",
   "metadata": {
    "deletable": false,
    "editable": false,
    "nbgrader": {
     "cell_type": "markdown",
     "checksum": "1332336311e32a695a567e5585843b52",
     "grade": false,
     "grade_id": "cell-8ae11e452b9ab56f",
     "locked": true,
     "schema_version": 3,
     "solution": false,
     "task": false
    },
    "tags": []
   },
   "source": [
    "### 2.4 Diagnostic plots\n",
    "\n",
    "A $Q$-$Q$ plot and the histogram of residuals are graphical tools that help us to assess the normality assumption.\n",
    "\n",
    "Let us compare these plots for `model_1` (with Normal errors) and `model_3` (with non-Normal errors). We can obtain both $Q$-$Q$ plots via the function `plot()` and the histograms using `hist()`.\n",
    "\n",
    "*Run the cell below before continuing.*"
   ]
  },
  {
   "cell_type": "code",
   "execution_count": null,
   "metadata": {
    "deletable": false,
    "editable": false,
    "nbgrader": {
     "cell_type": "code",
     "checksum": "5f662baacc8795858457ae444cde0c4c",
     "grade": false,
     "grade_id": "cell-376408f168bc4a00",
     "locked": true,
     "schema_version": 3,
     "solution": false,
     "task": false
    },
    "tags": []
   },
   "outputs": [],
   "source": [
    "# Q-Q plots for Models 1 and 3\n",
    "plot(model_1, 2, main = \"Model 1\")\n",
    "plot(model_3, 2, main = \"Model 3\")\n",
    "\n",
    "# Histograms for Models 1 and 3\n",
    "hist(residuals(object = model_1),\n",
    "  breaks = 10,\n",
    "  main = \"Histogram of Residuals for Model 1\",\n",
    "  xlab = \"Residuals\"\n",
    ")\n",
    "\n",
    "hist(residuals(object = model_3),\n",
    "  breaks = 10,\n",
    "  main = \"Histogram of Residuals for Model 3\",\n",
    "  xlab = \"Residuals\"\n",
    ")"
   ]
  },
  {
   "cell_type": "markdown",
   "metadata": {
    "deletable": false,
    "editable": false,
    "nbgrader": {
     "cell_type": "markdown",
     "checksum": "77f3ae18f02298e9290f851e1a785754",
     "grade": false,
     "grade_id": "cell-3ef9ae8e1ccaf538",
     "locked": true,
     "schema_version": 3,
     "solution": false,
     "task": false
    }
   },
   "source": [
    "**Question 2.8**\n",
    "<br>{points: 1}\n",
    "\n",
    "\n",
    "What is the difference between both pairs plots corresponding to `model_1` and `model_3`?\n",
    "\n",
    "**A.** There are no differences between both pairs of plots, suggesting that both models fulfil the normality assumption.\n",
    "\n",
    "**B.** For `model_3`, most of the points lie on the 45° degree dotted line of the $Q$-$Q$ plot suggesting that the errors are normally distributed. \n",
    "\n",
    "**C.** For `model_1`, most of the points lie on the 45° degree dotted line of the $Q$-$Q$ plot suggesting that the errors are normally distributed. \n",
    "\n",
    "**D.** The histogram of the residuals of `model_3` is similar to that of the residuals of `model_1`. \n",
    "\n",
    "*Assign your answer to an object called `answer2.8`. Your answer should be one of `\"A\"`, `\"B\"`, `\"C\"`, or `\"D\"`, surrounded by quotes.*"
   ]
  },
  {
   "cell_type": "code",
   "execution_count": null,
   "metadata": {
    "deletable": false,
    "nbgrader": {
     "cell_type": "code",
     "checksum": "d2e15a9127b3585740feb0b86d9af094",
     "grade": false,
     "grade_id": "cell-322d6b07e2c76409",
     "locked": false,
     "schema_version": 3,
     "solution": true,
     "task": false
    },
    "tags": []
   },
   "outputs": [],
   "source": [
    "# answer2.8 <- \n",
    "\n",
    "# your code here\n",
    "fail() # No Answer - remove if you provide an answer"
   ]
  },
  {
   "cell_type": "code",
   "execution_count": null,
   "metadata": {
    "deletable": false,
    "editable": false,
    "nbgrader": {
     "cell_type": "code",
     "checksum": "fdfb555f3520894054f01fc6f02771d7",
     "grade": true,
     "grade_id": "cell-7cfdd3595723b330",
     "locked": true,
     "points": 1,
     "schema_version": 3,
     "solution": false,
     "task": false
    },
    "tags": []
   },
   "outputs": [],
   "source": [
    "test_2.8()"
   ]
  },
  {
   "cell_type": "markdown",
   "metadata": {
    "deletable": false,
    "editable": false,
    "nbgrader": {
     "cell_type": "markdown",
     "checksum": "78bfdee1f3de3bf2b220585dbafb0175",
     "grade": false,
     "grade_id": "cell-f3685cd190b2a48e",
     "locked": true,
     "schema_version": 3,
     "solution": false,
     "task": false
    }
   },
   "source": [
    "### 2.5 Multicollinearity\n",
    "\n",
    "A common problem in real data occurs when the input variables are correlated. This problem is known as multicollinearity. In this section, we will simulate correlated input variables to understand how this problem affects the sampling distribution of the least squares regression parameter estimators."
   ]
  },
  {
   "cell_type": "markdown",
   "metadata": {
    "deletable": false,
    "editable": false,
    "nbgrader": {
     "cell_type": "markdown",
     "checksum": "0d51415692c999c8dea677924daaf166",
     "grade": false,
     "grade_id": "cell-08094e7e680afc80",
     "locked": true,
     "schema_version": 3,
     "solution": false,
     "task": false
    }
   },
   "source": [
    "In this exercise, we will generate 1000 samples of size $n = 100$ from the following data-generating process:\n",
    "\n",
    "$$Y_i = \\beta_0 + \\beta_1 X_{i1} + \\beta_2 X_{i2} + \\varepsilon_i,\\quad i = 1, ..., n$$ \n",
    "\n",
    "where the error terms $\\varepsilon_i \\sim \\mathcal{N}(0, \\sigma^2 = 4)$ are independent and identically distributed, <font style='color: darkred'>and $X_{1}$ and $X_{2}$ are two continuous correlated input variables.</font> \n",
    "\n",
    "Assume that all the true (population) regression terms $\\beta_0$, $\\beta_1$, and $\\beta_2$ are equal to $10$. \n",
    "\n",
    "**Note**: Note that $n$ and the regression coefficients are different in this problem."
   ]
  },
  {
   "cell_type": "markdown",
   "metadata": {
    "deletable": false,
    "editable": false,
    "nbgrader": {
     "cell_type": "markdown",
     "checksum": "5ea97bd0d5227383c5e077a8d42ca767",
     "grade": false,
     "grade_id": "cell-c521effc05929e77",
     "locked": true,
     "schema_version": 3,
     "solution": false,
     "task": false
    }
   },
   "source": [
    "**Question 2.9**\n",
    "<br>{points: 1}\n",
    "\n",
    "First, let's learn how to generate correlated inputs $X_{1}$ and $X_{2}$ from a bivariate normal distribution. Assume these variables have population means $\\mu_1 = 10$ and $\\mu_2 = 20$, respectively. Furthermore, their respective population standard deviations are $\\sigma_1 = 4$ and  $\\sigma_2 = 8$ and a high correlation, say $\\rho = 0.95$, to generate multicollinearity.\n",
    "\n",
    "*Fill out those parts indicated with `...`, uncomment the corresponding code in the cell below, and run it.*"
   ]
  },
  {
   "cell_type": "code",
   "execution_count": null,
   "metadata": {
    "deletable": false,
    "nbgrader": {
     "cell_type": "code",
     "checksum": "88be4519424deae3f8c28034869fea20",
     "grade": false,
     "grade_id": "cell-1f1c93e7aa03af7d",
     "locked": false,
     "schema_version": 3,
     "solution": true,
     "task": false
    },
    "tags": []
   },
   "outputs": [],
   "source": [
    "set.seed(456) # DO NOT CHANGE!\n",
    "\n",
    "# sample_size <- ...\n",
    "# bivariate_normal_sample <- rnorm_multi(\n",
    "#   n = ...,\n",
    "#   mu = c(..., ...),\n",
    "#   sd = c(..., ...),\n",
    "#   r = ...,\n",
    "#   varnames = c(\"x_1\", \"x_2\"),\n",
    "#   empirical = FALSE\n",
    "# )\n",
    "\n",
    "# your code here\n",
    "fail() # No Answer - remove if you provide an answer\n",
    "\n",
    "head(bivariate_normal_sample)"
   ]
  },
  {
   "cell_type": "code",
   "execution_count": null,
   "metadata": {
    "deletable": false,
    "editable": false,
    "nbgrader": {
     "cell_type": "code",
     "checksum": "b42ddefaf3fe2f44a4d4bc02a6b2eaad",
     "grade": true,
     "grade_id": "cell-da29435913bf774f",
     "locked": true,
     "points": 1,
     "schema_version": 3,
     "solution": false,
     "task": false
    },
    "tags": []
   },
   "outputs": [],
   "source": [
    "test_2.9()"
   ]
  },
  {
   "cell_type": "markdown",
   "metadata": {
    "deletable": false,
    "editable": false,
    "nbgrader": {
     "cell_type": "markdown",
     "checksum": "69e3607cdc613a25eed999c57263847a",
     "grade": false,
     "grade_id": "cell-db19c531325127ad",
     "locked": true,
     "schema_version": 3,
     "solution": false,
     "task": false
    }
   },
   "source": [
    "**Question 2.10**\n",
    "<br>{points: 1}\n",
    "\n",
    "Now we generate $1000$ datasets of size $n=100$ from the data generating process described and fit an additive MLR using `lm` to each dataset. \n",
    "\n",
    "Store the corresponding $\\hat{\\beta}_0$, $\\hat{\\beta}_1$, and $\\hat{\\beta}_2$ per sample in a dataframe called `lm_multicollinearity` of 1000 rows and three columns:\n",
    "\n",
    "- intercept: The estimated intercept $\\hat{\\beta}_0$.\n",
    "- beta_1_hat: The estimated slope $\\hat{\\beta}_1$.\n",
    "- beta_2_hat: The estimated slope $\\hat{\\beta}_2$.\n",
    "\n",
    "*Fill out those parts indicated with `...`, uncomment the corresponding code in the cell below, and run it.*"
   ]
  },
  {
   "cell_type": "code",
   "execution_count": null,
   "metadata": {
    "deletable": false,
    "nbgrader": {
     "cell_type": "code",
     "checksum": "298b81de5c93b9b9c93e3c822f201b52",
     "grade": false,
     "grade_id": "cell-7fc8624a0cab3f0e",
     "locked": false,
     "schema_version": 3,
     "solution": true,
     "task": false
    },
    "tags": []
   },
   "outputs": [],
   "source": [
    "set.seed(321) # DO NOT CHANGE!\n",
    "\n",
    "# sample_size <- ...\n",
    "# num_replicates <- ...\n",
    "\n",
    "# beta_0 <- ...\n",
    "# beta_1 <- ...\n",
    "# beta_2 <- ...\n",
    "\n",
    "# lm_multicollinearity <- replicate(..., {\n",
    "#   rnorm_multi(\n",
    "#     n = ...,\n",
    "#     mu = ...,\n",
    "#     sd = ...,\n",
    "#     r = ...,\n",
    "#     varnames = c(\"x_1\", \"x_2\"),\n",
    "#     empirical = FALSE\n",
    "#   ) %>%\n",
    "#     mutate(y = ... + beta_1 * ... + ... * x_2 +\n",
    "#       rnorm(n = ..., mean = 0, sd = ...)) %>%\n",
    "#     lm(..., data = .) %>%\n",
    "#     .$coef\n",
    "# })\n",
    "\n",
    "# lm_multicollinearity <- data.frame(\n",
    "#   intercept = lm_multicollinearity[1, ],\n",
    "#   beta_1_hat = lm_multicollinearity[2, ],\n",
    "#   beta_2_hat = lm_multicollinearity[3, ]\n",
    "# )\n",
    "\n",
    "# head(lm_multicollinearity)\n",
    "\n",
    "# your code here\n",
    "fail() # No Answer - remove if you provide an answer"
   ]
  },
  {
   "cell_type": "code",
   "execution_count": null,
   "metadata": {
    "deletable": false,
    "editable": false,
    "nbgrader": {
     "cell_type": "code",
     "checksum": "43e77fda17fd422ccc63fb0fcd8c3ee9",
     "grade": true,
     "grade_id": "cell-a3ad21c32c86b702",
     "locked": true,
     "points": 1,
     "schema_version": 3,
     "solution": false,
     "task": false
    },
    "tags": []
   },
   "outputs": [],
   "source": [
    "test_2.10()"
   ]
  },
  {
   "cell_type": "markdown",
   "metadata": {
    "deletable": false,
    "editable": false,
    "nbgrader": {
     "cell_type": "markdown",
     "checksum": "f94afd8446121a758876a724f077fcd2",
     "grade": false,
     "grade_id": "cell-a420aafa6b0d76a6",
     "locked": true,
     "schema_version": 3,
     "solution": false,
     "task": false
    }
   },
   "source": [
    "**Question 2.11**\n",
    "<br>{points: 1}\n",
    "\n",
    "For comparison purposes, repeat the process for samples taken from a population without multicollinearity (use $\\rho = 0.001$).\n",
    "\n",
    "*Fill out those parts indicated with `...`, uncomment the corresponding code in the cell below, and run it.*"
   ]
  },
  {
   "cell_type": "code",
   "execution_count": null,
   "metadata": {
    "deletable": false,
    "nbgrader": {
     "cell_type": "code",
     "checksum": "80a44c34cb1bff522768834abe95b914",
     "grade": false,
     "grade_id": "cell-a62dc494d2cb00f0",
     "locked": false,
     "schema_version": 3,
     "solution": true,
     "task": false
    },
    "tags": []
   },
   "outputs": [],
   "source": [
    "set.seed(321) # DO NOT CHANGE!\n",
    "\n",
    "# sample_size <- ...\n",
    "# num_replicates <- ...\n",
    "\n",
    "# beta_0 <- ...\n",
    "# beta_1 <- ...\n",
    "# beta_2 <- ...\n",
    "\n",
    "# lm_no_multicollinearity <- replicate(..., {\n",
    "#   rnorm_multi(\n",
    "#     n = ...,\n",
    "#     mu = ...,\n",
    "#     sd = ...,\n",
    "#     r = ...,\n",
    "#     varnames = c(\"x_1\", \"x_2\"),\n",
    "#     empirical = FALSE\n",
    "#   ) %>%\n",
    "#     mutate(y = ... + beta_1 * ... + ... * x_2 +\n",
    "#       rnorm(n = ..., mean = 0, sd = ...)) %>%\n",
    "#     lm(..., data = .) %>%\n",
    "#     .$coef\n",
    "# })\n",
    "# lm_no_multicollinearity <- data.frame(\n",
    "#   intercept = lm_no_multicollinearity[1, ],\n",
    "#   beta_1_hat = lm_no_multicollinearity[2, ],\n",
    "#   beta_2_hat = lm_no_multicollinearity[3, ]\n",
    "# )\n",
    "\n",
    "# head(lm_no_multicollinearity)\n",
    "\n",
    "# your code here\n",
    "fail() # No Answer - remove if you provide an answer"
   ]
  },
  {
   "cell_type": "code",
   "execution_count": null,
   "metadata": {
    "deletable": false,
    "editable": false,
    "nbgrader": {
     "cell_type": "code",
     "checksum": "69f61eedef6f89bca497c8506ae8f56d",
     "grade": true,
     "grade_id": "cell-79f290838673f039",
     "locked": true,
     "points": 1,
     "schema_version": 3,
     "solution": false,
     "task": false
    },
    "tags": []
   },
   "outputs": [],
   "source": [
    "test_2.11()"
   ]
  },
  {
   "cell_type": "markdown",
   "metadata": {
    "deletable": false,
    "editable": false,
    "nbgrader": {
     "cell_type": "markdown",
     "checksum": "69eb291a4c23033e4ee8b1c3ae1b9a74",
     "grade": false,
     "grade_id": "cell-afc49b8f8185ea46",
     "locked": true,
     "schema_version": 3,
     "solution": false,
     "task": false
    }
   },
   "source": [
    "**Question 2.12**\n",
    "<br>{points: 1}\n",
    "\n",
    "Plot the 1000 regression estimates for the slope corresponding to $X_1$ (i.e., $\\hat{\\beta}_1$) stored in `lm_multicollinearity` and `lm_no_multicollinearity`, separately (i.e., two histograms with counts on the $y$-axis and the estimate on the $x$-axis). \n",
    "\n",
    "Call the ggplot() object's names `hist_multicollinearity_slope_x_1` and `hist_no_multicollinearity_slope_x_1`, respectively. Moreover, plot the averages of these estimates in their respective histograms as vertical red lines.\n",
    "\n",
    "<font style='color: darkred'>*Note*: these are **not** bootstrapped estimates!</font>\n",
    "\n",
    "*Fill out those parts indicated with ..., uncomment the corresponding code in the cell below, and run it.*"
   ]
  },
  {
   "cell_type": "code",
   "execution_count": null,
   "metadata": {
    "deletable": false,
    "nbgrader": {
     "cell_type": "code",
     "checksum": "6ccbaafb6c3be8e1f0590c56162386de",
     "grade": false,
     "grade_id": "cell-567626205f418eb8",
     "locked": false,
     "schema_version": 3,
     "solution": true,
     "task": false
    },
    "tags": []
   },
   "outputs": [],
   "source": [
    "# Adjust these numbers so the plot looks good in your desktop.\n",
    "options(repr.plot.width = 7, repr.plot.height = 9) \n",
    "\n",
    "# hist_multicollinearity_slope_x_1 <- ggplot(..., aes(...)) +\n",
    "#   ...(bins = 15, color = \"white\") +\n",
    "#   ...(..., col = \"red\", size = 1) +\n",
    "#   coord_cartesian(xlim = c(9.4, 10.6), ylim = c(0, 250)) +\n",
    "#   scale_x_continuous(breaks = seq(9, 10.6, 0.2)) +\n",
    "#   xlab(...) +\n",
    "#   ylab(...) +\n",
    "#   theme(text = element_text(size = 14)) +\n",
    "#   ggtitle(...)\n",
    "\n",
    "# hist_no_multicollinearity_slope_x_1 <- ggplot(..., aes(...)) +\n",
    "#   ...(bins = 15, color = \"white\") +\n",
    "#   ...(..., col = \"red\", size = 1) +\n",
    "#   coord_cartesian(xlim = c(9.4, 10.6), ylim = c(0, 250)) +\n",
    "#   scale_x_continuous(breaks = seq(9, 10.6, 0.2)) +\n",
    "#   xlab(...) +\n",
    "#   ylab(...) +\n",
    "#   theme(text = element_text(size = 14)) +\n",
    "#   ggtitle(...)\n",
    "\n",
    "# plot_grid(hist_multicollinearity_slope_x_1, hist_no_multicollinearity_slope_x_1,\n",
    "#   ncol = 1\n",
    "# )\n",
    "\n",
    "# your code here\n",
    "fail() # No Answer - remove if you provide an answer"
   ]
  },
  {
   "cell_type": "code",
   "execution_count": null,
   "metadata": {
    "deletable": false,
    "editable": false,
    "nbgrader": {
     "cell_type": "code",
     "checksum": "11f882cc73db3cd4f917861eba656c27",
     "grade": true,
     "grade_id": "cell-7660d122189e5eb7",
     "locked": true,
     "points": 1,
     "schema_version": 3,
     "solution": false,
     "task": false
    },
    "tags": []
   },
   "outputs": [],
   "source": [
    "test_2.12.0()\n",
    "test_2.12.1()"
   ]
  },
  {
   "cell_type": "markdown",
   "metadata": {
    "deletable": false,
    "editable": false,
    "nbgrader": {
     "cell_type": "markdown",
     "checksum": "734d08ccf0619e6e6f67808a91e7280f",
     "grade": false,
     "grade_id": "cell-a3e0187538a817b4",
     "locked": true,
     "schema_version": 3,
     "solution": false,
     "task": false
    }
   },
   "source": [
    "**Question 2.13**\n",
    "<br>{points: 1}\n",
    "\n",
    "Based on your findings in `hist_multicollinearity_slope_x_1` and `hist_no_multicollinearity_slope_x_1`, what are the implications of multicollinearity in the sampling distributions of least squares estimators of MLR?\n",
    "\n",
    "**A.** The multicollinearity reduces the standard error of the regression estimator.\n",
    "\n",
    "**B.** Multicollinearity inflates the standard error of the regression estimator.\n",
    "\n",
    "**C.** Multicollinearity does not seem to affect the estimation results.\n",
    "\n",
    "*Assign your answer to an object called answer2.13. Your answer should be one of `\"A\"`, `\"B\"`, or `\"C\"` surrounded by quotes.*\n"
   ]
  },
  {
   "cell_type": "code",
   "execution_count": null,
   "metadata": {
    "deletable": false,
    "nbgrader": {
     "cell_type": "code",
     "checksum": "13b713c0cf385afb64f43459cbd7e5f0",
     "grade": false,
     "grade_id": "cell-13a2606b42741a5e",
     "locked": false,
     "schema_version": 3,
     "solution": true,
     "task": false
    },
    "tags": []
   },
   "outputs": [],
   "source": [
    "# answer2.13 <- ...\n",
    "\n",
    "# your code here\n",
    "fail() # No Answer - remove if you provide an answer"
   ]
  },
  {
   "cell_type": "code",
   "execution_count": null,
   "metadata": {
    "deletable": false,
    "editable": false,
    "nbgrader": {
     "cell_type": "code",
     "checksum": "1daf53f752a5168dd55f721862930e77",
     "grade": true,
     "grade_id": "cell-93b7a249a29267bc",
     "locked": true,
     "points": 1,
     "schema_version": 3,
     "solution": false,
     "task": false
    },
    "tags": []
   },
   "outputs": [],
   "source": [
    "test_2.13()"
   ]
  },
  {
   "cell_type": "markdown",
   "metadata": {
    "deletable": false,
    "editable": false,
    "nbgrader": {
     "cell_type": "markdown",
     "checksum": "609c79ec0a8695ec1278360b608e7530",
     "grade": false,
     "grade_id": "cell-ddd9186d674cb006",
     "locked": true,
     "schema_version": 3,
     "solution": false,
     "task": false
    }
   },
   "source": [
    "# PART III - Causality and Confounders"
   ]
  },
  {
   "cell_type": "markdown",
   "metadata": {
    "deletable": false,
    "editable": false,
    "nbgrader": {
     "cell_type": "markdown",
     "checksum": "14b66ff3676c6eebe1d1f168f5c998ff",
     "grade": false,
     "grade_id": "cell-077e39907f4cfbe1",
     "locked": true,
     "schema_version": 3,
     "solution": false,
     "task": false
    }
   },
   "source": [
    "You will work on a simulation experiment outlined in `tutorial_03`."
   ]
  }
 ],
 "metadata": {
  "jupytext": {
   "formats": "ipynb,Rmd"
  },
  "kernelspec": {
   "display_name": "R",
   "language": "R",
   "name": "ir"
  },
  "language_info": {
   "codemirror_mode": "r",
   "file_extension": ".r",
   "mimetype": "text/x-r-source",
   "name": "R",
   "pygments_lexer": "r",
   "version": "4.3.3"
  },
  "latex_envs": {
   "LaTeX_envs_menu_present": true,
   "autoclose": false,
   "autocomplete": true,
   "bibliofile": "biblio.bib",
   "cite_by": "apalike",
   "current_citInitial": 1,
   "eqLabelWithNumbers": true,
   "eqNumInitial": 1,
   "hotkeys": {
    "equation": "Ctrl-E",
    "itemize": "Ctrl-I"
   },
   "labels_anchors": false,
   "latex_user_defs": false,
   "report_style_numbering": false,
   "user_envs_cfg": false
  }
 },
 "nbformat": 4,
 "nbformat_minor": 4
}
