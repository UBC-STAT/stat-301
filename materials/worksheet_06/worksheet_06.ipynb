{
 "cells": [
  {
   "cell_type": "markdown",
   "metadata": {
    "deletable": false,
    "editable": false,
    "nbgrader": {
     "cell_type": "markdown",
     "checksum": "9be0328a5eb29807d7391084e36c5f55",
     "grade": false,
     "grade_id": "cell-f1e1d845873036f4",
     "locked": true,
     "schema_version": 3,
     "solution": false,
     "task": false
    }
   },
   "source": [
    "# Worksheet 06: Goodness of Fit and Nested Models"
   ]
  },
  {
   "cell_type": "markdown",
   "metadata": {
    "deletable": false,
    "editable": false,
    "nbgrader": {
     "cell_type": "markdown",
     "checksum": "caffbbb944f0b79a2e615660f395e77c",
     "grade": false,
     "grade_id": "cell-82d9926086d47a80",
     "locked": true,
     "schema_version": 3,
     "solution": false,
     "task": false
    }
   },
   "source": [
    "#### Lecture and Tutorial Learning Goals:\n",
    "After completing this week's lecture and tutorial work, you will be able to:\n",
    "\n",
    "1. List model metrics that are suitable for evaluation of a statistical model developed to make inferences about the data-generating mechanism (e.g., $R^2$, $\\text{AIC}$, Likelihood ratio test/$F$-test), their strengths and limitations, as well as how they are calculated.\n",
    "2. Write a computer script to calculate these model metrics. Interpret and communicate the results from that computer script.\n",
    "3. Explain how an $F$-test to compare nested models can be used as a variable selection methods."
   ]
  },
  {
   "cell_type": "code",
   "execution_count": null,
   "metadata": {
    "deletable": false,
    "editable": false,
    "nbgrader": {
     "cell_type": "code",
     "checksum": "56310b726e6f8a0ae5058218a182e1d7",
     "grade": false,
     "grade_id": "cell-a2a153352bc44a68",
     "locked": true,
     "schema_version": 3,
     "solution": false,
     "task": false
    },
    "tags": []
   },
   "outputs": [],
   "source": [
    "# Run this cell before continuing.\n",
    "library(tidyverse)\n",
    "library(repr)\n",
    "library(broom)\n",
    "library(leaps)\n",
    "library(moderndive)\n",
    "source(\"tests_worksheet_06.R\")"
   ]
  },
  {
   "cell_type": "markdown",
   "metadata": {
    "deletable": false,
    "editable": false,
    "nbgrader": {
     "cell_type": "markdown",
     "checksum": "6c1cf81bba65a3c62515ea989fd19ebc",
     "grade": false,
     "grade_id": "cell-30d72e348848492c",
     "locked": true,
     "schema_version": 3,
     "solution": false,
     "task": false
    }
   },
   "source": [
    "# Model Evaluation of Generative Models"
   ]
  },
  {
   "cell_type": "markdown",
   "metadata": {
    "deletable": false,
    "editable": false,
    "nbgrader": {
     "cell_type": "markdown",
     "checksum": "b6a55c2ee4424fafe318b24ede9f3c56",
     "grade": false,
     "grade_id": "cell-459184ff51dbea84",
     "locked": true,
     "schema_version": 3,
     "solution": false,
     "task": false
    }
   },
   "source": [
    "In this worksheet, you will learn different methods to evaluate and select appropriate models to make inferences about the data-generating mechanism. In other words, the main goal is to estimate and assess generative models."
   ]
  },
  {
   "cell_type": "markdown",
   "metadata": {
    "deletable": false,
    "editable": false,
    "nbgrader": {
     "cell_type": "markdown",
     "checksum": "db1199d56614cd3d593c28fc51edf293",
     "grade": false,
     "grade_id": "cell-9be71f65643c5906",
     "locked": true,
     "schema_version": 3,
     "solution": false,
     "task": false
    }
   },
   "source": [
    "## Case Study: protein vs mRNA\n",
    "\n",
    "In this section, we will work with a biology case study to learn how to examine the goodness of the fitted model and choose among different nested models. The data and some of the discussions related to this case were published in Nature (see citations below).\n",
    "\n",
    "In 2014, a research group claimed to have found a \"predictive model\" that can predict protein expression from mRNA expression.\n",
    "\n",
    "> Wilhelm, M. et al. Mass-spectrometry-based draft of the human proteome. Nature 509, 582–587 (2014)\n",
    "\n",
    "Although their hypotheses were funded in the Central Dogma of Biology, most experimental results have shown a very low correlation between protein and mRNA values. \n",
    "\n",
    "Further examination of their analysis has shown that their data do not support their claims:\n",
    "\n",
    "> Fortelny N, Overall CM, Pavlidis P, Freue GVC. Can we predict protein from mRNA levels? Nature. 2017 Jul 26;547(7664):E19-E20. doi: 10.1038/nature22293.\n",
    "\n",
    "We'll use data from this group submitted to the Journal to (re) analyze their data and evaluate different models using concepts learned in this course.\n",
    "\n",
    "### Data\n",
    "\n",
    "The technology used did not detect many proteins due to values below the detection limits, and the protein dataset contains many missing values. For simplicity, we will use a set of 1392 genes that were measured in all 12 tissues and thus contain complete data on both protein and mRNA sets. \n",
    "\n",
    "*Run the cell below before continuing to read the data and take a peek at it.* "
   ]
  },
  {
   "cell_type": "code",
   "execution_count": null,
   "metadata": {
    "deletable": false,
    "editable": false,
    "nbgrader": {
     "cell_type": "code",
     "checksum": "292b5084366a95ec55f6d34ab90c9e36",
     "grade": false,
     "grade_id": "cell-c3a6eba286971086",
     "locked": true,
     "schema_version": 3,
     "solution": false,
     "task": false
    },
    "tags": []
   },
   "outputs": [],
   "source": [
    "# Read and take a look at the data.\n",
    "dat_bio <- read.csv(\"data/nature_dat.csv\", row.names = 1, stringsAsFactors=TRUE)\n",
    "str(dat_bio)\n",
    "head(dat_bio,3)\n",
    "tail(dat_bio,3)"
   ]
  },
  {
   "cell_type": "markdown",
   "metadata": {
    "deletable": false,
    "editable": false,
    "nbgrader": {
     "cell_type": "markdown",
     "checksum": "7f9d23a920ed60685b8c8391164d86b7",
     "grade": false,
     "grade_id": "cell-e6b7bf58e2eb7a77",
     "locked": true,
     "schema_version": 3,
     "solution": false,
     "task": false
    }
   },
   "source": [
    "In this long-format dataset, we can think that we have 1392 datasets, one for each gene.\n",
    "\n",
    "> each dataset contains 12 observations, one per tissue, and 2 variables, `prot` and `mrna`, along with an accession number for the gene (`gene`, an ID for each gene) and the name of the tissue (`tissue`, that works as an ID for each observation).\n",
    "\n",
    "*Run the cell below to get the data for gene ENSG00000085733.* "
   ]
  },
  {
   "cell_type": "code",
   "execution_count": null,
   "metadata": {
    "deletable": false,
    "editable": false,
    "nbgrader": {
     "cell_type": "code",
     "checksum": "c09b69ce513dc3d8ff970f3a48e8b2a1",
     "grade": false,
     "grade_id": "cell-28e85de12a1890ed",
     "locked": true,
     "schema_version": 3,
     "solution": false,
     "task": false
    },
    "tags": []
   },
   "outputs": [],
   "source": [
    "(dat_ENSG00000085733 <- \n",
    "    dat_bio %>%\n",
    "    subset(gene == \"ENSG00000085733\"))"
   ]
  },
  {
   "cell_type": "markdown",
   "metadata": {
    "deletable": false,
    "editable": false,
    "nbgrader": {
     "cell_type": "markdown",
     "checksum": "9f23797b471a2366d4ee39015b447304",
     "grade": false,
     "grade_id": "cell-4135e761a8664bad",
     "locked": true,
     "schema_version": 3,
     "solution": false,
     "task": false
    }
   },
   "source": [
    "### Models and Estimation\n",
    "\n",
    "In the paper, the authors used linear regression to estimate the relation between protein and mRNA levels *per gene*. They used that model to predict protein levels *per gene*.\n",
    "\n",
    "> it will be important at a later phase of the analysis to note that models are *gene-specific*\n",
    "\n",
    "**Gene-specific models**: for each gene, they estimated the following model (for simplicity, we do not use a subscript $g$ for gene)  \n",
    "\n",
    "$$\\texttt{prot}_{t} = \\beta_1 \\times \\texttt{mrna}_{t} + \\varepsilon_t$$ \n",
    "\n",
    "where $\\texttt{prot}_{t}$ and $\\texttt{mrna}_{t}$ are the protein and mRNA levels of a gene $g$ in tissue $t$, respectively. In this case, they estimated $\\beta_1$ with $\\hat{\\beta}_1 = \\text{median}(\\texttt{mrna}_{t}\\ / \\ \\texttt{prot}_{t})$.\n",
    "\n",
    "<font color=\"darkred\"> Note that these models do not contain an intercept, and they were not estimated by LS.</font> \n",
    "    \n",
    "While it's true that various models and estimation methods can be applied to the same dataset, it's crucial to assess the results in light of the underlying assumptions and the chosen methodology. \n",
    "    \n",
    "In this worksheet, we will use this same dataset to estimate different models and evaluate their fit with the data."
   ]
  },
  {
   "cell_type": "markdown",
   "metadata": {
    "deletable": false,
    "editable": false,
    "nbgrader": {
     "cell_type": "markdown",
     "checksum": "c33a7c3f907d9e97bad1956168127c87",
     "grade": false,
     "grade_id": "cell-f76d01efb9d4c744",
     "locked": true,
     "schema_version": 3,
     "solution": false,
     "task": false
    }
   },
   "source": [
    "### 1. Gene-specific SLR for one selected gene\n",
    "\n",
    "For each gene $g$, we will use LS to estimate the following SLR:  \n",
    "\n",
    "$$\\texttt{prot}_{t} = \\beta_0 +\\beta_1  \\times \\texttt{mrna}_{t} + \\varepsilon$$ \n",
    "\n",
    "where $\\hat{\\beta}_1$ is estimated by LS. Note that we are including the intercept here. "
   ]
  },
  {
   "cell_type": "markdown",
   "metadata": {
    "deletable": false,
    "editable": false,
    "nbgrader": {
     "cell_type": "markdown",
     "checksum": "f61d694f598c31d8570f48f494e58d06",
     "grade": false,
     "grade_id": "cell-b6e85c5927c1dc25",
     "locked": true,
     "schema_version": 3,
     "solution": false,
     "task": false
    },
    "tags": []
   },
   "source": [
    "**Question 1.0: Visualization of the estimated line**\n",
    "<br>{points: 1}\n",
    "\n",
    "Using data from gene ENSG00000085733 in `dat_ENSG00000085733`, make the scatterplot `prot` versus `mrna` and add the estimated SLR. The `ggplot()` object's name will be `SLR_ENSG00000085733_plot`\n",
    "\n",
    "*Fill out those parts indicated with `...`, uncomment the corresponding code in the cell below, and run it.*"
   ]
  },
  {
   "cell_type": "code",
   "execution_count": null,
   "metadata": {
    "deletable": false,
    "nbgrader": {
     "cell_type": "code",
     "checksum": "2a37130857eb5d86e74b750ff185428c",
     "grade": false,
     "grade_id": "cell-c23cc58da9842616",
     "locked": false,
     "schema_version": 3,
     "solution": true,
     "task": false
    },
    "tags": []
   },
   "outputs": [],
   "source": [
    "# Adjust these numbers so the plot looks good in your desktop.\n",
    "options(repr.plot.width = 8, repr.plot.height = 5) \n",
    "\n",
    "# SLR_ENSG00000085733_plot <- \n",
    "#    ggplot(..., aes(..., ...)) +\n",
    "#    ...() +\n",
    "#    ...(..., se = FALSE, linewidth = 1.5) +\n",
    "#    xlab(...) +\n",
    "#    ylab(...) +\n",
    "#    ggtitle(\"Sample and Estimated SLR for gene ENSG00000085733\") +\n",
    "#    theme(text = element_text(size = 14))\n",
    "\n",
    "# your code here\n",
    "fail() # No Answer - remove if you provide an answer\n",
    "\n",
    "SLR_ENSG00000085733_plot"
   ]
  },
  {
   "cell_type": "code",
   "execution_count": null,
   "metadata": {
    "deletable": false,
    "editable": false,
    "nbgrader": {
     "cell_type": "code",
     "checksum": "4751fc19fd84bf62cacaa3488aad2cab",
     "grade": true,
     "grade_id": "cell-f1a69250e199ce6c",
     "locked": true,
     "points": 1,
     "schema_version": 3,
     "solution": false,
     "task": false
    },
    "tags": []
   },
   "outputs": [],
   "source": [
    "test_1.0()"
   ]
  },
  {
   "cell_type": "markdown",
   "metadata": {
    "deletable": false,
    "editable": false,
    "nbgrader": {
     "cell_type": "markdown",
     "checksum": "9f8c0a390ccbd437639de7212ef1e10b",
     "grade": false,
     "grade_id": "cell-38b13dc576bc33ab",
     "locked": true,
     "schema_version": 3,
     "solution": false,
     "task": false
    },
    "tags": []
   },
   "source": [
    "**Question 1.1**\n",
    "<br>{points: 3}\n",
    "\n",
    "For the selected gene:\n",
    "\n",
    "- 1.1.0 Use `lm()` to obtain the LS estimated coefficients for the selected gene. Call the model `SLR_ENSG00000085733`. \n",
    "\n",
    "- 1.1.1 Use `tidy()` to store all inference quantities from this model in an object called `SLR_ENSG00000085733_results`.\n",
    "\n",
    "*Fill out those parts indicated with `...`, uncomment the corresponding code in the cell below, and run it.*"
   ]
  },
  {
   "cell_type": "code",
   "execution_count": null,
   "metadata": {
    "deletable": false,
    "nbgrader": {
     "cell_type": "code",
     "checksum": "555d64ce384818c10ae35c8e1c0ff758",
     "grade": false,
     "grade_id": "cell-c05f3277a48ee808",
     "locked": false,
     "schema_version": 3,
     "solution": true,
     "task": false
    },
    "tags": []
   },
   "outputs": [],
   "source": [
    "# SLR_ENSG00000085733 <- lm(...,...)\n",
    "# SLR_ENSG00000085733_results <- ...(...)\n",
    "\n",
    "# your code here\n",
    "fail() # No Answer - remove if you provide an answer\n",
    "\n",
    "SLR_ENSG00000085733_results"
   ]
  },
  {
   "cell_type": "code",
   "execution_count": null,
   "metadata": {
    "deletable": false,
    "editable": false,
    "nbgrader": {
     "cell_type": "code",
     "checksum": "3435867d215895cac0b178da7dad2eed",
     "grade": true,
     "grade_id": "cell-5ea5ee0592297e4b",
     "locked": true,
     "points": 3,
     "schema_version": 3,
     "solution": false,
     "task": false
    },
    "tags": []
   },
   "outputs": [],
   "source": [
    "test_1.1.0()\n",
    "test_1.1.1()"
   ]
  },
  {
   "cell_type": "markdown",
   "metadata": {
    "deletable": false,
    "editable": false,
    "nbgrader": {
     "cell_type": "markdown",
     "checksum": "a79718d55ed326bc1f2e3f5cf43c0cf3",
     "grade": false,
     "grade_id": "cell-b0306ce9b39255e8",
     "locked": true,
     "schema_version": 3,
     "solution": false,
     "task": false
    },
    "tags": []
   },
   "source": [
    "**Question 1.2**\n",
    "<br>{points: 2}\n",
    "\n",
    "1.2.0 For the selected gene, use `glance()` to obtain goodness of fit measurements and tests for the fitted model `SLR_ENSG00000085733`. Store the results in an object called `SLR_ENSG00000085733_gof`.\n",
    "\n",
    "1.2.1 You will now write your own code to compute the following quantities given by `glance()`:\n",
    "\n",
    "    - Residuals Sum of Square (RSS)\n",
    "    - Total Sum of Square (TSS)\n",
    "    - R-squared (R2)\n",
    "    - adjusted R-squared (adjR2)\n",
    "    - Residual Standard Error (RSE)\n",
    "\n",
    "*Your answer should be a tibble with one row and 5 columns: `RSS`, `TSS`, `R2`, `adjR2`, and `RSE`. Assign your answer to an object called `my_gof`.* \n",
    "\n",
    "> **Hints**: you can get the residuals by using the `residuals()` function and passing the estimated model, you can use the standard deviation of the observed protein values to compute the TSS)*.  \n",
    "\n",
    "Are your results the same as those computed by `glance()`? \n",
    "\n",
    "*Fill out those parts indicated with `...`, uncomment the corresponding code in the cell below, and run it.*"
   ]
  },
  {
   "cell_type": "code",
   "execution_count": null,
   "metadata": {
    "deletable": false,
    "nbgrader": {
     "cell_type": "code",
     "checksum": "b9cea4b739eded8430529dae6ef7b493",
     "grade": false,
     "grade_id": "cell-52f593f50e45adde",
     "locked": false,
     "schema_version": 3,
     "solution": true,
     "task": false
    },
    "tags": []
   },
   "outputs": [],
   "source": [
    "# n_tissues <- ...\n",
    "\n",
    "# SLR_ENSG00000085733_gof <- ...(...)\n",
    "\n",
    "# my_gof <- \n",
    "#     ... %>% \n",
    "#     mutate(residual = ...) %>%\n",
    "#     summarize(RSS = ...,\n",
    "#               TSS = ...,\n",
    "#               R2 = ..., \n",
    "#               adjR2 = ...,\n",
    "#               RSE = ...)\n",
    "\n",
    "# your code here\n",
    "fail() # No Answer - remove if you provide an answer\n",
    "\n",
    "SLR_ENSG00000085733_gof\n",
    "my_gof"
   ]
  },
  {
   "cell_type": "code",
   "execution_count": null,
   "metadata": {
    "deletable": false,
    "editable": false,
    "nbgrader": {
     "cell_type": "code",
     "checksum": "d478330b9495ba71ac5d2dcec82293b9",
     "grade": true,
     "grade_id": "cell-d76ca69750b31b53",
     "locked": true,
     "points": 2,
     "schema_version": 3,
     "solution": false,
     "task": false
    },
    "tags": []
   },
   "outputs": [],
   "source": [
    "test_1.2.0()\n",
    "test_1.2.1()"
   ]
  },
  {
   "cell_type": "markdown",
   "metadata": {
    "deletable": false,
    "editable": false,
    "nbgrader": {
     "cell_type": "markdown",
     "checksum": "e89211d3795d36c8a1f3d287861d4301",
     "grade": false,
     "grade_id": "cell-eaa6c4456b1dcd1b",
     "locked": true,
     "schema_version": 3,
     "solution": false,
     "task": false
    },
    "tags": []
   },
   "source": [
    "**Question 1.3**\n",
    "<br>{points: 1}\n",
    "\n",
    "The output of `glance()` includes a $p$-value corresponding to a hypothesis test that compares the proposed SLR $\\texttt{prot}_t=\\beta_0 + \\beta_1 \\texttt{mrna}_{t} + \\varepsilon_t$ with a reduced (null) model. Which of the following models is the null model in this comparison?\n",
    "\n",
    "**A.** $\\texttt{prot}_t=\\beta_0 + \\varepsilon_t$ \n",
    "\n",
    "**B.** $\\texttt{prot}_t=\\beta_0 + \\beta_1 \\texttt{gene}_{t} + \\varepsilon_t$ \n",
    "\n",
    "**C.** $\\texttt{prot}_t=\\beta_0 + \\beta_1 \\texttt{gene}_{t} + \\beta_2 \\texttt{mrna}_{t} + \\varepsilon_t$ \n",
    "\n",
    "*Assign your answer to an object called `answer1.3`. Your answer should be one of `\"A\"`, `\"B\"`, or `\"C\"` surrounded by quotes.*"
   ]
  },
  {
   "cell_type": "code",
   "execution_count": null,
   "metadata": {
    "deletable": false,
    "nbgrader": {
     "cell_type": "code",
     "checksum": "11143cdba8a0594ae5b7d8e0d0988e99",
     "grade": false,
     "grade_id": "cell-7ff1d5b6dd3bb3ca",
     "locked": false,
     "schema_version": 3,
     "solution": true,
     "task": false
    },
    "tags": []
   },
   "outputs": [],
   "source": [
    "# answer1.3 <-\n",
    "\n",
    "# your code here\n",
    "fail() # No Answer - remove if you provide an answer"
   ]
  },
  {
   "cell_type": "code",
   "execution_count": null,
   "metadata": {
    "deletable": false,
    "editable": false,
    "nbgrader": {
     "cell_type": "code",
     "checksum": "cbe32f9a2dfff992cb423d0fbf8030cd",
     "grade": true,
     "grade_id": "cell-20e11a935946c142",
     "locked": true,
     "points": 1,
     "schema_version": 3,
     "solution": false,
     "task": false
    },
    "tags": []
   },
   "outputs": [],
   "source": [
    "test_1.3()"
   ]
  },
  {
   "cell_type": "markdown",
   "metadata": {
    "deletable": false,
    "editable": false,
    "nbgrader": {
     "cell_type": "markdown",
     "checksum": "90635ec685fc9ab2fe6a2ed6f8cfbdb2",
     "grade": false,
     "grade_id": "cell-c02c0296af3d1722",
     "locked": true,
     "schema_version": 3,
     "solution": false,
     "task": false
    },
    "tags": []
   },
   "source": [
    "**Question 1.4**\n",
    "<br>{points: 1}\n",
    "\n",
    "Select the code(s) that can be used to compute the same test as that included in the output of `glance()`:\n",
    "\n",
    "**A.** `anova(lm(prot ~ 1, dat_ENSG00000085733))`\n",
    "\n",
    "**B.** `anova(lm(prot ~ 1, dat_ENSG00000085733), lm(prot ~ mrna, dat_ENSG00000085733))`\n",
    "\n",
    "**C.** `tidy(lm(prot ~ mrna, dat_ENSG00000085733)) %>% filter(term == 'mrna') %>% pull(p.value)`\n",
    "\n",
    "*Assign your answer to an object called `answer1.4`. Your answers have to be included in a single string indicating the correct options in alphabetical order and surrounded by quotes (e.g., `\"ABC\"` indicates you are selecting the three options).*"
   ]
  },
  {
   "cell_type": "code",
   "execution_count": null,
   "metadata": {
    "deletable": false,
    "nbgrader": {
     "cell_type": "code",
     "checksum": "728382fc4ac5538f845c1ff17683b97a",
     "grade": false,
     "grade_id": "cell-1cfade5ebf2dbb30",
     "locked": false,
     "schema_version": 3,
     "solution": true,
     "task": false
    },
    "tags": []
   },
   "outputs": [],
   "source": [
    "# answer1.4 <-\n",
    "\n",
    "# your code here\n",
    "fail() # No Answer - remove if you provide an answer"
   ]
  },
  {
   "cell_type": "code",
   "execution_count": null,
   "metadata": {
    "deletable": false,
    "editable": false,
    "nbgrader": {
     "cell_type": "code",
     "checksum": "fa867f05809ea5adcfc0855dd5532830",
     "grade": true,
     "grade_id": "cell-10712f928dbb5402",
     "locked": true,
     "points": 1,
     "schema_version": 3,
     "solution": false,
     "task": false
    },
    "tags": []
   },
   "outputs": [],
   "source": [
    "test_1.4()"
   ]
  },
  {
   "cell_type": "markdown",
   "metadata": {
    "deletable": false,
    "editable": false,
    "nbgrader": {
     "cell_type": "markdown",
     "checksum": "dee0f88a8bdcb027959d8816e70c50de",
     "grade": false,
     "grade_id": "cell-ffbd231cc330cd79",
     "locked": true,
     "schema_version": 3,
     "solution": false,
     "task": false
    },
    "tags": []
   },
   "source": [
    "**Question 1.5**\n",
    "<br>{points: 1}\n",
    "\n",
    "Based on the results of the goodness-of-fit measurements obtained for the estimated SLR for gene `dat_ENSG00000085733`, select all the true claims:\n",
    "\n",
    "**A.** These results suggest that for the selected gene, a gene-specific model explains less than 6% of the observed variation in protein abundance. \n",
    "\n",
    "**B.** A gene-specific model fits the data well. \n",
    "\n",
    "**C.** It now becomes possible to predict protein abundance in any given tissue with good accuracy from the measured mRNA for any gene.  \n",
    "\n",
    "**D.** Using $5\\%$ significance level, there is not enough evidence that the gene-specific SLR using `mrna` as an input is better than using the average protein level to predict protein abundances.\n",
    "\n",
    "*Assign your answer to an object called `answer1.5`. Your answers have to be included in a single string indicating the correct options in alphabetical order and surrounded by quotes (e.g., `\"ABCD\"` indicates you are selecting the four options).*"
   ]
  },
  {
   "cell_type": "code",
   "execution_count": null,
   "metadata": {
    "deletable": false,
    "nbgrader": {
     "cell_type": "code",
     "checksum": "8aad39343967ae2bb280ba3ed5f64c55",
     "grade": false,
     "grade_id": "cell-ab28b7843d179481",
     "locked": false,
     "schema_version": 3,
     "solution": true,
     "task": false
    },
    "tags": []
   },
   "outputs": [],
   "source": [
    "# answer1.5 <-\n",
    "\n",
    "# your code here\n",
    "fail() # No Answer - remove if you provide an answer"
   ]
  },
  {
   "cell_type": "code",
   "execution_count": null,
   "metadata": {
    "deletable": false,
    "editable": false,
    "nbgrader": {
     "cell_type": "code",
     "checksum": "d841f78852406c4b6a15dc5db922e815",
     "grade": true,
     "grade_id": "cell-afa5092f5e23c8f0",
     "locked": true,
     "points": 1,
     "schema_version": 3,
     "solution": false,
     "task": false
    },
    "tags": []
   },
   "outputs": [],
   "source": [
    "test_1.5()"
   ]
  },
  {
   "cell_type": "markdown",
   "metadata": {
    "deletable": false,
    "editable": false,
    "nbgrader": {
     "cell_type": "markdown",
     "checksum": "ee93ca5950d845c5a2ac1fc752f8f854",
     "grade": false,
     "grade_id": "cell-68e9eecc55019cda",
     "locked": true,
     "schema_version": 3,
     "solution": false,
     "task": false
    }
   },
   "source": [
    "### F-test and t-test for a SLR\n",
    "\n",
    "Note that in this simple case, the only difference between the reduced and the full model is the term with $\\beta_1$. Therefore, we are basically testing if $\\beta_1$ is different from zero. i.e., $H_0: \\beta_1 = 0$. Same as before. \n",
    "\n",
    "Note the $p$-values are the same. This is not a coincidence. When we test only one parameter: $t^2 = F$"
   ]
  },
  {
   "cell_type": "markdown",
   "metadata": {},
   "source": [
    "*Remember that this is *only 1* gene in the dataset, but there are 1391 more genes.* Results may be different for other genes."
   ]
  },
  {
   "cell_type": "markdown",
   "metadata": {
    "deletable": false,
    "editable": false,
    "nbgrader": {
     "cell_type": "markdown",
     "checksum": "bc42eccc92d486752d4a743f01181adb",
     "grade": false,
     "grade_id": "cell-4166dc30d7557b4f",
     "locked": true,
     "schema_version": 3,
     "solution": false,
     "task": false
    }
   },
   "source": [
    "### 2. Many gene-specific SLR models"
   ]
  },
  {
   "cell_type": "markdown",
   "metadata": {
    "deletable": false,
    "editable": false,
    "nbgrader": {
     "cell_type": "markdown",
     "checksum": "f46a8c0e3029b358d77f6ddd0545fc55",
     "grade": false,
     "grade_id": "cell-79247febad83752b",
     "locked": true,
     "schema_version": 3,
     "solution": false,
     "task": false
    }
   },
   "source": [
    "**Question 2.0**\n",
    "<br>{points: 1}\n",
    "\n",
    "In this problem, you will: \n",
    "\n",
    "- fit 1392 SLR, one for each gene in the dataset using `lm()` and `group_by()`\n",
    "\n",
    "- compute the $R^2$ for each gene and estimated SLR using the function `glance()`\n",
    "\n",
    "- select the columns `gene`, `r.squared` and `p.value`. Store them in an object called `summary_gof`\n",
    "\n",
    "*Fill out those parts indicated with `...`, uncomment the corresponding code in the cell below, and run it.*"
   ]
  },
  {
   "cell_type": "code",
   "execution_count": null,
   "metadata": {
    "deletable": false,
    "nbgrader": {
     "cell_type": "code",
     "checksum": "4cd76b8be4adcb7e78663611a4ca2086",
     "grade": false,
     "grade_id": "cell-30b40631b6494c74",
     "locked": false,
     "schema_version": 3,
     "solution": true,
     "task": false
    },
    "tags": []
   },
   "outputs": [],
   "source": [
    "# dat_glance <- \n",
    "#     dat_bio %>% \n",
    "#     group_by(...) %>% \n",
    "#     do(glance(...(... ~ ..., data = .))) \n",
    "\n",
    "# summary_gof <- \n",
    "#     dat_glance %>% \n",
    "#     select(..., ..., ...)\n",
    "\n",
    "# your code here\n",
    "fail() # No Answer - remove if you provide an answer\n",
    "\n",
    "tail(summary_gof, 8)"
   ]
  },
  {
   "cell_type": "code",
   "execution_count": null,
   "metadata": {
    "deletable": false,
    "editable": false,
    "nbgrader": {
     "cell_type": "code",
     "checksum": "2ade93ad6cb031a3b2a438d3bc9f1bf3",
     "grade": true,
     "grade_id": "cell-b3ad10a8f196443d",
     "locked": true,
     "points": 1,
     "schema_version": 3,
     "solution": false,
     "task": false
    },
    "tags": []
   },
   "outputs": [],
   "source": [
    "test_2.0()"
   ]
  },
  {
   "cell_type": "markdown",
   "metadata": {
    "deletable": false,
    "editable": false,
    "nbgrader": {
     "cell_type": "markdown",
     "checksum": "60f8ac38b54f38393c3ba3d599550b27",
     "grade": false,
     "grade_id": "cell-dfaabf410163976a",
     "locked": true,
     "schema_version": 3,
     "solution": false,
     "task": false
    }
   },
   "source": [
    "#### Visualization of results \n",
    "\n",
    "We have computed 1392 coefficients of determination, one for each *gene-specific* fitted model. Let's visualize the results using a histogram of the coefficients of determination."
   ]
  },
  {
   "cell_type": "code",
   "execution_count": null,
   "metadata": {
    "deletable": false,
    "editable": false,
    "nbgrader": {
     "cell_type": "code",
     "checksum": "b80c090248bc4d9b7c5ce7ab2b9c58b6",
     "grade": false,
     "grade_id": "cell-0dd8c3a8d46da2f2",
     "locked": true,
     "schema_version": 3,
     "solution": false,
     "task": false
    },
    "tags": []
   },
   "outputs": [],
   "source": [
    "hist_slr_r2 <- \n",
    "    summary_gof  %>% \n",
    "    ggplot(aes(x=r.squared)) + \n",
    "    geom_histogram(color=\"white\", bins=20) + \n",
    "    geom_vline(xintercept=median(summary_gof$r.squared, na.rm=T),color=\"red\") +\n",
    "    labs(title = \"R² of gene-specific LS models\",\n",
    "         x = \"R²\",\n",
    "         y = \"Count\") +\n",
    "    xlim(0, 1)\n",
    "\n",
    "hist_slr_r2"
   ]
  },
  {
   "cell_type": "markdown",
   "metadata": {
    "deletable": false,
    "editable": false,
    "nbgrader": {
     "cell_type": "markdown",
     "checksum": "07d59e4192799e91e2c34ab5862d4125",
     "grade": false,
     "grade_id": "cell-d9d98e89fc0d5560",
     "locked": true,
     "schema_version": 3,
     "solution": false,
     "task": false
    }
   },
   "source": [
    "**Question 2.1**\n",
    "<br>{points: 1}\n",
    "\n",
    "In the following claims, a \"gene-specific model\" refers to an SLR using `mrna` as an input variable and estimated by LS for each gene.\n",
    "\n",
    "Select all valid claims based on the $R^2$ computed for each gene.\n",
    "\n",
    "**A.** These results suggest that the quality of the proposed models varies greatly across genes. A gene-specific model explains more than 80% of the observed variation in protein abundance for some genes. However, for more than half of the genes, it explains less than 15% of the observed variation in protein levels.\n",
    "\n",
    "**B.** For the majority of the genes, a gene-specific model fits the data well. \n",
    "\n",
    "**C.** With the suggested gene-specific models, it now becomes possible to predict protein abundance in any given tissue with good accuracy from the measured mRNA for any gene.  \n",
    "\n",
    "**D.** For gene ENSG00000262246, the gene-specific model explains approximately 87% of the observed variation in protein abundance, making `mrna` statistically significant.\n",
    "\n",
    "*Assign your answer to an object called `answer2.1`. Your answer should be one of `\"A\"`, `\"B\"`, `\"C\"`, or `\"D\"` surrounded by quotes.*"
   ]
  },
  {
   "cell_type": "code",
   "execution_count": null,
   "metadata": {
    "deletable": false,
    "nbgrader": {
     "cell_type": "code",
     "checksum": "aee3be7ba3ee12297ac4dfdd3e19c5de",
     "grade": false,
     "grade_id": "cell-6f09b9a6725554ff",
     "locked": false,
     "schema_version": 3,
     "solution": true,
     "task": false
    },
    "tags": []
   },
   "outputs": [],
   "source": [
    "# answer2.1 <- \n",
    "\n",
    "# your code here\n",
    "fail() # No Answer - remove if you provide an answer"
   ]
  },
  {
   "cell_type": "code",
   "execution_count": null,
   "metadata": {
    "deletable": false,
    "editable": false,
    "nbgrader": {
     "cell_type": "code",
     "checksum": "54a6eb0b45ed4f1fd8bd0ccd0d107bbe",
     "grade": true,
     "grade_id": "cell-7c63e0b50f9f1aca",
     "locked": true,
     "points": 1,
     "schema_version": 3,
     "solution": false,
     "task": false
    },
    "tags": []
   },
   "outputs": [],
   "source": [
    "test_2.1()"
   ]
  },
  {
   "cell_type": "markdown",
   "metadata": {
    "deletable": false,
    "editable": false,
    "nbgrader": {
     "cell_type": "markdown",
     "checksum": "1df2df64c159a0b5c7bfa80773907c3e",
     "grade": false,
     "grade_id": "cell-e0a944bf45f4d345",
     "locked": true,
     "schema_version": 3,
     "solution": false,
     "task": false
    },
    "tags": []
   },
   "source": [
    "**Question 2.2**\n",
    "<br>{points: 1}\n",
    "\n",
    "The $R^2$ provides a measure for the goodness-of-fit for each model but is not a statistical test. In this exercise, you will examine the $p$-values from the $F$-tests for each gene. Each of these tests compares the full model with an intercept-only model. For these simple particular models, the null hypothesis is:\n",
    "\n",
    "$H_0: \\beta_1 = 0$\n",
    "\n",
    "Plot a histogram of the $p$-values from all gene-specific SLRs. Add a solid blue vertical line with the median of the $p$-values displayed and a dotted red line for a threshold value 0.05.\n",
    "\n",
    "*Fill out those parts indicated with `...`, uncomment the corresponding code in the cell below, and run it.*"
   ]
  },
  {
   "cell_type": "code",
   "execution_count": null,
   "metadata": {
    "deletable": false,
    "nbgrader": {
     "cell_type": "code",
     "checksum": "be3a1a36667359ae43c51c72bb47d1d0",
     "grade": false,
     "grade_id": "cell-44d9b6ea19ad3cb8",
     "locked": false,
     "schema_version": 3,
     "solution": true,
     "task": false
    },
    "tags": []
   },
   "outputs": [],
   "source": [
    "#hist_slr_F <- summary_gof  %>% \n",
    "#  ggplot(aes(x = ...)) + \n",
    "#  geom_...(color = \"white\", binwidth = 0.05, boundary = 0) + \n",
    "#  geom_...(xintercept = median(summary_gof$..., na.rm = T), color = \"blue\") +\n",
    "#  ...(xintercept = ..., linetype = 2, color = \"red\") +\n",
    "#  labs(\n",
    "#    title = \"F-test of gene-specific SLR models\",\n",
    "#    x = \"pvalue\",\n",
    "#    y = \"Count\")+\n",
    "#  xlim(0, 1)\n",
    "\n",
    "# your code here\n",
    "fail() # No Answer - remove if you provide an answer\n",
    "\n",
    "hist_slr_F"
   ]
  },
  {
   "cell_type": "code",
   "execution_count": null,
   "metadata": {
    "deletable": false,
    "editable": false,
    "nbgrader": {
     "cell_type": "code",
     "checksum": "9ba91a3dd74528012f8537d6b435421d",
     "grade": true,
     "grade_id": "cell-0232ba9327c6a3f6",
     "locked": true,
     "points": 1,
     "schema_version": 3,
     "solution": false,
     "task": false
    },
    "tags": []
   },
   "outputs": [],
   "source": [
    "test_2.2()"
   ]
  },
  {
   "cell_type": "markdown",
   "metadata": {
    "deletable": false,
    "editable": false,
    "nbgrader": {
     "cell_type": "markdown",
     "checksum": "ec4c04d298fc6b0a2ab99e2fa6afe80d",
     "grade": false,
     "grade_id": "cell-c580661242549a2e",
     "locked": true,
     "schema_version": 3,
     "solution": false,
     "task": false
    },
    "tags": []
   },
   "source": [
    "**Question 2.3**\n",
    "<br>{points: 1}\n",
    "\n",
    "Looking at the histogram in *Question 2.2* we conclude that for the majority of the genes, a gene-specific model with `mrna` as an input is significantly better than an intercept-only model.\n",
    "\n",
    "TRUE or FALSE?\n",
    "\n",
    "*Assign your answer to an object called answer2.3 Your answer should be either \"true\" or \"false\", surrounded by quotes.*"
   ]
  },
  {
   "cell_type": "code",
   "execution_count": null,
   "metadata": {
    "deletable": false,
    "nbgrader": {
     "cell_type": "code",
     "checksum": "68e9645270ed37b30ad3c6d22d789577",
     "grade": false,
     "grade_id": "cell-8af3f1c68b0e62a7",
     "locked": false,
     "schema_version": 3,
     "solution": true,
     "task": false
    },
    "tags": []
   },
   "outputs": [],
   "source": [
    "# answer2.3 <- \n",
    "\n",
    "# your code here\n",
    "fail() # No Answer - remove if you provide an answer"
   ]
  },
  {
   "cell_type": "code",
   "execution_count": null,
   "metadata": {
    "deletable": false,
    "editable": false,
    "nbgrader": {
     "cell_type": "code",
     "checksum": "f28686ab5939b130b9995dd5e535c520",
     "grade": true,
     "grade_id": "cell-f2bf502e0b4969cb",
     "locked": true,
     "points": 1,
     "schema_version": 3,
     "solution": false,
     "task": false
    },
    "tags": []
   },
   "outputs": [],
   "source": [
    "test_2.3()"
   ]
  },
  {
   "cell_type": "markdown",
   "metadata": {
    "deletable": false,
    "editable": false,
    "nbgrader": {
     "cell_type": "markdown",
     "checksum": "b310c7260e3d74b44ce1a729515a8caf",
     "grade": false,
     "grade_id": "cell-5a3e26705d4f1410",
     "locked": true,
     "schema_version": 3,
     "solution": false,
     "task": false
    },
    "tags": []
   },
   "source": [
    "### 3. Other LR models\n",
    "\n",
    "The authors claimed that it is fundamental to consider different models for different genes. In the previous exercises, you fit different models, grouping the data by levels of `gene`. However, in previous worksheets, we noticed that we can fit different LRs for each level of a categorical variable simultaneously, adding dummy variables in the model. For simplicity, we will use a dataset with only 3 genes, called `dat_3genes`.  \n",
    "\n",
    "Let's first outline different models that can be considered to model data from different genes."
   ]
  },
  {
   "cell_type": "markdown",
   "metadata": {
    "deletable": false,
    "editable": false,
    "nbgrader": {
     "cell_type": "markdown",
     "checksum": "2a6b3fdf0bffe6e6cd11b4a6d2379c78",
     "grade": false,
     "grade_id": "cell-0e0703b41e37a2f6",
     "locked": true,
     "schema_version": 3,
     "solution": false,
     "task": false
    },
    "tags": []
   },
   "source": [
    "**Question 3.0**\n",
    "<br>{points: 1}\n",
    "\n",
    "Consider the following models:\n",
    "\n",
    "- model.1: $\\text{prot}_t=\\beta_0 + \\varepsilon_t$ \n",
    "\n",
    "- model.2:  $\\text{prot}_t=\\beta_0 + \\beta_1 \\text{mrna}_{t} + \\varepsilon_t$ \n",
    "\n",
    "- model.3:  $\\text{prot}_t=\\beta_0 + \\beta_2 \\text{gene2}_{t} + \\beta_3 \\text{gene3}_{t} + \\varepsilon_t$ \n",
    "\n",
    "- model.4:  $\\text{prot}_t=\\beta_0 + \\beta_1 \\text{mrna}_{t} + \\beta_2 \\text{gene2}_{t} + \\beta_3 \\text{gene3}_{t} + \\varepsilon_t$ \n",
    "\n",
    "- model.5:  $\\text{prot}_t=\\beta_0 + \\beta_1 \\text{mrna}_{t} + \\beta_2 \\text{gene2}_{t} + \\beta_3 \\text{gene3}_{t} + \\beta_4 \\text{gene2}_{t}\\text{mrna}_{t} + \\beta_5 \\text{gene3}_{t}\\text{mrna}_{t} + \\varepsilon_t$ \n",
    "\n",
    "In previous worksheets, you've learned how to fit and interpret these models. Match the equations to the codes you can use to estimate these models using `dat_3genes`:\n",
    "\n",
    "**A.** `lm(prot ~ mrna * gene, dat_3genes)`\n",
    "\n",
    "**B.** `lm(prot ~ gene, dat_3genes)`\n",
    "\n",
    "**C.** `lm(prot ~ mrna + gene, dat_3genes)`\n",
    "\n",
    "**D.** `lm(prot ~ 1, dat_3genes)`\n",
    "\n",
    "**E.** `lm(prot ~ mrna, dat_3genes)`\n",
    "\n",
    "\n",
    "*Assign your answers to the objects `model.1`, `model.2`, `model.3`, `model.4`, and `model.5`. Your answer should each be a single character (`\"A\"`, `\"B\"`, `\"C\"`, `\"D\"`, or `\"E\"`) surrounded by quotes.*"
   ]
  },
  {
   "cell_type": "code",
   "execution_count": null,
   "metadata": {
    "deletable": false,
    "nbgrader": {
     "cell_type": "code",
     "checksum": "04a5d3f7772844189eb56a46f23e6b2e",
     "grade": false,
     "grade_id": "cell-a9eead27577f67a5",
     "locked": false,
     "schema_version": 3,
     "solution": true,
     "task": false
    },
    "tags": []
   },
   "outputs": [],
   "source": [
    "# model.1 <- ...\n",
    "# model.2 <- ...\n",
    "# model.3 <- ...\n",
    "# model.4 <- ...\n",
    "# model.5 <- ...\n",
    "\n",
    "# your code here\n",
    "fail() # No Answer - remove if you provide an answer"
   ]
  },
  {
   "cell_type": "code",
   "execution_count": null,
   "metadata": {
    "deletable": false,
    "editable": false,
    "nbgrader": {
     "cell_type": "code",
     "checksum": "ae4191e0c3cc7c166e54ff67bfb7447c",
     "grade": true,
     "grade_id": "cell-eb9a5dd6f9b891ce",
     "locked": true,
     "points": 1,
     "schema_version": 3,
     "solution": false,
     "task": false
    },
    "tags": []
   },
   "outputs": [],
   "source": [
    "test_3.0()"
   ]
  },
  {
   "cell_type": "markdown",
   "metadata": {
    "deletable": false,
    "editable": false,
    "nbgrader": {
     "cell_type": "markdown",
     "checksum": "2f4676e25d7acf0b37a867d08634d825",
     "grade": false,
     "grade_id": "cell-47b313837db7eed1",
     "locked": true,
     "schema_version": 3,
     "solution": false,
     "task": false
    },
    "tags": []
   },
   "source": [
    "Let's randomly select 3 genes to run some analyses:"
   ]
  },
  {
   "cell_type": "code",
   "execution_count": null,
   "metadata": {
    "deletable": false,
    "editable": false,
    "nbgrader": {
     "cell_type": "code",
     "checksum": "9002fb8e35c754e0abbf008695c1be48",
     "grade": false,
     "grade_id": "cell-5ca588daa7120836",
     "locked": true,
     "schema_version": 3,
     "solution": false,
     "task": false
    },
    "tags": []
   },
   "outputs": [],
   "source": [
    "#run this cell\n",
    "set.seed(561)\n",
    "dat_3genes <- \n",
    "    dat_bio %>%\n",
    "    filter(gene %in% sample(gene, 3)) "
   ]
  },
  {
   "cell_type": "markdown",
   "metadata": {
    "deletable": false,
    "editable": false,
    "nbgrader": {
     "cell_type": "markdown",
     "checksum": "8b39f4e41c3ca0d089845d0b8978c121",
     "grade": false,
     "grade_id": "cell-b274ebba90dde81b",
     "locked": true,
     "schema_version": 3,
     "solution": false,
     "task": false
    },
    "tags": []
   },
   "source": [
    "**Question 3.1**\n",
    "<br>{points: 2}\n",
    "\n",
    "Using the data from the 3 selected genes in `dat_3genes`, fit a model with interaction terms (`model.5`). Store the results in an object called `mlr_3genes_int`.\n",
    "\n",
    "Use `tidy()` to obtain a table with results from the LS estimation and inference, call the output `mlr_3genes_int_results`.\n",
    "\n",
    "Use `glance()` to obtain goodness-of-fit for this model; call the output `mlr_3genes_int_gof`. "
   ]
  },
  {
   "cell_type": "code",
   "execution_count": null,
   "metadata": {
    "deletable": false,
    "nbgrader": {
     "cell_type": "code",
     "checksum": "87e65ab7f82caf3f01ff6ee5fb79e58f",
     "grade": false,
     "grade_id": "cell-5f1240b71f992980",
     "locked": false,
     "schema_version": 3,
     "solution": true,
     "task": false
    },
    "tags": []
   },
   "outputs": [],
   "source": [
    "#mlr_3genes_int <- ...(...~ ..., data = ...)\n",
    "\n",
    "#mlr_3genes_int_results <- tidy(...)\n",
    "\n",
    "# mlr_3genes_int_gof <- \n",
    "#     glance(...) %>%\n",
    "#     round(3)\n",
    "\n",
    "# your code here\n",
    "fail() # No Answer - remove if you provide an answer\n",
    "\n",
    "mlr_3genes_int_results\n",
    "mlr_3genes_int_gof"
   ]
  },
  {
   "cell_type": "code",
   "execution_count": null,
   "metadata": {
    "deletable": false,
    "editable": false,
    "nbgrader": {
     "cell_type": "code",
     "checksum": "811028de20b0990dde2b4836a137c3fd",
     "grade": true,
     "grade_id": "cell-17675f9b1e991ece",
     "locked": true,
     "points": 2,
     "schema_version": 3,
     "solution": false,
     "task": false
    },
    "tags": []
   },
   "outputs": [],
   "source": [
    "test_3.1.0()\n",
    "test_3.1.1()"
   ]
  },
  {
   "cell_type": "markdown",
   "metadata": {
    "deletable": false,
    "editable": false,
    "nbgrader": {
     "cell_type": "markdown",
     "checksum": "e9ae0fa15d617762d0212b055858a116",
     "grade": false,
     "grade_id": "cell-0b072a63d9248e64",
     "locked": true,
     "schema_version": 3,
     "solution": false,
     "task": false
    },
    "tags": []
   },
   "source": [
    "**Question 3.2**\n",
    "<br>{points: 1}\n",
    "\n",
    "The output of `glance()` for the model with interaction includes the $p$-value of a test of hypothesis. Which null hypothesis is tested?\n",
    "\n",
    "**A.** $H_0: \\beta_2 = \\beta_3 = 0$ vs. $H_1: \\text{at least one } \\beta_j \\neq 0 \\text{ (for } $j = 2, 3$ \\text{)}$\n",
    "\n",
    "**B.** $H_0: \\beta_4 = \\beta_5 = 0$ vs. $H_1: \\text{at least one } \\beta_j \\neq 0 \\text{ (for } $j = 4, 5$ \\text{)}$\n",
    "\n",
    "**C.** $H_0: \\beta_0 = \\beta_1 = \\beta_2 = \\beta_3 = \\beta_4 = \\beta_5 = 0$ vs. $H_1: \\text{at least one } \\beta_j \\neq 0 \\text{ (for } $j = 0, 1, 2, 3, 4, 5$ \\text{)}$\n",
    "\n",
    "**D.** $H_0: \\beta_1 = \\beta_2 = \\beta_3 = \\beta_4 = \\beta_5 = 0$ vs. $H_1: \\text{at least one } \\beta_j \\neq 0 \\text{ (for } $j = 1, 2, 3, 4, 5$ \\text{)}$\n",
    "\n",
    "**E.** $H_0: \\hat{\\beta}_2 = \\hat{\\beta}_3 = 0$ vs. $H_1: \\text{at least one } \\hat{\\beta}_j \\neq 0 \\text{ (for } $j = 2, 3$ \\text{)}$\n",
    "\n",
    "*Assign your answer to an object called `answer3.2`. Your answer should be one of `\"A\"`, `\"B\"`, `\"C\"`, `\"D\"` or `\"E\"` surrounded by quotes.*"
   ]
  },
  {
   "cell_type": "code",
   "execution_count": null,
   "metadata": {
    "deletable": false,
    "nbgrader": {
     "cell_type": "code",
     "checksum": "c2c82524372c48166aca419fcf19ef78",
     "grade": false,
     "grade_id": "cell-477c4ef09e58a3e4",
     "locked": false,
     "schema_version": 3,
     "solution": true,
     "task": false
    },
    "tags": []
   },
   "outputs": [],
   "source": [
    "# answer3.2 <- \n",
    "\n",
    "# your code here\n",
    "fail() # No Answer - remove if you provide an answer"
   ]
  },
  {
   "cell_type": "code",
   "execution_count": null,
   "metadata": {
    "deletable": false,
    "editable": false,
    "nbgrader": {
     "cell_type": "code",
     "checksum": "b6a96cf61fd9f1d639a27b1da4c439c2",
     "grade": true,
     "grade_id": "cell-3ea3c3b5606f7047",
     "locked": true,
     "points": 1,
     "schema_version": 3,
     "solution": false,
     "task": false
    },
    "tags": []
   },
   "outputs": [],
   "source": [
    "test_3.2()"
   ]
  },
  {
   "cell_type": "markdown",
   "metadata": {
    "deletable": false,
    "editable": false,
    "nbgrader": {
     "cell_type": "markdown",
     "checksum": "aaace6e156df6383ac8c314783574184",
     "grade": false,
     "grade_id": "cell-0fbccf4edd998dda",
     "locked": true,
     "schema_version": 3,
     "solution": false,
     "task": false
    }
   },
   "source": [
    "**Question 3.3**\n",
    "<br>{points: 1}\n",
    "\n",
    "Use the function `anova()` to reproduce the test in **Question 3.2** using `dat_3genes`. \n",
    "\n",
    "Store $F$-test and its correspoinding $p$-value in an object called `Ftest_3genes_interaction`.\n",
    "\n",
    "*Fill out those parts indicated with `...`, uncomment the corresponding code in the cell below, and run it.*"
   ]
  },
  {
   "cell_type": "code",
   "execution_count": null,
   "metadata": {
    "deletable": false,
    "nbgrader": {
     "cell_type": "code",
     "checksum": "1bc11cf027048da22bb6ccf50e8ba443",
     "grade": false,
     "grade_id": "cell-20ab328a3e81d820",
     "locked": false,
     "schema_version": 3,
     "solution": true,
     "task": false
    },
    "tags": []
   },
   "outputs": [],
   "source": [
    "# Ftest_3genes_interaction  <- ...(..., ...)  \n",
    "\n",
    "# your code here\n",
    "fail() # No Answer - remove if you provide an answer\n",
    "\n",
    "Ftest_3genes_interaction "
   ]
  },
  {
   "cell_type": "code",
   "execution_count": null,
   "metadata": {
    "deletable": false,
    "editable": false,
    "nbgrader": {
     "cell_type": "code",
     "checksum": "3b5e90460e339d7911a7904361823c0d",
     "grade": true,
     "grade_id": "cell-727820da4a4d0b48",
     "locked": true,
     "points": 1,
     "schema_version": 3,
     "solution": false,
     "task": false
    },
    "tags": []
   },
   "outputs": [],
   "source": [
    "test_3.3()"
   ]
  },
  {
   "cell_type": "markdown",
   "metadata": {
    "deletable": false,
    "editable": false,
    "nbgrader": {
     "cell_type": "markdown",
     "checksum": "15e5b298794195731b27e2eeb5a66d25",
     "grade": false,
     "grade_id": "cell-533bd8c35b5c0851",
     "locked": true,
     "schema_version": 3,
     "solution": false,
     "task": false
    },
    "tags": []
   },
   "source": [
    "**Question 3.4**\n",
    "<br>{points: 1}\n",
    "\n",
    "Which of the following claims is correct based on the results from  *Question 3.3*.\n",
    "\n",
    "**A.** The three linear regressions are statistically significant.\n",
    "\n",
    "**B.** There is enough evidence to reject the null hypothesis that the model with interaction terms (`model.5`) is equivalent to an intercept-only model (`model.1`)\n",
    "\n",
    "**C.** `mrna` is statistically significant.\n",
    "\n",
    "\n",
    "*Assign your answer to an object called `answer3.4`. Your answer should be one of `\"A\"`, `\"B\"`, or `\"C\"` surrounded by quotes.*"
   ]
  },
  {
   "cell_type": "code",
   "execution_count": null,
   "metadata": {
    "deletable": false,
    "nbgrader": {
     "cell_type": "code",
     "checksum": "3dad10375d65566579fcfc8e6964e067",
     "grade": false,
     "grade_id": "cell-a0b0accd3b2e1b8a",
     "locked": false,
     "schema_version": 3,
     "solution": true,
     "task": false
    },
    "tags": []
   },
   "outputs": [],
   "source": [
    "# answer3.4 <- \n",
    "\n",
    "# your code here\n",
    "fail() # No Answer - remove if you provide an answer"
   ]
  },
  {
   "cell_type": "code",
   "execution_count": null,
   "metadata": {
    "deletable": false,
    "editable": false,
    "nbgrader": {
     "cell_type": "code",
     "checksum": "993db9c546703951bea6de80add12f76",
     "grade": true,
     "grade_id": "cell-a3ca37511dc2b2ad",
     "locked": true,
     "points": 1,
     "schema_version": 3,
     "solution": false,
     "task": false
    },
    "tags": []
   },
   "outputs": [],
   "source": [
    "test_3.4()"
   ]
  },
  {
   "cell_type": "markdown",
   "metadata": {
    "deletable": false,
    "editable": false,
    "nbgrader": {
     "cell_type": "markdown",
     "checksum": "2e514e2b435b274280057e5fae81bc68",
     "grade": false,
     "grade_id": "cell-b7a372995c317f97",
     "locked": true,
     "schema_version": 3,
     "solution": false,
     "task": false
    },
    "tags": []
   },
   "source": [
    "### How does the interaction model fit the data?\n",
    "\n",
    "Results from *Question 3.1* suggest that `model.5` does not fit the data well, even if it is better than the intercept-only model. The model explains only 44% of the variation observed in protein levels. While the $p$-value from `glance()` indicates there is enough evidence to reject $H_0$, it still doesn't mean that `mrna` is a relevant variable. Let's compare this model with other models. "
   ]
  },
  {
   "cell_type": "markdown",
   "metadata": {
    "deletable": false,
    "editable": false,
    "nbgrader": {
     "cell_type": "markdown",
     "checksum": "8a6d84a2d919555bd25dca5912d9ee14",
     "grade": false,
     "grade_id": "cell-b46cc7938531182c",
     "locked": true,
     "schema_version": 3,
     "solution": false,
     "task": false
    },
    "tags": []
   },
   "source": [
    "To examine that question, let's compare the following nested models:\n",
    "\n",
    "$$\\textbf{reduced}:\\text{prot}_t=\\beta_0 + \\beta_2 \\text{gene2}_{t} + \\beta_3 \\text{gene3}_{t} + \\varepsilon_t$$\n",
    "\n",
    "$$\\textbf{full}:\\text{prot}_t = \\beta_0 + \\beta_1 \\text{mrna}_{t} + \\beta_2 \\text{gene2}_{t}  + \\beta_3 \\text{gene3}_{t}  + \\beta_4 \\text{gene2}_{t}  \\text{mrna}_{t} + \\beta_5 \\text{gene3}_{t}  \\text{mrna}_{t} +\\varepsilon_t$$"
   ]
  },
  {
   "cell_type": "markdown",
   "metadata": {
    "deletable": false,
    "editable": false,
    "nbgrader": {
     "cell_type": "markdown",
     "checksum": "e09c706c3b6bfd4bfe1170e1ba6f4572",
     "grade": false,
     "grade_id": "cell-c52a18cc8af85c36",
     "locked": true,
     "schema_version": 3,
     "solution": false,
     "task": false
    }
   },
   "source": [
    "**Question 3.5**\n",
    "<br>{points: 1}\n",
    "\n",
    "An $F$-test can be used to test *simultaneously* whether the additional parameters in the full model are zero. Which hypotheses need to be tested using an $F$-test?\n",
    "\n",
    "**A.** $H_0: \\beta_2 = \\beta_3 = 0$ vs. $H_1: \\text{at least one } \\beta_j \\neq 0 \\text{ (for } $j = 2, 3$ \\text{)}$\n",
    "\n",
    "**B.** $H_0: \\beta_1 = \\beta_4 = \\beta_5 = 0$ vs. $H_1: \\text{at least one } \\beta_j \\neq 0 \\text{ (for } $j = 1, 4, 5$ \\text{)}$\n",
    "\n",
    "**C.** $H_0: \\beta_0 = \\beta_1 = \\beta_2 = \\beta_3 = \\beta_4 = \\beta_5 = 0$ vs. $H_1: \\text{at least one } \\beta_j \\neq 0 \\text{ (for } $j = 0, 1, 2, 3, 4, 5$ \\text{)}$\n",
    "\n",
    "**D.** $H_0: \\beta_1 = \\beta_2 = \\beta_3 = \\beta_4 = \\beta_5 = 0$ vs. $H_1: \\text{at least one } \\beta_j \\neq 0 \\text{ (for } $j = 1, 2, 3, 4, 5$ \\text{)}$\n",
    "\n",
    "**E.** $H_0: \\hat{\\beta}_2 = \\hat{\\beta}_3 = 0$ vs. $H_1: \\text{at least one } \\hat{\\beta}_j \\neq 0 \\text{ (for } $j = 2, 3$ \\text{)}$\n",
    "\n",
    "*Assign your answer to an object called `answer3.5`. Your answer should be one of `\"A\"`, `\"B\"`, `\"C\"`, \"D\"` or `\"E\"` surrounded by quotes.*"
   ]
  },
  {
   "cell_type": "code",
   "execution_count": null,
   "metadata": {
    "deletable": false,
    "nbgrader": {
     "cell_type": "code",
     "checksum": "9c58fcaf117a23cfa106fd30bc723ca7",
     "grade": false,
     "grade_id": "cell-b5723b1752ac1294",
     "locked": false,
     "schema_version": 3,
     "solution": true,
     "task": false
    },
    "tags": []
   },
   "outputs": [],
   "source": [
    "# answer3.5 <- \n",
    "\n",
    "# your code here\n",
    "fail() # No Answer - remove if you provide an answer"
   ]
  },
  {
   "cell_type": "code",
   "execution_count": null,
   "metadata": {
    "deletable": false,
    "editable": false,
    "nbgrader": {
     "cell_type": "code",
     "checksum": "f5b516f9593a0157f21221e5917ca6fa",
     "grade": true,
     "grade_id": "cell-c1bf7a0bc0c2ef25",
     "locked": true,
     "points": 1,
     "schema_version": 3,
     "solution": false,
     "task": false
    },
    "tags": []
   },
   "outputs": [],
   "source": [
    "test_3.5()"
   ]
  },
  {
   "cell_type": "markdown",
   "metadata": {
    "deletable": false,
    "editable": false,
    "nbgrader": {
     "cell_type": "markdown",
     "checksum": "14f71cf4fae75856318f9fc112fc43c7",
     "grade": false,
     "grade_id": "cell-377ceb2f92921288",
     "locked": true,
     "schema_version": 3,
     "solution": false,
     "task": false
    }
   },
   "source": [
    "**Question 3.6**\n",
    "<br>{points: 1}\n",
    "\n",
    "The following hypotheses compare the reduced (`model.3` without `mrna`) and the full model (`model.5` with interaction) stated above.\n",
    "\n",
    "Select the code that you can use to test these hypotheses.\n",
    "\n",
    "**A.** `tidy(lm(prot ~ gene * mrna, dat_3genes))`\n",
    "\n",
    "**B.** `tidy(lm(prot ~ gene + mrna, dat_3genes))`\n",
    "\n",
    "**C.** `glance(lm(prot ~ gene * mrna, dat_3genes))`\n",
    "\n",
    "**D.** `glance(lm(prot ~ gene + mrna, dat_3genes))`\n",
    "\n",
    "**E.** `anova(lm(prot ~ gene, dat_3genes), lm(prot ~ gene * mrna, dat_3genes))`\n",
    "\n",
    "\n",
    "*Assign your answer to an object called `answer3.6`. Your answer should be one of `\"A\"`, `\"B\"`, `\"C\"`, `\"D\"`, or `\"E\"` surrounded by quotes.*"
   ]
  },
  {
   "cell_type": "code",
   "execution_count": null,
   "metadata": {
    "deletable": false,
    "nbgrader": {
     "cell_type": "code",
     "checksum": "8c0e14f1843980216c0e8460cbc48e6a",
     "grade": false,
     "grade_id": "cell-9d0d4fac52a22f63",
     "locked": false,
     "schema_version": 3,
     "solution": true,
     "task": false
    },
    "tags": []
   },
   "outputs": [],
   "source": [
    "# answer3.6 <- \n",
    "\n",
    "# your code here\n",
    "fail() # No Answer - remove if you provide an answer"
   ]
  },
  {
   "cell_type": "code",
   "execution_count": null,
   "metadata": {
    "deletable": false,
    "editable": false,
    "nbgrader": {
     "cell_type": "code",
     "checksum": "6a7fa961cc60b98871472411c53a1766",
     "grade": true,
     "grade_id": "cell-6c817e4c8dcc41ee",
     "locked": true,
     "points": 1,
     "schema_version": 3,
     "solution": false,
     "task": false
    },
    "tags": []
   },
   "outputs": [],
   "source": [
    "test_3.6()"
   ]
  },
  {
   "cell_type": "markdown",
   "metadata": {
    "deletable": false,
    "editable": false,
    "nbgrader": {
     "cell_type": "markdown",
     "checksum": "d82ce4541a4bdad9ff9c09e8aaae0225",
     "grade": false,
     "grade_id": "cell-2876dc9f0b8a015a",
     "locked": true,
     "schema_version": 3,
     "solution": false,
     "task": false
    },
    "tags": []
   },
   "source": [
    "**Question 3.7**\n",
    "<br>{points: 1}\n",
    "\n",
    "Use the function `anova()` to run the test from *Question 3.5*. Store your results in an object called `Ftest_3genes_mrna`. Note: `Ftest_3genes_mrna` contains the output of the `anova()` function. \n",
    "\n",
    "*Fill out those parts indicated with `...`, uncomment the corresponding code in the cell below, and run it.*"
   ]
  },
  {
   "cell_type": "code",
   "execution_count": null,
   "metadata": {
    "deletable": false,
    "nbgrader": {
     "cell_type": "code",
     "checksum": "c0e4be8ef73e325478954cb63d011164",
     "grade": false,
     "grade_id": "cell-a290ce6bc1a11890",
     "locked": false,
     "schema_version": 3,
     "solution": true,
     "task": false
    },
    "tags": []
   },
   "outputs": [],
   "source": [
    "#[write your code here]\n",
    "\n",
    "# your code here\n",
    "fail() # No Answer - remove if you provide an answer\n",
    "\n",
    "Ftest_3genes_mrna"
   ]
  },
  {
   "cell_type": "code",
   "execution_count": null,
   "metadata": {
    "deletable": false,
    "editable": false,
    "nbgrader": {
     "cell_type": "code",
     "checksum": "a1586b962e6c9c7009c6fcd76f6d83a1",
     "grade": true,
     "grade_id": "cell-4f1cde48cac3b95a",
     "locked": true,
     "points": 1,
     "schema_version": 3,
     "solution": false,
     "task": false
    },
    "tags": []
   },
   "outputs": [],
   "source": [
    "test_3.7()"
   ]
  },
  {
   "cell_type": "markdown",
   "metadata": {
    "deletable": false,
    "editable": false,
    "nbgrader": {
     "cell_type": "markdown",
     "checksum": "5f5352abf7f22916986b80905c46bd99",
     "grade": false,
     "grade_id": "cell-1de0636f42b700c8",
     "locked": true,
     "schema_version": 3,
     "solution": false,
     "task": false
    },
    "tags": []
   },
   "source": [
    "#### Conclusions from the analysis\n",
    "\n",
    "While the authors claimed that \"*it now becomes possible to predict protein abundance in any given tissue with good accuracy from the measured mRNA abundance*\" as long as we consider different models for different genes, the test above does not provide enough evidence to support this hypothesis (at least for the 3 genes selected). Note that the complex model with different LR for each gene is not significantly different than a model without mRNA!! Most of the variation in the data seems to be explained by the variable `gene`."
   ]
  },
  {
   "cell_type": "markdown",
   "metadata": {
    "deletable": false,
    "editable": false,
    "nbgrader": {
     "cell_type": "markdown",
     "checksum": "5780cc5bee4dce118ce3a3e4a23fa53b",
     "grade": false,
     "grade_id": "cell-a7f0358b7a8d93f7",
     "locked": true,
     "schema_version": 3,
     "solution": false,
     "task": false
    }
   },
   "source": [
    "## Conclusions\n",
    "\n",
    "#### Evaluation of Models when the main goal is estimation and inference:\n",
    "\n",
    "- The $R^2$, coefficient of determination, can be used to compared the sum of squares of the residuals of the fitted model with that of the null model\n",
    "\n",
    "\n",
    "- The $R^2$ is usually interpreted as the part of the variation in the response explained by the model\n",
    "\n",
    "\n",
    "- Many definitions and interpretations of the $R^2$ are for LS estimators of LR containing an intercept\n",
    "\n",
    "\n",
    "- The $R^2$ is not a test and does not provide a probabilistic result, and its distribution is unknown.\n",
    "\n",
    "- Instead, we can use an $F$ test, also refer as ANOVA, to compare nested models\n",
    "\n",
    "    - tests the simultaneous significance of additional coefficients of the full model (not in the reduced model)\n",
    "    \n",
    "    - in particular, we can use it to test the significance of the fitted model over the null model\n",
    "    \n",
    "\n",
    "- These $F$ tests can be used to select variables. Since we are comparing and testing how the fit changes as we select variables\n",
    "\n",
    "#### Evaluation of Models when the main goal is prediction:\n",
    "\n",
    "- The test MSE is a natural measure to compare new responses from a test set with the predicted values $\\hat{y}_i$ from the LR estimated with training data\n",
    "\n",
    "- The $R^2$ based on test data can also be used, but it should not be called a \"coefficient of determination\". "
   ]
  }
 ],
 "metadata": {
  "jupytext": {
   "formats": "ipynb,Rmd"
  },
  "kernelspec": {
   "display_name": "R",
   "language": "R",
   "name": "ir"
  },
  "language_info": {
   "codemirror_mode": "r",
   "file_extension": ".r",
   "mimetype": "text/x-r-source",
   "name": "R",
   "pygments_lexer": "r",
   "version": "4.3.3"
  },
  "latex_envs": {
   "LaTeX_envs_menu_present": true,
   "autoclose": false,
   "autocomplete": true,
   "bibliofile": "biblio.bib",
   "cite_by": "apalike",
   "current_citInitial": 1,
   "eqLabelWithNumbers": true,
   "eqNumInitial": 1,
   "hotkeys": {
    "equation": "Ctrl-E",
    "itemize": "Ctrl-I"
   },
   "labels_anchors": false,
   "latex_user_defs": false,
   "report_style_numbering": false,
   "user_envs_cfg": false
  }
 },
 "nbformat": 4,
 "nbformat_minor": 4
}
