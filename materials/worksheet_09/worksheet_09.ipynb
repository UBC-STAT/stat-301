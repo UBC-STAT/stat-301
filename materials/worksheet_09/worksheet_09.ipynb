{
 "cells": [
  {
   "cell_type": "markdown",
   "metadata": {
    "deletable": false,
    "editable": false,
    "nbgrader": {
     "cell_type": "markdown",
     "checksum": "31a14a3a9e3f3dfe44a1bf984d5d11c8",
     "grade": false,
     "grade_id": "cell-3410823c297a225b",
     "locked": true,
     "schema_version": 3,
     "solution": false,
     "task": false
    },
    "slideshow": {
     "slide_type": "slide"
    }
   },
   "source": [
    "# **Worksheet 09: Prediction Uncertainty**"
   ]
  },
  {
   "cell_type": "markdown",
   "metadata": {
    "deletable": false,
    "editable": false,
    "nbgrader": {
     "cell_type": "markdown",
     "checksum": "2250c3231114f6cab36261ccb0dfcb5d",
     "grade": false,
     "grade_id": "cell-34b6d6e1de870f0a",
     "locked": true,
     "schema_version": 3,
     "solution": false,
     "task": false
    }
   },
   "source": [
    "## **Lecture and Tutorial Learning Goals:**\n",
    "\n",
    "By the end of this section, students will be able to:\n",
    "\n",
    "- Explain the difference between confidence intervals for prediction and prediction intervals and what elements need to be estimated to construct these intervals.\n",
    "\n",
    "- Write a computer script to calculate these intervals. Interpret and communicate the results from that computer script.\n",
    "\n",
    "- Give an example of a question that can be answered by predictive modelling.\n"
   ]
  },
  {
   "cell_type": "code",
   "execution_count": null,
   "metadata": {
    "deletable": false,
    "editable": false,
    "nbgrader": {
     "cell_type": "code",
     "checksum": "d4a84cbb34a31195dfce3711ed1e2363",
     "grade": false,
     "grade_id": "cell-75c97cc6762ecd03",
     "locked": true,
     "schema_version": 3,
     "solution": false,
     "task": false
    },
    "tags": []
   },
   "outputs": [],
   "source": [
    "# Loading Libraries\n",
    "\n",
    "library(broom)\n",
    "library(latex2exp)\n",
    "library(tidyverse)\n",
    "\n",
    "source(\"tests_worksheet_09.R\")"
   ]
  },
  {
   "cell_type": "markdown",
   "metadata": {
    "deletable": false,
    "editable": false,
    "nbgrader": {
     "cell_type": "markdown",
     "checksum": "0e99e83675503461caa0d4efdcd144ef",
     "grade": false,
     "grade_id": "cell-5b30cf6538a4f9db",
     "locked": true,
     "schema_version": 3,
     "solution": false,
     "task": false
    },
    "slideshow": {
     "slide_type": "slide"
    }
   },
   "source": [
    "## 1. Prediction Intervals *vs* Confidence Intervals for prediction"
   ]
  },
  {
   "cell_type": "markdown",
   "metadata": {
    "deletable": false,
    "editable": false,
    "nbgrader": {
     "cell_type": "markdown",
     "checksum": "7e1f0e723bc65f84f85c0b22a92c5707",
     "grade": false,
     "grade_id": "cell-48c44f77b644ac2c",
     "locked": true,
     "schema_version": 3,
     "solution": false,
     "task": false
    }
   },
   "source": [
    "In previous lectures you've learned how to estimate three regression models (linear, logistic and Poisson). The estimated models can be used to predict the expected values of the response given additional covariates. \n",
    "\n",
    "The estimated model depends on the random sample used. Thus, the prediction also depends on the random sample, which means that they are random variables (functions of the a random sample). \n",
    "\n",
    "Thus, we can compute the sampling distribution and the standard error of the prediction random variable!\n",
    "\n",
    "> A different sample would have resulted in a different estimated model and, thus, different predictions. The sample-to-sample variation in the estimated coefficients translates into variation in the predictions. \n",
    "  \n",
    "Today, we will measure the **uncertainty** of the predictions for MLR using two type of intervals: \n",
    "\n",
    "- confidence intervals for prediction (CIP)\n",
    "\n",
    "- prediction intervals (PI)\n",
    "\n",
    "> CIP can be constructed for any of the regression models we studied, using `se.fit = true` in the `predict()` function.\n",
    "\n",
    "> PI are not defined for all GLM models. Although some bootstrapping methods have been proposed, we won't cover PI for logistic and Poisson regression   "
   ]
  },
  {
   "cell_type": "markdown",
   "metadata": {
    "deletable": false,
    "editable": false,
    "nbgrader": {
     "cell_type": "markdown",
     "checksum": "61f3aa6ba3f64d638d31986844e3bb4f",
     "grade": false,
     "grade_id": "cell-bbea6b83996fe162",
     "locked": true,
     "schema_version": 3,
     "solution": false,
     "task": false
    },
    "tags": []
   },
   "source": [
    "## **1.1. <u>Dataset: </u>[<u>2015 Property Tax Assessment from Strathcona County</u>](https://data.strathcona.ca/Housing-Buildings/2015-Property-Tax-Assessment/uexh-8sx8)**\n",
    "\n",
    "In this worksheet, we'll work with a dataset containing data on property tax-assessed values in Strathcona County. The dataset provides a valuation date of July 1, 2014, and a property condition date of December 31, 2014. "
   ]
  },
  {
   "cell_type": "markdown",
   "metadata": {
    "deletable": false,
    "editable": false,
    "nbgrader": {
     "cell_type": "markdown",
     "checksum": "6f9d4b44052cc691a3dca6b58d18b99c",
     "grade": false,
     "grade_id": "cell-75f0e3d05e6d7159",
     "locked": true,
     "schema_version": 3,
     "solution": false,
     "task": false
    }
   },
   "source": [
    "![](https://github.com/UBC-STAT/stat-301/blob/master/supplementary-material/img/popul_AB.png?raw=true)"
   ]
  },
  {
   "cell_type": "markdown",
   "metadata": {
    "deletable": false,
    "editable": false,
    "nbgrader": {
     "cell_type": "markdown",
     "checksum": "21e401f7fd08a8cdbf11dfa0acf16aa5",
     "grade": false,
     "grade_id": "cell-b15ec86c716aeead",
     "locked": true,
     "schema_version": 3,
     "solution": false,
     "task": false
    },
    "tags": []
   },
   "source": [
    "Let's start by loading the data, but to work with smaller numbers, we will divide the assessed value by 1000. "
   ]
  },
  {
   "cell_type": "code",
   "execution_count": null,
   "metadata": {
    "deletable": false,
    "editable": false,
    "nbgrader": {
     "cell_type": "code",
     "checksum": "efda241f6a66708e35762f8de87bbf47",
     "grade": false,
     "grade_id": "cell-15acbc8c4231da91",
     "locked": true,
     "schema_version": 3,
     "solution": false,
     "task": false
    },
    "tags": []
   },
   "outputs": [],
   "source": [
    "# Loads the data and re-scale the assessed values.\n",
    "\n",
    "properties_data <- \n",
    "    read.csv(\"data/Assessment_2015.csv\") %>%\n",
    "    filter(ASSESSCLAS==\"Residential\")  %>% \n",
    "    mutate(assess_val = ASSESSMENT / 1000)"
   ]
  },
  {
   "cell_type": "markdown",
   "metadata": {
    "deletable": false,
    "editable": false,
    "nbgrader": {
     "cell_type": "markdown",
     "checksum": "d5eed11457fd5f50cb68fa00e5b183b2",
     "grade": false,
     "grade_id": "cell-c1f2bebff81e4887",
     "locked": true,
     "schema_version": 3,
     "solution": false,
     "task": false
    },
    "tags": []
   },
   "source": [
    "Unfortunately, unless we work with a simulated dataset, the true population parameters are *unknown*. However, to illustrate concepts while working with a real dataset, and avoid simulating data,  we'll use all the residencies in the dataset to obtain a MLR and **pretend** that this is the population line.\n",
    "\n",
    "> <font color='darkred'>**THIS IS NOT DONE IN REAL DATA ANALYSIS!** We are doing this here for teaching purposes only. In practice, your entire dataset is your sample. </font>\n",
    "\n",
    "So, let's select a sample from our `properties_data`."
   ]
  },
  {
   "cell_type": "code",
   "execution_count": null,
   "metadata": {
    "deletable": false,
    "editable": false,
    "nbgrader": {
     "cell_type": "code",
     "checksum": "e0428a253f4af88f89ba34694ca71b44",
     "grade": false,
     "grade_id": "cell-ded6505b2204daba",
     "locked": true,
     "schema_version": 3,
     "solution": false,
     "task": false
    },
    "tags": []
   },
   "outputs": [],
   "source": [
    "set.seed(561) # DO NOT CHANGE THIS.\n",
    "\n",
    "# A sample out of our bigger sample properties_data, \n",
    "# which we are PRETENDING to be population (but IT ISN'T)\n",
    "\n",
    "properties_sample <- \n",
    "    properties_data %>%\n",
    "    slice_sample(n = 100, replace = FALSE)"
   ]
  },
  {
   "cell_type": "markdown",
   "metadata": {
    "deletable": false,
    "editable": false,
    "nbgrader": {
     "cell_type": "markdown",
     "checksum": "fffc9dabfe0e14a1d5828f617d80dcfa",
     "grade": false,
     "grade_id": "cell-429601c83a46a355",
     "locked": true,
     "schema_version": 3,
     "solution": false,
     "task": false
    },
    "tags": []
   },
   "source": [
    "Next, \n",
    "\n",
    "- **estimate** the population SLR using the sample `properties_sample`\n",
    "\n",
    "- **compute** the population coefficients of the SLR using all properties in `properties_data`\n",
    "\n",
    "> again, in practice you would not be able to *compute* the population coefficients"
   ]
  },
  {
   "cell_type": "code",
   "execution_count": null,
   "metadata": {
    "deletable": false,
    "editable": false,
    "nbgrader": {
     "cell_type": "code",
     "checksum": "89d45b74858e024cca84245c8e39fec1",
     "grade": false,
     "grade_id": "cell-e2c0b2606548c5f4",
     "locked": true,
     "schema_version": 3,
     "solution": false,
     "task": false
    },
    "tags": []
   },
   "outputs": [],
   "source": [
    "lm_pop <- lm(assess_val ~ BLDG_METRE, properties_data)\n",
    "lm_sample <- lm(assess_val ~ BLDG_METRE, properties_sample)\n",
    "\n",
    "tidy(lm_sample) %>% \n",
    "    mutate_if(is.numeric, round, 3)"
   ]
  },
  {
   "cell_type": "code",
   "execution_count": null,
   "metadata": {
    "deletable": false,
    "editable": false,
    "nbgrader": {
     "cell_type": "code",
     "checksum": "93dbc77ca7f73e62840700920c3841e7",
     "grade": false,
     "grade_id": "cell-c0e582aa6d451053",
     "locked": true,
     "schema_version": 3,
     "solution": false,
     "task": false
    },
    "tags": []
   },
   "outputs": [],
   "source": [
    "cols <- c(\"Population\"=\"#f04546\",\"LS Estimate\"=\"#3591d1\")\n",
    "\n",
    "plot_sample <- \n",
    "    properties_sample %>%\n",
    "    ggplot(aes(BLDG_METRE, assess_val)) + \n",
    "    xlab(\"building size (mts)\") + \n",
    "    ylab(\"assessed value ($/1000)\") +\n",
    "    xlim(50, 450) +\n",
    "    geom_point(aes(BLDG_METRE, assess_val), color=\"grey\")"
   ]
  },
  {
   "cell_type": "markdown",
   "metadata": {
    "deletable": false,
    "editable": false,
    "nbgrader": {
     "cell_type": "markdown",
     "checksum": "c302416c73e02be33db00535969792f0",
     "grade": false,
     "grade_id": "cell-68940463627e0ff3",
     "locked": true,
     "schema_version": 3,
     "solution": false,
     "task": false
    }
   },
   "source": [
    "### **1.2 Prediction of the assessed value of a house in Strathcona**\n",
    "\n",
    "Using linear regression, the assessed value of a random house in Strathcona can be modelled as the average assessed value of a house with similar characteristics plus some random error.\n",
    "\n",
    "Mathematically,\n",
    "\n",
    "$$\\text{value}_i = E[\\text{value}_i|\\text{size}_{i}] + \\varepsilon_i$$\n",
    "\n",
    "The $\\varepsilon_i$ term is necessary because a random residence won't have a value exactly equal to the average population value of residencies of the same size; some have higher values, and others have lower values. \n",
    "\n",
    "In addition, if we assume that the conditional expectation is linear, then:\n",
    "\n",
    "$$ E[\\text{value}_i|\\text{size}_{i}] = \\beta_0 + \\beta_1 \\text{size}_{i}$$\n",
    "\n",
    "which is the population regression line. \n",
    "\n",
    "We use the random sample to estimate the regression line. In this case, we estimate the relation between a house's assessed value and size based on a random sample of houses from Strathcona. \n",
    "\n",
    "We use the **estimated** SLR to **predict**:\n",
    "\n",
    "$$\\text{pred.value}_i = \\hat{\\beta}_0 + \\hat{\\beta}_1 \\text{size}_i$$"
   ]
  },
  {
   "cell_type": "markdown",
   "metadata": {},
   "source": [
    "**It is important to distinguish the following quantities:**\n",
    "\n",
    "- actual value: $\\text{value}_i$\n",
    "\n",
    "- population average (or conditional expected) value: <font color='red'>$E[\\text{value}_i|\\text{size}_{i}]$</font>\n",
    "\n",
    "- predicted value <font color='blue'>$\\text{pred.value}_i$</font>\n",
    "\n",
    "Since we are **pretending** that we know this population line, we can plot it. But once again, recall that in practice this line is *unknown*."
   ]
  },
  {
   "cell_type": "code",
   "execution_count": null,
   "metadata": {
    "deletable": false,
    "editable": false,
    "nbgrader": {
     "cell_type": "code",
     "checksum": "8b16a7f3c69693f9ae93c4f1a7bb083c",
     "grade": false,
     "grade_id": "cell-d5c4a34c9107d0b6",
     "locked": true,
     "schema_version": 3,
     "solution": false,
     "task": false
    },
    "tags": []
   },
   "outputs": [],
   "source": [
    "# Run this before continuing.\n",
    "\n",
    "# Don't worry about reading and understanding this code. \n",
    "# You can just run and skip it.\n",
    "\n",
    "options(repr.plot.width=8, repr.plot.height=6)\n",
    "\n",
    "plot_expect <- \n",
    "    plot_sample +\n",
    "    geom_smooth(data = properties_data, \n",
    "                aes(BLDG_METRE, assess_val, color = \"Population\"),\n",
    "                method = lm, \n",
    "                linetype = 2, \n",
    "                se = FALSE, \n",
    "                fullrange = TRUE) +\n",
    "    geom_point(aes(x = 251, y = predict(lm_pop, tibble(BLDG_METRE = 251))), \n",
    "               color = \"red\", \n",
    "               size = 3) +  \n",
    "    annotate('text',\n",
    "             x = 300,\n",
    "             y = 715,\n",
    "             label = \"paste('E[',Y[i],' | ', X[i],' ]')\", \n",
    "             color = \"red\", \n",
    "             size = 7,\n",
    "             parse = TRUE) +\n",
    "    geom_point(aes(x = 251,y = 534), color = \"black\", size = 3) +\n",
    "    annotate(\"text\",\n",
    "             x = 265, \n",
    "             y = 500, \n",
    "             label = 'paste(y[i])', \n",
    "             size = 7, \n",
    "             parse = TRUE) +\n",
    "    geom_segment(x = 251, \n",
    "                 y = predict(lm_pop, tibble(BLDG_METRE = 251)),\n",
    "                 xend = 251, \n",
    "                 yend = 534, \n",
    "                 linetype = \"dashed\") +\n",
    "    annotate(\"text\", \n",
    "             x = 240,\n",
    "             y = 630,\n",
    "             label = 'paste(epsilon[i])', , \n",
    "             size = 7,\n",
    "             parse = TRUE) +\n",
    "    scale_colour_manual(name = \"SLR\", values = cols) + \n",
    "    theme(text = element_text(size = 16))\n",
    "\n",
    "plot_ls <- \n",
    "    plot_expect +    \n",
    "    geom_smooth(data = properties_sample, \n",
    "                aes(BLDG_METRE, assess_val, color = \"LS Estimate\"),\n",
    "                method = lm,\n",
    "                se = FALSE,\n",
    "                fullrange = TRUE) +\n",
    "    geom_point(aes(x = 251, y = predict(lm_sample, tibble(BLDG_METRE = 251))),\n",
    "               color = \"blue\",\n",
    "               size = 3) +\n",
    "    annotate('text',\n",
    "             x = 240, \n",
    "             y = predict(lm_sample, tibble(BLDG_METRE = 251)) + 60, \n",
    "             label = 'paste(hat(y)[i])', \n",
    "             color = \"blue\", \n",
    "             size = 7,\n",
    "             parse = TRUE)\n",
    "\n",
    "plot_ls"
   ]
  },
  {
   "cell_type": "markdown",
   "metadata": {
    "deletable": false,
    "editable": false,
    "nbgrader": {
     "cell_type": "markdown",
     "checksum": "cd9fff2d123469afe57071e03c5078cd",
     "grade": false,
     "grade_id": "cell-2a551d2c94abb365",
     "locked": true,
     "schema_version": 3,
     "solution": false,
     "task": false
    }
   },
   "source": [
    "#### **<u>Confidence Intervals for Prediction (CIP)</u>**\n",
    "\n",
    "CIP are used when we want to predict $E[\\text{value}_i|\\text{size}_{i}]$ (conditional expectation)!\n",
    "\n",
    "The predicted value <font color=blue> $\\text{pred.value}_i = \\hat{\\beta}_0 + \\hat{\\beta}_1 \\text{size}_{i}$ </font> approximates, with uncertainty, the  population average value <font color=red>$E[\\text{value}_i|\\text{size}_{i}]$ </font> \n",
    "\n",
    "> if we take a different sample, we get different estimates (i.e., different blue lines) and, consequently, different predictions\n",
    "\n",
    "<font color='darkred'>**The only source of variation here is the sample-to-sample variation**</font>"
   ]
  },
  {
   "cell_type": "markdown",
   "metadata": {
    "deletable": false,
    "editable": false,
    "nbgrader": {
     "cell_type": "markdown",
     "checksum": "c159e3fe04749e9e7efef47ebc9e10e0",
     "grade": false,
     "grade_id": "cell-1dfe3556fad4bc5e",
     "locked": true,
     "schema_version": 3,
     "solution": false,
     "task": false
    }
   },
   "source": [
    "A **95% confidence interval for prediction** is a range that has a 95% probability of capturing the **population average** value of a house with a given size.\n",
    "\n",
    "Once we have estimated and predicted values, the range is non-random so we use the word **confidence** (instead of \"probability\") since nothing else is random!"
   ]
  },
  {
   "cell_type": "markdown",
   "metadata": {
    "deletable": false,
    "editable": false,
    "nbgrader": {
     "cell_type": "markdown",
     "checksum": "6dc959b0f732fbe7edeccb74cb8b18a2",
     "grade": false,
     "grade_id": "cell-cc9483f6f41a9eea",
     "locked": true,
     "schema_version": 3,
     "solution": false,
     "task": false
    }
   },
   "source": [
    "**A quick look at data**\n",
    "\n",
    "Using the sample `properties_sample`, let's compute 95% confidence intervals for prediction using the function `predict`. \n",
    "\n",
    "- Create a dataframe, called `properties_cip`, that contains the response, the input, the predictions using `lm_sample`, and the lower and upper bounds of the intervals for *each* observation\n",
    "\n",
    "> each row corresponds to one (in-sample) prediction and its confidence interval"
   ]
  },
  {
   "cell_type": "code",
   "execution_count": null,
   "metadata": {
    "deletable": false,
    "editable": false,
    "nbgrader": {
     "cell_type": "code",
     "checksum": "adead26e0a07d8bb2ecdbe0b437bcb2d",
     "grade": false,
     "grade_id": "cell-17c0b8c272a33e9f",
     "locked": true,
     "schema_version": 3,
     "solution": false,
     "task": false
    },
    "slideshow": {
     "slide_type": "slide"
    },
    "tags": []
   },
   "outputs": [],
   "source": [
    "properties_cip <- \n",
    "    properties_sample  %>% \n",
    "    select(assess_val, BLDG_METRE) %>% \n",
    "    cbind(predict(lm_sample, interval=\"confidence\", se.fit=TRUE)$fit)"
   ]
  },
  {
   "cell_type": "code",
   "execution_count": null,
   "metadata": {
    "deletable": false,
    "editable": false,
    "nbgrader": {
     "cell_type": "code",
     "checksum": "fcde86ea1e6f40ea6d759ca4639cc430",
     "grade": false,
     "grade_id": "cell-d43539fbcdb32a75",
     "locked": true,
     "schema_version": 3,
     "solution": false,
     "task": false
    },
    "tags": []
   },
   "outputs": [],
   "source": [
    "head(properties_cip,3)"
   ]
  },
  {
   "cell_type": "markdown",
   "metadata": {
    "deletable": false,
    "editable": false,
    "nbgrader": {
     "cell_type": "markdown",
     "checksum": "4860c9230ca267a7c6c1682681eebdad",
     "grade": false,
     "grade_id": "cell-bb887c8569f536c9",
     "locked": true,
     "schema_version": 3,
     "solution": false,
     "task": false
    }
   },
   "source": [
    "**Interpretation** for row 1: \n",
    "\n",
    "With 95% confidence, the <font color=red>*average value*</font> of a house **of size 220 mts** is between $\\$671,944$ and $\\$748,198$ (rounded)\n",
    "\n",
    "> note the *conditional statement*: \"of size 220 mts\", not any house!"
   ]
  },
  {
   "cell_type": "markdown",
   "metadata": {
    "deletable": false,
    "editable": false,
    "nbgrader": {
     "cell_type": "markdown",
     "checksum": "10ff5bb84f7faa15832f0a835d286303",
     "grade": false,
     "grade_id": "cell-db0180cfb57e36af",
     "locked": true,
     "schema_version": 3,
     "solution": false,
     "task": false
    }
   },
   "source": [
    "**Visualization**"
   ]
  },
  {
   "cell_type": "code",
   "execution_count": null,
   "metadata": {
    "deletable": false,
    "editable": false,
    "nbgrader": {
     "cell_type": "code",
     "checksum": "8a25173bffa5929e38aef147eb33997f",
     "grade": false,
     "grade_id": "cell-569e309f8224c11e",
     "locked": true,
     "schema_version": 3,
     "solution": false,
     "task": false
    },
    "tags": []
   },
   "outputs": [],
   "source": [
    "properties_sample %>%\n",
    "    ggplot(aes(BLDG_METRE, assess_val)) + \n",
    "        xlab(\"building size (mts)\") + \n",
    "        ylab(\"assessed value ($/1000)\") +\n",
    "        xlim(50,450) + \n",
    "        geom_smooth(aes(color=\"LS Estimate\"), method = lm, se = TRUE, fullrange = TRUE) +\n",
    "        geom_smooth(data = properties_data, \n",
    "                    aes(BLDG_METRE, assess_val, color=\"Population\"),\n",
    "                    method = lm,\n",
    "                    se = FALSE,\n",
    "                    fullrange = TRUE) +        \n",
    "        scale_colour_manual(name=\"SLR\",values=cols)"
   ]
  },
  {
   "cell_type": "markdown",
   "metadata": {
    "deletable": false,
    "editable": false,
    "nbgrader": {
     "cell_type": "markdown",
     "checksum": "9ec0f43ea9140bfb707c104156ff26c4",
     "grade": false,
     "grade_id": "cell-dd59cc5d41966b48",
     "locked": true,
     "schema_version": 3,
     "solution": false,
     "task": false
    }
   },
   "source": [
    "**Question 1.0** <br>\n",
    "{points: 1}\n",
    "\n",
    "Using the sample `properties_sample`, compute 90% confidence intervals for prediction. Create a data frame called `properties_cip_90` that contains the response, the input, the predictions using `lm_sample`, and the lower and upper bounds of the intervals for each observation. Columns in your data frame should be in this order.\n",
    "\n",
    "*Fill out those parts indicated with `...`, uncomment the corresponding code in the cell below, and run it.*"
   ]
  },
  {
   "cell_type": "code",
   "execution_count": null,
   "metadata": {
    "deletable": false,
    "nbgrader": {
     "cell_type": "code",
     "checksum": "f3b1b0d15e212fc876aaba93f3d85896",
     "grade": false,
     "grade_id": "cell-4a11e2a9a809fa15",
     "locked": false,
     "schema_version": 3,
     "solution": true,
     "task": false
    },
    "slideshow": {
     "slide_type": "slide"
    },
    "tags": []
   },
   "outputs": [],
   "source": [
    " # properties_cip_90 <- \n",
    " #    ...  %>% \n",
    " #    select(..., ...) %>% \n",
    " #    cbind(...(..., \n",
    " #              interval = \"...\", \n",
    " #              level = ..., \n",
    " #              se.fit=TRUE)$fit)\n",
    "\n",
    "# your code here\n",
    "fail() # No Answer - remove if you provide an answer\n",
    "\n",
    "head(properties_cip_90)"
   ]
  },
  {
   "cell_type": "code",
   "execution_count": null,
   "metadata": {
    "deletable": false,
    "editable": false,
    "nbgrader": {
     "cell_type": "code",
     "checksum": "b1c0d3d532f6c22ce858034dd8f18d76",
     "grade": true,
     "grade_id": "cell-5e7d32fc59cedd6a",
     "locked": true,
     "points": 1,
     "schema_version": 3,
     "solution": false,
     "task": false
    },
    "tags": []
   },
   "outputs": [],
   "source": [
    "test_1.0()"
   ]
  },
  {
   "cell_type": "markdown",
   "metadata": {
    "deletable": false,
    "editable": false,
    "nbgrader": {
     "cell_type": "markdown",
     "checksum": "d80946dc8781afc0665f40dbfe82c4f5",
     "grade": false,
     "grade_id": "cell-d8d9ff2c6afb130d",
     "locked": true,
     "schema_version": 3,
     "solution": false,
     "task": false
    }
   },
   "source": [
    "**Question 1.1** \n",
    "{points: 1}\n",
    "\n",
    "Based on the output `properties_cip_90`, which of the following claims is correct?\n",
    "\n",
    "**A.** with 90% confidence, the *expected* value of a house of size 97 mts is between \\\\$301274 and \\\\$363407 (rounded) \n",
    "\n",
    "**B.** with 90% confidence, the value of a house of size 97 mts is between \\\\$301274 and \\\\$363407 (rounded) \n",
    "\n",
    "\n",
    "**C.** with 90% confidence, the *expected* value of a house of size 97 mts is between \\\\$678167 and \\\\$741974 (rounded) \n",
    "\n",
    "\n",
    "**D.** with 90% confidence, the *expected* value of any house is between \\\\$678167 and \\\\$741974 (rounded) \n",
    "\n",
    "\n",
    "*Assign your answer to an object called `answer1.1`. Your answer should be one of `\"A\"`, `\"B\"`, `\"C\"`, or `\"D\"` surrounded by quotes. *"
   ]
  },
  {
   "cell_type": "code",
   "execution_count": null,
   "metadata": {
    "deletable": false,
    "nbgrader": {
     "cell_type": "code",
     "checksum": "8ebb566f19cdbbc14d5797c71e630a10",
     "grade": false,
     "grade_id": "cell-a00893a2d010e32a",
     "locked": false,
     "schema_version": 3,
     "solution": true,
     "task": false
    }
   },
   "outputs": [],
   "source": [
    "# answer1.1 <- \n",
    "\n",
    "# your code here\n",
    "fail() # No Answer - remove if you provide an answer"
   ]
  },
  {
   "cell_type": "code",
   "execution_count": null,
   "metadata": {
    "deletable": false,
    "editable": false,
    "nbgrader": {
     "cell_type": "code",
     "checksum": "f6372a7e4720999194d16f764d001bc0",
     "grade": true,
     "grade_id": "cell-1305aba3b4830400",
     "locked": true,
     "points": 1,
     "schema_version": 3,
     "solution": false,
     "task": false
    }
   },
   "outputs": [],
   "source": [
    "test_1.1()"
   ]
  },
  {
   "cell_type": "markdown",
   "metadata": {
    "deletable": false,
    "editable": false,
    "nbgrader": {
     "cell_type": "markdown",
     "checksum": "67f104f1b8ff2f19f0b4064fd8ac807f",
     "grade": false,
     "grade_id": "cell-3fdcd17d46c25efa",
     "locked": true,
     "schema_version": 3,
     "solution": false,
     "task": false
    }
   },
   "source": [
    "**Question 1.2** \n",
    "{points: 1}\n",
    "\n",
    "True or false?\n",
    "\n",
    "Based on the outputs `properties_cip_90` and `properties_cip`, CIP are centered at the fitted value  <font color=blue>$\\hat{Y}_i$ </font>\n",
    "\n",
    "*Assign your answer to an object called `answer1.2`. Your answer should be either `\"true\"` or `\"false\"`, surrounded by quotes.*"
   ]
  },
  {
   "cell_type": "code",
   "execution_count": null,
   "metadata": {
    "deletable": false,
    "nbgrader": {
     "cell_type": "code",
     "checksum": "aa61354aaf212b18dc0c27e369bb4484",
     "grade": false,
     "grade_id": "cell-cea820eb6b462663",
     "locked": false,
     "schema_version": 3,
     "solution": true,
     "task": false
    }
   },
   "outputs": [],
   "source": [
    "# answer1.2 <- \n",
    "\n",
    "# your code here\n",
    "fail() # No Answer - remove if you provide an answer"
   ]
  },
  {
   "cell_type": "code",
   "execution_count": null,
   "metadata": {
    "deletable": false,
    "editable": false,
    "nbgrader": {
     "cell_type": "code",
     "checksum": "314699f8086eef20bd7eab7daea81d22",
     "grade": true,
     "grade_id": "cell-29dd9eb47eb77962",
     "locked": true,
     "points": 1,
     "schema_version": 3,
     "solution": false,
     "task": false
    }
   },
   "outputs": [],
   "source": [
    "test_1.2()"
   ]
  },
  {
   "cell_type": "markdown",
   "metadata": {
    "deletable": false,
    "editable": false,
    "nbgrader": {
     "cell_type": "markdown",
     "checksum": "78649ea1cb6a79675d9b060b44f661ef",
     "grade": false,
     "grade_id": "cell-600f2c6e91c98ed5",
     "locked": true,
     "schema_version": 3,
     "solution": false,
     "task": false
    }
   },
   "source": [
    "**Question 1.3** \n",
    "{points: 1}\n",
    "\n",
    "True or false?\n",
    "\n",
    "The 90% confidence intervals for prediction are wider than the 95% confidence intervals for prediction\n",
    "\n",
    "*Assign your answer to an object called `answer1.3`. Your answer should be either `\"true\"` or `\"false\"`, surrounded by quotes.*"
   ]
  },
  {
   "cell_type": "code",
   "execution_count": null,
   "metadata": {
    "deletable": false,
    "nbgrader": {
     "cell_type": "code",
     "checksum": "3af77b3f20ce5ca18f6493d064e8ac4d",
     "grade": false,
     "grade_id": "cell-b74a9de088fc7b1c",
     "locked": false,
     "schema_version": 3,
     "solution": true,
     "task": false
    }
   },
   "outputs": [],
   "source": [
    "# answer1.3 <- \n",
    "\n",
    "# your code here\n",
    "fail() # No Answer - remove if you provide an answer"
   ]
  },
  {
   "cell_type": "code",
   "execution_count": null,
   "metadata": {
    "deletable": false,
    "editable": false,
    "nbgrader": {
     "cell_type": "code",
     "checksum": "3c9c5917084b482ecdc04fd0c78eddf5",
     "grade": true,
     "grade_id": "cell-7217e749f0e1d9b8",
     "locked": true,
     "points": 1,
     "schema_version": 3,
     "solution": false,
     "task": false
    }
   },
   "outputs": [],
   "source": [
    "test_1.3()"
   ]
  },
  {
   "cell_type": "markdown",
   "metadata": {
    "deletable": false,
    "editable": false,
    "nbgrader": {
     "cell_type": "markdown",
     "checksum": "7ac2f8693b113a87e9ebaaaab95f7c28",
     "grade": false,
     "grade_id": "cell-51c7bb13e6dedae8",
     "locked": true,
     "schema_version": 3,
     "solution": false,
     "task": false
    }
   },
   "source": [
    "#### **<u> Prediction Intervals (PI)</u>**"
   ]
  },
  {
   "cell_type": "markdown",
   "metadata": {
    "deletable": false,
    "editable": false,
    "nbgrader": {
     "cell_type": "markdown",
     "checksum": "6e16f246b34d8027c5cb72372c4e78a3",
     "grade": false,
     "grade_id": "cell-21e19da17bc59006",
     "locked": true,
     "schema_version": 3,
     "solution": false,
     "task": false
    }
   },
   "source": [
    "PI are used when we want to predict the actual response of a new observation $Y_i$!\n",
    "\n",
    "The predicted value <font color=blue> $\\text{pred.value}_i = \\hat{\\beta}_0 + \\hat{\\beta}_1 \\text{size}_{i}$  </font> also approximates, with uncertainty, the actual response $\\text{value}_i = \\hat{\\beta}_0 + \\hat{\\beta}_1 \\text{size}_{i} + \\varepsilon_i$. \n",
    "\n",
    "\n",
    "However, now the uncertainty comes from the estimation (sample-to-sample variability) and the error term that generates the data, <font color='darkred'>**two sources of uncertainty**</font>!!"
   ]
  },
  {
   "cell_type": "markdown",
   "metadata": {
    "deletable": false,
    "editable": false,
    "nbgrader": {
     "cell_type": "markdown",
     "checksum": "b1ccde4453bfe4adf2d713b75ed45817",
     "grade": false,
     "grade_id": "cell-fd600e8d3f5fbec5",
     "locked": true,
     "schema_version": 3,
     "solution": false,
     "task": false
    }
   },
   "source": [
    "A 95% prediction interval is a range within which a new value of a house of this size is expected to fall with a specified probability (e.g., 95%). \n",
    "\n",
    "Note that this time, the aim is to predict the actual value, which is a random variable, thus we interpret the interval in terms of \"probability\"."
   ]
  },
  {
   "cell_type": "markdown",
   "metadata": {
    "deletable": false,
    "editable": false,
    "nbgrader": {
     "cell_type": "markdown",
     "checksum": "bee9036b807b6d6321460489fc49affa",
     "grade": false,
     "grade_id": "cell-eea8d815c63add87",
     "locked": true,
     "schema_version": 3,
     "solution": false,
     "task": false
    }
   },
   "source": [
    "**A quick look at data**"
   ]
  },
  {
   "cell_type": "code",
   "execution_count": null,
   "metadata": {
    "deletable": false,
    "editable": false,
    "nbgrader": {
     "cell_type": "code",
     "checksum": "a9ee06f640e04158258d16a6a934f0c9",
     "grade": false,
     "grade_id": "cell-d8ed4230865f4b11",
     "locked": true,
     "schema_version": 3,
     "solution": false,
     "task": false
    },
    "slideshow": {
     "slide_type": "slide"
    }
   },
   "outputs": [],
   "source": [
    "properties_pi <- \n",
    "    properties_sample  %>% \n",
    "    select(assess_val, BLDG_METRE) %>% \n",
    "    cbind(predict(lm_sample, interval=\"prediction\"))"
   ]
  },
  {
   "cell_type": "code",
   "execution_count": null,
   "metadata": {
    "deletable": false,
    "editable": false,
    "nbgrader": {
     "cell_type": "code",
     "checksum": "0047a7e3f332f83db386edaf086ae31b",
     "grade": false,
     "grade_id": "cell-e1aba24b87523763",
     "locked": true,
     "schema_version": 3,
     "solution": false,
     "task": false
    }
   },
   "outputs": [],
   "source": [
    "head(properties_pi, 3)"
   ]
  },
  {
   "cell_type": "markdown",
   "metadata": {},
   "source": [
    "Each row corresponds to one (in-sample) prediction and its confidence interval."
   ]
  },
  {
   "cell_type": "markdown",
   "metadata": {
    "deletable": false,
    "editable": false,
    "nbgrader": {
     "cell_type": "markdown",
     "checksum": "fbda10c5a09a98c4da070d46e0cf92a7",
     "grade": false,
     "grade_id": "cell-497c1bb723ea7d5c",
     "locked": true,
     "schema_version": 3,
     "solution": false,
     "task": false
    }
   },
   "source": [
    "<br>\n",
    "\n",
    "**Interpretation** for row 1: with 95% probability, the value of a house of size 220 mts is between $\\$454,519$ and $\\$965,622$ (rounded).\n",
    "\n",
    "<br>"
   ]
  },
  {
   "cell_type": "markdown",
   "metadata": {
    "deletable": false,
    "editable": false,
    "nbgrader": {
     "cell_type": "markdown",
     "checksum": "ae7d93749b32075c5b01700768ce5315",
     "grade": false,
     "grade_id": "cell-44aded3f5798da84",
     "locked": true,
     "schema_version": 3,
     "solution": false,
     "task": false
    }
   },
   "source": [
    "**Question 1.4** \n",
    "{points: 1}\n",
    "\n",
    "Let's use the results in `properties_cip` and `properties_pi` to corroborate that the prediction intervals are wider than the confidence intervals for prediction. You will:\n",
    "\n",
    "1. calculate the length of the intervals for `properties_pi` (name the column `len_pi`) and `properties_cpi` (name the column `len_cip`). \n",
    "2. `left_join` the data from both tibbles by `assess_val` and `BLDG_METRE` (you'll see a warning of many-to-many relationships that you can ignore for our purposes here). \n",
    "3. count how many of the `len_cip` are higher than `len_ci` using `summarise`. \n",
    "4. pull the value out of the tibble with `pull()` and store it in a variable called `n_cpi_wider`. \n",
    "\n",
    "*Fill out those parts indicated with `...`, uncomment the corresponding code in the cell below, and run it.*"
   ]
  },
  {
   "cell_type": "code",
   "execution_count": null,
   "metadata": {
    "deletable": false,
    "nbgrader": {
     "cell_type": "code",
     "checksum": "1bc6f3da1d29afff02c99a8dc34b15aa",
     "grade": false,
     "grade_id": "cell-90a108fa8cd1df19",
     "locked": false,
     "schema_version": 3,
     "solution": true,
     "task": false
    }
   },
   "outputs": [],
   "source": [
    "# properties_pi <-\n",
    "#     properties_pi %>%\n",
    "#     mutate(len_pi = ... - ...)\n",
    "\n",
    "# properties_cip <-\n",
    "#     ... %>%\n",
    "#     ...(len_cip = ...)\n",
    "\n",
    "# n_cpi_wider <-\n",
    "#     properties_pi %>%\n",
    "#     left_join(properties_cip, by = join_by(assess_val, BLDG_METRE)) %>%\n",
    "#     summarise(sum(... <= ...)) %>%\n",
    "#     pull()\n",
    "\n",
    "# your code here\n",
    "fail() # No Answer - remove if you provide an answer\n",
    "\n",
    "n_cpi_wider"
   ]
  },
  {
   "cell_type": "code",
   "execution_count": null,
   "metadata": {
    "deletable": false,
    "editable": false,
    "nbgrader": {
     "cell_type": "code",
     "checksum": "842a3a423618dc4591ef48d5973ffddc",
     "grade": true,
     "grade_id": "cell-d2c259279d279ada",
     "locked": true,
     "points": 1,
     "schema_version": 3,
     "solution": false,
     "task": false
    }
   },
   "outputs": [],
   "source": [
    "test_1.4()"
   ]
  },
  {
   "cell_type": "markdown",
   "metadata": {
    "deletable": false,
    "editable": false,
    "nbgrader": {
     "cell_type": "markdown",
     "checksum": "00a2eaa2c4e4ec99aab040fec4b562cd",
     "grade": false,
     "grade_id": "cell-40d35493a2960b93",
     "locked": true,
     "schema_version": 3,
     "solution": false,
     "task": false
    }
   },
   "source": [
    "## **1.3 Conclusions: Prediction uncertainty**\n",
    "\n",
    "- Confidence intervals for prediction account for the uncertainty given by the estimated LR to predict the conditional expectation of the response\n",
    "\n",
    "\n",
    "- Prediction intervals account for the uncertainty given by the estimated LR to predict the actual response, i.e, the conditional expectation of the response *plus* the error that generates the data! \n",
    "\n",
    "\n",
    "- PIs are wider than CIPs; both are centered at the fitted value!"
   ]
  },
  {
   "cell_type": "markdown",
   "metadata": {
    "deletable": false,
    "editable": false,
    "nbgrader": {
     "cell_type": "markdown",
     "checksum": "f730873d9311f0ffd014620bdb804e87",
     "grade": false,
     "grade_id": "cell-ed7d0d5863057855",
     "locked": true,
     "schema_version": 3,
     "solution": false,
     "task": false
    },
    "tags": []
   },
   "source": [
    "![](https://github.com/UBC-STAT/stat-301/blob/master/supplementary-material/img/pred_error.png?raw=true)"
   ]
  }
 ],
 "metadata": {
  "kernelspec": {
   "display_name": "R",
   "language": "R",
   "name": "ir"
  },
  "language_info": {
   "codemirror_mode": "r",
   "file_extension": ".r",
   "mimetype": "text/x-r-source",
   "name": "R",
   "pygments_lexer": "r",
   "version": "4.3.3"
  }
 },
 "nbformat": 4,
 "nbformat_minor": 4
}
