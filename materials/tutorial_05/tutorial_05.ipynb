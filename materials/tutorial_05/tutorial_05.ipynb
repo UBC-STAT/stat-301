{
 "cells": [
  {
   "cell_type": "markdown",
   "metadata": {
    "deletable": false,
    "editable": false,
    "nbgrader": {
     "cell_type": "markdown",
     "checksum": "49c6a3a4988cd57aa89adacfe62ba447",
     "grade": false,
     "grade_id": "cell-f1e1d845873036f4",
     "locked": true,
     "schema_version": 3,
     "solution": false,
     "task": false
    }
   },
   "source": [
    "# Tutorial 05: Discrete Counts Responses"
   ]
  },
  {
   "cell_type": "markdown",
   "metadata": {
    "deletable": false,
    "editable": false,
    "nbgrader": {
     "cell_type": "markdown",
     "checksum": "9af48ef41de46b5701284ba90469f833",
     "grade": false,
     "grade_id": "cell-82d9926086d47a80",
     "locked": true,
     "schema_version": 3,
     "solution": false,
     "task": false
    }
   },
   "source": [
    "#### Lecture and Tutorial Learning Goals:\n",
    "After completing this week's lecture and tutorial work, you will be able to:\n",
    "\n",
    "1. Describe the Poisson regression estimation procedure (discrete counts as the response variable and explanatory variables).\n",
    "2. Interpret the coefficients and $p$-values in the Poisson regression settings.\n",
    "3. Discuss useful Poisson regression diagnostics and explain why they should be performed.\n",
    "4. Write a computer script to perform Poisson regression and perform model diagnostics. Interpret and communicate the results from that computer script."
   ]
  },
  {
   "cell_type": "code",
   "execution_count": null,
   "metadata": {
    "deletable": false,
    "editable": false,
    "nbgrader": {
     "cell_type": "code",
     "checksum": "732a18ebf3e7aa96ac71effc29a90314",
     "grade": false,
     "grade_id": "cell-a2a153352bc44a68",
     "locked": true,
     "schema_version": 3,
     "solution": false,
     "task": false
    },
    "tags": []
   },
   "outputs": [],
   "source": [
    "# Run this cell before continuing.\n",
    "library(broom)\n",
    "library(MASS)\n",
    "library(glmbb)\n",
    "library(cowplot)\n",
    "library(tidyverse)\n",
    "library(faraway)\n",
    "\n",
    "source(\"tests_tutorial_05.R\")"
   ]
  },
  {
   "cell_type": "markdown",
   "metadata": {
    "deletable": false,
    "editable": false,
    "nbgrader": {
     "cell_type": "markdown",
     "checksum": "b6995a035fc748974f5980e2b84c385f",
     "grade": false,
     "grade_id": "cell-801b28434bf00853",
     "locked": true,
     "schema_version": 3,
     "solution": false,
     "task": false
    }
   },
   "source": [
    "## Poisson Regression\n",
    "\n",
    "- Poisson regression is a regression analysis designed for modelling **count data**, where the response variable represents the number of times an event occurs within a fixed interval of time or space. \n",
    "\n",
    "- Since **counts are nonnegative integers**, if we use linear regression, we might have a range problem by predicting negative counts. \n",
    "\n",
    "- By employing Poisson regression, we can analyze and predict event counts, such as the number of customer arrivals, disease occurrences, or traffic accidents, providing valuable insights into the factors influencing these events and enabling better decision-making."
   ]
  },
  {
   "cell_type": "markdown",
   "metadata": {
    "deletable": false,
    "editable": false,
    "nbgrader": {
     "cell_type": "markdown",
     "checksum": "d8e03917b8a0d444cfce503f8955bac3",
     "grade": false,
     "grade_id": "cell-d07f008bc4129b8f",
     "locked": true,
     "schema_version": 3,
     "solution": false,
     "task": false
    }
   },
   "source": [
    "**The Poisson Regression**\n",
    "\n",
    "The Poisson regression model is another model in the family of *generalized linear models*, so you can use the function `glm()` to estimate it.\n",
    "\n",
    "Since the expected value of counts is always positive, we can't use a linear regression to model it. Instead, we use a *function* of the linear component with a range $[0, + \\inf)$ to model the conditional expectation\n",
    "\n",
    "$$E[Y_i|\\mathbf{X}_i] = e^{\\beta_0 + \\beta_1X_{1,i} + \\ldots + \\beta_pX_{1,p}}$$\n",
    "\n",
    "or equivalently,\n",
    "\n",
    "$$\\log(E[Y_i|\\mathbf{X}_i]) = \\beta_0 + \\beta_1X_{1,i} + \\ldots + \\beta_pX_{1,p}$$\n",
    "\n",
    "> The exponential function is not the only function that works but it is commonly used and the default link for this family\n",
    "\n",
    "Usually, the mean of a Poisson distribution is called $\\lambda$. This is an arbitrary choice, like using $\\mu$ for the Normal distribution."
   ]
  },
  {
   "cell_type": "markdown",
   "metadata": {
    "deletable": false,
    "editable": false,
    "nbgrader": {
     "cell_type": "markdown",
     "checksum": "46fa3ca7e8cde273e5c368c471b8b8fe",
     "grade": false,
     "grade_id": "cell-8db5d480aba6b9a5",
     "locked": true,
     "schema_version": 3,
     "solution": false,
     "task": false
    }
   },
   "source": [
    "## Galapagos Islands\n",
    "\n",
    "![img](https://naturegalapagos.com/wp-content/uploads/2013/10/where-are-the-galapagos-islands-map.jpg.webp)"
   ]
  },
  {
   "cell_type": "markdown",
   "metadata": {
    "deletable": false,
    "editable": false,
    "nbgrader": {
     "cell_type": "markdown",
     "checksum": "a2cd4da053c4aaf9fd89cec44c7fa214",
     "grade": false,
     "grade_id": "cell-4dee74dc6abfc37d",
     "locked": true,
     "schema_version": 3,
     "solution": false,
     "task": false
    }
   },
   "source": [
    "In this tutorial you will work with the `galapagos` dataset, from the `faraway` package that contains information about 30 different Galapagos islands and the number of plant species found in each island. \n",
    "\n",
    "We will explore the relationship between the number of plant species in the islands and several geographic variables about the islands in this dataset. \n",
    "\n",
    "More information about this dataset can be found using `?gala`"
   ]
  },
  {
   "cell_type": "code",
   "execution_count": null,
   "metadata": {
    "deletable": false,
    "editable": false,
    "nbgrader": {
     "cell_type": "code",
     "checksum": "3b4d122c8bba53be716f1c89727c19f8",
     "grade": false,
     "grade_id": "cell-c42393c3147ab6d0",
     "locked": true,
     "schema_version": 3,
     "solution": false,
     "task": false
    },
    "tags": []
   },
   "outputs": [],
   "source": [
    "# Load the data\n",
    "galapagos <- \n",
    "    gala %>% \n",
    "    as_tibble(rownames = 'island') %>%\n",
    "    select(-Endemics)\n",
    "\n",
    "colnames(galapagos) <- str_to_lower(colnames(galapagos))\n",
    "\n",
    "galapagos %>% \n",
    "    slice_sample(n = 3)"
   ]
  },
  {
   "cell_type": "markdown",
   "metadata": {
    "deletable": false,
    "editable": false,
    "nbgrader": {
     "cell_type": "markdown",
     "checksum": "8c3a92fff986ca132dfca06fd73060f3",
     "grade": false,
     "grade_id": "cell-14f5cf4bfc5b5e38",
     "locked": true,
     "schema_version": 3,
     "solution": false,
     "task": false
    }
   },
   "source": [
    "Let's start by looking at the association between the number of plant species found in an island, `species,` and the highest elevation of the island `elevation`.\n",
    "\n",
    "We want to estimate the following Poisson regression: \n",
    "\n",
    "$$\n",
    "\\log(\\lambda_i) = \\beta_0 + \\beta_1\\times\\text{elevation}_i\n",
    "$$\n",
    "\n",
    "where $\\lambda_i$ is the mean of the random variable `species`. \n",
    "\n",
    "> We assume that (conditional of any of these covariates) `species` follows a Poisson distribution."
   ]
  },
  {
   "cell_type": "markdown",
   "metadata": {
    "deletable": false,
    "editable": false,
    "nbgrader": {
     "cell_type": "markdown",
     "checksum": "5d0c6e3bd189a567468f6c9f113e5485",
     "grade": false,
     "grade_id": "cell-3245a397a3c0a56f",
     "locked": true,
     "schema_version": 3,
     "solution": false,
     "task": false
    }
   },
   "source": [
    "**Question 1.1**\n",
    "<br>{points: 1}\n",
    "\n",
    "Create a scatterplot of `species` versus `elevation` (via `geom_point()`). The `ggplot()` object's name will be `species_elevation_plot`. Recall that the response must be placed on the $y$-axis, whereas the continuous input must be on the $x$-axis. Include proper axis labels and title.\n",
    "\n",
    "*Fill out those parts indicated with `...`, uncomment the corresponding code in the cell below, and run it.*"
   ]
  },
  {
   "cell_type": "code",
   "execution_count": null,
   "metadata": {
    "deletable": false,
    "nbgrader": {
     "cell_type": "code",
     "checksum": "3cabbd10e11e5702357c85d492e4f220",
     "grade": false,
     "grade_id": "cell-267744b8584d386b",
     "locked": false,
     "schema_version": 3,
     "solution": true,
     "task": false
    },
    "tags": []
   },
   "outputs": [],
   "source": [
    "# Adjust these numbers so the plot looks good in your desktop.\n",
    "options(repr.plot.width = 7, repr.plot.height = 5) \n",
    "\n",
    "# species_elevation_plot <- \n",
    "#   ... %>%\n",
    "#   ggplot() +\n",
    "#   ...(aes(..., ...)) +\n",
    "#   labs(y = \"Number of Species\", x = \"Elevation (mts)\") +\n",
    "#   ggtitle(Scatterplot of Number of Species vs Elevation) +\n",
    "#   theme(text = element_text(size = 14)) \n",
    "\n",
    "# your code here\n",
    "fail() # No Answer - remove if you provide an answer\n",
    "\n",
    "species_elevation_plot"
   ]
  },
  {
   "cell_type": "code",
   "execution_count": null,
   "metadata": {
    "deletable": false,
    "editable": false,
    "nbgrader": {
     "cell_type": "code",
     "checksum": "0ab5a2b196ff6c3c1ed3a2b30946f711",
     "grade": true,
     "grade_id": "cell-4ea95eb36fa39c91",
     "locked": true,
     "points": 1,
     "schema_version": 3,
     "solution": false,
     "task": false
    },
    "tags": []
   },
   "outputs": [],
   "source": [
    "test_1.1()"
   ]
  },
  {
   "cell_type": "markdown",
   "metadata": {
    "deletable": false,
    "editable": false,
    "nbgrader": {
     "cell_type": "markdown",
     "checksum": "17c545587a22f61af86f6e8ee909dbbc",
     "grade": false,
     "grade_id": "cell-58f301f5cab01d1a",
     "locked": true,
     "schema_version": 3,
     "solution": false,
     "task": false
    }
   },
   "source": [
    "**Question 1.2**\n",
    "<br>{points: 1}\n",
    "\n",
    "By looking at `species_elevation_plot`, graphically speaking, what is the relationship between `species` and carapace `elevation`?\n",
    "\n",
    "**A.** Positive.\n",
    "\n",
    "**B.** Negative.\n",
    "\n",
    "**C.** No relationship.\n",
    "\n",
    "*Assign your answer to the object `answer1.2` (character type surrounded by quotes).*"
   ]
  },
  {
   "cell_type": "code",
   "execution_count": null,
   "metadata": {
    "deletable": false,
    "nbgrader": {
     "cell_type": "code",
     "checksum": "749452dcf5cd0fcf645ab808bd4ed5f5",
     "grade": false,
     "grade_id": "cell-5f4531deea0754da",
     "locked": false,
     "schema_version": 3,
     "solution": true,
     "task": false
    },
    "tags": []
   },
   "outputs": [],
   "source": [
    "# answer1.2 <- ...\n",
    "\n",
    "# your code here\n",
    "fail() # No Answer - remove if you provide an answer"
   ]
  },
  {
   "cell_type": "code",
   "execution_count": null,
   "metadata": {
    "deletable": false,
    "editable": false,
    "nbgrader": {
     "cell_type": "code",
     "checksum": "f2b667fc0c068a2e9d8fbce0bc3484b4",
     "grade": true,
     "grade_id": "cell-32224ab4e0d00a59",
     "locked": true,
     "points": 1,
     "schema_version": 3,
     "solution": false,
     "task": false
    },
    "tags": []
   },
   "outputs": [],
   "source": [
    "test_1.2()"
   ]
  },
  {
   "cell_type": "markdown",
   "metadata": {
    "deletable": false,
    "editable": false,
    "nbgrader": {
     "cell_type": "markdown",
     "checksum": "e54824c8fa1b43313cb5af7a90ac75f4",
     "grade": false,
     "grade_id": "cell-27605b7706aedb71",
     "locked": true,
     "schema_version": 3,
     "solution": false,
     "task": false
    }
   },
   "source": [
    "**Question 1.3**\n",
    "<br>{points: 1}\n",
    "\n",
    "Let us plot the estimated model on top of `species_elevation_plot` using `geom_smooth()` with `method = \"glm\"` and `method.args = list(family = poisson)`.\n",
    "\n",
    "*Fill out those parts indicated with `...`, uncomment the corresponding code in the cell below, and run it.*"
   ]
  },
  {
   "cell_type": "code",
   "execution_count": null,
   "metadata": {
    "deletable": false,
    "nbgrader": {
     "cell_type": "code",
     "checksum": "049909ce07a0a70cbca007062241a917",
     "grade": false,
     "grade_id": "cell-3a1e6d7e495e79d0",
     "locked": false,
     "schema_version": 3,
     "solution": true,
     "task": false
    },
    "tags": []
   },
   "outputs": [],
   "source": [
    "# Adjust these numbers so the plot looks good in your desktop.\n",
    "options(repr.plot.width = 9, repr.plot.height = 5)\n",
    "\n",
    "# species_elevation_plot <- \n",
    "#   species_elevation_plot +\n",
    "#   ...(aes(..., ...), \n",
    "#       ...,\n",
    "#       se = FALSE,\n",
    "#       ...)\n",
    "\n",
    "# your code here\n",
    "fail() # No Answer - remove if you provide an answer\n",
    "\n",
    "species_elevation_plot"
   ]
  },
  {
   "cell_type": "code",
   "execution_count": null,
   "metadata": {
    "deletable": false,
    "editable": false,
    "nbgrader": {
     "cell_type": "code",
     "checksum": "8ed39439407f7b3bef21ced2fe109f18",
     "grade": true,
     "grade_id": "cell-e6f45c72012f6548",
     "locked": true,
     "points": 1,
     "schema_version": 3,
     "solution": false,
     "task": false
    },
    "tags": []
   },
   "outputs": [],
   "source": [
    "test_1.3()"
   ]
  },
  {
   "cell_type": "markdown",
   "metadata": {
    "deletable": false,
    "editable": false,
    "nbgrader": {
     "cell_type": "markdown",
     "checksum": "352bbf3486ea276b2c2e4e2049380bb4",
     "grade": false,
     "grade_id": "cell-04bbdae892ba5783",
     "locked": true,
     "schema_version": 3,
     "solution": false,
     "task": false
    }
   },
   "source": [
    "### Estimation\n",
    "\n",
    "As seen in other models, the parameters $\\beta_0, \\beta_1, \\dots, \\beta_{p}$ are unknown population coefficients that we want to estimate using data. \n",
    "\n",
    "In order to fit a Poisson regression model, we can also use the function `glm()` and its argument `family = poisson` (required to specify the Poisson nature of the response), which obtains the estimates $\\hat{\\beta}_0, \\hat{\\beta}_1, \\dots \\hat{\\beta}_{p}$. The estimates are obtained through maximum likelihood."
   ]
  },
  {
   "cell_type": "markdown",
   "metadata": {
    "deletable": false,
    "editable": false,
    "nbgrader": {
     "cell_type": "markdown",
     "checksum": "2990129c1669b6baf4409e85605b2a5d",
     "grade": false,
     "grade_id": "cell-1cd6b2d8388adfad",
     "locked": true,
     "schema_version": 3,
     "solution": false,
     "task": false
    }
   },
   "source": [
    "**Question 1.4**\n",
    "<br>{points: 1}\n",
    "\n",
    "Using `glm()`, estimate a Poisson regression model with `species` as a response and `elevation` as a continuous covariate.\n",
    "\n",
    "Call the model `species_elevation_model`.\n",
    "    \n",
    "*Fill out those parts indicated with `...`, uncomment the corresponding code in the cell below, and run it.*    "
   ]
  },
  {
   "cell_type": "code",
   "execution_count": null,
   "metadata": {
    "deletable": false,
    "nbgrader": {
     "cell_type": "code",
     "checksum": "1d17fdf3849fbe70f659432359a31009",
     "grade": false,
     "grade_id": "cell-cce6669279499835",
     "locked": false,
     "schema_version": 3,
     "solution": true,
     "task": false
    },
    "tags": []
   },
   "outputs": [],
   "source": [
    "# species_elevation_model <- ...(...,\n",
    "#                            ...,\n",
    "#                            ...)\n",
    "\n",
    "# your code here\n",
    "fail() # No Answer - remove if you provide an answer\n",
    "\n",
    "summary(species_elevation_model)"
   ]
  },
  {
   "cell_type": "code",
   "execution_count": null,
   "metadata": {
    "deletable": false,
    "editable": false,
    "nbgrader": {
     "cell_type": "code",
     "checksum": "f72506696555d0fdba1762578f8000d6",
     "grade": true,
     "grade_id": "cell-97cc9b41beb464bf",
     "locked": true,
     "points": 1,
     "schema_version": 3,
     "solution": false,
     "task": false
    },
    "tags": []
   },
   "outputs": [],
   "source": [
    "test_1.4()"
   ]
  },
  {
   "cell_type": "markdown",
   "metadata": {
    "deletable": false,
    "editable": false,
    "nbgrader": {
     "cell_type": "markdown",
     "checksum": "993784ce5b2d4472ddb0e7d5764ed7ee",
     "grade": false,
     "grade_id": "cell-b7f592bf64da6cf8",
     "locked": true,
     "schema_version": 3,
     "solution": false,
     "task": false
    }
   },
   "source": [
    "**Question 1.5**\n",
    "<br>{points: 1}\n",
    "\n",
    "Report the estimated coefficients, their standard errors, and corresponding $p$-values using `tidy()` with `species_elevation_model`. Include the corresponding asymptotic 95% confidence intervals. \n",
    "\n",
    "> Note: do not exponentiate the coefficients in this first question\n",
    "\n",
    "Store the results in the variable `species_elevation_model_results`.\n",
    "\n",
    "*Fill out those parts indicated with `...`, uncomment the corresponding code in the cell below, and run it.*"
   ]
  },
  {
   "cell_type": "code",
   "execution_count": null,
   "metadata": {
    "deletable": false,
    "nbgrader": {
     "cell_type": "code",
     "checksum": "6bf2e453818ee5bac93dd6da4541b547",
     "grade": false,
     "grade_id": "cell-4deafdcc73d1ddc4",
     "locked": false,
     "schema_version": 3,
     "solution": true,
     "task": false
    },
    "tags": []
   },
   "outputs": [],
   "source": [
    "# species_elevation_model_results <- \n",
    "#    ...\n",
    "#    ...(... = TRUE) %>%\n",
    "#    mutate_if(is.numeric, round, 4)\n",
    "\n",
    "# your code here\n",
    "fail() # No Answer - remove if you provide an answer\n",
    "\n",
    "species_elevation_model_results"
   ]
  },
  {
   "cell_type": "code",
   "execution_count": null,
   "metadata": {
    "deletable": false,
    "editable": false,
    "nbgrader": {
     "cell_type": "code",
     "checksum": "581d1f434ee359fd244e38d6ce05b34b",
     "grade": true,
     "grade_id": "cell-441e381e29ca858b",
     "locked": true,
     "points": 1,
     "schema_version": 3,
     "solution": false,
     "task": false
    },
    "tags": []
   },
   "outputs": [],
   "source": [
    "test_1.5()"
   ]
  },
  {
   "cell_type": "markdown",
   "metadata": {
    "deletable": false,
    "editable": false,
    "nbgrader": {
     "cell_type": "markdown",
     "checksum": "5ef1c877a28d3b3c46dce1da2bb25d9f",
     "grade": false,
     "grade_id": "cell-f95b8a861b29b15b",
     "locked": true,
     "schema_version": 3,
     "solution": false,
     "task": false
    }
   },
   "source": [
    "**Question 1.6**\n",
    "<br>{points: 1}\n",
    "\n",
    "As done for logistic regression, we can also interpret the exponentiated coefficients since we are using the logarithmic link function. Use `exponentiate = TRUE` in `tidy()` to get the exponentiated estimates and the corresponding 95% confidence intervals. \n",
    "\n",
    "> Note these are the estimates of the coefficients in the model of the mean of the number of plant species (i.e., $E[\\texttt{species}_i|\\texttt{elevation}_i]$).\n",
    "\n",
    "Round numeric results to 4 decimal places.\n",
    "\n",
    "Call the resulting object `species_elevation_exp_results`. \n",
    "\n",
    "*This time without a skeleton, you've done this before!  Write your code in the cell below, and run it.*"
   ]
  },
  {
   "cell_type": "code",
   "execution_count": null,
   "metadata": {
    "deletable": false,
    "nbgrader": {
     "cell_type": "code",
     "checksum": "975c15131c79a7b53271fdfd4b81fba1",
     "grade": false,
     "grade_id": "cell-faa353ab9211c114",
     "locked": false,
     "schema_version": 3,
     "solution": true,
     "task": false
    },
    "tags": []
   },
   "outputs": [],
   "source": [
    "# write your own code here \n",
    "\n",
    "# your code here\n",
    "fail() # No Answer - remove if you provide an answer\n",
    "\n",
    "species_elevation_exp_results\n"
   ]
  },
  {
   "cell_type": "code",
   "execution_count": null,
   "metadata": {
    "deletable": false,
    "editable": false,
    "nbgrader": {
     "cell_type": "code",
     "checksum": "cba02ba95929502c9fa6f38db8221464",
     "grade": true,
     "grade_id": "cell-1822a6990bcbbd0f",
     "locked": true,
     "points": 1,
     "schema_version": 3,
     "solution": false,
     "task": false
    },
    "tags": []
   },
   "outputs": [],
   "source": [
    "test_1.6()"
   ]
  },
  {
   "cell_type": "markdown",
   "metadata": {
    "deletable": false,
    "editable": false,
    "nbgrader": {
     "cell_type": "markdown",
     "checksum": "07fc93f7aad782d2d3b3606373d4927e",
     "grade": false,
     "grade_id": "cell-d029850491a79223",
     "locked": true,
     "schema_version": 3,
     "solution": false,
     "task": false
    }
   },
   "source": [
    "Note that `std.error` and `statistic` are not adjusted! Only the estimates and confidence limits are exponentiated."
   ]
  },
  {
   "cell_type": "markdown",
   "metadata": {
    "deletable": false,
    "editable": false,
    "nbgrader": {
     "cell_type": "markdown",
     "checksum": "9247275e250ee0af2c54608e658bcdea",
     "grade": false,
     "grade_id": "cell-97898ea29e752887",
     "locked": true,
     "schema_version": 3,
     "solution": false,
     "task": false
    }
   },
   "source": [
    "**Question 1.7**\n",
    "<br>{points: 1}\n",
    "\n",
    "Provide an interpretation of the coefficient of `elevation` in the model of the mean of the number of plant species (i.e., $E[\\texttt{species}_i|\\texttt{elevation}_i]$). \n",
    "\n",
    "> recall, when observational data is used, you can only establish an association between variables"
   ]
  },
  {
   "cell_type": "markdown",
   "metadata": {
    "deletable": false,
    "nbgrader": {
     "cell_type": "markdown",
     "checksum": "5baf2cc3b6e3af28c5bcef3082468a1a",
     "grade": true,
     "grade_id": "cell-0ac47d870613baa3",
     "locked": false,
     "points": 1,
     "schema_version": 3,
     "solution": true,
     "task": false
    }
   },
   "source": [
    "> *Your answer goes here.*\n",
    "\n",
    "DOUBLE CLICK TO EDIT **THIS CELL** AND REPLACE THIS TEXT WITH YOUR ANSWER."
   ]
  },
  {
   "cell_type": "markdown",
   "metadata": {
    "deletable": false,
    "editable": false,
    "nbgrader": {
     "cell_type": "markdown",
     "checksum": "80f54d484ede0c65086b26f61d86287a",
     "grade": false,
     "grade_id": "cell-7c2691fb066e9a1e",
     "locked": true,
     "schema_version": 3,
     "solution": false,
     "task": false
    }
   },
   "source": [
    "**Question 1.8**\n",
    "<br>{points: 1}\n",
    "\n",
    "Using the output in `species_elevation_exp_results`, which of the following statements is correct?\n",
    "\n",
    "**A.** With 95% confidence we expect an increment in the mean number of plant species between 14% and 15% per 1 meter increase in the highest elevation of an island.\n",
    "\n",
    "**B.** With 95% confidence we expect an increment in the mean number of plant species between 0.14% and 0.15% per 1 meter increase in the highest elevation of an island.\n",
    "\n",
    "**C.** With 95% probability we expect an increment in the mean number of plant species between 14% and 15% per 1 meter increase in the highest elevation of an island.\n",
    "\n",
    "**D.** With 95% probability we expect an increment in the mean number of plant species between 0.14% and 0.15% per 1 meter increase in the highest elevation of an island.\n",
    "\n",
    "*Assign your answers to the object `answer1.8`. Your answers Your answer should be one of \"A\", \"B\", \"C\", or \"D\", surrounded by quotes.*"
   ]
  },
  {
   "cell_type": "code",
   "execution_count": null,
   "metadata": {
    "deletable": false,
    "nbgrader": {
     "cell_type": "code",
     "checksum": "ee5fd97bc0b369187703d21c0c1686ff",
     "grade": false,
     "grade_id": "cell-d1466876e62cbd8d",
     "locked": false,
     "schema_version": 3,
     "solution": true,
     "task": false
    },
    "tags": []
   },
   "outputs": [],
   "source": [
    "# answer1.8 <- \n",
    "\n",
    "# your code here\n",
    "fail() # No Answer - remove if you provide an answer"
   ]
  },
  {
   "cell_type": "code",
   "execution_count": null,
   "metadata": {
    "deletable": false,
    "editable": false,
    "nbgrader": {
     "cell_type": "code",
     "checksum": "d290c926a2a1c6f95b2fe0d3a05fa479",
     "grade": true,
     "grade_id": "cell-c4b2bdbb07660385",
     "locked": true,
     "points": 1,
     "schema_version": 3,
     "solution": false,
     "task": false
    },
    "tags": []
   },
   "outputs": [],
   "source": [
    "test_1.8()"
   ]
  },
  {
   "cell_type": "markdown",
   "metadata": {
    "deletable": false,
    "editable": false,
    "nbgrader": {
     "cell_type": "markdown",
     "checksum": "a95dd1b55e2baf1a343f3c4784da243e",
     "grade": false,
     "grade_id": "cell-ee08c066c8f824a5",
     "locked": true,
     "schema_version": 3,
     "solution": false,
     "task": false
    }
   },
   "source": [
    "The dataset contains other continuous covariates that may be useful in understanding the number of species that are growing in each island. \n",
    "\n",
    "This time, we'll estimate a Poisson regression using all the covariates available.  "
   ]
  },
  {
   "cell_type": "markdown",
   "metadata": {
    "deletable": false,
    "editable": false,
    "nbgrader": {
     "cell_type": "markdown",
     "checksum": "c62d2883dc59f40fa75dc259312b611f",
     "grade": false,
     "grade_id": "cell-c6dc79b241d1b32d",
     "locked": true,
     "schema_version": 3,
     "solution": false,
     "task": false
    }
   },
   "source": [
    "**Question 1.9**\n",
    "<br>{points: 1}\n",
    "\n",
    "Using `glm()`, estimate a Poisson regression model with `species` as a response and all other continuous covariate.\n",
    "\n",
    "> note in the skeleton provided how to exclude a small number of columns\n",
    "\n",
    "Call the model `species_poisson_model`.\n",
    "    \n",
    "*Fill out those parts indicated with `...`, uncomment the corresponding code in the cell below, and run it.*    "
   ]
  },
  {
   "cell_type": "code",
   "execution_count": null,
   "metadata": {
    "deletable": false,
    "nbgrader": {
     "cell_type": "code",
     "checksum": "0aef048c795720c7c3fc8d40f8d2969e",
     "grade": false,
     "grade_id": "cell-7bce91a96d3eef75",
     "locked": false,
     "schema_version": 3,
     "solution": true,
     "task": false
    }
   },
   "outputs": [],
   "source": [
    "# species_poisson_model <- ...(...~ . - island,\n",
    "#                            ...,\n",
    "#                            ...)\n",
    "\n",
    "# your code here\n",
    "fail() # No Answer - remove if you provide an answer\n",
    "\n",
    "summary(species_poisson_model)"
   ]
  },
  {
   "cell_type": "code",
   "execution_count": null,
   "metadata": {
    "deletable": false,
    "editable": false,
    "nbgrader": {
     "cell_type": "code",
     "checksum": "15a8ef3eb3a540017cae2b83aea59c10",
     "grade": true,
     "grade_id": "cell-a9c9ffc5a6843e1c",
     "locked": true,
     "points": 1,
     "schema_version": 3,
     "solution": false,
     "task": false
    }
   },
   "outputs": [],
   "source": [
    "test_1.9()"
   ]
  },
  {
   "cell_type": "markdown",
   "metadata": {
    "deletable": false,
    "editable": false,
    "nbgrader": {
     "cell_type": "markdown",
     "checksum": "7b52242ae2905b5dffb7715a1fc626bc",
     "grade": false,
     "grade_id": "cell-1623ecdca5ad40f1",
     "locked": true,
     "schema_version": 3,
     "solution": false,
     "task": false
    }
   },
   "source": [
    "**Question 1.10**\n",
    "<br>{points: 1}\n",
    "\n",
    "Use `exponentiate = TRUE` in `tidy()` to get the estimates of the coefficients for the model of the mean number of plant species (i.e., $E[\\texttt{species}_i|\\texttt{elevation}_i]$). Include the corresponding 95% confidence intervals.\n",
    "\n",
    "Round numeric results to 4 decimal places.\n",
    "\n",
    "Call the resulting object `species_poisson_exp_results`. \n",
    "\n",
    "*Again, write your code without a skeleton in the cell below, and run it.*"
   ]
  },
  {
   "cell_type": "code",
   "execution_count": null,
   "metadata": {
    "deletable": false,
    "nbgrader": {
     "cell_type": "code",
     "checksum": "934df99dcdd5381244ca5f2d1212619d",
     "grade": false,
     "grade_id": "cell-912dd437e186c26f",
     "locked": false,
     "schema_version": 3,
     "solution": true,
     "task": false
    }
   },
   "outputs": [],
   "source": [
    "# write your own code here \n",
    "\n",
    "# your code here\n",
    "fail() # No Answer - remove if you provide an answer\n",
    "\n",
    "species_poisson_exp_results"
   ]
  },
  {
   "cell_type": "code",
   "execution_count": null,
   "metadata": {
    "deletable": false,
    "editable": false,
    "nbgrader": {
     "cell_type": "code",
     "checksum": "25f9908ab4502ddd7768a6a938b23638",
     "grade": true,
     "grade_id": "cell-4b9646616cdb4516",
     "locked": true,
     "points": 1,
     "schema_version": 3,
     "solution": false,
     "task": false
    }
   },
   "outputs": [],
   "source": [
    "test_1.10()"
   ]
  },
  {
   "cell_type": "markdown",
   "metadata": {
    "deletable": false,
    "editable": false,
    "nbgrader": {
     "cell_type": "markdown",
     "checksum": "ccd3f8258584bb1647516a6fa80138de",
     "grade": false,
     "grade_id": "cell-7fb24400ebadfa2d",
     "locked": true,
     "schema_version": 3,
     "solution": false,
     "task": false
    }
   },
   "source": [
    "**Question 1.11**\n",
    "<br>{points: 1}\n",
    "\n",
    "Would the interpretation of the coefficient for `elevation` change with the new model? if so, provide a new interpretation, otherwise, re-write it your previous one.\n",
    "\n",
    "Again provide an interpretation for the model of the mean of the number of plant species. "
   ]
  },
  {
   "cell_type": "markdown",
   "metadata": {
    "deletable": false,
    "nbgrader": {
     "cell_type": "markdown",
     "checksum": "86056dc24691bbfad882b0a6c8d3eaf8",
     "grade": true,
     "grade_id": "cell-db66656070b47ff9",
     "locked": false,
     "points": 1,
     "schema_version": 3,
     "solution": true,
     "task": false
    }
   },
   "source": [
    "> *Your answer goes here.*\n",
    "\n",
    "DOUBLE CLICK TO EDIT **THIS CELL** AND REPLACE THIS TEXT WITH YOUR ANSWER."
   ]
  },
  {
   "cell_type": "markdown",
   "metadata": {
    "deletable": false,
    "editable": false,
    "nbgrader": {
     "cell_type": "markdown",
     "checksum": "129464ad183edfa7c18952948aa243e0",
     "grade": false,
     "grade_id": "cell-aa075c7bea194a05",
     "locked": true,
     "schema_version": 3,
     "solution": false,
     "task": false
    }
   },
   "source": [
    "**Question 1.12**\n",
    "<br>{points: 1}\n",
    "\n",
    "Santa Cruz is the home to the largest human population in the Islands. Being close to this island can affect the growth of plant species.\n",
    "\n",
    "The variable `scruz` measures the distance from each island to Santa Cruz (in kilometers). \n",
    "\n",
    "Based on the results stored in `species_poisson_exp_results`, which of the following claims is(are) true?\n",
    "\n",
    "**A**: Keeping all other variables in the model constant, at any value, an increase of 1 kilometers in the proximity to Santa Cruz is associated with a change in the mean number of plant species by a factor of $0.9943$.\n",
    "\n",
    "**B**: Keeping all other variables in the model constant, at any value, an increase of 1 kilometers in the proximity to Santa Cruz is associated with a $0.57\\%$ decrease in the mean number of plant species.\n",
    "\n",
    "**C**: Keeping all other variables in the model constant, at any value, an increase of 5 kilometers in the proximity to Santa Cruz is associated with a $2.8\\%$ decrease in the mean number of plant species since $(0.9943^{5} -1)\\times 100\\% = - 2.8\\%$.\n",
    "\n",
    "**D**: Keeping all other variables in the model constant, at any value, an increase of 1 kilometers in the proximity to Santa Cruz is associated with a increase in the mean number of plant species by a factor of $0.57\\%$.\n",
    "\n",
    "*Assign your answer to the object `answer1.12`. Your answers have to be included in a single string indicating the correct options **in alphabetical order** and surrounded by quotes (e.g., `\"AB\"` indicates you are selecting the two options).*"
   ]
  },
  {
   "cell_type": "code",
   "execution_count": null,
   "metadata": {
    "deletable": false,
    "nbgrader": {
     "cell_type": "code",
     "checksum": "ae2bb544c870bfccd7d5ee4497376839",
     "grade": false,
     "grade_id": "cell-96c3a4fc1c8cd5c9",
     "locked": false,
     "schema_version": 3,
     "solution": true,
     "task": false
    }
   },
   "outputs": [],
   "source": [
    "# answer1.12 <- \n",
    "\n",
    "# your code here\n",
    "fail() # No Answer - remove if you provide an answer"
   ]
  },
  {
   "cell_type": "code",
   "execution_count": null,
   "metadata": {
    "deletable": false,
    "editable": false,
    "nbgrader": {
     "cell_type": "code",
     "checksum": "b4f7ab951ff0510c4f1243d3f78f2cf3",
     "grade": true,
     "grade_id": "cell-0db843a803e7d5c8",
     "locked": true,
     "points": 1,
     "schema_version": 3,
     "solution": false,
     "task": false
    }
   },
   "outputs": [],
   "source": [
    "test_1.12()"
   ]
  },
  {
   "cell_type": "markdown",
   "metadata": {
    "deletable": false,
    "editable": false,
    "nbgrader": {
     "cell_type": "markdown",
     "checksum": "01395accb2ae4fccbb0a85e34c6322f0",
     "grade": false,
     "grade_id": "cell-bdd051de3f46f5df",
     "locked": true,
     "schema_version": 3,
     "solution": false,
     "task": false
    }
   },
   "source": [
    "### Residuals\n",
    "\n",
    "For a Poisson random variable, the variance equals the mean. Thus, the residuals are usually adjusted by the standard deviation of each observation. \n",
    "\n",
    "For the case of Poisson regression, the Pearson residuals are defined as:\n",
    "\n",
    "$$\\frac{y_i - \\hat{\\lambda}_i}{\\sqrt{\\hat{\\lambda}_i}}$$\n",
    "\n",
    "where $\\hat{\\lambda}_i$ is the fitted value using the exponentiated model, in R the `type = \"response\"`"
   ]
  },
  {
   "cell_type": "markdown",
   "metadata": {
    "deletable": false,
    "editable": false,
    "nbgrader": {
     "cell_type": "markdown",
     "checksum": "b86b18c09d09acec307e692550b7fc08",
     "grade": false,
     "grade_id": "cell-f51bad3368e8ff09",
     "locked": true,
     "schema_version": 3,
     "solution": false,
     "task": false
    }
   },
   "source": [
    "**Question 1.13**\n",
    "<br>{points: 1}\n",
    "\n",
    "Use the function `augment()` to add fitted values and residuals to the `galapagos` dataset. Select only the columns `species`, `.fitted` and `.resid`.\n",
    "\n",
    "Next, add to the tibble the residuals computed with the function `residuals` on the estimated model `species_poisson_model`, using `type = \"response\"` and `type = \"pearson\"`.\n",
    "\n",
    "Compute the Pearson residuals using the fitted values and add them to the tibble.\n",
    "\n",
    "*Assign your answer to the object `species_poisson_residuals`. Fill out those parts indicated with `...`, uncomment the corresponding code in the cell below, and run it.*"
   ]
  },
  {
   "cell_type": "code",
   "execution_count": null,
   "metadata": {
    "deletable": false,
    "nbgrader": {
     "cell_type": "code",
     "checksum": "f291f28ff54a81e6e7a12049dd407978",
     "grade": false,
     "grade_id": "cell-524a7282a7d820af",
     "locked": false,
     "schema_version": 3,
     "solution": true,
     "task": false
    }
   },
   "outputs": [],
   "source": [
    "# species_poisson_residuals <- ... %>%\n",
    "#               ...() %>%\n",
    "#               dplyr::select(...,..., ...) %>%\n",
    "#               mutate(pred_mean = ...,\n",
    "#                      resid_raw = residuals(..., type = \"response\"),\n",
    "#                      resid_pearson =...(...,...),\n",
    "#                      pearson_byhand = .../sqrt(...))\n",
    "\n",
    "# your code here\n",
    "fail() # No Answer - remove if you provide an answer\n",
    "\n",
    "head(species_poisson_residuals)"
   ]
  },
  {
   "cell_type": "code",
   "execution_count": null,
   "metadata": {
    "deletable": false,
    "editable": false,
    "nbgrader": {
     "cell_type": "code",
     "checksum": "226aa69dfaa07d34f36e6cab34dba437",
     "grade": true,
     "grade_id": "cell-763aaa5a4abc7057",
     "locked": true,
     "points": 1,
     "schema_version": 3,
     "solution": false,
     "task": false
    }
   },
   "outputs": [],
   "source": [
    "test_1.13()"
   ]
  },
  {
   "cell_type": "markdown",
   "metadata": {
    "deletable": false,
    "editable": false,
    "nbgrader": {
     "cell_type": "markdown",
     "checksum": "35c87d0134c1ea2c1e24ad98aafb423c",
     "grade": false,
     "grade_id": "cell-e80193987d9c03ce",
     "locked": true,
     "schema_version": 3,
     "solution": false,
     "task": false
    }
   },
   "source": [
    "**Question 1.14**\n",
    "<br>{points: 1}\n",
    "\n",
    "Based on the results obtained in `species_poisson_residuals`, which of the following observations are correct?\n",
    "\n",
    "**A.** The column `.resid` in the output of `augment()` contains the values of the response minus the predicted means of number of plants.\n",
    "\n",
    "**B.** The `.resid` computed by `augment()` are neither the raw or the Pearson residuals.\n",
    "\n",
    "**C.** The Pearson's residuals can be computed plugging the `species` and `.fitted` in the formula given in the previous cell.\n",
    "\n",
    "**D** The `.fitted` values can be interpreted as the predicted mean of plant species for the islands in our sample.\n",
    "\n",
    "*Assign your answers to the object answer1.14. Your answers must be included in a single string indicating the correct options in alphabetical order and surrounded by quotes (e.g., \"ABC\" indicates you are selecting the first three options).*"
   ]
  },
  {
   "cell_type": "code",
   "execution_count": null,
   "metadata": {
    "deletable": false,
    "nbgrader": {
     "cell_type": "code",
     "checksum": "807eab967aaa5a496aaffa2c29f596b5",
     "grade": false,
     "grade_id": "cell-d61ad65736ba32ee",
     "locked": false,
     "schema_version": 3,
     "solution": true,
     "task": false
    }
   },
   "outputs": [],
   "source": [
    "# answer1.14 <- \n",
    "\n",
    "# your code here\n",
    "fail() # No Answer - remove if you provide an answer"
   ]
  },
  {
   "cell_type": "code",
   "execution_count": null,
   "metadata": {
    "deletable": false,
    "editable": false,
    "nbgrader": {
     "cell_type": "code",
     "checksum": "c304ab4436ba3c52bf742af908439809",
     "grade": true,
     "grade_id": "cell-4a9558c1c5d8a5d7",
     "locked": true,
     "points": 1,
     "schema_version": 3,
     "solution": false,
     "task": false
    }
   },
   "outputs": [],
   "source": [
    "test_1.14()"
   ]
  },
  {
   "cell_type": "markdown",
   "metadata": {
    "deletable": false,
    "editable": false,
    "nbgrader": {
     "cell_type": "markdown",
     "checksum": "182d821d86b74e1c61136b4b1affcbc9",
     "grade": false,
     "grade_id": "cell-50c51366c6997f98",
     "locked": true,
     "schema_version": 3,
     "solution": false,
     "task": false
    }
   },
   "source": [
    "### Overdispersion\n",
    "\n",
    "As in Logistic regression, a problem with Poisson regression is that the variance of a Poisson random variable equals the mean, which in practice may not be observed.\n",
    "\n",
    "Thus, Poisson regression usually exhibits overdispersion. An easy way to check is to fit a model using the *quasilikelihood* method and check if the dispersion parameter is very different from 1."
   ]
  },
  {
   "cell_type": "code",
   "execution_count": null,
   "metadata": {
    "deletable": false,
    "editable": false,
    "nbgrader": {
     "cell_type": "code",
     "checksum": "025770344a12177adee3a12440aa9cb8",
     "grade": false,
     "grade_id": "cell-cb6471c14bb20082",
     "locked": true,
     "schema_version": 3,
     "solution": false,
     "task": false
    }
   },
   "outputs": [],
   "source": [
    "species_poisson_quasi <- summary(glm(\n",
    "    formula = species ~ . -island,\n",
    "    data = galapagos,\n",
    "    family = quasipoisson))\n",
    "\n",
    "species_poisson_quasi"
   ]
  },
  {
   "cell_type": "markdown",
   "metadata": {
    "deletable": false,
    "editable": false,
    "nbgrader": {
     "cell_type": "markdown",
     "checksum": "605092251801974e15bc239d17758744",
     "grade": false,
     "grade_id": "cell-6ec7c1a781e5507d",
     "locked": true,
     "schema_version": 3,
     "solution": false,
     "task": false
    }
   },
   "source": [
    "While there are formal tests and other function to estimate overdispersion, there is a clear evidence of overdispersion here (31.75 is much larger than 1.\n",
    "\n",
    "Overdispersion affects the standard errors and thus the inference results of the maximum likelihood estimated model. Thus, in this case the quasilikelihood estimates provide more reliable results.\n",
    "\n",
    "### You are done!!"
   ]
  }
 ],
 "metadata": {
  "jupytext": {
   "formats": "ipynb,Rmd"
  },
  "kernelspec": {
   "display_name": "R",
   "language": "R",
   "name": "ir"
  },
  "language_info": {
   "codemirror_mode": "r",
   "file_extension": ".r",
   "mimetype": "text/x-r-source",
   "name": "R",
   "pygments_lexer": "r",
   "version": "4.3.3"
  },
  "latex_envs": {
   "LaTeX_envs_menu_present": true,
   "autoclose": false,
   "autocomplete": true,
   "bibliofile": "biblio.bib",
   "cite_by": "apalike",
   "current_citInitial": 1,
   "eqLabelWithNumbers": true,
   "eqNumInitial": 1,
   "hotkeys": {
    "equation": "Ctrl-E",
    "itemize": "Ctrl-I"
   },
   "labels_anchors": false,
   "latex_user_defs": false,
   "report_style_numbering": false,
   "user_envs_cfg": false
  }
 },
 "nbformat": 4,
 "nbformat_minor": 4
}
