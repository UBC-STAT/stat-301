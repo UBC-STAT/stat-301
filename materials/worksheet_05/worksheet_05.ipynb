{
 "cells": [
  {
   "cell_type": "markdown",
   "metadata": {
    "deletable": false,
    "editable": false,
    "nbgrader": {
     "cell_type": "markdown",
     "checksum": "e3b3f1a97c100687d69d765ba3af2816",
     "grade": false,
     "grade_id": "cell-f1e1d845873036f4",
     "locked": true,
     "schema_version": 3,
     "solution": false,
     "task": false
    }
   },
   "source": [
    "# Worksheet 05: Discrete Counts Responses"
   ]
  },
  {
   "cell_type": "markdown",
   "metadata": {
    "deletable": false,
    "editable": false,
    "nbgrader": {
     "cell_type": "markdown",
     "checksum": "9af48ef41de46b5701284ba90469f833",
     "grade": false,
     "grade_id": "cell-82d9926086d47a80",
     "locked": true,
     "schema_version": 3,
     "solution": false,
     "task": false
    }
   },
   "source": [
    "#### Lecture and Tutorial Learning Goals:\n",
    "After completing this week's lecture and tutorial work, you will be able to:\n",
    "\n",
    "1. Describe the Poisson regression estimation procedure (discrete counts as the response variable and explanatory variables).\n",
    "2. Interpret the coefficients and $p$-values in the Poisson regression settings.\n",
    "3. Discuss useful Poisson regression diagnostics and explain why they should be performed.\n",
    "4. Write a computer script to perform Poisson regression and perform model diagnostics. Interpret and communicate the results from that computer script."
   ]
  },
  {
   "cell_type": "code",
   "execution_count": null,
   "metadata": {
    "deletable": false,
    "editable": false,
    "nbgrader": {
     "cell_type": "code",
     "checksum": "81789c53773408ced187d92fc2694210",
     "grade": false,
     "grade_id": "cell-a2a153352bc44a68",
     "locked": true,
     "schema_version": 3,
     "solution": false,
     "task": false
    },
    "tags": []
   },
   "outputs": [],
   "source": [
    "# Run this cell before continuing.\n",
    "\n",
    "library(broom)\n",
    "library(MASS)\n",
    "library(glmbb)\n",
    "library(cowplot)\n",
    "library(tidyverse)\n",
    "\n",
    "source(\"tests_worksheet_05.R\")"
   ]
  },
  {
   "cell_type": "markdown",
   "metadata": {
    "deletable": false,
    "editable": false,
    "nbgrader": {
     "cell_type": "markdown",
     "checksum": "0b50907239904975577e0c33ba818d9a",
     "grade": false,
     "grade_id": "cell-801b28434bf00853",
     "locked": true,
     "schema_version": 3,
     "solution": false,
     "task": false
    }
   },
   "source": [
    "## 1. Poisson Regression\n",
    "\n",
    "Let us proceed with Poisson regression. This class of GLM is intended for cases where the response is a count (i.e., a non-negative integer). Let's start by loading the dataset to be used in this section. The data frame `crabs` ([Brockmann, 1996](https://ubc.summon.serialssolutions.com/2.0.0/link/0/eLvHCXMwrV3JasMwEBUlpZBLl7Sl6YY_oE4sy5sgFEpICKU9NadcjFYSmtghCyRf0t-tJC_EPhRaepMHS8jSSPM0M3oGALkdx67tCYRyKV0GacCp9CBX60RCySMcYiigy2qpOq_F1ZiMLqL0v-mFYrZvvd4JXXcPEnOUZbU1z6W-fxdoh6eO-XQUvDyGCnXrbK_hxCkDDCHKgs9KH20FelDOR_pzWxXbdYhljTEanoF10e8iC6V2SbDK9Pg_H3gOTnPsar1kynYBjkTSAs1yC923wMkkNaVL8NVbkNXn8wcxjJ8b0euaZysTvyuzVJUYH9i6Kpsl1ijVOSbTtPZ2f6V6nYuectnbbLGdb2tNLNP5fjkVi1J-BcbDwbg_svOfQNhMIRdsu4KHEnIsIiQYJoGQvsKQmAuOsE8lojRnrPEIlZQHHIUEEs8PBVHQjaJr0EjSRNwAS8ebmMNk4DHkRYgQSt2ARoxRnzuhJG2AitmNlxnVR3x4REI41sMf6-GP8-GPd20QmVn7RZV4MB7p0u3fq96BZpY-rn1B96CxWW3FgyGOeDR6_g1rIQSN)) is a dataset detailing the **counts** of satellite male crabs residing around a female crab nest: `n_males`. \n",
    "\n",
    "> The data frame `crabs` contains 173 observations on horseshoe crabs (*Limulus polyphemus*). The response is the count of male crabs (`n_males`) around a female breeding nest. It is subject to four input variables: a factor for the `color` of the prosoma with four levels, a factor for the condition of the posterior `spine` with three levels, the continuous variables for carapace `width` (cm), and `weight` (g).\n",
    "\n",
    "Run the cell below before proceeding."
   ]
  },
  {
   "cell_type": "code",
   "execution_count": null,
   "metadata": {
    "deletable": false,
    "editable": false,
    "nbgrader": {
     "cell_type": "code",
     "checksum": "2fc8639e4861d6998bddf0c7403cefb1",
     "grade": false,
     "grade_id": "cell-c42393c3147ab6d0",
     "locked": true,
     "schema_version": 3,
     "solution": false,
     "task": false
    },
    "tags": []
   },
   "outputs": [],
   "source": [
    "# Load the data\n",
    "data(crabs)\n",
    "\n",
    "crabs <- \n",
    "    crabs %>%\n",
    "    as_tibble() %>%\n",
    "    rename(n_males = satell) %>%\n",
    "    dplyr::select(-y)\n",
    "\n",
    "str(crabs)\n",
    "head(crabs)"
   ]
  },
  {
   "cell_type": "markdown",
   "metadata": {
    "deletable": false,
    "editable": false,
    "nbgrader": {
     "cell_type": "markdown",
     "checksum": "375e97009d5be3b1fd98d26a65226100",
     "grade": false,
     "grade_id": "cell-3245a397a3c0a56f",
     "locked": true,
     "schema_version": 3,
     "solution": false,
     "task": false
    }
   },
   "source": [
    "**Question 1.1**\n",
    "<br>{points: 1}\n",
    "\n",
    "Create a scatterplot of `n_males` versus carapace `width` (via `geom_point()`), even though `n_males` is not continuous. The `ggplot()` object's name will be `crabs_vs_width_scatterplot`. Recall that the response must be placed on the $y$-axis, whereas the continuous input must be on the $x$-axis. Include proper axis labels and title.\n",
    "\n",
    "*Fill out those parts indicated with `...`, uncomment the corresponding code in the cell below, and run it.*"
   ]
  },
  {
   "cell_type": "code",
   "execution_count": null,
   "metadata": {
    "deletable": false,
    "nbgrader": {
     "cell_type": "code",
     "checksum": "3721a30c4a1ba8444bde457f8bb78ee2",
     "grade": false,
     "grade_id": "cell-267744b8584d386b",
     "locked": false,
     "schema_version": 3,
     "solution": true,
     "task": false
    },
    "tags": []
   },
   "outputs": [],
   "source": [
    "# Adjust these numbers so the plot looks good in your desktop.\n",
    "options(repr.plot.width = 7, repr.plot.height = 5) \n",
    "\n",
    "# crabs_vs_width_scatterplot <- \n",
    "#   ... %>%\n",
    "#   ggplot() +\n",
    "#   ...(aes(..., ...)) +\n",
    "#   labs(y = ..., x = ...) +\n",
    "#   ggtitle(...) +\n",
    "#   theme(text = element_text(size = 14)) + \n",
    "#   scale_x_continuous(breaks = seq(20, 34, 2))\n",
    "\n",
    "# your code here\n",
    "fail() # No Answer - remove if you provide an answer\n",
    "\n",
    "crabs_vs_width_scatterplot"
   ]
  },
  {
   "cell_type": "code",
   "execution_count": null,
   "metadata": {
    "deletable": false,
    "editable": false,
    "nbgrader": {
     "cell_type": "code",
     "checksum": "0ab5a2b196ff6c3c1ed3a2b30946f711",
     "grade": true,
     "grade_id": "cell-4ea95eb36fa39c91",
     "locked": true,
     "points": 1,
     "schema_version": 3,
     "solution": false,
     "task": false
    },
    "tags": []
   },
   "outputs": [],
   "source": [
    "test_1.1()"
   ]
  },
  {
   "cell_type": "markdown",
   "metadata": {
    "deletable": false,
    "editable": false,
    "nbgrader": {
     "cell_type": "markdown",
     "checksum": "2bfc539dbc008a472952707429620bc4",
     "grade": false,
     "grade_id": "cell-c3c5c48f76ee8a52",
     "locked": true,
     "schema_version": 3,
     "solution": false,
     "task": false
    }
   },
   "source": [
    "Note the characteristic horizontal pattern in the points of `crabs_vs_width_scatterplot`, since the $y$-axis has repeated counts associated with different `width` values. Graphically speaking, is the carapace `width` variable associated with `n_males`?\n",
    "\n",
    "From the `crabs_vs_width_scatterplot` above, it is hard to graphically conclude anything about the relationship between `n_males` and caparace `width`. Hence, let us plot the average `n_males` by non-overlapped carapace `width` groups. "
   ]
  },
  {
   "cell_type": "markdown",
   "metadata": {
    "deletable": false,
    "editable": false,
    "nbgrader": {
     "cell_type": "markdown",
     "checksum": "161df85309f5e424a3259e1dccfdd3db",
     "grade": false,
     "grade_id": "cell-d8dc6bd50a1e51f1",
     "locked": true,
     "schema_version": 3,
     "solution": false,
     "task": false
    }
   },
   "source": [
    "**Question 1.2**\n",
    "<br>{points: 1}\n",
    "\n",
    "Create a data frame called `crabs_group_avg_width`, which is created from `crabs` and has two columns:\n",
    "\n",
    "- `width_intervals`: a column created with column `width` via function `cut()` with `breaks = 10` (i.e., bins).\n",
    "- `mean_n_males`: the average `n_males` by each bin.\n",
    "\n",
    "*Fill out those parts indicated with `...`, uncomment the corresponding code in the cell below, and run it.*"
   ]
  },
  {
   "cell_type": "code",
   "execution_count": null,
   "metadata": {
    "deletable": false,
    "nbgrader": {
     "cell_type": "code",
     "checksum": "fd0a0503432435b9719b221f448c9bbe",
     "grade": false,
     "grade_id": "cell-e136e294390e75db",
     "locked": false,
     "schema_version": 3,
     "solution": true,
     "task": false
    },
    "tags": []
   },
   "outputs": [],
   "source": [
    "# crabs_group_avg_width <- \n",
    "#  ... %>%\n",
    "#  ...(width_intervals = ...(..., ...)) %>%\n",
    "#  group_by(...) %>% \n",
    "#  summarise(... = ...(...)) \n",
    "\n",
    "# your code here\n",
    "fail() # No Answer - remove if you provide an answer\n",
    "\n",
    "crabs_group_avg_width"
   ]
  },
  {
   "cell_type": "code",
   "execution_count": null,
   "metadata": {
    "deletable": false,
    "editable": false,
    "nbgrader": {
     "cell_type": "code",
     "checksum": "429c9f614730ce806230cd149ce6cd13",
     "grade": true,
     "grade_id": "cell-24bf5f18b3ee2717",
     "locked": true,
     "points": 1,
     "schema_version": 3,
     "solution": false,
     "task": false
    },
    "tags": []
   },
   "outputs": [],
   "source": [
    "test_1.2()"
   ]
  },
  {
   "cell_type": "markdown",
   "metadata": {
    "deletable": false,
    "editable": false,
    "nbgrader": {
     "cell_type": "markdown",
     "checksum": "99fa6435e8297d3e3b7726dd7c3bf377",
     "grade": false,
     "grade_id": "cell-fcf23138e5f9e32f",
     "locked": true,
     "schema_version": 3,
     "solution": false,
     "task": false
    }
   },
   "source": [
    "**Question 1.3**\n",
    "<br>{points: 1}\n",
    "\n",
    "Create another scatterplot of `mean_n_males` on the $y$-axis versus the carapace `width_intervals` on the $x$-axis using `crabs_group_avg_width` with `geom_point()`. The `ggplot()` object's name will be `crabs_avg_width_scatterplot`. Include proper axis labels and title.\n",
    "\n",
    "*Fill out those parts indicated with `...`, uncomment the corresponding code in the cell below, and run it.*"
   ]
  },
  {
   "cell_type": "code",
   "execution_count": null,
   "metadata": {
    "deletable": false,
    "nbgrader": {
     "cell_type": "code",
     "checksum": "6b094f63a750e461e09928bfb6064dbe",
     "grade": false,
     "grade_id": "cell-72dcede930e14421",
     "locked": false,
     "schema_version": 3,
     "solution": true,
     "task": false
    },
    "tags": []
   },
   "outputs": [],
   "source": [
    "# Adjust these numbers so the plot looks good in your desktop.\n",
    "options(repr.plot.width = 8, repr.plot.height = 10)\n",
    "\n",
    "# Crabs_avg_width_scatterplot <- \n",
    "#   ... %>%\n",
    "#   ggplot() +\n",
    "#   ...(aes(..., ...), colour = \"red\", size = 4) +\n",
    "#   labs(y = ..., x = ...) +\n",
    "#   ggtitle(...) +\n",
    "#   theme(text = element_text(size = 14), \n",
    "#         axis.text.x = element_text(angle = 45, hjust = 1))\n",
    "\n",
    "# your code here\n",
    "fail() # No Answer - remove if you provide an answer\n",
    "\n",
    "plot_grid(crabs_avg_width_scatterplot, crabs_vs_width_scatterplot, ncol = 1)"
   ]
  },
  {
   "cell_type": "code",
   "execution_count": null,
   "metadata": {
    "deletable": false,
    "editable": false,
    "nbgrader": {
     "cell_type": "code",
     "checksum": "06d23e2fc7522963d9ad92d2bc5ceedc",
     "grade": true,
     "grade_id": "cell-c470e7f855f8f4c8",
     "locked": true,
     "points": 1,
     "schema_version": 3,
     "solution": false,
     "task": false
    },
    "tags": []
   },
   "outputs": [],
   "source": [
    "test_1.3()"
   ]
  },
  {
   "cell_type": "markdown",
   "metadata": {
    "deletable": false,
    "editable": false,
    "nbgrader": {
     "cell_type": "markdown",
     "checksum": "a227e6065d0254d0e966f2b955bdde66",
     "grade": false,
     "grade_id": "cell-58f301f5cab01d1a",
     "locked": true,
     "schema_version": 3,
     "solution": false,
     "task": false
    }
   },
   "source": [
    "**Question 1.4**\n",
    "<br>{points: 1}\n",
    "\n",
    "By looking at `Crabs_avg_width_scatterplot`, graphically speaking, what is the relationship between `n_males` and carapace `width`?\n",
    "\n",
    "**A.** Positive.\n",
    "\n",
    "**B.** Negative.\n",
    "\n",
    "**C.** No relationship.\n",
    "\n",
    "*Assign your answer to the object `answer1.4` (character type surrounded by quotes).*"
   ]
  },
  {
   "cell_type": "code",
   "execution_count": null,
   "metadata": {
    "deletable": false,
    "nbgrader": {
     "cell_type": "code",
     "checksum": "d417bb44aa9ac1ad7ea23c927da2496f",
     "grade": false,
     "grade_id": "cell-5f4531deea0754da",
     "locked": false,
     "schema_version": 3,
     "solution": true,
     "task": false
    },
    "tags": []
   },
   "outputs": [],
   "source": [
    "# answer1.4 <- ...\n",
    "\n",
    "# your code here\n",
    "fail() # No Answer - remove if you provide an answer\n",
    "\n",
    "answer1.4"
   ]
  },
  {
   "cell_type": "code",
   "execution_count": null,
   "metadata": {
    "deletable": false,
    "editable": false,
    "nbgrader": {
     "cell_type": "code",
     "checksum": "3fe969a9a11de52d0812d9d263da9ee1",
     "grade": true,
     "grade_id": "cell-32224ab4e0d00a59",
     "locked": true,
     "points": 1,
     "schema_version": 3,
     "solution": false,
     "task": false
    },
    "tags": []
   },
   "outputs": [],
   "source": [
    "test_1.4()"
   ]
  },
  {
   "cell_type": "markdown",
   "metadata": {
    "deletable": false,
    "editable": false,
    "nbgrader": {
     "cell_type": "markdown",
     "checksum": "f8fc0931470e4cfa7253a3dfed528cb7",
     "grade": false,
     "grade_id": "cell-98e957ee7f6dfc9c",
     "locked": true,
     "schema_version": 3,
     "solution": false,
     "task": false
    }
   },
   "source": [
    "Let's compare `crabs_vs_width_scatterplot` and `crabs_avg_width_scatterplot`. We can see that working with the averages of `n_males` by carapace `width` intervals gives us a clearer perspective of the relationship between these two variables. Nonetheless, we need to find a suitable model to confirm this statistically.\n",
    "\n",
    "Recall that the residual component in an ordinary linear regression model, namely $\\varepsilon_i$, is assumed to be Normally distributed, making the response $Y_i$ Normally distributed. In this case, our response variable is the \"Number of male crabs\" (a count). Count distributions can be asymmetric, and they are non-negative. Thus, the Normal distribution might not be adequate. Nor the logistic regression since we are not estimating proportions. \n",
    "\n",
    "A very useful distribution to model counts is the Poisson distribution (it's not the only one). "
   ]
  },
  {
   "cell_type": "markdown",
   "metadata": {
    "deletable": false,
    "editable": false,
    "nbgrader": {
     "cell_type": "markdown",
     "checksum": "f0fb4d253c9feb7f00dd8fa6bec74e85",
     "grade": false,
     "grade_id": "cell-d07f008bc4129b8f",
     "locked": true,
     "schema_version": 3,
     "solution": false,
     "task": false
    }
   },
   "source": [
    "**The Poisson Regression**\n",
    "\n",
    "A Poisson random variable takes discrete non-negative integer values (i.e., 0, 1, 2,...) that count something in a given timeframe or even in a space such as a geographic unit. \n",
    "\n",
    "The Poisson regression model is given by:\n",
    "\n",
    "$$Y_i|\\mathbf{X}_i \\sim \\text{Poisson}(\\lambda_i),$$\n",
    "\n",
    "$$\\log(\\lambda_i) = \\beta_0 + \\beta_1X_{1,i} + \\ldots + \\beta_pX_{1,p}$$\n",
    "\n",
    "or equivalently,\n",
    "\n",
    "$$\\lambda_i = e^{\\beta_0 + \\beta_1X_{1,i} + \\ldots + \\beta_pX_{1,p}}$$\n",
    "\n",
    "where each variable has its own mean, $\\lambda_i$, and variance, also $\\lambda_i$. The parameter $\\lambda_i$ is interpreted as the risk of an event occurring in a given timeframe or even a space. Note that $\\lambda_i$ cannot be negative.\n",
    "\n",
    "A particularity of the Poisson distribution is that its mean equals its variance. Thus, any factor that affects the mean will also affect the variance. This fact could be a potential drawback for using a Poisson regression model."
   ]
  },
  {
   "cell_type": "markdown",
   "metadata": {
    "deletable": false,
    "editable": false,
    "nbgrader": {
     "cell_type": "markdown",
     "checksum": "d35add8e63b91a046d7fa9f86237a9ae",
     "grade": false,
     "grade_id": "cell-27605b7706aedb71",
     "locked": true,
     "schema_version": 3,
     "solution": false,
     "task": false
    }
   },
   "source": [
    "**Question 1.5**\n",
    "<br>{points: 1}\n",
    "\n",
    "For our `crabs` dataset, the events are the number of male crabs, `n_males,` around a space: the female breeding nest. Suppose we want to make an inference on whether the carapace `width` is related to the response `n_males.` Thus, we could use Poisson regression. Let $\\texttt{width}_i$ be the $i$th value for the input `width` in our dataset `crabs`. The model's regression equation will be:\n",
    "\n",
    "$$\\log(\\lambda_i) = \\beta_0 + \\beta_1\\texttt{width}_i$$\n",
    "\n",
    "Let us plot the predictions of this model on top of `crabs_vs_width_scatterplot`. Use `geom_smooth()` with `method = \"glm\"` and `method.args = list(family = poisson)`.\n",
    "\n",
    "*Fill out those parts indicated with `...`, uncomment the corresponding code in the cell below, and run it.*"
   ]
  },
  {
   "cell_type": "code",
   "execution_count": null,
   "metadata": {
    "deletable": false,
    "nbgrader": {
     "cell_type": "code",
     "checksum": "6c463caf91e5d9f1b4a701c1e92f64b9",
     "grade": false,
     "grade_id": "cell-3a1e6d7e495e79d0",
     "locked": false,
     "schema_version": 3,
     "solution": true,
     "task": false
    },
    "tags": []
   },
   "outputs": [],
   "source": [
    "# Adjust these numbers so the plot looks good in your desktop.\n",
    "options(repr.plot.width = 9, repr.plot.height = 5)\n",
    "\n",
    "# crabs_vs_width_scatterplot <- \n",
    "#   crabs_vs_width_scatterplot +\n",
    "#   ...(aes(..., ...), \n",
    "#       ...,\n",
    "#       se = FALSE,\n",
    "#       ...)\n",
    "\n",
    "# your code here\n",
    "fail() # No Answer - remove if you provide an answer\n",
    "\n",
    "crabs_vs_width_scatterplot"
   ]
  },
  {
   "cell_type": "code",
   "execution_count": null,
   "metadata": {
    "deletable": false,
    "editable": false,
    "nbgrader": {
     "cell_type": "code",
     "checksum": "419c75caf1de4a00fff5719224bc8cb6",
     "grade": true,
     "grade_id": "cell-e6f45c72012f6548",
     "locked": true,
     "points": 1,
     "schema_version": 3,
     "solution": false,
     "task": false
    },
    "tags": []
   },
   "outputs": [],
   "source": [
    "test_1.5()"
   ]
  },
  {
   "cell_type": "markdown",
   "metadata": {
    "deletable": false,
    "editable": false,
    "nbgrader": {
     "cell_type": "markdown",
     "checksum": "d6e75e61e3d522f406840740c0695ff5",
     "grade": false,
     "grade_id": "cell-04bbdae892ba5783",
     "locked": true,
     "schema_version": 3,
     "solution": false,
     "task": false
    }
   },
   "source": [
    "As seen in other models, the parameters $\\beta_0, \\beta_1, \\dots, \\beta_{p}$ are unknown population coefficients that we want to estimate using data. \n",
    "\n",
    "In order to fit a Poisson regression model, we can also use the function `glm()` and its argument `family = poisson` (required to specify the Poisson nature of the response), which obtains the estimates $\\hat{\\beta}_0, \\hat{\\beta}_1, \\dots \\hat{\\beta}_{p}$. The estimates are obtained through maximum likelihood."
   ]
  },
  {
   "cell_type": "markdown",
   "metadata": {
    "deletable": false,
    "editable": false,
    "nbgrader": {
     "cell_type": "markdown",
     "checksum": "0a43252ae418de66cc6fd731c306ab38",
     "grade": false,
     "grade_id": "cell-1cd6b2d8388adfad",
     "locked": true,
     "schema_version": 3,
     "solution": false,
     "task": false
    }
   },
   "source": [
    "**Question 1.6**\n",
    "<br>{points: 1}\n",
    "\n",
    "Using `glm()`, estimate a Poisson regression model with `n_males` as a response and two input variables: `width` and `color` (categorical with 4 levels: `dark`, `darker`, `light` and `medium`) for the $i$th observation:\n",
    "\n",
    "$$\n",
    "log(\\lambda_i) = \\beta_0 + \\beta_1 \\texttt{width}_i + \\beta_2 \\texttt{colordarker}_i + \\beta_3 \\texttt{colorlight}_i + \\beta_4 \\texttt{colormedium}_i.\n",
    "$$\n",
    "\n",
    "> Note that the reference color is `dark`, and we need 3 dummy variables to differenciate it from the other 3 levels"
   ]
  },
  {
   "cell_type": "code",
   "execution_count": null,
   "metadata": {
    "deletable": false,
    "editable": false,
    "nbgrader": {
     "cell_type": "code",
     "checksum": "ef6561481dd7f355a99408c62d1dcd9a",
     "grade": false,
     "grade_id": "cell-a5c51d7457cd83a8",
     "locked": true,
     "schema_version": 3,
     "solution": false,
     "task": false
    }
   },
   "outputs": [],
   "source": [
    "levels(crabs$color)"
   ]
  },
  {
   "cell_type": "markdown",
   "metadata": {
    "deletable": false,
    "editable": false,
    "nbgrader": {
     "cell_type": "markdown",
     "checksum": "4a8d65de0162e423e9065edb029862bb",
     "grade": false,
     "grade_id": "cell-3474c3e0f1563e34",
     "locked": true,
     "schema_version": 3,
     "solution": false,
     "task": false
    }
   },
   "source": [
    "Therefore, we have three dummy variables: $\\texttt{colordarker}_i$, $\\texttt{colorlight}_i$, and $\\texttt{colormedium}_i$. Depending on the `color`, these dummy variables take on the following values:\n",
    "\n",
    "- When `color` is `darker`, then $\\texttt{colordarker}_i = 1$ while the other two dummy variables $\\texttt{colorlight}_i = \\texttt{colormedium}_i = 0$.\n",
    "- When `color` is `light`, then $\\texttt{light}_i = 1$ while the other two dummy variables $\\texttt{colordarker}_i = \\texttt{colormedium}_i = 0$.\n",
    "- When `color` is `medium`, then $\\texttt{medium}_i = 1$ while the other two dummy variables $\\texttt{colordarker}_i = \\texttt{colorlight}_i = 0$.\n",
    "\n",
    "Call the model `crabs_poisson_model`.\n",
    "    \n",
    "*Fill out those parts indicated with `...`, uncomment the corresponding code in the cell below, and run it.*    "
   ]
  },
  {
   "cell_type": "code",
   "execution_count": null,
   "metadata": {
    "deletable": false,
    "nbgrader": {
     "cell_type": "code",
     "checksum": "151d34a5c399f3312e1c423f492e01bc",
     "grade": false,
     "grade_id": "cell-cce6669279499835",
     "locked": false,
     "schema_version": 3,
     "solution": true,
     "task": false
    },
    "tags": []
   },
   "outputs": [],
   "source": [
    "# crabs_poisson_model <- ...(...,\n",
    "#                            ...,\n",
    "#                            ...)\n",
    "\n",
    "# your code here\n",
    "fail() # No Answer - remove if you provide an answer\n",
    "\n",
    "summary(crabs_poisson_model)"
   ]
  },
  {
   "cell_type": "code",
   "execution_count": null,
   "metadata": {
    "deletable": false,
    "editable": false,
    "nbgrader": {
     "cell_type": "code",
     "checksum": "01ca38e188374d6711e79151a5fec892",
     "grade": true,
     "grade_id": "cell-97cc9b41beb464bf",
     "locked": true,
     "points": 1,
     "schema_version": 3,
     "solution": false,
     "task": false
    },
    "tags": []
   },
   "outputs": [],
   "source": [
    "test_1.6()"
   ]
  },
  {
   "cell_type": "markdown",
   "metadata": {
    "deletable": false,
    "editable": false,
    "nbgrader": {
     "cell_type": "markdown",
     "checksum": "95cbd593551bb504c9e9d593818fb4b7",
     "grade": false,
     "grade_id": "cell-b7f592bf64da6cf8",
     "locked": true,
     "schema_version": 3,
     "solution": false,
     "task": false
    }
   },
   "source": [
    "**Question 1.7**\n",
    "<br>{points: 1}\n",
    "\n",
    "Report the estimated coefficients, their standard errors, and corresponding $p$-values using `tidy()` with `crabs_poisson_model`. Include the corresponding asymptotic 95% confidence intervals. Store the results in the variable `crabs_poisson_model_results`.\n",
    "\n",
    "*Fill out those parts indicated with `...`, uncomment the corresponding code in the cell below, and run it.*"
   ]
  },
  {
   "cell_type": "code",
   "execution_count": null,
   "metadata": {
    "deletable": false,
    "nbgrader": {
     "cell_type": "code",
     "checksum": "df39ef62bf5253de31a61101497ef2a8",
     "grade": false,
     "grade_id": "cell-4deafdcc73d1ddc4",
     "locked": false,
     "schema_version": 3,
     "solution": true,
     "task": false
    },
    "tags": []
   },
   "outputs": [],
   "source": [
    "# crabs_poisson_model_results <- \n",
    "#    ...\n",
    "#    ...(... = TRUE) %>%\n",
    "#    mutate_if(is.numeric, round, 4)\n",
    "\n",
    "# your code here\n",
    "fail() # No Answer - remove if you provide an answer\n",
    "\n",
    "crabs_poisson_model_results"
   ]
  },
  {
   "cell_type": "code",
   "execution_count": null,
   "metadata": {
    "deletable": false,
    "editable": false,
    "nbgrader": {
     "cell_type": "code",
     "checksum": "338e86ff29326cb30c941ede1a46255c",
     "grade": true,
     "grade_id": "cell-441e381e29ca858b",
     "locked": true,
     "points": 1,
     "schema_version": 3,
     "solution": false,
     "task": false
    },
    "tags": []
   },
   "outputs": [],
   "source": [
    "test_1.7()"
   ]
  },
  {
   "cell_type": "markdown",
   "metadata": {
    "deletable": false,
    "editable": false,
    "nbgrader": {
     "cell_type": "markdown",
     "checksum": "32289516563e1f9e7c19dac29f5f1a32",
     "grade": false,
     "grade_id": "cell-f95b8a861b29b15b",
     "locked": true,
     "schema_version": 3,
     "solution": false,
     "task": false
    }
   },
   "source": [
    "**Question 1.8**\n",
    "<br>{points: 1}\n",
    "\n",
    "We can also interpret the exponentiated coefficients since we are using the logarithmic link function. Add to `crabs_poisson_model_results` the estimate and 95% confidence interval of $e^{\\beta_j}, j=0,...,p$. \n",
    "\n",
    "*Fill out those parts indicated with `...`, uncomment the corresponding code in the cell below, and run it.*"
   ]
  },
  {
   "cell_type": "code",
   "execution_count": null,
   "metadata": {
    "deletable": false,
    "nbgrader": {
     "cell_type": "code",
     "checksum": "712679efc27fcf52ef832a7860a2ba41",
     "grade": false,
     "grade_id": "cell-faa353ab9211c114",
     "locked": false,
     "schema_version": 3,
     "solution": true,
     "task": false
    },
    "tags": []
   },
   "outputs": [],
   "source": [
    "# crabs_poisson_model_results <- \n",
    "#     crabs_poisson_model_results %>%\n",
    "#     mutate(exp.estimate = ...,\n",
    "#            exp.conf.low = ...,\n",
    "#            exp.conf.high = ...) %>%\n",
    "#     mutate_if(is.numeric, round, 4)\n",
    "\n",
    "# your code here\n",
    "fail() # No Answer - remove if you provide an answer\n",
    "\n",
    "crabs_poisson_model_results\n"
   ]
  },
  {
   "cell_type": "code",
   "execution_count": null,
   "metadata": {
    "deletable": false,
    "editable": false,
    "nbgrader": {
     "cell_type": "code",
     "checksum": "a615caefcc12fee9864b794e383c0a3d",
     "grade": true,
     "grade_id": "cell-1822a6990bcbbd0f",
     "locked": true,
     "points": 1,
     "schema_version": 3,
     "solution": false,
     "task": false
    },
    "tags": []
   },
   "outputs": [],
   "source": [
    "test_1.8()"
   ]
  },
  {
   "cell_type": "markdown",
   "metadata": {
    "deletable": false,
    "editable": false,
    "nbgrader": {
     "cell_type": "markdown",
     "checksum": "7a2c5ac3641b01bf800bd44b047d7fdc",
     "grade": false,
     "grade_id": "cell-d029850491a79223",
     "locked": true,
     "schema_version": 3,
     "solution": false,
     "task": false
    }
   },
   "source": [
    "Note that you can also get the exponentiated estimated coefficients using `tidy` when the link function is `log` or `logit`. Note that `std.error` and `statistic` are not adjusted and it does not report the raw coefficients."
   ]
  },
  {
   "cell_type": "code",
   "execution_count": null,
   "metadata": {
    "deletable": false,
    "editable": false,
    "nbgrader": {
     "cell_type": "code",
     "checksum": "9c9fb3abcdd9bcdeef76b298f28b8635",
     "grade": false,
     "grade_id": "cell-d41aa0a8719a312b",
     "locked": true,
     "schema_version": 3,
     "solution": false,
     "task": false
    },
    "tags": []
   },
   "outputs": [],
   "source": [
    "tidy(crabs_poisson_model, exponentiate = FALSE,conf.int = TRUE)"
   ]
  },
  {
   "cell_type": "code",
   "execution_count": null,
   "metadata": {
    "deletable": false,
    "editable": false,
    "nbgrader": {
     "cell_type": "code",
     "checksum": "2f0a3d44c3c01d060bfda78b4bb657b1",
     "grade": false,
     "grade_id": "cell-87f78f36becf5ba3",
     "locked": true,
     "schema_version": 3,
     "solution": false,
     "task": false
    },
    "tags": []
   },
   "outputs": [],
   "source": [
    "tidy(crabs_poisson_model, exponentiate = TRUE,conf.int = TRUE)"
   ]
  },
  {
   "cell_type": "markdown",
   "metadata": {
    "deletable": false,
    "editable": false,
    "nbgrader": {
     "cell_type": "markdown",
     "checksum": "2f1f54f3ccefe2752dd2b0ef77431b78",
     "grade": false,
     "grade_id": "cell-7c2691fb066e9a1e",
     "locked": true,
     "schema_version": 3,
     "solution": false,
     "task": false
    }
   },
   "source": [
    "**Question 1.9**\n",
    "<br>{points: 1}\n",
    "\n",
    "Using a significance level $\\alpha = 0.05$, and the output in `crabs_Poisson_model_results`, which of the following statements is TRUE?\n",
    "\n",
    "**A.** There's enough evidence to reject the null hypothesis that the coefficient of carapace `width` is zero (regardless of color).\n",
    "\n",
    "**B.** There's enough evidence to reject the null hypothesis that, for any width, the mean numbers of male crabs with `dark` and `darker` colours of the prosoma are equal.\n",
    "\n",
    "**C.** There's enough evidence to reject the null hypothesis that, for any width, the mean numbers of male crabs with `dark` and `light` colours of the prosoma are equal. \n",
    "\n",
    "**D.** There's enough evidence to reject the null hypothesis that, for any width, the mean numbers of male crabs with `dark` and `medium` colours of the prosoma are equal.  \n",
    "\n",
    "*Assign your answers to the object `answer1.9`. Your answers must be included in a single string indicating the correct options in alphabetical order and surrounded by quotes (e.g., `\"ABCD\"` indicates you are selecting the four options).*"
   ]
  },
  {
   "cell_type": "code",
   "execution_count": null,
   "metadata": {
    "deletable": false,
    "nbgrader": {
     "cell_type": "code",
     "checksum": "d65d30b90231faecc44c6d528236c653",
     "grade": false,
     "grade_id": "cell-d1466876e62cbd8d",
     "locked": false,
     "schema_version": 3,
     "solution": true,
     "task": false
    },
    "tags": []
   },
   "outputs": [],
   "source": [
    "# answer1.9 <- \n",
    "\n",
    "# your code here\n",
    "fail() # No Answer - remove if you provide an answer\n",
    "\n",
    "answer1.9"
   ]
  },
  {
   "cell_type": "code",
   "execution_count": null,
   "metadata": {
    "deletable": false,
    "editable": false,
    "nbgrader": {
     "cell_type": "code",
     "checksum": "9a60387f4dcfb40d6906afa52ea7a93e",
     "grade": true,
     "grade_id": "cell-c4b2bdbb07660385",
     "locked": true,
     "points": 1,
     "schema_version": 3,
     "solution": false,
     "task": false
    },
    "tags": []
   },
   "outputs": [],
   "source": [
    "test_1.9()"
   ]
  },
  {
   "cell_type": "markdown",
   "metadata": {
    "deletable": false,
    "editable": false,
    "nbgrader": {
     "cell_type": "markdown",
     "checksum": "158997fa375700eb500b4a9ecd20bd63",
     "grade": false,
     "grade_id": "cell-3cce4716202a3ac2",
     "locked": true,
     "schema_version": 3,
     "solution": false,
     "task": false
    }
   },
   "source": [
    "**Interpretation of estimated coefficients for continuous covariates** \n",
    "\n",
    "Firstly, let us focus on the coefficient interpretation corresponding to carapace `width`, *while keeping `color` constant* (this is an **additive model**).\n",
    "\n",
    "Consider an observation with a given value ${\\texttt{width}} = \\texttt{w}$ cm, and another observation with a given ${\\texttt{width + 1}} = \\texttt{w} + 1$ cm (i.e., an increase of $1$ cm). Then we have their corresponding regression equations:\n",
    "\n",
    "$$\n",
    "\\log \\lambda_{\\texttt{width}} = \\beta_0 + \\beta_1 \\overbrace{\\texttt{w}}^{{\\texttt{width}}} + \\overbrace{\\beta_2 {\\texttt{colordarker}} + \\beta_3 {\\texttt{colorlight}} + \\beta_4 {\\texttt{colormedium}}}^{\\text{Constant}}\n",
    "$$\n",
    "$$\n",
    "\\log \\lambda_{\\texttt{width + 1}} = \\beta_0 + \\beta_1 \\underbrace{(\\texttt{w} + 1)}_{{\\texttt{width + 1}}} + \\underbrace{\\beta_2 {\\texttt{colordarker}} + \\beta_3 {\\texttt{colorlight}} + \\beta_4 {\\texttt{colormedium}}.}_{\\text{Constant}}\n",
    "$$\n",
    "\n",
    "We take the difference between both equations as:\n",
    "\n",
    "\\begin{align*}\n",
    "\\log \\lambda_{\\texttt{width + 1}} - \\log \\lambda_{\\texttt{width}} &= \\beta_1 (\\texttt{w} + 1) - \\beta_1 \\texttt{w} \\\\\n",
    "&= \\beta_1\n",
    "\\end{align*}\n",
    "\n",
    "Then, we apply the logarithm property for a ratio:\n",
    "\n",
    "\\begin{align*}\n",
    "\\log \\frac{\\lambda_{\\texttt{width + 1}} }{\\lambda_{\\texttt{width}}} &= \\log \\lambda_{\\texttt{width + 1}} - \\log \\lambda_{\\texttt{width}} \\\\\n",
    "&= \\beta_1\n",
    "\\end{align*}\n",
    "\n",
    "Finally, we have to exponentiate the previous equation:\n",
    "\n",
    "$$\n",
    "\\frac{\\lambda_{\\texttt{width + 1}} }{\\lambda_{\\texttt{width}}} = e^{\\beta_1}\n",
    "$$\n",
    "\n",
    "This expression indicates that the mean count varies in a multiplicative way when a continuous covariate increases by 1 unit, i.e., $\\lambda_{\\texttt{width + 1}}= e^{\\beta_1}\\lambda_{\\texttt{width}}$."
   ]
  },
  {
   "cell_type": "markdown",
   "metadata": {
    "deletable": false,
    "editable": false,
    "nbgrader": {
     "cell_type": "markdown",
     "checksum": "07716ce318cc4cdadfa4278586d5c68a",
     "grade": false,
     "grade_id": "cell-30680ad0b12b005a",
     "locked": true,
     "schema_version": 3,
     "solution": false,
     "task": false
    }
   },
   "source": [
    "**Question 1.10**\n",
    "<br>{points: 1}\n",
    "\n",
    "**Using the column `exp.estimate` from `crabs_Poisson_model_results`**, what is the correct interpretation of the regression equation's estimated slope for `width`?\n",
    "\n",
    "**A.** An increase in the carapace `width` by $1$ cm is associated with a decrease in counts of male crabs (`n_males`) around a female breeding nest of $161\\%$, *for crabs of any color*.\n",
    "\n",
    "**B.** An increase in the carapace `width` by $1$ cm is associated with an increase in counts of male crabs (`n_males`) around a female breeding nest of $161\\%$, *for crabs of any color*.\n",
    "\n",
    "**C.** An increase in the carapace `width` by $1$ cm is associated with an increase in counts of male crabs (`n_males`) around a female breeding nest of $16.1\\%$, *for crabs of any color*.\n",
    "\n",
    "**D.** An increase in the carapace `width` by $1$ cm is associated with a decrease in counts of male crabs (`n_males`) around a female breeding nest of $16.1\\%$, *for crabs of any color*.\n",
    "\n",
    "**E.** An increase in the carapace `width` by $1$ cm is associated with an increase in counts of male crabs (`n_males`) around a female breeding nest of $16.1\\%$, *for dark crabs*.\n",
    "\n",
    "**F.** An increase in the carapace `width` by $1$ cm is associated with an increase in counts of male crabs (`n_males`) around a female breeding nest of $161\\%$, *for dark crabs*.\n",
    "\n",
    "*Assign your answer to the object `answer1.10`. Your answer should be one of `\"A\"`, `\"B\"`, `\"C\"`, `\"D\"`, `\"E\"`, or `\"F\"` surrounded by quotes.*"
   ]
  },
  {
   "cell_type": "code",
   "execution_count": null,
   "metadata": {
    "deletable": false,
    "nbgrader": {
     "cell_type": "code",
     "checksum": "52bf049475f2209a74c35c60713d28d2",
     "grade": false,
     "grade_id": "cell-813f996317ff61dd",
     "locked": false,
     "schema_version": 3,
     "solution": true,
     "task": false
    },
    "tags": []
   },
   "outputs": [],
   "source": [
    "# answer1.10 <- ...\n",
    "\n",
    "# your code here\n",
    "fail() # No Answer - remove if you provide an answer\n",
    "\n",
    "answer1.10"
   ]
  },
  {
   "cell_type": "code",
   "execution_count": null,
   "metadata": {
    "deletable": false,
    "editable": false,
    "nbgrader": {
     "cell_type": "code",
     "checksum": "f7233916807a2fc8edae2069861a8ade",
     "grade": true,
     "grade_id": "cell-01b57f216ff8f262",
     "locked": true,
     "points": 1,
     "schema_version": 3,
     "solution": false,
     "task": false
    },
    "tags": []
   },
   "outputs": [],
   "source": [
    "test_1.10()"
   ]
  },
  {
   "cell_type": "markdown",
   "metadata": {
    "deletable": false,
    "editable": false,
    "nbgrader": {
     "cell_type": "markdown",
     "checksum": "d62e690cc37cbc4559a066dc9388f493",
     "grade": false,
     "grade_id": "cell-01590258a807acee",
     "locked": true,
     "schema_version": 3,
     "solution": false,
     "task": false
    }
   },
   "source": [
    "**Interpretation of estimated coefficients of dummy variables** \n",
    "\n",
    "*Keeping `width` constant*, at any value (recall assumption of additive models!) consider an observation from the `darker` group: \n",
    "\n",
    "Then we have their corresponding regression equations:\n",
    "\n",
    "$$\n",
    "\\log \\lambda_{\\texttt{width}} = \\beta_0 + \\beta_1 \\overbrace{\\texttt{w}}^{\\text{Constant}} + \\beta_2 {\\texttt{colordarker}} + \\beta_3 {\\texttt{colorlight}} + \\beta_4 {\\texttt{colormedium}}\n",
    "$$\n",
    "\n",
    "$$\n",
    "\\log \\lambda_{\\texttt{width,dark}} = \\beta_0 + \\beta_1 \\texttt{w} + \\beta_2 \\times 0  + \\beta_3 \\times 0  + \\beta_4 \\times 0 \n",
    "$$\n",
    "\n",
    "$$\n",
    "\\log \\lambda_{\\texttt{width,darker}} = \\beta_0 + \\beta_1 \\texttt{w} + \\beta_2 \\times 1 + \\beta_3 \\times 0 + \\beta_4 \\times 0.\n",
    "$$\n",
    "\n",
    "We take the difference between both equations as:\n",
    "\n",
    "\\begin{align*}\n",
    "\\log \\lambda_{\\texttt{width,darker}} - \\log \\lambda_{\\texttt{width,dark}} = \\beta_2.\n",
    "\\end{align*}\n",
    "\n",
    "Then, we apply the logarithm property for a ratio:\n",
    "\n",
    "\\begin{align*}\n",
    "\\log \\frac{\\lambda_{\\texttt{width,darker}} }{\\lambda_{\\texttt{width,dark}}} &= \\log \\lambda_{\\texttt{width,darker}} - \\log \\lambda_{\\texttt{width,dark}} \\\\\n",
    "&= \\beta_2.\n",
    "\\end{align*}\n",
    "\n",
    "Finally, we have to exponentiate the previous equation:\n",
    "\n",
    "$$\n",
    "\\frac{\\lambda_{\\texttt{width,darker}} }{\\lambda_{\\texttt{width,dark}}} = e^{\\beta_2}.\n",
    "$$\n",
    "\n",
    "The expression $\\frac{\\lambda_{\\texttt{width,darker}} }{\\lambda_{\\texttt{width,dark}}} = e^{\\beta_2}$ indicates that the mean count changes in a multiplicative way between the two groups."
   ]
  },
  {
   "cell_type": "markdown",
   "metadata": {
    "deletable": false,
    "editable": false,
    "nbgrader": {
     "cell_type": "markdown",
     "checksum": "f43a66c6f83cd8f8dd97d226b69b7380",
     "grade": false,
     "grade_id": "cell-f8af88cea66668b0",
     "locked": true,
     "schema_version": 3,
     "solution": false,
     "task": false
    }
   },
   "source": [
    "**Question 1.11**\n",
    "<br>{points: 1}\n",
    "\n",
    "Let us move on to the interpretation of the coefficient corresponding to `light` from `color` (with reference level `dark`).\n",
    "\n",
    "Using the `crabs_Poisson_model_results` tibble, what is the correct interpretation of the regression estimated coefficient for the dummy variable `light`?\n",
    "\n",
    "**A.** The expected count of male crabs (`n_males`) around a female breeding nest is $54.7\\%$ lower in the  `light` prosoma group compared to `dark` group, *while keeping the carapace `width` constant at any value.*\n",
    "\n",
    "**B.** The expected count of male crabs (`n_males`) around a female breeding nest $54.7\\%$ higher in the  `light` prosoma group compared to `dark` group, *while keeping the carapace `width` constant at any value.*\n",
    "\n",
    "**C.** The expected count of male crabs (`n_males`) around a female breeding nest $154.7\\%$ higher in the  `light` prosoma group compared to `dark` group, *while keeping the carapace `width` constant at any value.*\n",
    "\n",
    "**D.** The expected count of male crabs (`n_males`) around a female breeding nest $154.7\\%$ lower in the  `light` prosoma group compared to `dark` group, *while keeping the carapace `width` constant at any value.*\n",
    "\n",
    "**E.** The expected count of male crabs (`n_males`) around a female breeding nest is $54.7\\%$ lower in the  `dark` prosoma group compared to `light` group, *while keeping the carapace `width` constant at any value.*\n",
    "\n",
    "**F.** The expected count of male crabs (`n_males`) around a female breeding nest $54.7\\%$ higher in the  `dark` prosoma group compared to `light` group, *while keeping the carapace `width` constant at any value.*\n",
    "\n",
    "*Assign your answer to the object `answer1.11`. Your answer should be one of `\"A\"`, `\"B\"`, `\"C\"`, `\"D\"`, `\"E\"`, or `\"F\"` surrounded by quotes.*"
   ]
  },
  {
   "cell_type": "code",
   "execution_count": null,
   "metadata": {
    "deletable": false,
    "nbgrader": {
     "cell_type": "code",
     "checksum": "ff760b89269d4912c27982a3fa0e2af6",
     "grade": false,
     "grade_id": "cell-9dd1384a6af3a36a",
     "locked": false,
     "schema_version": 3,
     "solution": true,
     "task": false
    },
    "tags": []
   },
   "outputs": [],
   "source": [
    "# answer1.11 <- ...\n",
    "\n",
    "# your code here\n",
    "fail() # No Answer - remove if you provide an answer\n",
    "\n",
    "answer1.11"
   ]
  },
  {
   "cell_type": "code",
   "execution_count": null,
   "metadata": {
    "deletable": false,
    "editable": false,
    "nbgrader": {
     "cell_type": "code",
     "checksum": "d9edace5350e6c726a32663d2322356c",
     "grade": true,
     "grade_id": "cell-27d30eed0b7b8bae",
     "locked": true,
     "points": 1,
     "schema_version": 3,
     "solution": false,
     "task": false
    },
    "tags": []
   },
   "outputs": [],
   "source": [
    "test_1.11()"
   ]
  },
  {
   "cell_type": "markdown",
   "metadata": {
    "deletable": false,
    "editable": false,
    "nbgrader": {
     "cell_type": "markdown",
     "checksum": "441ed357f144184437bffc19a3893267",
     "grade": false,
     "grade_id": "cell-96565a64571f2a45",
     "locked": true,
     "schema_version": 3,
     "solution": false,
     "task": false
    }
   },
   "source": [
    "**Question 1.12**\n",
    "<br>{points: 1}\n",
    "\n",
    "Suppose we want to predict the mean count of male crabs (`n_males`) around a female breeding nest with a carapace `width` of $27.5$ cm and a `light` `color` of the prosoma. Then, the corresponding prediction is obtained using the function `predict()` with the object `crabs_poisson_model`.\n",
    "\n",
    "> **Hint:** Check the argument `type` when coding this prediction.\n",
    "\n",
    "*Assign your answer to the object `answer1.12`. Fill out those parts indicated with `...`, uncomment the corresponding code in the cell below, and run it.*"
   ]
  },
  {
   "cell_type": "code",
   "execution_count": null,
   "metadata": {
    "deletable": false,
    "nbgrader": {
     "cell_type": "code",
     "checksum": "2eadbe58a6ad23e9ba0b9ebbfdb39814",
     "grade": false,
     "grade_id": "cell-5f4ccaec6bf73492",
     "locked": false,
     "schema_version": 3,
     "solution": true,
     "task": false
    },
    "tags": []
   },
   "outputs": [],
   "source": [
    "# answer1.12 <- \n",
    "#   ...(...,\n",
    "#     tibble(..., ...),\n",
    "#     type = ...\n",
    "#   )\n",
    "\n",
    "# your code here\n",
    "fail() # No Answer - remove if you provide an answer\n",
    "\n",
    "answer1.12"
   ]
  },
  {
   "cell_type": "code",
   "execution_count": null,
   "metadata": {
    "deletable": false,
    "editable": false,
    "nbgrader": {
     "cell_type": "code",
     "checksum": "81c218f35362c5b32755ab5d436812c3",
     "grade": true,
     "grade_id": "cell-0df8c510b063bb57",
     "locked": true,
     "points": 1,
     "schema_version": 3,
     "solution": false,
     "task": false
    },
    "tags": []
   },
   "outputs": [],
   "source": [
    "test_1.12()"
   ]
  }
 ],
 "metadata": {
  "jupytext": {
   "formats": "ipynb,Rmd"
  },
  "kernelspec": {
   "display_name": "R",
   "language": "R",
   "name": "ir"
  },
  "language_info": {
   "codemirror_mode": "r",
   "file_extension": ".r",
   "mimetype": "text/x-r-source",
   "name": "R",
   "pygments_lexer": "r",
   "version": "4.3.3"
  },
  "latex_envs": {
   "LaTeX_envs_menu_present": true,
   "autoclose": false,
   "autocomplete": true,
   "bibliofile": "biblio.bib",
   "cite_by": "apalike",
   "current_citInitial": 1,
   "eqLabelWithNumbers": true,
   "eqNumInitial": 1,
   "hotkeys": {
    "equation": "Ctrl-E",
    "itemize": "Ctrl-I"
   },
   "labels_anchors": false,
   "latex_user_defs": false,
   "report_style_numbering": false,
   "user_envs_cfg": false
  }
 },
 "nbformat": 4,
 "nbformat_minor": 4
}
