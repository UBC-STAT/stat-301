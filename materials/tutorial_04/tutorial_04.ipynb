{
 "cells": [
  {
   "cell_type": "markdown",
   "metadata": {
    "deletable": false,
    "editable": false,
    "nbgrader": {
     "cell_type": "markdown",
     "checksum": "0d8821a91717ed3be84a6b4c9e64b091",
     "grade": false,
     "grade_id": "cell-f1e1d845873036f4",
     "locked": true,
     "schema_version": 3,
     "solution": false,
     "task": false
    }
   },
   "source": [
    "# Tutorial 04: Binary Responses"
   ]
  },
  {
   "cell_type": "markdown",
   "metadata": {
    "deletable": false,
    "editable": false,
    "nbgrader": {
     "cell_type": "markdown",
     "checksum": "0cd7e2361479aaa0b141c4b49b43325c",
     "grade": false,
     "grade_id": "cell-82d9926086d47a80",
     "locked": true,
     "schema_version": 3,
     "solution": false,
     "task": false
    }
   },
   "source": [
    "## Lecture and Tutorial Learning Goals:\n",
    "After completing this week's lecture and tutorial work, you will be able to:\n",
    "\n",
    "1. Describe the logistic regression estimation procedure (binary response variable).\n",
    "2. Discuss the relationship between linear regression and logistic regression. Discuss the consequences of modelling data more suitable for logistic regression models as a linear regression model.\n",
    "3. Interpret the estimated coefficients and $p$-values in the logistic regression.\n",
    "4. Write a computer script to estimate a logistic regression and perform model diagnostics. Interpret and communicate the results from that computer script."
   ]
  },
  {
   "cell_type": "code",
   "execution_count": null,
   "metadata": {
    "deletable": false,
    "editable": false,
    "nbgrader": {
     "cell_type": "code",
     "checksum": "b841899449da214070cb66a7c9ceec69",
     "grade": false,
     "grade_id": "cell-a2a153352bc44a68",
     "locked": true,
     "schema_version": 3,
     "solution": false,
     "task": false
    },
    "tags": []
   },
   "outputs": [],
   "source": [
    "# Run this cell before continuing.\n",
    "library(tidyverse)\n",
    "library(broom)\n",
    "library(ISLR)\n",
    "library(dplyr)\n",
    "install.packages(\"arm\")\n",
    "library(arm)\n",
    "\n",
    "source(\"tests_tutorial_04.R\")"
   ]
  },
  {
   "cell_type": "markdown",
   "metadata": {
    "deletable": false,
    "editable": false,
    "nbgrader": {
     "cell_type": "markdown",
     "checksum": "b032a0f4f9832e276d6e49df5a54831a",
     "grade": false,
     "grade_id": "cell-9be71f65643c5906",
     "locked": true,
     "schema_version": 3,
     "solution": false,
     "task": false
    }
   },
   "source": [
    "## 1. Logistic Regression\n",
    "\n",
    "Logistic Regressions are commonly used to model the probability of an event based on a set of observed covariates. As with Linear Regression, Logistic Regression can also be used to:\n",
    "\n",
    "- estimate and test the true relation between different types of variables and a <u>*binary response*</u>.\n",
    "\n",
    "\n",
    "- predict the probability of a <u>*binary response*</u> (aka, classifier)\n"
   ]
  },
  {
   "cell_type": "markdown",
   "metadata": {
    "deletable": false,
    "editable": false,
    "nbgrader": {
     "cell_type": "markdown",
     "checksum": "107a71b9fef2dae403c1c001e8480c5a",
     "grade": false,
     "grade_id": "cell-f1fa818e59b35d73",
     "locked": true,
     "schema_version": 3,
     "solution": false,
     "task": false
    }
   },
   "source": [
    "### Recall from lecture:\n",
    "\n",
    "The **response** variable $Y_i$ flags the successes (S) for a given event of interest: \n",
    "\n",
    "$$\n",
    "Y_i =\n",
    "\\begin{cases}\n",
    "1 \\; \\; \\; \\; \\mbox{if the $i$th observation is S},\\\\\n",
    "0 \\; \\; \\; \\; \t\\mbox{otherwise.}\n",
    "\\end{cases}\n",
    "$$\n",
    "\n",
    "For example, $Y_i = 1$ if the $i$th passenger of the Titanic survived. \n",
    "\n",
    "In statistics, \n",
    "\n",
    "$$Y_i \\sim \\text{Bernoulli}(p_i)$$\n",
    "\n",
    "where \n",
    "\n",
    "$$\n",
    "E(Y_i) = p_i\n",
    "$$"
   ]
  },
  {
   "cell_type": "markdown",
   "metadata": {
    "deletable": false,
    "editable": false,
    "nbgrader": {
     "cell_type": "markdown",
     "checksum": "74c70ccaea6d10d527a94194523d5372",
     "grade": false,
     "grade_id": "cell-3bb06712230774c0",
     "locked": true,
     "schema_version": 3,
     "solution": false,
     "task": false
    }
   },
   "source": [
    "#### A regression model\n",
    "\n",
    "Since a probability value ranges between 0 and 1, we can't use a LR to model the conditional expectation given a set of covariates (for simplicity only one covariate is shown below):\n",
    "\n",
    "$$E(Y_i|X_i) = \\beta_0 + \\beta_1X_i$$\n",
    "\n",
    "Instead, we use the ***logistic curve*** to model the conditional expectation, in this case the conditional probability of success:\n",
    "\n",
    "$$E(Y_i|X_i) = P(\\left.Y_{i} = 1 \\right| X_{i}) = p_i = \\frac{e^{\\beta_0 + \\beta_1X_i}}{1+e^{\\beta_0 + \\beta_1X_i}}$$ \n",
    "\n",
    "With some algebra, we can get two other equivalent useful formulations:\n",
    "\n",
    "\\begin{equation*}\n",
    "\\mbox{logit}(p_i)=\\log\\left(\\frac{p_i}{1 - p_i}\\right) = \\beta_0 + \\beta_1 X_i\n",
    "\\end{equation*} \n",
    "\n",
    "> Note that mathematically, instead of modeling the probability as a line we model a *function* of the probability as a line\n",
    "\n",
    "\\begin{equation*}\n",
    "\\left(\\frac{p_i}{1 - p_i}\\right) = e^{\\beta_0 + \\beta_1 X_i}\n",
    "\\end{equation*} "
   ]
  },
  {
   "cell_type": "markdown",
   "metadata": {
    "deletable": false,
    "editable": false,
    "nbgrader": {
     "cell_type": "markdown",
     "checksum": "e332a7e74438511e400c38f2e5cf0f5f",
     "grade": false,
     "grade_id": "cell-5321baf6f7951d7e",
     "locked": true,
     "schema_version": 3,
     "solution": false,
     "task": false
    }
   },
   "source": [
    "#### Odds and odds ratios\n",
    "\n",
    "The quantity $P(\\left.Y_{i} = 1 \\right| X_{i})/\\left[1-P(\\left.Y_{i} = 1 \\right| X_{i})\\right] = p_i/(1-p_i)$ is called <font color='darkred'>**odds**</font>\n",
    "\n",
    "> Note the relation between odds of success and odds of failure.\n",
    "\n",
    "<font color='darkred'>**Odds ratios**</font> are commonly used to compare odds of different groups:\n",
    "\n",
    "For example:\n",
    "\n",
    "$\\text{odds}_F = e^\\beta_0$ and $\\text{odds}_M = \n",
    "e^{\\beta_0 + \\beta_1} = e^\\beta_0 e^\\beta_1$\n",
    "\n",
    "Then, \n",
    "$$\\frac{\\text{odds}_M}{\\text{odds}_F} =\n",
    "e^\\beta_1$$\n",
    "\n",
    "\n",
    " "
   ]
  },
  {
   "cell_type": "markdown",
   "metadata": {
    "deletable": false,
    "editable": false,
    "nbgrader": {
     "cell_type": "markdown",
     "checksum": "87684624ed6a3d7311f58ffebc3f7813",
     "grade": false,
     "grade_id": "cell-7aad649d27ed77eb",
     "locked": true,
     "schema_version": 3,
     "solution": false,
     "task": false
    }
   },
   "source": [
    "### Dataset\n",
    "\n",
    "This tutorial will focus on the dataset `Default` from [*An Introduction to Statistical Learning*](https://www.statlearning.com/) (James et al., 2013). This is a dataset of $n = 10,000$ observations with the following variables:\n",
    "\n",
    "- `default`: a binary response indicating whether the customer defaulted on their debt (`Yes` or `No`).\n",
    "- `student`: a binary input variable indicating whether the customer is a student (`Yes` or `No`).\n",
    "- `balance`: a continuous input variable indicating the remaining average balance of the customer's credit card (after the monthly payment).\n",
    "- `income`: a continuous input variable indicating the customer's income."
   ]
  },
  {
   "cell_type": "code",
   "execution_count": null,
   "metadata": {
    "deletable": false,
    "editable": false,
    "nbgrader": {
     "cell_type": "code",
     "checksum": "b96b0bf2d2dc5fe1c06048f774f68692",
     "grade": false,
     "grade_id": "cell-be65b9244ff2e164",
     "locked": true,
     "schema_version": 3,
     "solution": false,
     "task": false
    },
    "tags": []
   },
   "outputs": [],
   "source": [
    "head(Default)"
   ]
  },
  {
   "cell_type": "markdown",
   "metadata": {
    "deletable": false,
    "editable": false,
    "nbgrader": {
     "cell_type": "markdown",
     "checksum": "5195fe9cd8f0bfd1cdef385e8d482604",
     "grade": false,
     "grade_id": "cell-f7510c5644481477",
     "locked": true,
     "schema_version": 3,
     "solution": false,
     "task": false
    }
   },
   "source": [
    "### Estimation\n",
    "\n",
    "Let's estimate the logistic regression given the data collected using *Maximum Likelihood Estimation (MLE)*. "
   ]
  },
  {
   "cell_type": "markdown",
   "metadata": {
    "deletable": false,
    "editable": false,
    "nbgrader": {
     "cell_type": "markdown",
     "checksum": "b76418e8e7f9149195be9e94ff98c3c5",
     "grade": false,
     "grade_id": "cell-a3e8e0c543a5d4ea",
     "locked": true,
     "schema_version": 3,
     "solution": false,
     "task": false
    }
   },
   "source": [
    "**Question 1.1:**\n",
    "<br>{points: 1}\n",
    "\n",
    "To fit the model, we can use the function `glm()` and its argument `family = binomial` (required to specify the binary nature of the response). \n",
    "\n",
    "Now, let's put this into practice. We'll estimate a binary logistic regression utilizing the function `glm()` with `default` as the response and `student` as the input variable. The dataset is `Default`.\n",
    "    \n",
    "Store the model in an object named `default_logistic_student`. The `glm()` parameters are analogous to `lm()` (`formula` and `data`) with the addition of `family = binomial` for this specific model. "
   ]
  },
  {
   "cell_type": "code",
   "execution_count": null,
   "metadata": {
    "deletable": false,
    "nbgrader": {
     "cell_type": "code",
     "checksum": "b2f7fa3afbffb8bd38a61216ac0b232d",
     "grade": false,
     "grade_id": "cell-8ac0e64c9daf4ffc",
     "locked": false,
     "schema_version": 3,
     "solution": true,
     "task": false
    },
    "tags": []
   },
   "outputs": [],
   "source": [
    "# default_logistic_student <- \n",
    "#   ...(formula = ...,\n",
    "#       data = ...,\n",
    "#       family = ...)\n",
    "\n",
    "\n",
    "# your code here\n",
    "fail() # No Answer - remove if you provide an answer\n",
    "\n",
    "summary(default_logistic_student)"
   ]
  },
  {
   "cell_type": "code",
   "execution_count": null,
   "metadata": {
    "deletable": false,
    "editable": false,
    "nbgrader": {
     "cell_type": "code",
     "checksum": "2a9c780d36cf17349206248adfbc614b",
     "grade": true,
     "grade_id": "cell-debd081e1606b49a",
     "locked": true,
     "points": 1,
     "schema_version": 3,
     "solution": false,
     "task": false
    },
    "tags": []
   },
   "outputs": [],
   "source": [
    "test_1.1()"
   ]
  },
  {
   "cell_type": "markdown",
   "metadata": {
    "deletable": false,
    "editable": false,
    "nbgrader": {
     "cell_type": "markdown",
     "checksum": "3de00d8be734f590c9a70b9e7d91eae8",
     "grade": false,
     "grade_id": "cell-1b106deb2173d1db",
     "locked": true,
     "schema_version": 3,
     "solution": false,
     "task": false
    }
   },
   "source": [
    "You can also get the exponentiated coefficients with the argument `exponentiate = TRUE` in `tidy()`."
   ]
  },
  {
   "cell_type": "code",
   "execution_count": null,
   "metadata": {
    "deletable": false,
    "editable": false,
    "nbgrader": {
     "cell_type": "code",
     "checksum": "59e5d822cf4905a9704678d685f8fa7b",
     "grade": false,
     "grade_id": "cell-b8e952a25510271c",
     "locked": true,
     "schema_version": 3,
     "solution": false,
     "task": false
    },
    "tags": []
   },
   "outputs": [],
   "source": [
    "default_logistic_student %>% \n",
    "    tidy(exponentiate = TRUE) "
   ]
  },
  {
   "cell_type": "markdown",
   "metadata": {
    "deletable": false,
    "editable": false,
    "nbgrader": {
     "cell_type": "markdown",
     "checksum": "5b21a2929deaf5b7ab0b556ef6538a82",
     "grade": false,
     "grade_id": "cell-8874e2ab58428107",
     "locked": true,
     "schema_version": 3,
     "solution": false,
     "task": false
    }
   },
   "source": [
    "**Note**:  recall that the `std.error` column still refers to the non-exponentiated estimators, e.g., it refers to $\\hat{\\beta}_0$ not $e^{\\hat{\\beta}_0}$"
   ]
  },
  {
   "cell_type": "markdown",
   "metadata": {
    "deletable": false,
    "editable": false,
    "nbgrader": {
     "cell_type": "markdown",
     "checksum": "a70754498488504249cef9c27c4ef160",
     "grade": false,
     "grade_id": "cell-6665a0ff5a730bdf",
     "locked": true,
     "schema_version": 3,
     "solution": false,
     "task": false
    }
   },
   "source": [
    "**Question 1.2**\n",
    "<br>{points: 1}\n",
    "\n",
    "Considering the estimated model `default_logistic_student`, what is the correct interpretation of the  $\\hat{\\beta}_\\textit{student}$?\n",
    "\n",
    "**A.** The odds of default are expected to be $49.9\\%$ higher for non-student customers than for student customers.\n",
    "\n",
    "**B.** The odds of default are expected to be $49.9\\%$ higher for student customers than for non-student customers.\n",
    "\n",
    "**C.** The odds of default are expected to be $40.5\\%$ higher for non-student customers than student customers.\n",
    "\n",
    "**D.** The odds of default are expected to be $40.5\\%$ higher for student customers than non-student customers.\n",
    "\n",
    "*Assign your answer to the object `answer1.2` (character type surrounded by quotes).*"
   ]
  },
  {
   "cell_type": "code",
   "execution_count": null,
   "metadata": {
    "deletable": false,
    "nbgrader": {
     "cell_type": "code",
     "checksum": "aa463d285f6162ad3e8c64bf9f8d5781",
     "grade": false,
     "grade_id": "cell-9d862eda2ad912b4",
     "locked": false,
     "schema_version": 3,
     "solution": true,
     "task": false
    },
    "tags": []
   },
   "outputs": [],
   "source": [
    "# answer1.2 <- ...\n",
    "\n",
    "# your code here\n",
    "fail() # No Answer - remove if you provide an answer"
   ]
  },
  {
   "cell_type": "code",
   "execution_count": null,
   "metadata": {
    "deletable": false,
    "editable": false,
    "nbgrader": {
     "cell_type": "code",
     "checksum": "0d6ce275542c79465dac8b7b4217102d",
     "grade": true,
     "grade_id": "cell-454d0bf3ba416081",
     "locked": true,
     "points": 1,
     "schema_version": 3,
     "solution": false,
     "task": false
    },
    "tags": []
   },
   "outputs": [],
   "source": [
    "test_1.2()"
   ]
  },
  {
   "cell_type": "markdown",
   "metadata": {
    "deletable": false,
    "editable": false,
    "nbgrader": {
     "cell_type": "markdown",
     "checksum": "43efefc490e413544b6ded07e5875d9e",
     "grade": false,
     "grade_id": "cell-4bf8d13d2489425d",
     "locked": true,
     "schema_version": 3,
     "solution": false,
     "task": false
    }
   },
   "source": [
    "#### Multiple covariates\n",
    "\n",
    "As we learned in LR, a logistic regression can have multiple covariates of differnet types. The interpretation of their coefficients are analogous, except that in the case of the logistic regression changes in the covariates are associated with changes in log odds (raw results) or in odds (exponentiated results).\n",
    "\n",
    "Note that in the following questions we use different possible interpretations for the coefficients of a logistic regression. "
   ]
  },
  {
   "cell_type": "markdown",
   "metadata": {
    "deletable": false,
    "editable": false,
    "nbgrader": {
     "cell_type": "markdown",
     "checksum": "5c8fd4f7cc2dae9c24ff77c396f628af",
     "grade": false,
     "grade_id": "cell-148b1dc1b2667581",
     "locked": true,
     "schema_version": 3,
     "solution": false,
     "task": false
    }
   },
   "source": [
    "**Question 1.3:**\n",
    "<br>{points: 1}\n",
    "\n",
    "In order to fit the model, we can use the function `glm()` and its argument `family = binomial` (required to specify the binary nature of the response). \n",
    "\n",
    "Let us use the function `glm()` to estimate a logistic regression. Using the `Default` dataset, we will fit an *additive* logistic model with `default` as the response and `student`, `balance`, and `income` as input variables (in that order).\n",
    "    \n",
    "Store the model in an object named `default_logistic_multiple`. The `glm()` parameters are analogous to `lm()` (`formula` and `data`) with the addition of `family = binomial` for this specific model. "
   ]
  },
  {
   "cell_type": "code",
   "execution_count": null,
   "metadata": {
    "deletable": false,
    "nbgrader": {
     "cell_type": "code",
     "checksum": "4a4eb405286ebb0984154761fba774bd",
     "grade": false,
     "grade_id": "cell-7097573be6a38bf2",
     "locked": false,
     "schema_version": 3,
     "solution": true,
     "task": false
    },
    "tags": []
   },
   "outputs": [],
   "source": [
    "# default_logistic_multiple <- \n",
    "#   ...(...,\n",
    "#       ...,\n",
    "#       ...)\n",
    "\n",
    "# your code here\n",
    "fail() # No Answer - remove if you provide an answer\n",
    "\n",
    "default_logistic_multiple %>%\n",
    "    tidy() %>% \n",
    "    mutate_if(is.numeric, round, 3)\n",
    "\n",
    "default_logistic_multiple %>%\n",
    "    tidy(exponentiate = TRUE) %>% \n",
    "    mutate_if(is.numeric, round, 3)"
   ]
  },
  {
   "cell_type": "code",
   "execution_count": null,
   "metadata": {
    "deletable": false,
    "editable": false,
    "nbgrader": {
     "cell_type": "code",
     "checksum": "3d8b92e071567bbded1b39efcb741c11",
     "grade": true,
     "grade_id": "cell-a0e923b260f01656",
     "locked": true,
     "points": 1,
     "schema_version": 3,
     "solution": false,
     "task": false
    },
    "tags": []
   },
   "outputs": [],
   "source": [
    "test_1.3()"
   ]
  },
  {
   "cell_type": "markdown",
   "metadata": {
    "deletable": false,
    "editable": false,
    "nbgrader": {
     "cell_type": "markdown",
     "checksum": "49516004557dede0529972dc190ecee4",
     "grade": false,
     "grade_id": "cell-5fe352592ed23811",
     "locked": true,
     "schema_version": 3,
     "solution": false,
     "task": false
    }
   },
   "source": [
    "**Question 1.4**\n",
    "<br>{points: 1}\n",
    "\n",
    "Considering the estimated `default_logistic_multiple` model, which is (are) correct interpretation(s) of the  $\\hat{\\beta}_\\textit{student}$?\n",
    "\n",
    "**A.** Since $1 / 0.524 = 1.908$, we estimate that the odds of *non-default* are $90.8\\%$ higher for non-student customers than student customers while keeping the rest of the input variables constant.\n",
    "\n",
    "**B.** Since $1 / 0.524 = 1.908$, we estimate that the odds of *non-default* for student customers are $90.8$ while keeping the rest of the input variables constant.\n",
    "\n",
    "**C.** Since $1 / 0.524 = 1.908$, we estimate that the odds of *non-default* are $90.8\\%$ higher for student customers than non-student customers while keeping the rest of the input variables constant.\n",
    "\n",
    "**D.** Since $1 / 0.524 = 1.908$, we estimate that the odds of *default* are $90.8\\%$ higher for student custormers than non-student customers, while keeping the rest of the input variables constant.\n",
    "\n",
    "**E.** Since $0.524 - 1 = - 0.476$, we estimate that the odds of *default* decline $47.6\\%$ when customers are non-student, while keeping the rest of the input variables constant.\n",
    "\n",
    "**F.** Since $0.524 - 1 = - 0.476$, we estimate that the odds of *default* decline $47.6\\%$ when customers are student, while keeping the rest of the input variables constant.\n",
    "\n",
    "*Assign your answer to the object `answer1.4`. Your answers have to be included in a single string indicating the correct options in alphabetical order and surrounded by quotes (e.g., \"ABCD\" indicates you are selecting the first four options).*"
   ]
  },
  {
   "cell_type": "code",
   "execution_count": null,
   "metadata": {
    "deletable": false,
    "nbgrader": {
     "cell_type": "code",
     "checksum": "7675c63d94cc0f7ae76b48f48d4e6f1d",
     "grade": false,
     "grade_id": "cell-11677807d101b133",
     "locked": false,
     "schema_version": 3,
     "solution": true,
     "task": false
    },
    "tags": []
   },
   "outputs": [],
   "source": [
    "# answer1.4 <- ...\n",
    "\n",
    "# your code here\n",
    "fail() # No Answer - remove if you provide an answer"
   ]
  },
  {
   "cell_type": "code",
   "execution_count": null,
   "metadata": {
    "deletable": false,
    "editable": false,
    "nbgrader": {
     "cell_type": "code",
     "checksum": "232ec64d47b4caab2626b14fe5b4443c",
     "grade": true,
     "grade_id": "cell-30f034478ea08799",
     "locked": true,
     "points": 1,
     "schema_version": 3,
     "solution": false,
     "task": false
    }
   },
   "outputs": [],
   "source": [
    "test_1.4()"
   ]
  },
  {
   "cell_type": "markdown",
   "metadata": {
    "deletable": false,
    "editable": false,
    "nbgrader": {
     "cell_type": "markdown",
     "checksum": "4165f939e74c4d161c12754f6fc7e516",
     "grade": false,
     "grade_id": "cell-aaa6b8c6cb196552",
     "locked": true,
     "schema_version": 3,
     "solution": false,
     "task": false
    }
   },
   "source": [
    "**Question 1.5**\n",
    "<br>{points: 1}\n",
    "\n",
    "How would you interprete the coefficient of `balance` from the estimated `default_logistic_multiple` model?\n",
    "\n",
    "> Note: provide an interpretation based on odds, *not* log odds"
   ]
  },
  {
   "cell_type": "markdown",
   "metadata": {
    "deletable": false,
    "jp-MarkdownHeadingCollapsed": true,
    "nbgrader": {
     "cell_type": "markdown",
     "checksum": "91fa44fca594c76a942fd28e12895bdb",
     "grade": true,
     "grade_id": "cell-7441e6aa1307023f",
     "locked": false,
     "points": 1,
     "schema_version": 3,
     "solution": true,
     "task": false
    },
    "tags": []
   },
   "source": [
    "> *Your answer goes here.*\n",
    "\n",
    "DOUBLE CLICK TO EDIT **THIS CELL** AND REPLACE THIS TEXT WITH YOUR ANSWER.\n"
   ]
  },
  {
   "cell_type": "markdown",
   "metadata": {
    "deletable": false,
    "editable": false,
    "nbgrader": {
     "cell_type": "markdown",
     "checksum": "d50df50d1341d96f2bc3d5255f699e38",
     "grade": false,
     "grade_id": "cell-8357d4c87f849b10",
     "locked": true,
     "schema_version": 3,
     "solution": false,
     "task": false
    }
   },
   "source": [
    "### 1.2 Inference\n",
    "\n",
    "We can use this estimated model to make inferences about the population parameters, i.e., we can determine whether an input variable is statistically associated with the logarithm of the odds through hypothesis testing for the parameters $\\beta_j$. "
   ]
  },
  {
   "cell_type": "markdown",
   "metadata": {
    "deletable": false,
    "editable": false,
    "nbgrader": {
     "cell_type": "markdown",
     "checksum": "6ef422d18746af58295075335b15f617",
     "grade": false,
     "grade_id": "cell-c18026a5fd84fca7",
     "locked": true,
     "schema_version": 3,
     "solution": false,
     "task": false
    }
   },
   "source": [
    "**Question 1.6**\n",
    "<br>{points: 1}\n",
    "\n",
    "Report the estimated coefficients, their standard errors, and corresponding $p$-values by calling `tidy()` on `default_logistic_multiple`. Include the corresponding asymptotic 95% confidence intervals. \n",
    "\n",
    "_Store the results in the variable `default_logistic_multiple_results`._"
   ]
  },
  {
   "cell_type": "code",
   "execution_count": null,
   "metadata": {
    "deletable": false,
    "nbgrader": {
     "cell_type": "code",
     "checksum": "48cb4cebe0f8221ad9554720cdb0d6aa",
     "grade": false,
     "grade_id": "cell-ad37611aa165ca7a",
     "locked": false,
     "schema_version": 3,
     "solution": true,
     "task": false
    },
    "tags": []
   },
   "outputs": [],
   "source": [
    "# default_logistic_multiple_results <- \n",
    "#    ... %>%\n",
    "#    ...(conf.int = TRUE) \n",
    "\n",
    "# your code here\n",
    "fail() # No Answer - remove if you provide an answer\n",
    "\n",
    "default_logistic_multiple_results"
   ]
  },
  {
   "cell_type": "code",
   "execution_count": null,
   "metadata": {
    "deletable": false,
    "editable": false,
    "nbgrader": {
     "cell_type": "code",
     "checksum": "cc0c780d822bbc99aa47ee6f369c342c",
     "grade": true,
     "grade_id": "cell-38f7c2eea95906c9",
     "locked": true,
     "points": 1,
     "schema_version": 3,
     "solution": false,
     "task": false
    },
    "tags": []
   },
   "outputs": [],
   "source": [
    "test_1.6()"
   ]
  },
  {
   "cell_type": "markdown",
   "metadata": {
    "deletable": false,
    "editable": false,
    "nbgrader": {
     "cell_type": "markdown",
     "checksum": "a3a3b22c3045f81d756d8dfe29f74688",
     "grade": false,
     "grade_id": "cell-82749136a082e937",
     "locked": true,
     "schema_version": 3,
     "solution": false,
     "task": false
    }
   },
   "source": [
    "**Question 1.7**\n",
    "<br>{points: 1}\n",
    "\n",
    "Use `tidy()` and the estimated model stored in `default_logistic_multiple` to obtain estimated coefficients and confident intervals for the association between each variable and the *odds* of being in default. \n",
    "\n",
    "_Store the results in the variable `default_logistic_odds_results`._"
   ]
  },
  {
   "cell_type": "code",
   "execution_count": null,
   "metadata": {
    "deletable": false,
    "nbgrader": {
     "cell_type": "code",
     "checksum": "ce772dc144f1e73bcecd83318e17c63d",
     "grade": false,
     "grade_id": "cell-366329ae6e91a284",
     "locked": false,
     "schema_version": 3,
     "solution": true,
     "task": false
    },
    "tags": []
   },
   "outputs": [],
   "source": [
    "# default_logistic_odds_results <- \n",
    "#    default_logistic_multiple %>%\n",
    "#    ... %>%\n",
    "#    mutate_if(is.numeric, round, 6)\n",
    "\n",
    "# your code here\n",
    "fail() # No Answer - remove if you provide an answer\n",
    "\n",
    "default_logistic_odds_results"
   ]
  },
  {
   "cell_type": "code",
   "execution_count": null,
   "metadata": {
    "deletable": false,
    "editable": false,
    "nbgrader": {
     "cell_type": "code",
     "checksum": "eabc0818beb40ee61110e9668d8ec6a8",
     "grade": true,
     "grade_id": "cell-b905bb95b0e06997",
     "locked": true,
     "points": 1,
     "schema_version": 3,
     "solution": false,
     "task": false
    },
    "tags": []
   },
   "outputs": [],
   "source": [
    "test_1.7()"
   ]
  },
  {
   "cell_type": "markdown",
   "metadata": {
    "deletable": false,
    "editable": false,
    "nbgrader": {
     "cell_type": "markdown",
     "checksum": "44db858a7cf11c59e2d3f715f45de122",
     "grade": false,
     "grade_id": "cell-d9141f6447689b01",
     "locked": true,
     "schema_version": 3,
     "solution": false,
     "task": false
    }
   },
   "source": [
    "**Question 1.8**\n",
    "<br>{points: 1}\n",
    "\n",
    "Using a **significance level $\\alpha = 0.05$**, which inputs are statistically associated to the probability of default in `default_logistic_odds_results`?\n",
    "\n",
    "**A.** The categorical input `student`.\n",
    "\n",
    "**B.** The continuous input `balance`.\n",
    "\n",
    "**C.** The continuous input `income`.\n",
    "\n",
    "*Assign your answers to the object `answer1.8`. Your answers must be included in a single string indicating the correct options in alphabetical order and surrounded by quotes (e.g., `\"ABC\"` indicates you are selecting the three options).*"
   ]
  },
  {
   "cell_type": "code",
   "execution_count": null,
   "metadata": {
    "deletable": false,
    "nbgrader": {
     "cell_type": "code",
     "checksum": "a36cd4dececf930580b4a89f0b29428d",
     "grade": false,
     "grade_id": "cell-822cb96c53313b4e",
     "locked": false,
     "schema_version": 3,
     "solution": true,
     "task": false
    },
    "tags": []
   },
   "outputs": [],
   "source": [
    "# answer1.8 <- \n",
    "\n",
    "# your code here\n",
    "fail() # No Answer - remove if you provide an answer"
   ]
  },
  {
   "cell_type": "code",
   "execution_count": null,
   "metadata": {
    "deletable": false,
    "editable": false,
    "nbgrader": {
     "cell_type": "code",
     "checksum": "aa64cdfd41134b2b3ff517d78e345d49",
     "grade": true,
     "grade_id": "cell-a04e784c42d742dc",
     "locked": true,
     "points": 1,
     "schema_version": 3,
     "solution": false,
     "task": false
    },
    "tags": []
   },
   "outputs": [],
   "source": [
    "test_1.8()"
   ]
  },
  {
   "cell_type": "markdown",
   "metadata": {
    "deletable": false,
    "editable": false,
    "nbgrader": {
     "cell_type": "markdown",
     "checksum": "2e25c52764523f01ca0c8eaadc8895c7",
     "grade": false,
     "grade_id": "cell-a1792c454ca79341",
     "locked": true,
     "schema_version": 3,
     "solution": false,
     "task": false
    }
   },
   "source": [
    "### 1.3 Prediction\n",
    "\n",
    "Besides inference, we can use an estimated logistic regression model to predict the probability of success. \n",
    "\n",
    "For example, suppose we want to predict the odds of a student who has a credit card balance of \\\\$2200 and an income of \\\\$35000 to be in default relative to not being in default.\n",
    "\n",
    "Mathematically, our predicted log odds will be \n",
    "\n",
    "\\begin{gather*} \n",
    "\\log \\bigg( \\frac{\\hat{p}_\\texttt{default}}{1 - \\hat{p}_\\texttt{default}}\\bigg) = \\underbrace{-10.869045}_{\\hat{\\beta}_0} - \\underbrace{0.646776}_{\\hat{\\beta}_1} \\times 1 + \\underbrace{0.005737}_{\\hat{\\beta}_2} \\times 2200 + \\underbrace{0.000003}_{\\hat{\\beta}_2} \\times 35000= 1.21 \\\\\n",
    "\\end{gather*}\n",
    "\n",
    "Next, by taking the exponential on both sides of the equation, we obtain our predicted *odds*: \n",
    "\n",
    "$$\n",
    "\\frac{\\hat{p}_\\texttt{default}}{1 - \\hat{p}_\\texttt{default}} = e^{1.21} = 3.36.\n",
    "$$\n",
    "\n",
    "Finally, solving the above for $\\hat{p}_\\texttt{default}$, we obtain our predicted probability of default\n",
    "\n",
    "$$\n",
    "\\hat{p}_\\texttt{default} = 3.36/4.36 = 0.7706\n",
    "$$"
   ]
  },
  {
   "cell_type": "markdown",
   "metadata": {
    "deletable": false,
    "editable": false,
    "nbgrader": {
     "cell_type": "markdown",
     "checksum": "ad1380bec0ca6435a8bc5ac964b52d88",
     "grade": false,
     "grade_id": "cell-cfbfd19ea63f8152",
     "locked": true,
     "schema_version": 3,
     "solution": false,
     "task": false
    }
   },
   "source": [
    "**Question 1.9**\n",
    "<br>{points: 1}\n",
    "\n",
    "Using `predict` and `default_logistic_multiple`, obtain the **odds** predicted above.\n",
    "\n",
    "*Hint: Check the argument `type` when coding this prediction.*\n",
    "\n",
    "*Assign your answer to the object `answer1.9`. Fill out those parts indicated with `...`, uncomment the corresponding code in the cell below, and run it.*"
   ]
  },
  {
   "cell_type": "code",
   "execution_count": null,
   "metadata": {
    "deletable": false,
    "nbgrader": {
     "cell_type": "code",
     "checksum": "93727cdd2c6a9a89bed6a25e6b579158",
     "grade": false,
     "grade_id": "cell-23f0d706c79c9f1c",
     "locked": false,
     "schema_version": 3,
     "solution": true,
     "task": false
    },
    "tags": []
   },
   "outputs": [],
   "source": [
    "# answer1.9 <- \n",
    "#     ...(...,\n",
    "#         tibble(student = ..., balance = ..., income = ...),\n",
    "#         type = ...) %>%\n",
    "#     ... # how did you obtain the predicted odds above? \n",
    "\n",
    "# your code here\n",
    "fail() # No Answer - remove if you provide an answer\n",
    "\n",
    "answer1.9"
   ]
  },
  {
   "cell_type": "code",
   "execution_count": null,
   "metadata": {
    "deletable": false,
    "editable": false,
    "nbgrader": {
     "cell_type": "code",
     "checksum": "ead39b3ff445fd86213c8f2961cab47e",
     "grade": true,
     "grade_id": "cell-e8a22ef2e4ac8fe6",
     "locked": true,
     "points": 1,
     "schema_version": 3,
     "solution": false,
     "task": false
    },
    "tags": []
   },
   "outputs": [],
   "source": [
    "test_1.9()"
   ]
  },
  {
   "cell_type": "markdown",
   "metadata": {
    "deletable": false,
    "editable": false,
    "nbgrader": {
     "cell_type": "markdown",
     "checksum": "aa66047f2904f5098a5acf0ecf909434",
     "grade": false,
     "grade_id": "cell-f84da54cd4da6b01",
     "locked": true,
     "schema_version": 3,
     "solution": false,
     "task": false
    }
   },
   "source": [
    "**Question 1.10**\n",
    "<br>{points: 1}\n",
    "\n",
    "We can also predict *probabilities* for classification purposes, i.e., whether the customer will default. Using the function `predict()` with the object `default_logistic_multiple`, obtain the estimated probability that a given customer will default. This customer is a `student` who has a credit card `balance `2200` and income of `35000`.\n",
    "\n",
    "\n",
    "*Hint: Check the argument `type` when coding this prediction.*\n",
    "\n",
    "*Assign your answer to the object `answer1.10`. Fill out those parts indicated with `...`, uncomment the corresponding code in the cell below, and run it.*"
   ]
  },
  {
   "cell_type": "code",
   "execution_count": null,
   "metadata": {
    "deletable": false,
    "nbgrader": {
     "cell_type": "code",
     "checksum": "32e182c902f480b0797d8cfa08b9b720",
     "grade": false,
     "grade_id": "cell-ee0c66cf674510cc",
     "locked": false,
     "schema_version": 3,
     "solution": true,
     "task": false
    },
    "tags": []
   },
   "outputs": [],
   "source": [
    "# answer1.10 <- \n",
    "#     ...(...,\n",
    "#         tibble(...),\n",
    "#         type = ...)\n",
    "\n",
    "# your code here\n",
    "fail() # No Answer - remove if you provide an answer\n",
    "\n",
    "answer1.10"
   ]
  },
  {
   "cell_type": "code",
   "execution_count": null,
   "metadata": {
    "deletable": false,
    "editable": false,
    "nbgrader": {
     "cell_type": "code",
     "checksum": "03a02a65d9ebbef1277d16d02782a182",
     "grade": true,
     "grade_id": "cell-03c8e23b29226318",
     "locked": true,
     "points": 1,
     "schema_version": 3,
     "solution": false,
     "task": false
    },
    "tags": []
   },
   "outputs": [],
   "source": [
    "test_1.10()"
   ]
  },
  {
   "cell_type": "markdown",
   "metadata": {
    "deletable": false,
    "editable": false,
    "nbgrader": {
     "cell_type": "markdown",
     "checksum": "14cd991b96dac86dfa6113c7e8bd26d5",
     "grade": false,
     "grade_id": "cell-2f8128148997f4de",
     "locked": true,
     "schema_version": 3,
     "solution": false,
     "task": false
    }
   },
   "source": [
    "### Fitted Values\n",
    "\n",
    "Predicted values for in-sample observations are usually called *fitted* values and they are stored as an object of the estimated model (check `objects(default_logistic_multiple)`). In the next question, you will explore different ways of obtaining *fitted* values. \n",
    "\n",
    "But as noted in the previous questions, we can get different types of fitted values since the same model can be used to predict *probabilities, odds, and log odds* (linear component). \n",
    "\n",
    "It is important that you know which values you obtain when using different functions in R."
   ]
  },
  {
   "cell_type": "markdown",
   "metadata": {
    "deletable": false,
    "editable": false,
    "nbgrader": {
     "cell_type": "markdown",
     "checksum": "9de3c7eba65f3c9734f43a64fe0a1185",
     "grade": false,
     "grade_id": "cell-c697cb078e6ac0dc",
     "locked": true,
     "schema_version": 3,
     "solution": false,
     "task": false
    }
   },
   "source": [
    "**Question 1.11**\n",
    "<br>{points: 1}\n",
    "\n",
    "Using the function `augment()` with the object `default_logistic_multiple`, you can obtain fitted values and residuals along with the original data points. The `augment()` function adds many columns that we are not going to use at this time so we are selecting only a subset of the columns. \n",
    "\n",
    "Next, we will add the predicted probability to this tibble that are stored in the object `default_logistic_multiple` under the name `fitted`. Call the column `pred_prob`.\n",
    "\n",
    "Using this predicted probability you can calculate the logit (log odds) for each response, i.e., $\\log(p/(1-p))$. Call the column `pred_line`, since this correspond to the estimated linear component of the model.\n",
    "\n",
    "Add the predicted odds to the tibble and call the column `pred_odds`.\n",
    "\n",
    "*Assign your answer to the object `default_logistic_fitted`. Fill out those parts indicated with `...`, uncomment the corresponding code in the cell below, and run it.*"
   ]
  },
  {
   "cell_type": "code",
   "execution_count": null,
   "metadata": {
    "deletable": false,
    "nbgrader": {
     "cell_type": "code",
     "checksum": "20bdc8bd4f8629020e235a6462c3e3ed",
     "grade": false,
     "grade_id": "cell-f2abdb04354c7ed4",
     "locked": false,
     "schema_version": 3,
     "solution": true,
     "task": false
    }
   },
   "outputs": [],
   "source": [
    "# default_logistic_fitted <- default_logistic_multiple %>%\n",
    "#               ...() %>%\n",
    "#               dplyr::select(colnames(Default),.fitted) %>%\n",
    "#               mutate(pred_prob = ...$fitted,\n",
    "#                        pred_line = ...,\n",
    "#                        pred_odds = ...(.fitted))\n",
    "\n",
    "# your code here\n",
    "fail() # No Answer - remove if you provide an answer\n",
    "\n",
    "head(default_logistic_fitted,3)"
   ]
  },
  {
   "cell_type": "code",
   "execution_count": null,
   "metadata": {
    "deletable": false,
    "editable": false,
    "nbgrader": {
     "cell_type": "code",
     "checksum": "402ed14a7381dc831e290b18bf801268",
     "grade": true,
     "grade_id": "cell-e8c71c2e6f1abf33",
     "locked": true,
     "points": 1,
     "schema_version": 3,
     "solution": false,
     "task": false
    }
   },
   "outputs": [],
   "source": [
    "test_1.11()"
   ]
  },
  {
   "cell_type": "markdown",
   "metadata": {
    "deletable": false,
    "editable": false,
    "nbgrader": {
     "cell_type": "markdown",
     "checksum": "b9880ac9ab7957c1d072c74071055193",
     "grade": false,
     "grade_id": "cell-b23e5f083528b891",
     "locked": true,
     "schema_version": 3,
     "solution": false,
     "task": false
    }
   },
   "source": [
    "**Question 1.12**\n",
    "<br>{points: 1}\n",
    "\n",
    "Based on the results obtained in `default_logistic_fitted`, which of the following observations are correct?\n",
    "\n",
    "**A.** The column `.fitted` in the output of `augment()` contains the predicted probabilities of default for each customer in the dataset.\n",
    "\n",
    "**B.** The column `.fitted` in the output of `augment()` contains the predicted odds of default for each customer in the dataset.\n",
    "\n",
    "**C.** The element `fitted` in `default_logistic_multiple` contains the predicted probabilities of default for each customer in the dataset.\n",
    "\n",
    "**D.** The element `fitted` in `default_logistic_multiple` contains the predicted odds of default for each customer in the dataset.\n",
    "\n",
    "**E.** The predicted odds can be calculated from `default_logistic_multiple$fitted` or `.fitted`.\n",
    "\n",
    "**F.** The column `.fitted` computes the linear prediction, used in the logistic regression to model the log odds.\n",
    "\n",
    "*Assign your answers to the object answer1.12. Your answers must be included in a single string indicating the correct options in alphabetical order and surrounded by quotes (e.g., \"ABC\" indicates you are selecting the first three options).*"
   ]
  },
  {
   "cell_type": "code",
   "execution_count": null,
   "metadata": {
    "deletable": false,
    "nbgrader": {
     "cell_type": "code",
     "checksum": "dfb96f34d9cc2ea39e095f41644867af",
     "grade": false,
     "grade_id": "cell-3e093135c0fcf704",
     "locked": false,
     "schema_version": 3,
     "solution": true,
     "task": false
    }
   },
   "outputs": [],
   "source": [
    "# answer1.12 <- \n",
    "\n",
    "# your code here\n",
    "fail() # No Answer - remove if you provide an answer"
   ]
  },
  {
   "cell_type": "code",
   "execution_count": null,
   "metadata": {
    "deletable": false,
    "editable": false,
    "nbgrader": {
     "cell_type": "code",
     "checksum": "ba0225b8ae0260273bbfb00bc81022c7",
     "grade": true,
     "grade_id": "cell-77629a8af22504fb",
     "locked": true,
     "points": 0,
     "schema_version": 3,
     "solution": false,
     "task": false
    }
   },
   "outputs": [],
   "source": [
    "test_1.12()"
   ]
  },
  {
   "cell_type": "markdown",
   "metadata": {
    "deletable": false,
    "editable": false,
    "nbgrader": {
     "cell_type": "markdown",
     "checksum": "9462cfcb46d8d2c668a5d9c91453853a",
     "grade": false,
     "grade_id": "cell-f15bc64c9a4ac575",
     "locked": true,
     "schema_version": 3,
     "solution": false,
     "task": false
    }
   },
   "source": [
    "### Residuals\n",
    "\n",
    "Different residuals have been proposed for GLM. The **raw residuals** are, as usual, the differences between the observed and the fitted values. \n",
    "\n",
    "However, in most GLMs the observations have different variances. Thus, residuals are not comparable and should be adjusted. Below is a list of other residuals suggested for GLMs.\n",
    "\n",
    "Definitions of each of these type of residuals can be found [here](https://online.stat.psu.edu/stat501/lesson/15/15.4) "
   ]
  },
  {
   "cell_type": "markdown",
   "metadata": {
    "deletable": false,
    "editable": false,
    "nbgrader": {
     "cell_type": "markdown",
     "checksum": "f9433014a87da0fc4c5ca93d2c7644b3",
     "grade": false,
     "grade_id": "cell-9445b437cd691e5a",
     "locked": true,
     "schema_version": 3,
     "solution": false,
     "task": false
    }
   },
   "source": [
    "**Question 1.13: Residuals**\n",
    "<br>{points: 1}\n",
    "\n",
    "Fitted values are important to compute *residuals*, the difference between the observed and the predicted values by the estimated model. We'll learn more about residuals later in the course. But, which type of fitted values we need to use??\n",
    "\n",
    "Since the observations are binary values, 0 and 1, the residuals are calculated using the predicted probabilities, i.e., `your_model$fitted`. However, there are many type of residuals as well to account for the difference in variance of each response.\n",
    "\n",
    "In this question, we'll focus on the *residuals*.\n",
    "\n",
    "The `augment()` function also computes residuals, but which version?? Let's start by getting the residuals computed by `augment()`.\n",
    "\n",
    "Next, we will add the residuals using the function `residuals` on the estimated model `default_logistic_multiple`. Note that this function computes different type of residuals, add type `response`, `pearson` and `deviance` to the tibble.\n",
    "\n",
    "Compute the raw and the Pearson's residuals by hand to check your understanding.\n",
    "\n",
    "Finally, add the standardized residuals using the function `rstandard` on the estimated model `default_logistic_multiple`.\n",
    "\n",
    "*Assign your answer to the object `default_logistic_residuals`. Fill out those parts indicated with `...`, uncomment the corresponding code in the cell below, and run it.*"
   ]
  },
  {
   "cell_type": "code",
   "execution_count": null,
   "metadata": {
    "deletable": false,
    "nbgrader": {
     "cell_type": "code",
     "checksum": "5690c862cada6d5e718e11b831027be2",
     "grade": false,
     "grade_id": "cell-6ce6194c6b140cb4",
     "locked": false,
     "schema_version": 3,
     "solution": true,
     "task": false
    }
   },
   "outputs": [],
   "source": [
    "# default_logistic_residuals <- ... %>%\n",
    "#               ...() %>%\n",
    "#               dplyr::select(colnames(Default),.fitted, .resid,.std.resid) %>%\n",
    "#               mutate(pred_prob = ...,\n",
    "#                      response = ...(... == \"Yes\", 1, 0),\n",
    "#                      resid_raw = residuals(..., type = \"response\"),\n",
    "#                      raw_byhand = ... - ...,\n",
    "#                      resid_deviance = residuals(default_logistic_multiple),\n",
    "#                      resid_pearson =...(default_logistic_multiple,\"...\"),\n",
    "#                      pearson_byhand = .../sqrt(...),\n",
    "#                      resid_standardized =rstandard(...))\n",
    "\n",
    "# your code here\n",
    "fail() # No Answer - remove if you provide an answer\n",
    "\n",
    "head(default_logistic_residuals,3)"
   ]
  },
  {
   "cell_type": "code",
   "execution_count": null,
   "metadata": {
    "deletable": false,
    "editable": false,
    "nbgrader": {
     "cell_type": "code",
     "checksum": "4dfdd8d8506d06262d7e5e8c9b82f2c7",
     "grade": true,
     "grade_id": "cell-04c013a2caadfc9a",
     "locked": true,
     "points": 1,
     "schema_version": 3,
     "solution": false,
     "task": false
    }
   },
   "outputs": [],
   "source": [
    "test_1.13()"
   ]
  },
  {
   "cell_type": "markdown",
   "metadata": {
    "deletable": false,
    "editable": false,
    "nbgrader": {
     "cell_type": "markdown",
     "checksum": "2bd1e46edce6a910d621bb8042a4998a",
     "grade": false,
     "grade_id": "cell-3d0079f77b35f78e",
     "locked": true,
     "schema_version": 3,
     "solution": false,
     "task": false
    }
   },
   "source": [
    "**Question 1.14**\n",
    "<br>{points: 1}\n",
    "\n",
    "Based on the results obtained in `default_logistic_residuals`, which of the following observations are correct?\n",
    "\n",
    "**A.** The column `.resid` in the output of `augment()` contains the values of the response minus the predicted probabilities of default for each customer in the dataset.\n",
    "\n",
    "**B.** The function `residuals()` computes as a default the values of the response minus the predicted probabilities of default for each customer in the dataset.\n",
    "\n",
    "**C.** The column `.resid` in the output of `augment()` contains the values of deviance residuals.\n",
    "\n",
    "**D.** The function `residuals()` computes as a default the values of the deviance residuals.\n",
    "\n",
    "**E.** The raw and Pearson's residuals can be computed using function `residuals()` changing the argument `type`.\n",
    "\n",
    "*Assign your answers to the object answer1.14. Your answers must be included in a single string indicating the correct options in alphabetical order and surrounded by quotes (e.g., \"ABC\" indicates you are selecting the first three options).*"
   ]
  },
  {
   "cell_type": "code",
   "execution_count": null,
   "metadata": {
    "deletable": false,
    "nbgrader": {
     "cell_type": "code",
     "checksum": "b39fdde092a23b811f3cb43981242a0f",
     "grade": false,
     "grade_id": "cell-5bf3f361d98c9756",
     "locked": false,
     "schema_version": 3,
     "solution": true,
     "task": false
    }
   },
   "outputs": [],
   "source": [
    "# answer1.14 <- \n",
    "\n",
    "# your code here\n",
    "fail() # No Answer - remove if you provide an answer"
   ]
  },
  {
   "cell_type": "code",
   "execution_count": null,
   "metadata": {
    "deletable": false,
    "editable": false,
    "nbgrader": {
     "cell_type": "code",
     "checksum": "5c806ba22e21b192aa36368297750556",
     "grade": true,
     "grade_id": "cell-06ffa038846b6160",
     "locked": true,
     "points": 1,
     "schema_version": 3,
     "solution": false,
     "task": false
    }
   },
   "outputs": [],
   "source": [
    "test_1.14()"
   ]
  },
  {
   "cell_type": "markdown",
   "metadata": {
    "deletable": false,
    "editable": false,
    "nbgrader": {
     "cell_type": "markdown",
     "checksum": "33f2b6b790a6e3698ff7cb05da7b263f",
     "grade": false,
     "grade_id": "cell-72d7adf788ca7800",
     "locked": true,
     "schema_version": 3,
     "solution": false,
     "task": false
    }
   },
   "source": [
    "**Question 1.15**\n",
    "<br>{points: 1}\n",
    "\n",
    "The plot of the residuals are usually hard to interpret for models with discrete responses. Thus, plots with binned residuals have been proposed instead.\n",
    "\n",
    "Use the function `binnedplot()` in the package `arm` to plot a binnedplot of the residuals. Call the plot `residual_plot`.\n",
    "\n",
    "> Note 1: the argument `nclass` regulates the number of bins used. In this questions we are using the default argument `nclass` but you can try to change it other values, e.g., `nclass = 10` will show less points.\n",
    "\n",
    "> Note 2: it is recommended to use the residuals and the fitted values in the scale of the response for this plot, i.e., raw residuals and predicted probabilities.\n",
    "\n",
    "*Fill out those parts indicated with `...`, uncomment the corresponding code in the cell below, and run it.*"
   ]
  },
  {
   "cell_type": "code",
   "execution_count": null,
   "metadata": {
    "deletable": false,
    "nbgrader": {
     "cell_type": "code",
     "checksum": "5d20f633750871f189618373dd808182",
     "grade": false,
     "grade_id": "cell-0db8f9137cf18e4a",
     "locked": false,
     "schema_version": 3,
     "solution": true,
     "task": false
    }
   },
   "outputs": [],
   "source": [
    "# y_resid <- default_logistic_residuals$...\n",
    "# x_fit <- ...\n",
    "\n",
    "# residual_plot <- ...(x_fit, y_resid)\n",
    "\n",
    "# your code here\n",
    "fail() # No Answer - remove if you provide an answer\n",
    "\n",
    "residual_plot"
   ]
  },
  {
   "cell_type": "code",
   "execution_count": null,
   "metadata": {
    "deletable": false,
    "editable": false,
    "nbgrader": {
     "cell_type": "code",
     "checksum": "1357f155cb8918a842c9e2a570540112",
     "grade": true,
     "grade_id": "cell-e02404caf86d64a0",
     "locked": true,
     "points": 1,
     "schema_version": 3,
     "solution": false,
     "task": false
    }
   },
   "outputs": [],
   "source": [
    "test_1.15()"
   ]
  },
  {
   "cell_type": "markdown",
   "metadata": {
    "deletable": false,
    "editable": false,
    "nbgrader": {
     "cell_type": "markdown",
     "checksum": "1d1d7afb9386244cb64e37029a21e4b4",
     "grade": false,
     "grade_id": "cell-5d4b54303734b4c1",
     "locked": true,
     "schema_version": 3,
     "solution": false,
     "task": false
    }
   },
   "source": [
    "### Overdispersion\n",
    "\n",
    "The variance of a binary response variable is a function of the mean: $p(1-p)$. This means that the estimate of the mean also provides an estimate of the variance of the response. \n",
    "\n",
    "Since the logistic regression is built assuming that the response is *Bernoulli*, the estimated $\\hat{p}$ conditions the estimated variance of the response to be $\\hat{p}(1-\\hat{p})$.  \n",
    "\n",
    "Unfortunately, in real applications, even in situations where the model seems to be estimating the mean well, the data's variability is not quite compatible with the model's assumed variance. <font style='color: darkred'>This misspecification in the variance affects the SE of the coefficients, not their estimates.</font>\n",
    "\n",
    "A way around this problem is to estimate a dispersion parameter, usually called $\\phi$, to correct the standard error of our estimators. An easy implementation is to change the `family` argument to a `quasibinomial`. Let's see an example.  "
   ]
  },
  {
   "cell_type": "code",
   "execution_count": null,
   "metadata": {
    "deletable": false,
    "editable": false,
    "nbgrader": {
     "cell_type": "code",
     "checksum": "535a3254f3a0601d0798b0dfd7fd636d",
     "grade": false,
     "grade_id": "cell-5d6361d8c9695383",
     "locked": true,
     "schema_version": 3,
     "solution": false,
     "task": false
    },
    "tags": []
   },
   "outputs": [],
   "source": [
    "default_logistic_quasi <- summary(glm(\n",
    "    formula = default ~ student + balance + income,\n",
    "    data = Default,\n",
    "    family = quasibinomial))\n",
    "\n",
    "default_logistic_quasi"
   ]
  },
  {
   "cell_type": "code",
   "execution_count": null,
   "metadata": {
    "deletable": false,
    "editable": false,
    "nbgrader": {
     "cell_type": "code",
     "checksum": "c681a715d63d0564e7c7db696ac3ae45",
     "grade": false,
     "grade_id": "cell-6b7a50e04442a8c2",
     "locked": true,
     "schema_version": 3,
     "solution": false,
     "task": false
    }
   },
   "outputs": [],
   "source": [
    "#Run this cell for a reference to previous model\n",
    "tidy(default_logistic_multiple)"
   ]
  },
  {
   "cell_type": "markdown",
   "metadata": {
    "deletable": false,
    "editable": false,
    "nbgrader": {
     "cell_type": "markdown",
     "checksum": "bd1173f92fd0293ad4be89a638b9d1a9",
     "grade": false,
     "grade_id": "cell-4881470a23e238d6",
     "locked": true,
     "schema_version": 3,
     "solution": false,
     "task": false
    }
   },
   "source": [
    "**Question 1.16**\n",
    "<br>{points: 1}\n",
    "\n",
    "Compare the estimated coefficients and the standard errors of the regression coefficients of the models `default_logistic_multiple` and `default_logistic_quasi`. Have these changed? \n",
    "\n",
    "What is the estimated overdispersion parameter in this case? Would you consider the original model `default_logistic_multiple` appropriate based on the new results?"
   ]
  },
  {
   "cell_type": "markdown",
   "metadata": {
    "deletable": false,
    "jp-MarkdownHeadingCollapsed": true,
    "nbgrader": {
     "cell_type": "markdown",
     "checksum": "0caa06f88d1043f15a4ab972ead7364f",
     "grade": true,
     "grade_id": "cell-cc038906170f83f4",
     "locked": false,
     "points": 1,
     "schema_version": 3,
     "solution": true,
     "task": false
    }
   },
   "source": [
    "> *Your answer goes here.*\n",
    "\n",
    "DOUBLE CLICK TO EDIT **THIS CELL** AND REPLACE THIS TEXT WITH YOUR ANSWER."
   ]
  }
 ],
 "metadata": {
  "jupytext": {
   "formats": "ipynb,Rmd"
  },
  "kernelspec": {
   "display_name": "R",
   "language": "R",
   "name": "ir"
  },
  "language_info": {
   "codemirror_mode": "r",
   "file_extension": ".r",
   "mimetype": "text/x-r-source",
   "name": "R",
   "pygments_lexer": "r",
   "version": "4.3.3"
  },
  "latex_envs": {
   "LaTeX_envs_menu_present": true,
   "autoclose": false,
   "autocomplete": true,
   "bibliofile": "biblio.bib",
   "cite_by": "apalike",
   "current_citInitial": 1,
   "eqLabelWithNumbers": true,
   "eqNumInitial": 1,
   "hotkeys": {
    "equation": "Ctrl-E",
    "itemize": "Ctrl-I"
   },
   "labels_anchors": false,
   "latex_user_defs": false,
   "report_style_numbering": false,
   "user_envs_cfg": false
  }
 },
 "nbformat": 4,
 "nbformat_minor": 4
}
