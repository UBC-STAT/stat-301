{
 "cells": [
  {
   "cell_type": "markdown",
   "metadata": {
    "deletable": false,
    "editable": false,
    "nbgrader": {
     "cell_type": "markdown",
     "checksum": "80b926af71282a048549461ee88d1d3a",
     "grade": false,
     "grade_id": "cell-f1e1d845873036f4",
     "locked": true,
     "schema_version": 3,
     "solution": false,
     "task": false
    }
   },
   "source": [
    "# Worksheet 10: Classifiers as an Important Class of Predictive Models"
   ]
  },
  {
   "cell_type": "markdown",
   "metadata": {
    "deletable": false,
    "editable": false,
    "nbgrader": {
     "cell_type": "markdown",
     "checksum": "dc4f5893449ed61999f103d5e845b3e2",
     "grade": false,
     "grade_id": "cell-82d9926086d47a80",
     "locked": true,
     "schema_version": 3,
     "solution": false,
     "task": false
    }
   },
   "source": [
    "#### Lecture and Tutorial Learning Goals:\n",
    "After completing this week's lecture and tutorial work, you will be able to:\n",
    "\n",
    "1. Give an example of a research question that requires a predictive model to predict classes on new observations.\n",
    "2. Write a computer script to perform model selection using ridge and LASSO regressions to fit a logistic regression useful for predictive modeling.\n",
    "3. List model metrics that are suitable to evaluate predicted classes given by a predictive model with binary responses (e.g., Accuracy, Precision, Sensitivity, Specificity, Cohen's kappa).\n",
    "4. Write a computer script to compute these model metrics. Interpret and communicate the results from that computer script."
   ]
  },
  {
   "cell_type": "code",
   "execution_count": null,
   "metadata": {
    "deletable": false,
    "editable": false,
    "nbgrader": {
     "cell_type": "code",
     "checksum": "db96f184cdf520863faf43ffe773c260",
     "grade": false,
     "grade_id": "cell-a2a153352bc44a68",
     "locked": true,
     "schema_version": 3,
     "solution": false,
     "task": false
    },
    "tags": []
   },
   "outputs": [],
   "source": [
    "# Run this cell before continuing.\n",
    "library(tidyverse)\n",
    "library(caret)\n",
    "library(pROC)\n",
    "library(boot)\n",
    "source(\"tests_worksheet_10.R\")"
   ]
  },
  {
   "cell_type": "markdown",
   "metadata": {
    "deletable": false,
    "editable": false,
    "jp-MarkdownHeadingCollapsed": true,
    "nbgrader": {
     "cell_type": "markdown",
     "checksum": "cd5a7e3af167bf4e4a6abe6d668b4476",
     "grade": false,
     "grade_id": "cell-d49da5ef86c90dee",
     "locked": true,
     "schema_version": 3,
     "solution": false,
     "task": false
    },
    "tags": []
   },
   "source": [
    "## Predicting classes\n",
    "\n",
    "In previous weeks, we have focused more on the inferential aspects of the models. This week, we are switching our focus to prediction since in many situations the inference is not a priority. \n",
    "\n",
    "When diagnosing a disease, a doctor obtains the patient's medical history and some contextual information (e.g., profession, age, has the patient travelled abroad? etc.), wich combined with some tests results, allows the doctor to make a diagnosis. \n",
    "\n",
    "A priori, the patient doesn't care how exactly the doctor made the diagnosis. For example, did the doctor give more importance to the patient's age? or maybe to the result of a blood test? or even a complex combination of those two? Whatever! As long as the diagnosis is correct.\n",
    "\n",
    "However, to analyze whether the doctor's process (or *model*) to make the diagnosis is reliable, we must consider different aspects. For example,\n",
    "\n",
    "- Is the doctor able to positively diagnose a high percentage of sick patients? (*sensitivity*)\n",
    "- Is the doctor able to correctly identify a high percentage of non-sick patients? (*specificity*)\n",
    "- If the doctor says that a patient is sick, is there a high chance that the patient is sick? (*precision*)\n",
    "- Considering all the doctor's positive and negative diagnoses, is the doctor right in most cases? (*accuracy*)\n",
    "\n",
    "At first glance, looking at all these aspects might look redundant. But let's try to understand why it is not. \n",
    "\n",
    "For example, \n",
    "\n",
    "- If the doctors always said a patient was sick, all the sick patients would be diagnosed. Therefore, the doctor would have great *sensitivity*. However, this doesn't seem very helpful, right? This would be reflected by the doctor's precision.\n",
    "- On the other hand, if the doctor only diagnoses patients as sick if there's overwhelming evidence, then the *precision* would be quite high. However, the *sensitivity* would be low, i.e., many sick patients wouldn't be diagnosed.\n",
    "- Imagine a very rare disease. Say 1 case in 100K people. If the doctor always says that the patient is not sick of that disease, then the accuracy will still be pretty high because the part he is getting wrong is quite small. Nonetheless, quite important! \n",
    "\n",
    "We are going to define these metrics later in the worksheet; this is just a motivation to show you that, for classification problems, only one metric might not be enough to give you the whole picture. "
   ]
  },
  {
   "cell_type": "markdown",
   "metadata": {
    "deletable": false,
    "editable": false,
    "nbgrader": {
     "cell_type": "markdown",
     "checksum": "9096f0b7629c446bbce42ee7d59d1ba2",
     "grade": false,
     "grade_id": "cell-9be71f65643c5906",
     "locked": true,
     "schema_version": 3,
     "solution": false,
     "task": false
    },
    "tags": []
   },
   "source": [
    "## 1. Prediction in Logistic Regression\n",
    "\n",
    "In previous weeks, we introduced logistic regression as a generative model for binary responses. We have already used this model for inferential purposes. Nonetheless, this model can also be used **to predict** the actual response. \n",
    "\n",
    "Recall that the response in a logistic regression is binary (e.g., sucess vs failure) and that we model a *function of the (conditional) probability of success* with a linear component. Thus, the predicted value of the logistic regression is a predicted probability $\\hat{p}_i$\n",
    "\n",
    "> or the predicted odds or log-odds \n",
    "\n",
    "\n",
    "#### Logistic Regression as a Classifier\n",
    "\n",
    "However, <font color='darkred'>**the predicted probability can be used to predict the actual response, a class**</font>. \n",
    "\n",
    "> For example, if the predicted probability of having cancer is 0.8, you can predict that the patient has cancer. \n",
    "\n",
    "Thus, the **logistic regression** can be used as a *classifiers* to predict a *class*. In other words, we can use the estimated logistic model (via a training set) to **classify** new observations from a test set. \n",
    "\n",
    "To create a classifier from a logistic regression we need to set a **threshold** to define the classes.\n",
    "\n",
    "For example: \n",
    "\n",
    "$$\n",
    "\\hat{Y}_i =\n",
    "\\begin{cases}\n",
    "1 \\; \\; \\; \\; \\mbox{if $\\hat{p}_i \\geq 0.5$},\\\\\n",
    "0 \\; \\; \\; \\; \\mbox{if $\\hat{p}_i < 0.5$.}\n",
    "\\end{cases}\n",
    "$$\n",
    "\n",
    "> following with the example, the patient will be diagnosed to have cancer if the predicted probability of having cancer is greater or equal than $0.5$.\n",
    "\n",
    "Of course, this is only a prediction and the patient may not actually have cancer. The difference between the actual and the predicted class is the *error* of the classifier.\n",
    "\n",
    "#### Error in Classification\n",
    "\n",
    "To check prediction accuracy in classification, we cannot use metrics such as the **Root Mean Squared Error (R-MSE)** as in multiple linear regression since the error can not be measured with the Euclidean distance. \n",
    "\n",
    "Recall that in `worksheet_07` we defined the deviance residuals, which are based on the in-sample predicted values, to assess the fit of a logistic regression. However, our focus now is not on how the model fit the data but how the model classifies! Thus, we need **new metrics** to assess error in classification problems.\n",
    "\n",
    "As we noted in the previous examples, different metrics can be used, which we will define and explore in this worksheet. "
   ]
  },
  {
   "cell_type": "markdown",
   "metadata": {
    "deletable": false,
    "editable": false,
    "nbgrader": {
     "cell_type": "markdown",
     "checksum": "283e77651238f23dc8824a3f7df94268",
     "grade": false,
     "grade_id": "cell-de7ac4434bc7a15a",
     "locked": true,
     "schema_version": 3,
     "solution": false,
     "task": false
    }
   },
   "source": [
    "#### Dataset\n",
    "\n",
    "For this worksheet, we will use the data frame `breast_cancer`. It is the Wisconsin Diagnostic Breast Cancer dataset ([Mangasarian et al., 1995](http://ubc.summon.serialssolutions.com/2.0.0/link/0/eLvHCXMwlV1Nb9QwEB2xPSA4tHQLohRKDoDgsDSJndiRKlApVBx74PNk2bGDKui2jbf8Ff4uM46tbpZKFZdIO55NvNLLeLx-8waAla_z2UpMEAZXtlZKzllZGSk7WTBdtDa3ts6N61aoOnUqjSGWZaAJhkN9zJfML7dHCi-yfnt-MaPmUXTIGjtpTGAi2cDr-rKkvFsPbQwYBpyafxsvQMTDbPEOVxE5yQSH8iZKHH2iKv4TrsMadLQBKk03kU9WagPHAo___7vuwXpMT7ODAU-bcMvNp3A7seOnsJG6QGQxKEzh7pKk4RQ2o91nL6Oi9ast-LN_qvufb94RAX6xvxc-ZIPtkFDXj23vB_rfiR-b9dxmx_3ZdUO_T_TYgFtsfIXHtuOBinaK84wD9-Hz0YdPhx9nsSPEDPeBJWmp6pJ3VS1tzlvR8Ua6WljWlm3RaMkMs52R1jmJWGu4a6wwtugaaauGtQWaH8Da_GzuHkJWVlpwbgpthKOz3aZsmeRWC9mJxnG7DS8STNT5IPyhaMOEO0xF_WkUZ4qrSuTomEB0k-MzgpiK3UXx4un_F_9DX3qvDjCPw2yPMbxfcCPwLXrd6lgngdMmqa5lx6cJqyoiNTzQLz3xeRq4YWZbAYxXXgGJ27CT8K5iZPOqJEFAUnl8dP2XduDOUPVPjObHsLboL92TIGmxCxPx9TteMcDshnf0L2aRR50)). It has a **binary** response `target`: whether the tumour is `malignant` or `benign`. Hence, the binary response $Y_i$ is mathematically set as:\n",
    "\n",
    "$$\n",
    "Y_i =\n",
    "\\begin{cases}\n",
    "1 \\; \\; \\; \\; \\mbox{if the $i$th tumour is malignant},\\\\\n",
    "0 \\; \\; \\; \\; \t\\mbox{otherwise.}\n",
    "\\end{cases}\n",
    "$$\n",
    "\n",
    "The data frame `breast_cancer` contains 569 observations from a digitized image of a breast mass' fine needle aspirate (FNA). The dataset details 30 real-valued characteristics (i.e., continuous input variables) plus the binary response and ID number. **We will only work with 16 input variables**."
   ]
  },
  {
   "cell_type": "code",
   "execution_count": null,
   "metadata": {
    "deletable": false,
    "editable": false,
    "nbgrader": {
     "cell_type": "code",
     "checksum": "5e57a241e0369bef028403a44ff65a5c",
     "grade": false,
     "grade_id": "cell-58d728f83cde45d6",
     "locked": true,
     "schema_version": 3,
     "solution": false,
     "task": false
    }
   },
   "outputs": [],
   "source": [
    "breast_cancer <- read_csv(\"data/breast_cancer.csv\") %>%\n",
    "  select(-c(\n",
    "    mean_area, area_error, concavity_error, concave_points_error, worst_radius, worst_texture, worst_perimeter,\n",
    "    worst_area, worst_smoothness, worst_compactness, worst_concavity, worst_concave_points, worst_symmetry,\n",
    "    worst_fractal_dimension\n",
    "  ))"
   ]
  },
  {
   "cell_type": "markdown",
   "metadata": {
    "deletable": false,
    "editable": false,
    "nbgrader": {
     "cell_type": "markdown",
     "checksum": "defd3801b3ece0618703af3ea5bd27ab",
     "grade": false,
     "grade_id": "cell-fed4931d39f05ba2",
     "locked": true,
     "schema_version": 3,
     "solution": false,
     "task": false
    }
   },
   "source": [
    "**Question 1.0**\n",
    "<br>{points: 1}\n",
    "\n",
    "Replace the levels `malignant` and `benign` for `target` in the dataset `breast_cancer_train` with the numerical values `1` and `0`, respectively.\n",
    "\n",
    "*Fill out those parts indicated with `...`, uncomment the corresponding code in the cell below, and run it.*"
   ]
  },
  {
   "cell_type": "code",
   "execution_count": null,
   "metadata": {
    "deletable": false,
    "nbgrader": {
     "cell_type": "code",
     "checksum": "dc82bacbaeb57af9c96e8bfa5d5ef699",
     "grade": false,
     "grade_id": "cell-86a9d67fa594ae9e",
     "locked": false,
     "schema_version": 3,
     "solution": true,
     "task": false
    }
   },
   "outputs": [],
   "source": [
    "# breast_cancer <- \n",
    "#     breast_cancer %>% \n",
    "#     ...(... = ...(..., 1, 0))\n",
    "\n",
    "# your code here\n",
    "fail() # No Answer - remove if you provide an answer\n",
    "\n",
    "head(breast_cancer)"
   ]
  },
  {
   "cell_type": "code",
   "execution_count": null,
   "metadata": {
    "deletable": false,
    "editable": false,
    "nbgrader": {
     "cell_type": "code",
     "checksum": "7d536288cf07603e6e0c5a051a8f6b04",
     "grade": true,
     "grade_id": "cell-6e2885a75ccc8ce2",
     "locked": true,
     "points": 1,
     "schema_version": 3,
     "solution": false,
     "task": false
    }
   },
   "outputs": [],
   "source": [
    "test_1.0()"
   ]
  },
  {
   "cell_type": "markdown",
   "metadata": {
    "deletable": false,
    "editable": false,
    "nbgrader": {
     "cell_type": "markdown",
     "checksum": "db3c36afb4a8517bb536810b71e40124",
     "grade": false,
     "grade_id": "cell-eaf6ea583cad0ee1",
     "locked": true,
     "schema_version": 3,
     "solution": false,
     "task": false
    }
   },
   "source": [
    "**Question 1.1**\n",
    "<br>{points: 2}\n",
    "\n",
    "Since we will work with predictive modelling, let us use the *holdout method* in `breast_cancer` to produce two datasets: one for training and another for testing. Therefore, start by randomly splitting `breast_cancer` in two sets on a 70-30% basis: `breast_cancer_train` (70% of the data) and `breast_cancer_test` (the remaining 30%). You can do the following:\n",
    "\n",
    "1. Use the function [`slice_sample()`](https://dplyr.tidyverse.org/reference/slice.html) to create `breast_cancer_train` (sampling without replacement) with 70\\% of the observations coming from `breast_cancer`.\n",
    "2. Use [`anti_join()`](https://dplyr.tidyverse.org/reference/filter-joins.html) with `breast_cancer` and `breast_cancer_train` to create `breast_cancer_test` by column `ID`.\n",
    "\n",
    "*Fill out those parts indicated with `...`, uncomment the corresponding code in the cell below, and run it.*"
   ]
  },
  {
   "cell_type": "code",
   "execution_count": null,
   "metadata": {
    "deletable": false,
    "nbgrader": {
     "cell_type": "code",
     "checksum": "f7c9bef3e6234a36db92c27241730e5d",
     "grade": false,
     "grade_id": "cell-8c999de0b7705de1",
     "locked": false,
     "schema_version": 3,
     "solution": true,
     "task": false
    }
   },
   "outputs": [],
   "source": [
    "set.seed(20211130) # Do not change this\n",
    "\n",
    "# breast_cancer_train <- \n",
    "#     ... %>% \n",
    "#     ...(prop = ...)\n",
    "\n",
    "# breast_cancer_test <- \n",
    "#     ... %>% \n",
    "#     ...(..., by = \"ID\")\n",
    "\n",
    "# your code here\n",
    "fail() # No Answer - remove if you provide an answer\n",
    "\n",
    "head(breast_cancer_train)\n",
    "nrow(breast_cancer_train)"
   ]
  },
  {
   "cell_type": "code",
   "execution_count": null,
   "metadata": {
    "deletable": false,
    "editable": false,
    "nbgrader": {
     "cell_type": "code",
     "checksum": "e808d48568666d9860f1b31c5d867617",
     "grade": true,
     "grade_id": "cell-9990adb5e3448aca",
     "locked": true,
     "points": 1,
     "schema_version": 3,
     "solution": false,
     "task": false
    }
   },
   "outputs": [],
   "source": [
    "test_1.1_partI()"
   ]
  },
  {
   "cell_type": "code",
   "execution_count": null,
   "metadata": {
    "deletable": false,
    "editable": false,
    "nbgrader": {
     "cell_type": "code",
     "checksum": "38200b4806f86a7c72daadcd413e49de",
     "grade": true,
     "grade_id": "cell-e1748249da4b53b1",
     "locked": true,
     "points": 1,
     "schema_version": 3,
     "solution": false,
     "task": false
    }
   },
   "outputs": [],
   "source": [
    "test_1.1_partII()"
   ]
  },
  {
   "cell_type": "code",
   "execution_count": null,
   "metadata": {
    "deletable": false,
    "editable": false,
    "nbgrader": {
     "cell_type": "code",
     "checksum": "b52b631ede24612bc0816164d2b0ccf3",
     "grade": false,
     "grade_id": "cell-a94a43ef4039f9fc",
     "locked": true,
     "schema_version": 3,
     "solution": false,
     "task": false
    }
   },
   "outputs": [],
   "source": [
    "# Run this cell to remove the variable \"ID\"\n",
    "\n",
    "breast_cancer_train <- breast_cancer_train  %>% select(-ID)\n",
    "breast_cancer_test <- breast_cancer_test  %>% select(-ID)"
   ]
  },
  {
   "cell_type": "markdown",
   "metadata": {
    "deletable": false,
    "editable": false,
    "nbgrader": {
     "cell_type": "markdown",
     "checksum": "62cac317cab07152f5114591536be46e",
     "grade": false,
     "grade_id": "cell-8395793c47962a29",
     "locked": true,
     "schema_version": 3,
     "solution": false,
     "task": false
    }
   },
   "source": [
    "**Question 1.2**\n",
    "<br>{points: 1}\n",
    "\n",
    "Using the `glm` function, fit a logistic regression model. The model's response will be `target` and the rest of the variables will be inputs. Call the resulting object `breast_cancer_logistic_model`.\n",
    "\n",
    "**Note**: You need to write most of this code cell. Go back to `worksheet_04` if you don't recall how to fit a logistic model.\n",
    "\n",
    "*Fill out those parts indicated with `...`, uncomment the corresponding code in the cell below, and run it.*"
   ]
  },
  {
   "cell_type": "code",
   "execution_count": null,
   "metadata": {
    "deletable": false,
    "nbgrader": {
     "cell_type": "code",
     "checksum": "856e2c25a4175df72d7425e8bcb6d145",
     "grade": false,
     "grade_id": "cell-5bc9c77c17efb184",
     "locked": false,
     "schema_version": 3,
     "solution": true,
     "task": false
    }
   },
   "outputs": [],
   "source": [
    "# breast_cancer_logistic_model <- \n",
    "#     ...\n",
    "\n",
    "# your code here\n",
    "fail() # No Answer - remove if you provide an answer\n",
    "\n",
    "summary(breast_cancer_logistic_model)"
   ]
  },
  {
   "cell_type": "code",
   "execution_count": null,
   "metadata": {
    "deletable": false,
    "editable": false,
    "nbgrader": {
     "cell_type": "code",
     "checksum": "100e091e4e6ef44edc1be1f303a72f3b",
     "grade": true,
     "grade_id": "cell-4f91f421a400af8f",
     "locked": true,
     "points": 0,
     "schema_version": 3,
     "solution": false,
     "task": false
    }
   },
   "outputs": [],
   "source": [
    "test_1.2()"
   ]
  },
  {
   "cell_type": "markdown",
   "metadata": {},
   "source": [
    "Now that we have an estimated model, we can use it to classify!! We'll start by classifying observations from the training data and checking the **misclassification error rate**. "
   ]
  },
  {
   "cell_type": "markdown",
   "metadata": {
    "deletable": false,
    "editable": false,
    "nbgrader": {
     "cell_type": "markdown",
     "checksum": "bb26b88f986229ab5f979ee92e85aa42",
     "grade": false,
     "grade_id": "cell-e60940adfc8e4698",
     "locked": true,
     "schema_version": 3,
     "solution": false,
     "task": false
    }
   },
   "source": [
    "**Question 1.3**\n",
    "<br>{points: 1}\n",
    "\n",
    "Your job is to create a function called `misclassification_rate` with two input arguments: `y` (the actual class of the data points) and `p.hat` (the predicted probability). \n",
    "\n",
    "- using $0.5$ as a cut-off, the function predicts the class of each observation based on the predicted probabilty `p.hat`\n",
    "\n",
    "- the predicted class is then compared to the actual class to calculate the proportion of misclassification in the sample. \n",
    "\n",
    "> note that a different cutoff can be used depending on the context of the problem\n",
    "\n",
    "Then, use the created function with response variable `target` from `breast_cancer_train` and the (in-sample) predicted values obtained using the function `predict` and the estimated model. \n",
    "\n",
    "> **Tip**: think which `type` argument in the `predict` function you would use in this case?\n",
    "\n",
    "Store the output in an object named `error_rate_train`.\n",
    "\n",
    "*Fill out those parts indicated with `...`, uncomment the corresponding code in the cell below, and run it.*"
   ]
  },
  {
   "cell_type": "code",
   "execution_count": null,
   "metadata": {
    "deletable": false,
    "nbgrader": {
     "cell_type": "code",
     "checksum": "a71d26aff3f9b55e8312fe7f4d61b3ea",
     "grade": false,
     "grade_id": "cell-4d6160f58cf93adb",
     "locked": false,
     "schema_version": 3,
     "solution": true,
     "task": false
    }
   },
   "outputs": [],
   "source": [
    "# misclassification_rate <- function(y, p.hat){\n",
    "#     y_hat <- round(..., 0)\n",
    "#     error_rate <- ...(abs(... - ...))\n",
    "#     return(error_rate)\n",
    "# }\n",
    "\n",
    "# error_rate_train <- \n",
    "#     misclassification_rate(\n",
    "#         ..., \n",
    "#         ...)\n",
    "\n",
    "# your code here\n",
    "fail() # No Answer - remove if you provide an answer\n",
    "\n",
    "error_rate_train"
   ]
  },
  {
   "cell_type": "code",
   "execution_count": null,
   "metadata": {
    "deletable": false,
    "editable": false,
    "nbgrader": {
     "cell_type": "code",
     "checksum": "045e623f2258fe476d9b5aba2714e5e1",
     "grade": true,
     "grade_id": "cell-e46b12ee4d9228f0",
     "locked": true,
     "points": 1,
     "schema_version": 3,
     "solution": false,
     "task": false
    }
   },
   "outputs": [],
   "source": [
    "test_1.3()"
   ]
  },
  {
   "cell_type": "markdown",
   "metadata": {},
   "source": [
    "The training error rate you calculated in the previous exercise will probably underestimate the out-of-sample error (i.e., the error of data never seen by your model). The parameters were estimated based on that same data!! \n",
    "\n",
    "<font color='darkred'>**We can estimate the *out-of-sample* error rate by using cross-validation.**</font>"
   ]
  },
  {
   "cell_type": "markdown",
   "metadata": {
    "deletable": false,
    "editable": false,
    "nbgrader": {
     "cell_type": "markdown",
     "checksum": "8dbf233dc1775c5e0bb6616b9939eceb",
     "grade": false,
     "grade_id": "cell-ea385eb9ec9dcf9f",
     "locked": true,
     "schema_version": 3,
     "solution": false,
     "task": false
    }
   },
   "source": [
    "**Question 1.4**\n",
    "<br>{points: 1}\n",
    "\n",
    "Use the function `cv.glm`, from the package `boot`, to conduct a 10-fold cross-validation. The arguments of this function are:\n",
    "\n",
    "- `glmfit`: the trained model that will be used to predict\n",
    "\n",
    "- `data`: the (test) data you want to predict (not to train the model)\n",
    "\n",
    "- `K`: number of folds for cross-validation\n",
    "\n",
    "- `cost`: function to measure error. For this question, use `misclassification_rate`.\n",
    "\n",
    "**Note**: note that in this question the \"test\" is the training set since the function will use CV to create the test sets (i.e., fold left out) and estimate the misclassification rate.\n",
    "\n",
    "Store the output of the `cv.glm` in an object called `cv_logistic`."
   ]
  },
  {
   "cell_type": "code",
   "execution_count": null,
   "metadata": {
    "deletable": false,
    "nbgrader": {
     "cell_type": "code",
     "checksum": "b9dc4c2913875fc5c6bfd94b27a7e7ec",
     "grade": false,
     "grade_id": "cell-f4a194e828eea4df",
     "locked": false,
     "schema_version": 3,
     "solution": true,
     "task": false
    }
   },
   "outputs": [],
   "source": [
    "set.seed(20211130) # do not change this\n",
    "\n",
    "# cv_logistic <- \n",
    "#     cv.glm(\n",
    "#         glmfit = ..., \n",
    "#         data = ..., \n",
    "#         K = ..., \n",
    "#         cost = ...)\n",
    "\n",
    "# your code here\n",
    "fail() # No Answer - remove if you provide an answer\n",
    "\n",
    "cv_logistic$delta[1]"
   ]
  },
  {
   "cell_type": "code",
   "execution_count": null,
   "metadata": {
    "deletable": false,
    "editable": false,
    "nbgrader": {
     "cell_type": "code",
     "checksum": "2e4f0e6db4cd0fbb1a1c121b28b59ae6",
     "grade": true,
     "grade_id": "cell-c5371c7c365a75df",
     "locked": true,
     "points": 1,
     "schema_version": 3,
     "solution": false,
     "task": false
    }
   },
   "outputs": [],
   "source": [
    "test_1.4()"
   ]
  },
  {
   "cell_type": "markdown",
   "metadata": {
    "deletable": false,
    "editable": false,
    "nbgrader": {
     "cell_type": "markdown",
     "checksum": "242fc8224a98fe0c680211aa6a25db21",
     "grade": false,
     "grade_id": "cell-6eff54123ce5757f",
     "locked": true,
     "schema_version": 3,
     "solution": false,
     "task": false
    }
   },
   "source": [
    "**Question 1.5**\n",
    "<br>{points: 1}\n",
    "\n",
    "True or false?\n",
    "\n",
    "The training error is less than the 10-fold cross validation error.\n",
    "\n",
    "_Assign your answer to an object called `answer1.5`. Your answer should be either \"true\" or \"false\", surrounded by quotes._"
   ]
  },
  {
   "cell_type": "code",
   "execution_count": null,
   "metadata": {
    "deletable": false,
    "nbgrader": {
     "cell_type": "code",
     "checksum": "5f6e2dbdd24ff99974ae83712a0b5ab7",
     "grade": false,
     "grade_id": "cell-ffd3a4810d740603",
     "locked": false,
     "schema_version": 3,
     "solution": true,
     "task": false
    }
   },
   "outputs": [],
   "source": [
    "# answer1.5 <- ...\n",
    "\n",
    "# your code here\n",
    "fail() # No Answer - remove if you provide an answer"
   ]
  },
  {
   "cell_type": "code",
   "execution_count": null,
   "metadata": {
    "deletable": false,
    "editable": false,
    "nbgrader": {
     "cell_type": "code",
     "checksum": "c9e89a65eaa9e92a892d349df976537b",
     "grade": true,
     "grade_id": "cell-e1815efdf47ce9cc",
     "locked": true,
     "points": 1,
     "schema_version": 3,
     "solution": false,
     "task": false
    }
   },
   "outputs": [],
   "source": [
    "test_1.5()"
   ]
  },
  {
   "cell_type": "markdown",
   "metadata": {
    "deletable": false,
    "editable": false,
    "nbgrader": {
     "cell_type": "markdown",
     "checksum": "00ae9ff8d71da578af1ef6a446a36b26",
     "grade": false,
     "grade_id": "cell-353018c79aafc398",
     "locked": true,
     "schema_version": 3,
     "solution": false,
     "task": false
    }
   },
   "source": [
    "**Question 1.6**\n",
    "<br>{points: 1}\n",
    "\n",
    "True or false?\n",
    "\n",
    "The training error will **always** be lower than the cross-validation error. \n",
    "\n",
    "_Assign your answer to an object called `answer1.6`. Your answer should be either \"true\" or \"false\", surrounded by quotes._"
   ]
  },
  {
   "cell_type": "code",
   "execution_count": null,
   "metadata": {
    "deletable": false,
    "nbgrader": {
     "cell_type": "code",
     "checksum": "70682530a0b4ce4f28c638fcbaa39e4e",
     "grade": false,
     "grade_id": "cell-a78dae1a647d3f20",
     "locked": false,
     "schema_version": 3,
     "solution": true,
     "task": false
    }
   },
   "outputs": [],
   "source": [
    "# answer1.6 <- ...\n",
    "\n",
    "# your code here\n",
    "fail() # No Answer - remove if you provide an answer"
   ]
  },
  {
   "cell_type": "code",
   "execution_count": null,
   "metadata": {
    "deletable": false,
    "editable": false,
    "nbgrader": {
     "cell_type": "code",
     "checksum": "98a640fcd64807ab8338028fbf261106",
     "grade": true,
     "grade_id": "cell-7096aa86b0682792",
     "locked": true,
     "points": 1,
     "schema_version": 3,
     "solution": false,
     "task": false
    }
   },
   "outputs": [],
   "source": [
    "test_1.6()"
   ]
  },
  {
   "cell_type": "markdown",
   "metadata": {
    "deletable": false,
    "editable": false,
    "nbgrader": {
     "cell_type": "markdown",
     "checksum": "306c1c3650f6deb24ecb384fb73e40b2",
     "grade": false,
     "grade_id": "cell-091e7009ad626655",
     "locked": true,
     "schema_version": 3,
     "solution": false,
     "task": false
    }
   },
   "source": [
    "### 1.2 Prediction Performance\n",
    "\n",
    "Classifiers can be evaluated using different metrics that compare the actual *versus* the predicted classes in absolute or relative values. \n",
    "\n",
    "#### Confusion Matrix\n",
    "\n",
    "The confusion matrix shows you the types of errors made by the model. \n",
    "\n",
    "|  Predicted \\ Actual | Success | Failure |\n",
    "| :-------------: |:-------------:| :-----:|\n",
    "| **Success** | $\\text{TP}$ | $\\text{FP}$ |\n",
    "| **Failure** | $\\text{FN}$ | $$\\text{TN}$$ |\n",
    "\n",
    "\n",
    "This matrix has the following case counts:\n",
    "\n",
    "- **True positive ($\\text{TP}$):** the number of observations **correctly predicted as `1`** (e.g., *Malignant*) using the threshold. \n",
    "\n",
    "\n",
    "- **False positive ($\\text{FP}$):** the number observations **incorrectly predicted as `1`** (e.g., *Malignant*) when they are in fact 0.\n",
    "\n",
    "\n",
    "- **True negative ($\\text{TN}$):** the number of observations in **correctly predicted as `0`** (e.g., *Benign*).\n",
    "\n",
    "\n",
    "- **False negative ($\\text{FN}$):** the number of observations in  **incorrectly predicted as `0`** (*Benign*) when in fact they are 1. \n",
    "\n",
    "<font color='darkred'>**The confusion matrix is usually calculated based on *test* data since that is the primary goal of prediction.**</font>\n",
    "\n",
    "Luckily for us, the `confusionMatrix()` function from the package `caret` gives us the confusion matrix and other quantities to evaluate classifiers. \n",
    "\n",
    "#### Sensitivity and Specificity\n",
    "\n",
    "While the previous measures are all absolute error counts, we can also define relative measures:\n",
    "\n",
    "\n",
    "- **Sensitivity ($\\text{SN}$):** the number of **correct** success predictions divided by the total number of real successes ($\\text{S}$), in other words, it is the estimated probability of predicting 1 given that the true class is 1.\n",
    "$$\\text{SN} = \\frac{\\text{TP}}{\\text{TP} + \\text{FN}} = \\frac{\\text{TP}}{\\text{S}}$$\n",
    "    - *Example: the probability that a blood test is positive for a sick  patient.*\n",
    "\n",
    "\n",
    "- **Specificity ($\\text{SP}$):** the number of **correct** failure predictions divided by the total number of real failures ($\\text{F}$). In other words, it is the estimated probability of predicting 0 given that the true class is 0.\n",
    "$$\\text{SP} = \\frac{\\text{TN}}{\\text{TN} + \\text{FP}} = \\frac{\\text{TN}}{\\text{F}}$$\n",
    "    - *Example: the probability that a blood test is negative for a healthy  patient.*\n",
    "    \n",
    "#### Other common measures\n",
    "\n",
    "- **Precision ($\\text{PR}$):** the number of **correct** success predictions divided by the total number of predicted successes.\n",
    "$$\\text{PR} = \\frac{\\text{TP}}{\\text{TP} + \\text{FP}}$$\n",
    "    - *Example: the probability that a patient is sick if the blood test is positive.*\n",
    "\n",
    "\n",
    "- **Accuracy ($\\text{ACC}$):** the number of **correct** predictions (both success and failure) divided by the total number of observations ($n$).\n",
    "$$\\text{ACC} = \\frac{\\text{TP} + \\text{TN}}{n}$$\n",
    "    - *Example: the probability that the blood test correctly classifies the patient.*\n",
    "\n",
    "\n",
    "- **Cohen's Kappa ($\\kappa$):** It is another accuracy metric adjusted by how often the predictions and actual classification coincide just by chance. We compute it as:\n",
    "\n",
    "$$\\kappa = \\frac{\\text{ACC} - \\text{AGG}}{1 - \\text{AGG}}.$$\n",
    "\n",
    "For $\\kappa$, the random agreement is defined as\n",
    "\n",
    "$$\\text{AGG} = \\frac{\\text{TP} + \\text{FP}}{n} \\times \\frac{\\text{TP} + \\text{FN}}{n} + \\frac{\\text{FN} + \\text{TN}}{n} \\times \\frac{\\text{FP} + \\text{TN}}{n}.$$\n",
    "\n",
    "> **Heads-up:** All the metrics above (except $\\kappa$) have a range between $0$ and $1$, where values close to $1$ indicate good predictive performance. \n",
    "\n",
    "> In the case of $\\kappa$, it ranges between $-1$ and $1$ where values close to $1$ indicate good predictive performance."
   ]
  },
  {
   "cell_type": "markdown",
   "metadata": {
    "deletable": false,
    "editable": false,
    "nbgrader": {
     "cell_type": "markdown",
     "checksum": "7e8d7b9eea2287c6cdfbd521ec4acb5a",
     "grade": false,
     "grade_id": "cell-fca83dfe4c59358d",
     "locked": true,
     "schema_version": 3,
     "solution": false,
     "task": false
    }
   },
   "source": [
    "**Question 1.7**\n",
    "<br>{points: 1}\n",
    "\n",
    "To compute the confusion matrix for the classifier built from the estimated logistic regression `breast_cancer_logistic_model`, we need to obtain predicted classes. \n",
    "\n",
    "- Use the `predict` function to obtain the predicted probabilities of a tumor being malignant for the training set `breast_cancer_train`.\n",
    "\n",
    "- Using a threshold of 0.5, predict the classes for the training set, i.e., the tumor is classified as malignant if the predicted probability is greater or equal than 0.5.\n",
    "\n",
    "> Note that for this particular threshold, you can obtain values 0 and 1 rounding the predicted probabilities to the nearest interger. \n",
    "\n",
    "- Store them in a variable called `breast_cancer_pred_class`.\n",
    "\n",
    "*Fill out those parts indicated with `...`, uncomment the corresponding code in the cell below, and run it.*"
   ]
  },
  {
   "cell_type": "code",
   "execution_count": null,
   "metadata": {
    "deletable": false,
    "nbgrader": {
     "cell_type": "code",
     "checksum": "1d03c10ad3dc19d05d55dd40a64772c8",
     "grade": false,
     "grade_id": "cell-7768de07001d0afa",
     "locked": false,
     "schema_version": 3,
     "solution": true,
     "task": false
    }
   },
   "outputs": [],
   "source": [
    "# breast_cancer_pred_class <- \n",
    "#   ...\n",
    "\n",
    "# your code here\n",
    "fail() # No Answer - remove if you provide an answer\n",
    "\n",
    "head(breast_cancer_pred_class, 10)"
   ]
  },
  {
   "cell_type": "code",
   "execution_count": null,
   "metadata": {
    "deletable": false,
    "editable": false,
    "nbgrader": {
     "cell_type": "code",
     "checksum": "0c59ecf0ce4aef3347ceb311679faf61",
     "grade": true,
     "grade_id": "cell-539c1d4e1a835857",
     "locked": true,
     "points": 1,
     "schema_version": 3,
     "solution": false,
     "task": false
    }
   },
   "outputs": [],
   "source": [
    "test_1.7()"
   ]
  },
  {
   "cell_type": "markdown",
   "metadata": {},
   "source": [
    "**Note**: note that in this question the test and the training set used are the same since you are computing the confusion matrix for predictions of the training set.\n"
   ]
  },
  {
   "cell_type": "markdown",
   "metadata": {
    "deletable": false,
    "editable": false,
    "nbgrader": {
     "cell_type": "markdown",
     "checksum": "41fdc9579de3a0a8f537f5cede02086d",
     "grade": false,
     "grade_id": "cell-a5f9a1545e253124",
     "locked": true,
     "schema_version": 3,
     "solution": false,
     "task": false
    }
   },
   "source": [
    "**Question 1.8**\n",
    "<br>{points: 1}\n",
    "\n",
    "Now that you have the predicted classes using the estimated model you can compute the **confusion matrix** using the function `confusionMatrix()`. The argumets for this function are:\n",
    "\n",
    "- `data`: factor with the predicted classes (use `as.factor()`).\n",
    "- `reference`: factor with the real classes (use `as.factor()`).\n",
    "- `positive`: the level considered positive (as a character). \n",
    "\n",
    "> **Tip:** recall that we created numerical values 0 and 1 to represent the classes and fit a logistic model. You will need to make these same values a character.\n",
    " \n",
    "Store the output of `confusionMatrix` in an object called `breast_cancer_confusion_matrix`.\n",
    "\n",
    "*Fill out those parts indicated with `...`, uncomment the corresponding code in the cell below, and run it.*"
   ]
  },
  {
   "cell_type": "code",
   "execution_count": null,
   "metadata": {
    "deletable": false,
    "nbgrader": {
     "cell_type": "code",
     "checksum": "0b12119f721997dca332974178f048c7",
     "grade": false,
     "grade_id": "cell-1f7718031c8b6b7a",
     "locked": false,
     "schema_version": 3,
     "solution": true,
     "task": false
    }
   },
   "outputs": [],
   "source": [
    "# breast_cancer_confusion_matrix <- \n",
    "#     ...(\n",
    "#     data = as.factor(...),\n",
    "#     reference = as.factor(...),\n",
    "#     positive = ...\n",
    "# )\n",
    "\n",
    "# your code here\n",
    "fail() # No Answer - remove if you provide an answer\n",
    "\n",
    "breast_cancer_confusion_matrix"
   ]
  },
  {
   "cell_type": "code",
   "execution_count": null,
   "metadata": {
    "deletable": false,
    "editable": false,
    "nbgrader": {
     "cell_type": "code",
     "checksum": "ec298f0ecd49a297939ced7167235fe0",
     "grade": true,
     "grade_id": "cell-1496d3f3bc0c04c0",
     "locked": true,
     "points": 1,
     "schema_version": 3,
     "solution": false,
     "task": false
    }
   },
   "outputs": [],
   "source": [
    "test_1.8()"
   ]
  },
  {
   "cell_type": "markdown",
   "metadata": {
    "deletable": false,
    "editable": false,
    "nbgrader": {
     "cell_type": "markdown",
     "checksum": "54c5d53a0569587d32789e5ccb4c529a",
     "grade": false,
     "grade_id": "cell-c87768c9e94a0d70",
     "locked": true,
     "schema_version": 3,
     "solution": false,
     "task": false
    }
   },
   "source": [
    "#### Threshold\n",
    "\n",
    "Note that the *sensitivity* (or *specificity*) of our model depends on the threshold used to predict the classes. \n",
    "\n",
    "So far, we have predicted $\\hat{y}_i = 1$ if the predicted probability, $\\hat{p}_i$, was higher than 0.5. But we can also use other values, like 0.3, 0.1, or 0.9. "
   ]
  },
  {
   "cell_type": "markdown",
   "metadata": {
    "deletable": false,
    "editable": false,
    "nbgrader": {
     "cell_type": "markdown",
     "checksum": "1c23706d06aa4962634e68c35a87207e",
     "grade": false,
     "grade_id": "cell-a570194a8c7fd1ce",
     "locked": true,
     "schema_version": 3,
     "solution": false,
     "task": false
    }
   },
   "source": [
    "**Question 1.9**\n",
    "<br>{points: 1}\n",
    "\n",
    "What do you expect to happen if you decrease the threshold from 0.5 to 0.4.\n",
    "\n",
    "A. Both the specificity and sensitivity would stay the same.\n",
    "\n",
    "B. Both the specificity and sensitivity would increase.\n",
    "\n",
    "C. Both the specificity and sensitivity would decrease.\n",
    "\n",
    "D. The specificity would increase and sensitivity would decrease.\n",
    "\n",
    "E. The specificity would decrease and sensitivity would increase.\n",
    "\n",
    "F. There's no way to tell. \n",
    "\n",
    "_Assign your answer to an object called `answer1.9`. Your answer should be a single character surrounded by quotes._"
   ]
  },
  {
   "cell_type": "code",
   "execution_count": null,
   "metadata": {
    "deletable": false,
    "nbgrader": {
     "cell_type": "code",
     "checksum": "2ba7f7dc010d837e1bd6b45f8a096f8b",
     "grade": false,
     "grade_id": "cell-64b6aa4cd25e1098",
     "locked": false,
     "schema_version": 3,
     "solution": true,
     "task": false
    }
   },
   "outputs": [],
   "source": [
    "# answer1.9 <- ...\n",
    "\n",
    "# your code here\n",
    "fail() # No Answer - remove if you provide an answer"
   ]
  },
  {
   "cell_type": "code",
   "execution_count": null,
   "metadata": {
    "deletable": false,
    "editable": false,
    "nbgrader": {
     "cell_type": "code",
     "checksum": "7677df4561646f5a6480d0e29bc5b86a",
     "grade": true,
     "grade_id": "cell-6314e62308714c43",
     "locked": true,
     "points": 1,
     "schema_version": 3,
     "solution": false,
     "task": false
    }
   },
   "outputs": [],
   "source": [
    "test_1.9()"
   ]
  },
  {
   "cell_type": "markdown",
   "metadata": {
    "deletable": false,
    "editable": false,
    "nbgrader": {
     "cell_type": "markdown",
     "checksum": "7fb81cceb99a70ac7f4a322ce7f2ea02",
     "grade": false,
     "grade_id": "cell-1ff747717d880769",
     "locked": true,
     "schema_version": 3,
     "solution": false,
     "task": false
    }
   },
   "source": [
    "**Question 1.10**\n",
    "<br>{points: 1}\n",
    "\n",
    "Let's change our confusion matrix from the previous question by adjusting the threshold to $p_0 = 0.3$. \n",
    "\n",
    "\n",
    "1. Update your predictions using the new threshold and store it in an object named `breast_cancer_pred_class_threshold_0.3`.\n",
    "\n",
    "\n",
    "2. Use the `confusionMatrix` function to obtain the confusion matrix and associated quantities. Save the output in an object named `confusion_matrix_threshold_0.3`.\n",
    "\n",
    "\n",
    "*Fill out those parts indicated with `...`, uncomment the corresponding code in the cell below, and run it.*"
   ]
  },
  {
   "cell_type": "code",
   "execution_count": null,
   "metadata": {
    "deletable": false,
    "nbgrader": {
     "cell_type": "code",
     "checksum": "79f735743e045187c00d90e804845c2e",
     "grade": false,
     "grade_id": "cell-95fcb9bdb826b4af",
     "locked": false,
     "schema_version": 3,
     "solution": true,
     "task": false
    }
   },
   "outputs": [],
   "source": [
    "# p_0 <- ...\n",
    "\n",
    "# breast_cancer_pred_class_threshold_0.3 <- \n",
    "#   as.interger(...(..., type = ...) > ...)\n",
    "\n",
    "# confusion_matrix_threshold_0.3 <- \n",
    "#     ...(\n",
    "#     ...,\n",
    "#     ...,\n",
    "#     ...)\n",
    "\n",
    "#confusion_matrix_threshold_0.3\n",
    "\n",
    "# your code here\n",
    "fail() # No Answer - remove if you provide an answer\n",
    "\n",
    "confusion_matrix_threshold_0.3"
   ]
  },
  {
   "cell_type": "code",
   "execution_count": null,
   "metadata": {
    "deletable": false,
    "editable": false,
    "nbgrader": {
     "cell_type": "code",
     "checksum": "72ef2d02b83cbd1cee910945b00b4369",
     "grade": true,
     "grade_id": "cell-8e3d1d7c2330d231",
     "locked": true,
     "points": 1,
     "schema_version": 3,
     "solution": false,
     "task": false
    }
   },
   "outputs": [],
   "source": [
    "test_1.10()"
   ]
  },
  {
   "cell_type": "markdown",
   "metadata": {
    "deletable": false,
    "editable": false,
    "nbgrader": {
     "cell_type": "markdown",
     "checksum": "617f47c2d817340fd49485268182a1ca",
     "grade": false,
     "grade_id": "cell-0e7c36595100dcbd",
     "locked": true,
     "schema_version": 3,
     "solution": false,
     "task": false
    }
   },
   "source": [
    "Was this what you expected?"
   ]
  },
  {
   "cell_type": "markdown",
   "metadata": {
    "deletable": false,
    "editable": false,
    "nbgrader": {
     "cell_type": "markdown",
     "checksum": "947435c0579c2966eb6e800e412c2cfd",
     "grade": false,
     "grade_id": "cell-66dceddef862ac64",
     "locked": true,
     "schema_version": 3,
     "solution": false,
     "task": false
    }
   },
   "source": [
    "### AUC and ROC \n",
    "\n",
    "A limitation of the approach taken in the previous question is that the evaluation of the classifier depends critically on the threshold $p_0$, but the most appropriate choice of $p_0$ may not be clear. \n",
    "\n",
    "Alternatively, we can evaluate the predictive performance of a given classifier for all possible value of $p_0 \\in [0, 1]$. The resulting curve is known as the *receiver operating characteristic* (ROC) curve. \n",
    "\n",
    "The *area under the curve* (AUC) measures the classification ability of the classifier. The AUC goes from $0$ to $1$. \n",
    "\n",
    "> the higher the AUC, the better predictive performance!!\n",
    "\n",
    "![](https://upload.wikimedia.org/wikipedia/commons/thumb/1/13/Roc_curve.svg/440px-Roc_curve.svg.png)"
   ]
  },
  {
   "cell_type": "markdown",
   "metadata": {
    "deletable": false,
    "editable": false,
    "nbgrader": {
     "cell_type": "markdown",
     "checksum": "6090317bcb983b153f316fd255e94e2b",
     "grade": false,
     "grade_id": "cell-8a0b3b07c1e2b569",
     "locked": true,
     "schema_version": 3,
     "solution": false,
     "task": false
    }
   },
   "source": [
    "**Question 1.11**\n",
    "<br>{points: 1}\n",
    "\n",
    "The package `pROC`, via its function `roc()`, plots ROC curves. You need to specify the real observed classes in the argument `response` and the predictions in `predictor`. \n",
    "\n",
    "Using `breast_cancer_train` create the ROC curve for `breast_cancer_logistic_model` and call it `ROC_full_log`. Then, use `plot()` to display it.\n",
    "\n",
    "*Fill out those parts indicated with `...`, uncomment the corresponding code in the cell below, and run it.*"
   ]
  },
  {
   "cell_type": "code",
   "execution_count": null,
   "metadata": {
    "deletable": false,
    "nbgrader": {
     "cell_type": "code",
     "checksum": "1d43630a578c8fc49760f80951e8e29e",
     "grade": false,
     "grade_id": "cell-bd64b06b49b63a19",
     "locked": false,
     "schema_version": 3,
     "solution": true,
     "task": false
    }
   },
   "outputs": [],
   "source": [
    "options(repr.plot.width = 8, repr.plot.height = 8) # Adjust these numbers so the plot looks good in your desktop.\n",
    "\n",
    "# ROC_full_log <- roc(\n",
    "#   response = ...,\n",
    "#   predictor = ...\n",
    "# )\n",
    "# plot(...,\n",
    "#   print.auc = TRUE, col = \"blue\", lwd = 3, lty = 2,\n",
    "#   main = \"ROC Curves for Breast Cancer Dataset\"\n",
    "# )\n",
    "\n",
    "# your code here\n",
    "fail() # No Answer - remove if you provide an answer"
   ]
  },
  {
   "cell_type": "code",
   "execution_count": null,
   "metadata": {
    "deletable": false,
    "editable": false,
    "nbgrader": {
     "cell_type": "code",
     "checksum": "8516440801e74c7dee6de2c68206d603",
     "grade": true,
     "grade_id": "cell-dc1845ad5804f178",
     "locked": true,
     "points": 1,
     "schema_version": 3,
     "solution": false,
     "task": false
    }
   },
   "outputs": [],
   "source": [
    "test_1.11()"
   ]
  },
  {
   "cell_type": "markdown",
   "metadata": {
    "deletable": false,
    "editable": false,
    "nbgrader": {
     "cell_type": "markdown",
     "checksum": "c931fa3783ef2544eddc6d1d992c2b5a",
     "grade": false,
     "grade_id": "cell-ce7b18eb07e85907",
     "locked": true,
     "schema_version": 3,
     "solution": false,
     "task": false
    }
   },
   "source": [
    "One last comment for this worksheet is that here we have used the training data to obtain the confusion matrix. As we know, the training data will most probably be underestimating our error. A much better approach would be to use a cross-validation or the test set to make a similar analysis. \n",
    "\n",
    "We abstained from this step to focus on the concepts but, in the tutorial, we will use cross-validation to evaluate the prediction accuracy of different classifiers."
   ]
  }
 ],
 "metadata": {
  "jupytext": {
   "formats": "ipynb,Rmd"
  },
  "kernelspec": {
   "display_name": "R",
   "language": "R",
   "name": "ir"
  },
  "language_info": {
   "codemirror_mode": "r",
   "file_extension": ".r",
   "mimetype": "text/x-r-source",
   "name": "R",
   "pygments_lexer": "r",
   "version": "4.3.3"
  }
 },
 "nbformat": 4,
 "nbformat_minor": 4
}
