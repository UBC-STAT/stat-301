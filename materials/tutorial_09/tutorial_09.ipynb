{
 "cells": [
  {
   "cell_type": "markdown",
   "metadata": {
    "deletable": false,
    "editable": false,
    "nbgrader": {
     "cell_type": "markdown",
     "checksum": "95bc3a1c12a30492e09baf17a8f7cac8",
     "grade": false,
     "grade_id": "cell-f1e1d845873036f4",
     "locked": true,
     "schema_version": 3,
     "solution": false,
     "task": false
    }
   },
   "source": [
    "# **Tutorial 09: Prediction Uncertainty**"
   ]
  },
  {
   "cell_type": "markdown",
   "metadata": {
    "deletable": false,
    "editable": false,
    "nbgrader": {
     "cell_type": "markdown",
     "checksum": "d1156a228d89d945f78ca86bc7ee749c",
     "grade": false,
     "grade_id": "cell-34b6d6e1de870f0a",
     "locked": true,
     "schema_version": 3,
     "solution": false,
     "task": false
    }
   },
   "source": [
    "## **Lecture and Tutorial Learning Goals:**\n",
    "\n",
    "By the end of this section, students will be able to:\n",
    "\n",
    "- Explain the difference between confidence intervals for prediction and prediction intervals and what elements need to be estimated to construct these intervals.\n",
    "\n",
    "- Write a computer script to calculate these intervals. Interpret and communicate the results from that computer script.\n",
    "\n",
    "- Give an example of a question that can be answered by predictive modelling."
   ]
  },
  {
   "cell_type": "code",
   "execution_count": null,
   "metadata": {
    "deletable": false,
    "editable": false,
    "nbgrader": {
     "cell_type": "code",
     "checksum": "b46c51726db53b5c095577c88065de35",
     "grade": false,
     "grade_id": "cell-a2a153352bc44a68",
     "locked": true,
     "schema_version": 3,
     "solution": false,
     "task": false
    },
    "tags": []
   },
   "outputs": [],
   "source": [
    "# Run this cell before continuing.\n",
    "library(broom)\n",
    "library(faraway)\n",
    "library(tidyverse)\n",
    "\n",
    "source(\"tests_tutorial_09.R\")"
   ]
  },
  {
   "cell_type": "markdown",
   "metadata": {
    "deletable": false,
    "editable": false,
    "nbgrader": {
     "cell_type": "markdown",
     "checksum": "b47d2f1d055fd12edbda39413aaccb35",
     "grade": false,
     "grade_id": "cell-b2663beefdcc8af5",
     "locked": true,
     "schema_version": 3,
     "solution": false,
     "task": false
    }
   },
   "source": [
    "## **1. Prediction CI *versus* CI for Prediction**\n",
    "\n",
    "We have learned how to estimate and use the estimated models to infer population parameters. You will now focus on **prediction** using the estimated model.\n",
    "\n",
    "In predictive modelling and analysis, it is essential to recognize and understand the distinction between **in-sample** prediction and **out-of-sample** prediction.\n",
    "\n",
    "In this tutorial, we are going to recognize and measure the *uncertainty* of these predictions."
   ]
  },
  {
   "cell_type": "markdown",
   "metadata": {
    "deletable": false,
    "editable": false,
    "nbgrader": {
     "cell_type": "markdown",
     "checksum": "9dc060c390d80299907037aafe85777f",
     "grade": false,
     "grade_id": "cell-6b0d24d7f154f4c7",
     "locked": true,
     "schema_version": 3,
     "solution": false,
     "task": false
    }
   },
   "source": [
    "Let us start by loading the dataset to be used throughout this tutorial. We will use the dataset `fat` from the library `faraway`. You can find detailed information about it in [Johnson (1996)](https://www.tandfonline.com/doi/full/10.1080/10691898.1996.11910505). This dataset contains the percentage of body fat and a variety of body measurements (continuous variables) of 252 men. We will use the variable `brozek` as the response variable and a subset of 14 variables to build different models. \n",
    "\n",
    "Run the code below to create the working data frame called `fat_sample`."
   ]
  },
  {
   "cell_type": "code",
   "execution_count": null,
   "metadata": {
    "deletable": false,
    "editable": false,
    "nbgrader": {
     "cell_type": "code",
     "checksum": "4f37d578a4ae85b1e3f0b5ac9e8aa228",
     "grade": false,
     "grade_id": "cell-1d7ec8f490a2c3bc",
     "locked": true,
     "schema_version": 3,
     "solution": false,
     "task": false
    },
    "tags": []
   },
   "outputs": [],
   "source": [
    "fat_sample <- \n",
    "    fat %>%\n",
    "    select(brozek, age:adipos, neck:wrist)\n",
    "\n",
    "head(fat_sample,3)"
   ]
  },
  {
   "cell_type": "markdown",
   "metadata": {
    "deletable": false,
    "editable": false,
    "nbgrader": {
     "cell_type": "markdown",
     "checksum": "38cec0b7286293c3cab0b916a7d122bf",
     "grade": false,
     "grade_id": "cell-2a05a7dad6e0eaf6",
     "locked": true,
     "schema_version": 3,
     "solution": false,
     "task": false
    }
   },
   "source": [
    "The response variable `brozek` is the percent of body fat using Brozek's equation:\n",
    "\n",
    "$$\\texttt{brozek} = \\frac{457}{\\texttt{density}} - 414.2,$$\n",
    "\n",
    "where body `density` is measured in $\\text{g}/\\text{cm}^3$.\n",
    "\n",
    "The 14 input variables are:\n",
    "\n",
    "- `age`: Age in $\\text{years}$.\n",
    "- `weight`: Weight in $\\text{lb}$.\n",
    "- `height`: Height in $\\text{in}$.\n",
    "- `adipos`: Adiposity index in $\\text{kg}/\\text{m}^2$.\n",
    "\n",
    "$$\\texttt{adipos} = \\frac{\\texttt{weight}}{\\texttt{height}^2}$$\n",
    "\n",
    "- `neck`: Neck circumference in $\\text{cm}$.\n",
    "- `chest`: Chest circumference in $\\text{cm}$.\n",
    "- `abdom`: Abdomen circumference at the umbilicus and level with the iliac crest in $\\text{cm}$.\n",
    "- `hip`: Hip circumference in $\\text{cm}$.\n",
    "- `thigh`: Thigh circumference in $\\text{cm}$.\n",
    "- `knee`: Knee circumference in $\\text{cm}$.\n",
    "- `ankle`: Ankle circumference in $\\text{cm}$.\n",
    "- `biceps`: Extended biceps circumference in $\\text{cm}$.\n",
    "- `forearm`: Forearm circumference in $\\text{cm}$.\n",
    "- `wrist`: Wrist circumference distal to the styloid processes in $\\text{cm}$."
   ]
  },
  {
   "cell_type": "markdown",
   "metadata": {
    "deletable": false,
    "editable": false,
    "nbgrader": {
     "cell_type": "markdown",
     "checksum": "2e8f2c5066913976a3d07a979ab2ae04",
     "grade": false,
     "grade_id": "cell-942a4a50b59db180",
     "locked": true,
     "schema_version": 3,
     "solution": false,
     "task": false
    }
   },
   "source": [
    "**Question 1.0**\n",
    "<br>{points: 1}\n",
    "\n",
    "Let's start by building an SLR using only `weight` to predict `brozek.`\n",
    "\n",
    "Use the `lm()` function to estimate the SLR. Store this estimated model in the variable `SLR_fat`.\n",
    "\n",
    "*Fill out those parts indicated with ..., uncomment the corresponding code in the cell below, and run it.*"
   ]
  },
  {
   "cell_type": "code",
   "execution_count": null,
   "metadata": {
    "deletable": false,
    "nbgrader": {
     "cell_type": "code",
     "checksum": "48120117809c17de7d29914a3b57f147",
     "grade": false,
     "grade_id": "cell-cee6d509d573577c",
     "locked": false,
     "schema_version": 3,
     "solution": true,
     "task": false
    },
    "tags": []
   },
   "outputs": [],
   "source": [
    "# SLR_fat <- ...(..., ...)\n",
    "\n",
    "# your code here\n",
    "fail() # No Answer - remove if you provide an answer\n",
    "\n",
    "SLR_fat"
   ]
  },
  {
   "cell_type": "code",
   "execution_count": null,
   "metadata": {
    "deletable": false,
    "editable": false,
    "nbgrader": {
     "cell_type": "code",
     "checksum": "dcad7e97d299f54f096499be4b03849c",
     "grade": true,
     "grade_id": "cell-8134da8c9b28310c",
     "locked": true,
     "points": 1,
     "schema_version": 3,
     "solution": false,
     "task": false
    },
    "tags": []
   },
   "outputs": [],
   "source": [
    "test_1.0()"
   ]
  },
  {
   "cell_type": "markdown",
   "metadata": {
    "deletable": false,
    "editable": false,
    "nbgrader": {
     "cell_type": "markdown",
     "checksum": "377b1a7dcb439499e95840036884e1c3",
     "grade": false,
     "grade_id": "cell-35a25d7e5fb6c3ac",
     "locked": true,
     "schema_version": 3,
     "solution": false,
     "task": false
    }
   },
   "source": [
    "<hr>\n",
    "\n",
    "In the first part on the course, we learned how to obtain and interpret confidence intervals for the regression parameters. Since the predictions are functions of the estimated MLR, they also depend on the sample used! We can obtain confidence intervals that take into account the uncertainty in predictions.\n",
    "\n",
    "There are 2 type of intervals we can construct depending on the quantity we want to predict: *confidence intervals for prediction* and *prediction intervals*. \n",
    "\n",
    "**Recall**:\n",
    "\n",
    "- **Confidence interval for prediction:** an interval for the conditional average value $E[Y_i |X_i]$.\n",
    "  \n",
    "- **Prediction interval:** an interval for the actual value of a response $Y_i$. "
   ]
  },
  {
   "cell_type": "markdown",
   "metadata": {
    "deletable": false,
    "editable": false,
    "nbgrader": {
     "cell_type": "markdown",
     "checksum": "f61ad41d91e45fc516ea4ec61c542dc2",
     "grade": false,
     "grade_id": "cell-0703f7523bc3021e",
     "locked": true,
     "schema_version": 3,
     "solution": false,
     "task": false
    },
    "tags": []
   },
   "source": [
    "**Question 1.1**\n",
    "<br>{points: 1}\n",
    "\n",
    "Let's start by computing confidence intervals for prediction. These intervals predict the average `brozek` index for men of a given  weight. \n",
    "\n",
    "Using `SLR_fat` and `predict`, obtain the asymptotic 95% CIP (confidence intervals for prediction). \n",
    "\n",
    "Create a data frame called `fat_cip` that contains the response, the input, the predictions, and the lower and upper bounds of the intervals for each observation **in that order from left-to-right**. \n",
    "\n",
    "*Fill out those parts indicated with ..., uncomment the corresponding code in the cell below, and run it.*"
   ]
  },
  {
   "cell_type": "code",
   "execution_count": null,
   "metadata": {
    "deletable": false,
    "nbgrader": {
     "cell_type": "code",
     "checksum": "c6318fef2c8b8734254c6652f77b0ce0",
     "grade": false,
     "grade_id": "cell-0718e1af1d8b43a7",
     "locked": false,
     "schema_version": 3,
     "solution": true,
     "task": false
    },
    "tags": []
   },
   "outputs": [],
   "source": [
    "# fat_cip <- \n",
    "#    fat_sample %>% \n",
    "#    select(..., ...) %>% \n",
    "#    cbind(predict(...,interval=\"confidence\",se.fit=TRUE)$fit) %>% \n",
    "#    mutate_if(is.numeric, round, 3)\n",
    "\n",
    "# your code here\n",
    "fail() # No Answer - remove if you provide an answer\n",
    "\n",
    "head(fat_cip)"
   ]
  },
  {
   "cell_type": "code",
   "execution_count": null,
   "metadata": {
    "deletable": false,
    "editable": false,
    "nbgrader": {
     "cell_type": "code",
     "checksum": "9160e8ee5bf1fced0ce25c0527f046e2",
     "grade": true,
     "grade_id": "cell-6e10147cc53c2bef",
     "locked": true,
     "points": 1,
     "schema_version": 3,
     "solution": false,
     "task": false
    },
    "tags": []
   },
   "outputs": [],
   "source": [
    "test_1.1()"
   ]
  },
  {
   "cell_type": "markdown",
   "metadata": {
    "deletable": false,
    "editable": false,
    "nbgrader": {
     "cell_type": "markdown",
     "checksum": "3daac4c5d419e3d9341091fd8f640139",
     "grade": false,
     "grade_id": "cell-cc6cc973e47676ca",
     "locked": true,
     "schema_version": 3,
     "solution": false,
     "task": false
    }
   },
   "source": [
    "**Question 1.2**\n",
    "<br>{points: 1}\n",
    "\n",
    "We have just calculated the 95% confidence interval for the mean `brozek` index for men of different weights in our sample. \n",
    "\n",
    "Provide a brief interpretation of the 95% confidence interval for the prediction you have calculated in row 1."
   ]
  },
  {
   "cell_type": "markdown",
   "metadata": {
    "deletable": false,
    "nbgrader": {
     "cell_type": "markdown",
     "checksum": "76aa3983f86e28fd6b60217db682c747",
     "grade": true,
     "grade_id": "cell-cb3333bc637ff1b6",
     "locked": false,
     "points": 1,
     "schema_version": 3,
     "solution": true,
     "task": false
    }
   },
   "source": [
    "> *Your answer goes here.*\n",
    "\n",
    "DOUBLE CLICK TO EDIT **THIS CELL** AND REPLACE THIS TEXT WITH YOUR ANSWER."
   ]
  },
  {
   "cell_type": "markdown",
   "metadata": {
    "deletable": false,
    "editable": false,
    "nbgrader": {
     "cell_type": "markdown",
     "checksum": "c9e7cebf5d07cfb410d4ee9f78c2ac68",
     "grade": false,
     "grade_id": "cell-9323580fb03a9331",
     "locked": true,
     "schema_version": 3,
     "solution": false,
     "task": false
    }
   },
   "source": [
    "**Question 1.3**\n",
    "<br>{points: 1}\n",
    "\n",
    "Let's now compute and interpret prediction intervals. These intervals predict the actual brozek index for men of different weights.  \n",
    "\n",
    "You can also use `SLR_fat` and `predict` to obtain the asymptotic 95% PI (prediction intervals), changing the argument `interval`. \n",
    "\n",
    "Create a tibble, called `fat_pi`, that contains the response, the input, the predictions, and the lower and upper bounds of the intervals for each observation, *in that order from left to right*.\n",
    "\n",
    "> Read the warning message. Since your goal is to predict an actual value, it is important to note that this is not coming from a test set.\n",
    "\n",
    "*Fill out those parts indicated with ..., uncomment the corresponding code in the cell below, and run it.*"
   ]
  },
  {
   "cell_type": "code",
   "execution_count": null,
   "metadata": {
    "deletable": false,
    "nbgrader": {
     "cell_type": "code",
     "checksum": "8768bc4e12022966dea148cb5a16865e",
     "grade": false,
     "grade_id": "cell-3f33d5bcc45086bf",
     "locked": false,
     "schema_version": 3,
     "solution": true,
     "task": false
    },
    "tags": []
   },
   "outputs": [],
   "source": [
    "# fat_pi <- fat_sample  %>% \n",
    "#    select(..., ...) %>% \n",
    "#    cbind(predict(...,interval=\"prediction\",se.fit=TRUE)$fit)  %>% \n",
    "#    mutate_if(is.numeric, round, 3)\n",
    "\n",
    "# your code here\n",
    "fail() # No Answer - remove if you provide an answer\n",
    "\n",
    "head(fat_pi)"
   ]
  },
  {
   "cell_type": "code",
   "execution_count": null,
   "metadata": {
    "deletable": false,
    "editable": false,
    "nbgrader": {
     "cell_type": "code",
     "checksum": "894d58a2c844291a440dff9d59a23f05",
     "grade": true,
     "grade_id": "cell-be96a99bc663b158",
     "locked": true,
     "points": 1,
     "schema_version": 3,
     "solution": false,
     "task": false
    },
    "tags": []
   },
   "outputs": [],
   "source": [
    "test_1.3()"
   ]
  },
  {
   "cell_type": "markdown",
   "metadata": {
    "deletable": false,
    "editable": false,
    "nbgrader": {
     "cell_type": "markdown",
     "checksum": "8ab4a70d80e16d5f706ba73aa839ba4b",
     "grade": false,
     "grade_id": "cell-374f140cce1d5d82",
     "locked": true,
     "schema_version": 3,
     "solution": false,
     "task": false
    }
   },
   "source": [
    "**Question 1.4**\n",
    "<br>{points: 1}\n",
    "\n",
    "We have just calculated the 95% prediction interval for the brozek index of men of different weights in our sample. \n",
    "\n",
    "Provide a brief interpretation for the 95% prediction interval you have calculated in row 1. \n"
   ]
  },
  {
   "cell_type": "markdown",
   "metadata": {
    "deletable": false,
    "nbgrader": {
     "cell_type": "markdown",
     "checksum": "14db4ad991163d443bd534f1d8dd2d72",
     "grade": true,
     "grade_id": "cell-87366ebda6badbdb",
     "locked": false,
     "points": 1,
     "schema_version": 3,
     "solution": true,
     "task": false
    }
   },
   "source": [
    "> *Your answer goes here.*\n",
    "\n",
    "DOUBLE CLICK TO EDIT **THIS CELL** AND REPLACE THIS TEXT WITH YOUR ANSWER."
   ]
  },
  {
   "cell_type": "markdown",
   "metadata": {
    "deletable": false,
    "editable": false,
    "nbgrader": {
     "cell_type": "markdown",
     "checksum": "16be05a784fd212d21a8224bcaf87ca5",
     "grade": false,
     "grade_id": "cell-780c3ffc246875d0",
     "locked": true,
     "schema_version": 3,
     "solution": false,
     "task": false
    }
   },
   "source": [
    "**Question 1.5**\n",
    "<br>{points: 1}\n",
    "\n",
    "Compare the confidence intervals computed in **Question 1.1** with those computed in **Question 1.3** (by row). Which confidence intervals are wider? Respond and explain why in one or two sentences."
   ]
  },
  {
   "cell_type": "markdown",
   "metadata": {
    "deletable": false,
    "nbgrader": {
     "cell_type": "markdown",
     "checksum": "40a3dd1aba6716fbb04082f830cba039",
     "grade": true,
     "grade_id": "cell-77911512fee34bdd",
     "locked": false,
     "points": 1,
     "schema_version": 3,
     "solution": true,
     "task": false
    }
   },
   "source": [
    "> *Your answer goes here.*\n",
    "\n",
    "DOUBLE CLICK TO EDIT **THIS CELL** AND REPLACE THIS TEXT WITH YOUR ANSWER."
   ]
  }
 ],
 "metadata": {
  "jupytext": {
   "formats": "ipynb,Rmd"
  },
  "kernelspec": {
   "display_name": "R",
   "language": "R",
   "name": "ir"
  },
  "language_info": {
   "codemirror_mode": "r",
   "file_extension": ".r",
   "mimetype": "text/x-r-source",
   "name": "R",
   "pygments_lexer": "r",
   "version": "4.3.3"
  },
  "latex_envs": {
   "LaTeX_envs_menu_present": true,
   "autoclose": false,
   "autocomplete": true,
   "bibliofile": "biblio.bib",
   "cite_by": "apalike",
   "current_citInitial": 1,
   "eqLabelWithNumbers": true,
   "eqNumInitial": 1,
   "hotkeys": {
    "equation": "Ctrl-E",
    "itemize": "Ctrl-I"
   },
   "labels_anchors": false,
   "latex_user_defs": false,
   "report_style_numbering": false,
   "user_envs_cfg": false
  }
 },
 "nbformat": 4,
 "nbformat_minor": 4
}
