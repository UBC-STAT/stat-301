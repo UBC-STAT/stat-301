{
 "cells": [
  {
   "cell_type": "markdown",
   "metadata": {
    "deletable": false,
    "editable": false,
    "nbgrader": {
     "cell_type": "markdown",
     "checksum": "2b5e76491e2913a869adcc5c8ada1358",
     "grade": false,
     "grade_id": "cell-f1e1d845873036f4",
     "locked": true,
     "schema_version": 3,
     "solution": false,
     "task": false
    },
    "slideshow": {
     "slide_type": ""
    },
    "tags": []
   },
   "source": [
    "# Worksheet 02: Different Types of Input Variables and Interactions"
   ]
  },
  {
   "cell_type": "markdown",
   "metadata": {
    "deletable": false,
    "editable": false,
    "nbgrader": {
     "cell_type": "markdown",
     "checksum": "e8cdb028486189a50b99c81a0fb2a6f1",
     "grade": false,
     "grade_id": "cell-82d9926086d47a80",
     "locked": true,
     "schema_version": 3,
     "solution": false,
     "task": false
    },
    "tags": []
   },
   "source": [
    "## Learning Objectives:\n",
    "\n",
    "After completing this week's lecture and tutorial work, you will be able to:\n",
    "\n",
    "1. Give an example of a real problem that could be answered by a multiple linear regression.\n",
    "\n",
    "2. Interpret the coefficients and p-values of different types of input variables, including categorical input variables.\n",
    "\n",
    "3. Define interactions in the context of linear regression.\n",
    "\n",
    "4. Write a computer script to perform linear regression when input variables are continuous or discrete, and when there are interactions between some of these variables."
   ]
  },
  {
   "cell_type": "markdown",
   "metadata": {
    "deletable": false,
    "editable": false,
    "nbgrader": {
     "cell_type": "markdown",
     "checksum": "e182486c8cf2592b35f91ba22aabd979",
     "grade": false,
     "grade_id": "cell-da4f21ec759fe7cc",
     "locked": true,
     "schema_version": 3,
     "solution": false,
     "task": false
    }
   },
   "source": [
    "## Multiple Linear Regression (MLR)\n",
    "\n",
    "This week, we will \"unleash\" the scope of linear regression models and use them to study the association between a continuous response and *many* input variables of *different types*! \n",
    "\n",
    "A linear regression model with many input variables is usually called a *Multiple Linear Regression (MLR)*. We will present models with the following:\n",
    "\n",
    "- Continuous and categorical input variables\n",
    "\n",
    "- Additive models and models with interaction terms"
   ]
  },
  {
   "cell_type": "code",
   "execution_count": null,
   "metadata": {
    "deletable": false,
    "editable": false,
    "nbgrader": {
     "cell_type": "code",
     "checksum": "5d7646a07da10887daaf2f02a9549d88",
     "grade": false,
     "grade_id": "cell-a2a153352bc44a68",
     "locked": true,
     "schema_version": 3,
     "solution": false,
     "task": false
    },
    "tags": []
   },
   "outputs": [],
   "source": [
    "# Run this cell before continuing.\n",
    "library(tidyverse)\n",
    "library(repr)\n",
    "library(infer)\n",
    "library(cowplot)\n",
    "library(broom)\n",
    "library(GGally)\n",
    "library(modelr)\n",
    "source(\"tests_worksheet_02.R\")"
   ]
  },
  {
   "cell_type": "markdown",
   "metadata": {
    "deletable": false,
    "editable": false,
    "nbgrader": {
     "cell_type": "markdown",
     "checksum": "76e0fc8bf27a063a5ff88be295c611ba",
     "grade": false,
     "grade_id": "cell-e9b0c70835891fa8",
     "locked": true,
     "schema_version": 3,
     "solution": false,
     "task": false
    }
   },
   "source": [
    "### 1. MLR additive models with continuous input variables\n",
    "\n",
    "In this section, we will continue working with the dataset `US_cancer_data` introduced in `worksheet_01`. You noticed a positive association between mortality rates (measured by `TARGET_deathRate`) and the percentage of the county's populace in poverty (measured by `povertyPercent`).\n",
    "\n",
    "However, there may be other variables associated with mortality. \n",
    "\n",
    "Let's start by visualizing the relationship between the variables in our data again using the plotting function `ggpairs()` from the library `GGally.` The `ggplot()` object's name will be `US_cancer_data_pairplots`."
   ]
  },
  {
   "cell_type": "code",
   "execution_count": null,
   "metadata": {
    "deletable": false,
    "editable": false,
    "nbgrader": {
     "cell_type": "code",
     "checksum": "2a6055f3c6a6d9d61291c1650bd8c825",
     "grade": false,
     "grade_id": "cell-14bec94f435065b2",
     "locked": true,
     "schema_version": 3,
     "solution": false,
     "task": false
    },
    "tags": []
   },
   "outputs": [],
   "source": [
    "US_cancer_data <- \n",
    "    read_csv(\"data/US_county_cancer_data.csv\") %>%\n",
    "    select(TARGET_deathRate, povertyPercent, PctPrivateCoverage)"
   ]
  },
  {
   "cell_type": "code",
   "execution_count": null,
   "metadata": {
    "deletable": false,
    "editable": false,
    "nbgrader": {
     "cell_type": "code",
     "checksum": "2290c9ae073a9c0086ef6c0b4a2321b5",
     "grade": false,
     "grade_id": "cell-4bfbcd7bf2300890",
     "locked": true,
     "schema_version": 3,
     "solution": false,
     "task": false
    },
    "tags": []
   },
   "outputs": [],
   "source": [
    "US_cancer_data_pairplots <- \n",
    "    US_cancer_data %>%\n",
    "    ggpairs(progress = FALSE) +\n",
    "    theme(\n",
    "        text = element_text(size = 15),\n",
    "        plot.title = element_text(face = \"bold\"),\n",
    "        axis.title = element_text(face = \"bold\")\n",
    "    )\n",
    "\n",
    "US_cancer_data_pairplots"
   ]
  },
  {
   "cell_type": "markdown",
   "metadata": {
    "deletable": false,
    "editable": false,
    "nbgrader": {
     "cell_type": "markdown",
     "checksum": "33de53a9fb8efd3cf65847b4767a6297",
     "grade": false,
     "grade_id": "cell-fec7f6f2d3be53a5",
     "locked": true,
     "schema_version": 3,
     "solution": false,
     "task": false
    }
   },
   "source": [
    "**Question:** Should we study the relation of the response with input variables separately or jointly using linear regressions?"
   ]
  },
  {
   "cell_type": "markdown",
   "metadata": {
    "deletable": false,
    "editable": false,
    "nbgrader": {
     "cell_type": "markdown",
     "checksum": "bc8942b8b6b814f221749c4546302511",
     "grade": false,
     "grade_id": "cell-999efddaa87f6e21",
     "locked": true,
     "schema_version": 3,
     "solution": false,
     "task": false
    },
    "tags": []
   },
   "source": [
    "#### Additive models versus models with interaction: R code\n",
    "\n",
    "In R, you can add input variables on the right-hand side of the formula with signs `+` or `*`, depending on the assumptions made. For example, in an **additive model**, variables are added to the model using `+`. If you want to model interactions between variables, you use `*`.\n",
    "\n",
    "##### Additive Model:\n",
    "\n",
    "The additive model is given by: \n",
    "\n",
    "$$\n",
    "y_i = \\beta_0 + \\beta_1\\times \\text{povertyPercent}_i + \\beta_2\\times \\text{PctPrivateCoverage}_i + \\epsilon_i\n",
    "$$\n",
    "\n",
    "where $y_i$ is the $i$th entry of TARGET_deathRate.\n",
    "\n",
    "You can fit such a model using the `+` sign on the right-hand side:\n",
    "\n",
    "```r\n",
    "MLR_poverty_coverage_add <- lm(TARGET_deathRate ~ povertyPercent + PctPrivateCoverage, data = US_cancer_data)\n",
    "```\n",
    "\n",
    "##### Model with interaction:\n",
    "\n",
    "On the other hand, the interactive model would also include the product between `povertyPercent` and  `PctPrivateCoverage`. The model equation is given by: \n",
    "\n",
    "$$\n",
    "y_i = \\beta_0 + \\beta_1\\times \\text{povertyPercent}_i + \\beta_2\\times \\text{PctPrivateCoverage}_i + \\beta_3\\times \\text{povertyPercent}_i\\times \\text{PctPrivateCoverage}_i +\\epsilon_i\n",
    "$$\n",
    "\n",
    "You can fit such a model using the `*` sign on the right-hand side:\n",
    "\n",
    "```r\n",
    "MLR_poverty_coverage_add <- lm(TARGET_deathRate ~ povertyPercent * PctPrivateCoverage, data = US_cancer_data)\n",
    "```"
   ]
  },
  {
   "cell_type": "markdown",
   "metadata": {
    "deletable": false,
    "editable": false,
    "nbgrader": {
     "cell_type": "markdown",
     "checksum": "5079477b9048eb8aecebe119cb533be4",
     "grade": false,
     "grade_id": "cell-f2341623cf23ea5f",
     "locked": true,
     "schema_version": 3,
     "solution": false,
     "task": false
    }
   },
   "source": [
    "**Question 1.0**\n",
    "<br>{points: 2}\n",
    "\n",
    "Using the dataset `US_cancer_data` fit the following 3 models:\n",
    "\n",
    "**A.** A SLR with `TARGET_deathRate` as the response and `povertyPercent` as a single input variable. Call this model `SLR_poverty`\n",
    "\n",
    "**B.** A SLR with `TARGET_deathRate` as the response and `PctPrivateCoverage` as a single input variable. Call this model `SLR_coverage`\n",
    "\n",
    "**C.** An additive MLR with `TARGET_deathRate` as the response and `povertyPercent` and `PctPrivateCoverage` as input variables. Call this model `MLR_poverty_coverage`\n",
    "\n",
    "*Fill out those parts indicated with `...`, uncomment the corresponding code in the cell below, and run it.*"
   ]
  },
  {
   "cell_type": "code",
   "execution_count": null,
   "metadata": {
    "deletable": false,
    "nbgrader": {
     "cell_type": "code",
     "checksum": "74c0112856209f790d2d14afa7a41244",
     "grade": false,
     "grade_id": "cell-6c3053af7bc15cf8",
     "locked": false,
     "schema_version": 3,
     "solution": true,
     "task": false
    },
    "tags": []
   },
   "outputs": [],
   "source": [
    "# Model A \n",
    "# SLR_poverty <- ...(..., ...)\n",
    "# SLR_poverty\n",
    "\n",
    "# Model B\n",
    "# SLR_coverage <- ...(..., ...)\n",
    "# SLR_coverage\n",
    "\n",
    "# Model C\n",
    "# MLR_poverty_coverage <- ...(..., ...)\n",
    "# MLR_poverty_coverage\n",
    "\n",
    "# your code here\n",
    "fail() # No Answer - remove if you provide an answer"
   ]
  },
  {
   "cell_type": "code",
   "execution_count": null,
   "metadata": {
    "deletable": false,
    "editable": false,
    "nbgrader": {
     "cell_type": "code",
     "checksum": "abc457f5b02a04a7867466d6b15a9687",
     "grade": true,
     "grade_id": "cell-e5e9619068ec6fc6",
     "locked": true,
     "points": 1,
     "schema_version": 3,
     "solution": false,
     "task": false
    },
    "tags": []
   },
   "outputs": [],
   "source": [
    "test_1.0.0()\n",
    "test_1.0.1()\n",
    "test_1.0.2()"
   ]
  },
  {
   "cell_type": "markdown",
   "metadata": {
    "deletable": false,
    "editable": false,
    "nbgrader": {
     "cell_type": "markdown",
     "checksum": "9c156f61bc353874f9cb75bc49961c80",
     "grade": false,
     "grade_id": "cell-1c263f0fea96650d",
     "locked": true,
     "schema_version": 3,
     "solution": false,
     "task": false
    }
   },
   "source": [
    "**Question 1.1**\n",
    "<br>{points: 1}\n",
    "\n",
    "Use `tidy` and manipulate the output to obtain the estimated coefficients of the variable `PctPrivateCoverage` in models **B** and **C**, respectively. Assign your answers to the objects `SLR_coverage_coef` and `MLR_coverage_coef`.\n",
    "\n",
    "*Fill out those parts indicated with ..., uncomment the corresponding code in the cell below, and run it.*"
   ]
  },
  {
   "cell_type": "code",
   "execution_count": null,
   "metadata": {
    "deletable": false,
    "nbgrader": {
     "cell_type": "code",
     "checksum": "8c08a2dafc90aed91305a3cb8a4623f8",
     "grade": false,
     "grade_id": "cell-c3a6ef315856d940",
     "locked": false,
     "schema_version": 3,
     "solution": true,
     "task": false
    },
    "tags": []
   },
   "outputs": [],
   "source": [
    "# SLR_coverage_coef <- \n",
    "#     tidy(...) %>% \n",
    "#     mutate_if(is.numeric, round, 2) %>% \n",
    "#     filter(term == \"...\") %>%\n",
    "#     pull(...)\n",
    "\n",
    "# MLR_coverage_coef <- \n",
    "#     tidy(...) %>% \n",
    "#     mutate_if(is.numeric, round, 2) %>% \n",
    "#     filter(term == \"...\") %>%\n",
    "#     pull(...)\n",
    "\n",
    "# SLR_coverage_coef\n",
    "# MLR_coverage_coef\n",
    "\n",
    "\n",
    "\n",
    "# your code here\n",
    "fail() # No Answer - remove if you provide an answer\n",
    "\n",
    "SLR_coverage_coef\n",
    "MLR_coverage_coef"
   ]
  },
  {
   "cell_type": "code",
   "execution_count": null,
   "metadata": {
    "deletable": false,
    "editable": false,
    "nbgrader": {
     "cell_type": "code",
     "checksum": "78c64af1dcb4e53ea14b516de13cd9ea",
     "grade": true,
     "grade_id": "cell-e8cf16dd75d1fe83",
     "locked": true,
     "points": 1,
     "schema_version": 3,
     "solution": false,
     "task": false
    },
    "tags": []
   },
   "outputs": [],
   "source": [
    "test_1.1.0()\n",
    "test_1.1.1()"
   ]
  },
  {
   "cell_type": "markdown",
   "metadata": {
    "deletable": false,
    "editable": false,
    "nbgrader": {
     "cell_type": "markdown",
     "checksum": "002cec62fe51f9fe9b4b0ba53cb75d96",
     "grade": false,
     "grade_id": "cell-e0d1e9302b5ffd5d",
     "locked": true,
     "schema_version": 3,
     "solution": false,
     "task": false
    }
   },
   "source": [
    "The results from Question 1.1 show that the estimated relation between `TARGET_deathRate` and `PctPrivateCoverage` is ***not*** the same in both models. But why?\n",
    "\n",
    "- In the MLR, the coefficient of `PctPrivateCoverage` models the relation between `TARGET_deathRate` and `PctPrivateCoverage` *for any fixed percentage of the populace in poverty*.\n",
    "\n",
    "- In the SLR, the variable `povertyPercent` is not even in the model. Thus, the variation in mortality due to this variable is part of the error term, together with many other variables that may be related to mortality.\n",
    "\n",
    "Keeping these observations in mind, distinguish between the following interpretations:"
   ]
  },
  {
   "cell_type": "markdown",
   "metadata": {
    "deletable": false,
    "editable": false,
    "nbgrader": {
     "cell_type": "markdown",
     "checksum": "e066b8ff717fc3abbe776259841b2f39",
     "grade": false,
     "grade_id": "cell-4166a7b5a8dd3e4f",
     "locked": true,
     "schema_version": 3,
     "solution": false,
     "task": false
    }
   },
   "source": [
    "**Question 1.2**\n",
    "<br>{points: 1}\n",
    "\n",
    "Use the estimates from Question 1.1 to complete the following interpretations:\n",
    "\n",
    "1. *On average*, a 1 unit increase in the percentage of county residents with private health coverage is associated with an expected ...`answer1.2.0`...(cases/100,000) change in cancer mortality per capita.\n",
    "\n",
    "\n",
    "2. *For any fixed percentage of the populace in poverty*, a 1 unit increase in the percentage of county residents with private health coverage is associated with an expected ...`answer1.2.1`...(cases/100,000) change in cancer mortality per capita.\n",
    "\n",
    "\n",
    "*Assign your answers to the objects `answer1.2.0` and `answer1.2.1` (numeric type).* \n",
    "\n",
    "**Tip: Your answers should be the names of the objects used to store the estimates in the previous question**"
   ]
  },
  {
   "cell_type": "code",
   "execution_count": null,
   "metadata": {
    "deletable": false,
    "nbgrader": {
     "cell_type": "code",
     "checksum": "56ac45cde14c95b07816df0860abcec8",
     "grade": false,
     "grade_id": "cell-1f531a6a33ef6231",
     "locked": false,
     "schema_version": 3,
     "solution": true,
     "task": false
    },
    "tags": []
   },
   "outputs": [],
   "source": [
    "# answer1.2.0 <- ...\n",
    "#answer1.2.0\n",
    "\n",
    "# answer1.2.1 <- ...\n",
    "#answer1.2.1\n",
    "\n",
    "# your code here\n",
    "fail() # No Answer - remove if you provide an answer"
   ]
  },
  {
   "cell_type": "code",
   "execution_count": null,
   "metadata": {
    "deletable": false,
    "editable": false,
    "nbgrader": {
     "cell_type": "code",
     "checksum": "1a73ed9bbbea62c3b46daefb083b1968",
     "grade": true,
     "grade_id": "cell-ab9a7716b0d70932",
     "locked": true,
     "points": 1,
     "schema_version": 3,
     "solution": false,
     "task": false
    },
    "tags": []
   },
   "outputs": [],
   "source": [
    "test_1.2.0()\n",
    "test_1.2.1()"
   ]
  },
  {
   "cell_type": "markdown",
   "metadata": {
    "deletable": false,
    "editable": false,
    "nbgrader": {
     "cell_type": "markdown",
     "checksum": "6d90171c1df6480e1c0f3ef78ae5b2c5",
     "grade": false,
     "grade_id": "cell-1d29345fdfe81eac",
     "locked": true,
     "schema_version": 3,
     "solution": false,
     "task": false
    }
   },
   "source": [
    "**Question 1.3**\n",
    "<br>{points: 1}\n",
    "\n",
    "As we have learned for SLRs, `lm` uses some theoretical results to measure the sample-to-sample variation of the estimators. The same is true for the estimators of MLR coefficients. \n",
    "\n",
    "Use `tidy` to obtain the standard errors, statistics, and p-values for the coefficients of `MLR_poverty_coverage` model which are needed to perform statistical hypothesis tests. \n",
    "\n",
    "Store them in the variable `MLR_poverty_coverage_results`.\n",
    "\n",
    "*Fill out those parts indicated with ..., uncomment the corresponding code in the cell below, and run it.*"
   ]
  },
  {
   "cell_type": "code",
   "execution_count": null,
   "metadata": {
    "deletable": false,
    "nbgrader": {
     "cell_type": "code",
     "checksum": "cf6f73b7fd17e486b315e5289d79d3dd",
     "grade": false,
     "grade_id": "cell-4caa40aab9d5f472",
     "locked": false,
     "schema_version": 3,
     "solution": true,
     "task": false
    },
    "tags": []
   },
   "outputs": [],
   "source": [
    "# MLR_poverty_coverage_results <- \n",
    "#    ...(...) %>%\n",
    "#    mutate_if(is.numeric, round, 2)\n",
    "\n",
    "# your code here\n",
    "fail() # No Answer - remove if you provide an answer\n",
    "\n",
    "MLR_poverty_coverage_results"
   ]
  },
  {
   "cell_type": "code",
   "execution_count": null,
   "metadata": {
    "deletable": false,
    "editable": false,
    "nbgrader": {
     "cell_type": "code",
     "checksum": "8a9dbbca0467f16b60e4664da8ecb436",
     "grade": true,
     "grade_id": "cell-669d1af7dbfd9ed2",
     "locked": true,
     "points": 1,
     "schema_version": 3,
     "solution": false,
     "task": false
    },
    "tags": []
   },
   "outputs": [],
   "source": [
    "test_1.3()"
   ]
  },
  {
   "cell_type": "markdown",
   "metadata": {
    "deletable": false,
    "editable": false,
    "nbgrader": {
     "cell_type": "markdown",
     "checksum": "6ebc81e975c2226ab2caec65d1171898",
     "grade": false,
     "grade_id": "cell-8bdff6da17cfb4e7",
     "locked": true,
     "schema_version": 3,
     "solution": false,
     "task": false
    }
   },
   "source": [
    "**Question 1.4**\n",
    "<br>{points: 1}\n",
    "\n",
    "Based on the output stored in `MLR_poverty_coverage_results` with a significance level $\\alpha = 0.05$, in plain words, what is the conclusion of the hypothesis testing for the association between mortality and the percentage of county residents with private health coverage?\n",
    "\n",
    "**A.** We reject the null hypothesis; thus, holding the percentage of county's populace in poverty constant (at any value), the percentage of county residents with private health coverage has a statistically significant effect on the county's cancer mortality per capita (cases/100,000).\n",
    "\n",
    "**B.** We fail to reject the null hypothesis; thus, holding the percentage of county's populace in poverty constant (at any value), the percentage of county residents with private health coverage does not have a significant effect on the county's cancer mortality per capita (cases/100,000).\n",
    "\n",
    "**C.** We fail to reject the null hypothesis; thus, holding the percentage of county's populace in poverty constant (at any value), the percentage of county residents with private health coverage is not significantly associated with the county's cancer mortality per capita (cases/100,000).\n",
    "\n",
    "**D.** We reject the null hypothesis; thus, holding the percentage of county's populace in poverty constant (at any value), the percentage of county residents with private health coverage is significantly associated with the county's cancer mortality per capita (cases/100,000).\n",
    "\n",
    "\n",
    "*Assign your answer to an object called `answer1.4`. Your answer should be one of `\"A\"`, `\"B\"`, `\"C\"`, or `\"D\"` surrounded by quotes.*"
   ]
  },
  {
   "cell_type": "code",
   "execution_count": null,
   "metadata": {
    "deletable": false,
    "nbgrader": {
     "cell_type": "code",
     "checksum": "43d787e9da21bcdb4920240a74123b76",
     "grade": false,
     "grade_id": "cell-a3da1cb1cf749dab",
     "locked": false,
     "schema_version": 3,
     "solution": true,
     "task": false
    },
    "tags": []
   },
   "outputs": [],
   "source": [
    "# answer1.4 <- \n",
    "\n",
    "# your code here\n",
    "fail() # No Answer - remove if you provide an answer"
   ]
  },
  {
   "cell_type": "code",
   "execution_count": null,
   "metadata": {
    "deletable": false,
    "editable": false,
    "nbgrader": {
     "cell_type": "code",
     "checksum": "eaa9fef8b213fd86312c4a43f84f9fc2",
     "grade": true,
     "grade_id": "cell-9439f55a394cc7d8",
     "locked": true,
     "points": 1,
     "schema_version": 3,
     "solution": false,
     "task": false
    },
    "tags": []
   },
   "outputs": [],
   "source": [
    "test_1.4()"
   ]
  },
  {
   "cell_type": "markdown",
   "metadata": {
    "deletable": false,
    "editable": false,
    "nbgrader": {
     "cell_type": "markdown",
     "checksum": "bde4590fc6c65a909d2754a339f9cf49",
     "grade": false,
     "grade_id": "cell-d03e76b877e96808",
     "locked": true,
     "schema_version": 3,
     "solution": false,
     "task": false
    }
   },
   "source": [
    "\n",
    "**Important:** <font color=\"blue\"> MLR *simultaneously* models the association of multiple predictors with the response\n",
    "\n",
    "In additive models:\n",
    "\n",
    "- we assume that the association between each input and the response does *not* vary across values of other variables\n",
    "    \n",
    "    \n",
    "- each estimate is interpreted as the association of the input variable with the response, keeping all other input variables **in the model** constant (at any value!)."
   ]
  },
  {
   "cell_type": "markdown",
   "metadata": {
    "deletable": false,
    "editable": false,
    "nbgrader": {
     "cell_type": "markdown",
     "checksum": "e54b5a986cfdef27557017ef0a9ea08c",
     "grade": false,
     "grade_id": "cell-2d1ba07bb9b4b1f0",
     "locked": true,
     "schema_version": 3,
     "solution": false,
     "task": false
    }
   },
   "source": [
    "## 2. Categorical input variables with 2 or more levels\n",
    "In STAT 201 course, you used statistical tools to analyze whether population quantities vary among groups. For instance, you investigated if the average donation amount is influenced by different versions of a website (with two or more variations). In these scenarios, you are exploring the relationship between two variables. In this example, you compare donations (in $) with website versions (with levels A and B).\n",
    "\n",
    "**Question:** Can we use linear regression to compare population quantities from different groups?\n",
    "\n",
    "The answer is: yes! We can formulate these problems as linear models as well. \n",
    "\n",
    "Let's use the `US_cancer_data` to explore if the cancer mortality differ by states. \n",
    "\n",
    "> Note: the original `US_county_cancer_data` does not contain a specific column for the state where each county belongs, so we'll get that information from the variable `Geography` using code to split strings.\n",
    "\n",
    "Let's start by comparing the mortality rates in 2 states: *Alabama* vs *California*. "
   ]
  },
  {
   "cell_type": "code",
   "execution_count": null,
   "metadata": {
    "deletable": false,
    "editable": false,
    "nbgrader": {
     "cell_type": "code",
     "checksum": "7f51cf0fef08485c0570264c087dab98",
     "grade": false,
     "grade_id": "cell-7e42615a46c8b5b9",
     "locked": true,
     "schema_version": 3,
     "solution": false,
     "task": false
    },
    "tags": []
   },
   "outputs": [],
   "source": [
    "US_cancer_data <- \n",
    "    read_csv(\"data/US_county_cancer_data.csv\") %>%\n",
    "    select(TARGET_deathRate, povertyPercent, PctPrivateCoverage, Geography) %>%\n",
    "    mutate(state = str_extract(Geography, \"[^,]+$\")) %>% # Extract the text after the \",\" \n",
    "    mutate(state = str_trim(state, side = 'both')) %>%  # Remove the spaces from beginning and end\n",
    "    mutate(state = as_factor(state)) # Converts the strings in factors\n",
    "                            \n",
    "head(US_cancer_data, 3)\n",
    "str(US_cancer_data)"
   ]
  },
  {
   "cell_type": "code",
   "execution_count": null,
   "metadata": {
    "deletable": false,
    "editable": false,
    "nbgrader": {
     "cell_type": "code",
     "checksum": "aa5c641d56749b620f3ce872ed523dbc",
     "grade": false,
     "grade_id": "cell-6dd23eb9cc946271",
     "locked": true,
     "schema_version": 3,
     "solution": false,
     "task": false
    },
    "tags": []
   },
   "outputs": [],
   "source": [
    "AC_cancer_data <- \n",
    "    US_cancer_data %>%\n",
    "    filter(state %in% c(\"California\", \"Alabama\")) %>% \n",
    "    droplevels()\n",
    "\n",
    "str(AC_cancer_data)"
   ]
  },
  {
   "cell_type": "markdown",
   "metadata": {
    "deletable": false,
    "editable": false,
    "nbgrader": {
     "cell_type": "markdown",
     "checksum": "873a001a436b79622404ebb6e60dc2b1",
     "grade": false,
     "grade_id": "cell-15aa0f5be3b0c198",
     "locked": true,
     "schema_version": 3,
     "solution": false,
     "task": false
    }
   },
   "source": [
    "**Question 2.0**\n",
    "<br>{points: 1}\n",
    "\n",
    "Let's start by graphically comparing both states' distributions and the spread of mortality rates. We will use side-by-side boxplots. The `ggplot()` object's name will be `TARGET_deathRate_boxplots`. \n",
    "\n",
    "> Note that function `stat_summary()` will be needed to add the average mortality rates in each state as points on top of each boxplot.\n",
    "\n",
    "*Fill out those parts indicated with `...`, uncomment the corresponding code in the cell below, and run it.*"
   ]
  },
  {
   "cell_type": "code",
   "execution_count": null,
   "metadata": {
    "deletable": false,
    "nbgrader": {
     "cell_type": "code",
     "checksum": "b58fa1d89c117d9c591c88a0a9aad679",
     "grade": false,
     "grade_id": "cell-71bef695d66fdf12",
     "locked": false,
     "schema_version": 3,
     "solution": true,
     "task": false
    },
    "tags": []
   },
   "outputs": [],
   "source": [
    "# Adjust these numbers so the plot looks good in your desktop.\n",
    "options(repr.plot.width = 15, repr.plot.height = 7) \n",
    "\n",
    "# TARGET_deathRate_boxplots <- \n",
    "#   ... %>%\n",
    "#   ggplot() +\n",
    "#   ...(aes(..., ..., fill = ...)) +\n",
    "#   ggtitle(...) +\n",
    "#   xlab(...) +\n",
    "#   ylab(...) +\n",
    "#   stat_summary(aes(..., ...),\n",
    "#     fun = ..., geom = \"point\", colour = \"yellow\", \n",
    "#     shape = 18, size = 5\n",
    "#   ) +\n",
    "#   theme(\n",
    "#     text = element_text(size = 18),\n",
    "#     plot.title = element_text(face = \"bold\"),\n",
    "#     axis.title = element_text(face = \"bold\")\n",
    "#   )\n",
    "\n",
    "# TARGET_deathRate_boxplots\n",
    "\n",
    "# your code here\n",
    "fail() # No Answer - remove if you provide an answer"
   ]
  },
  {
   "cell_type": "code",
   "execution_count": null,
   "metadata": {
    "deletable": false,
    "editable": false,
    "nbgrader": {
     "cell_type": "code",
     "checksum": "340e4b1068d8b4415dfc1bc471ca9c0d",
     "grade": true,
     "grade_id": "cell-0c392b9d7ff9ff85",
     "locked": true,
     "points": 1,
     "schema_version": 3,
     "solution": false,
     "task": false
    },
    "tags": []
   },
   "outputs": [],
   "source": [
    "test_2.0()"
   ]
  },
  {
   "cell_type": "markdown",
   "metadata": {
    "deletable": false,
    "editable": false,
    "nbgrader": {
     "cell_type": "markdown",
     "checksum": "fb7794c05d0e1c4593ae1ddb5a3fc48f",
     "grade": false,
     "grade_id": "cell-04cf4b926da687d8",
     "locked": true,
     "schema_version": 3,
     "solution": false,
     "task": false
    }
   },
   "source": [
    "The side-by-side boxplots in `TARGET_deathRate_boxplots` show differences in mortality rates between both states. Let's use this data and a linear regression to estimate the relationship between these variables and test this hypothesis.\n",
    "\n",
    "**Question:** But how can we include a categorical variable in a mathematical equation?"
   ]
  },
  {
   "cell_type": "markdown",
   "metadata": {
    "deletable": false,
    "editable": false,
    "nbgrader": {
     "cell_type": "markdown",
     "checksum": "4c6bbbc79f5b25f7a9dea247e484627c",
     "grade": false,
     "grade_id": "cell-fdf0edc709accccf",
     "locked": true,
     "schema_version": 3,
     "solution": false,
     "task": false
    }
   },
   "source": [
    "We can think the problem as having 2 SLR in one:\n",
    "\n",
    "- For counties in Alabama, $X_i=0$, then $Y_i = \\beta_0 + \\beta_1 \\times 0 + \\varepsilon_i = \\beta_0 + \\varepsilon_i$\n",
    "\n",
    "\n",
    "- For counties in California, $X_i=1$, then $Y_i = \\beta_0 + \\beta_1 \\times 1 + \\varepsilon_i = \\beta_0 + \\beta_1 + \\varepsilon_i$\n",
    "\n",
    "\n",
    "Then,\n",
    "\n",
    "\n",
    "- For counties in Alabama, $X_i=0$, $E[Y_i|X_i=0] = \\beta_0$\n",
    "\n",
    "\n",
    "- For counties in California, $X_i=1$, $E[Y_i|X_i=1] = \\beta_0 + \\beta_1$\n",
    "\n",
    "\n"
   ]
  },
  {
   "cell_type": "markdown",
   "metadata": {
    "deletable": false,
    "editable": false,
    "nbgrader": {
     "cell_type": "markdown",
     "checksum": "fad7939164b79ae5b9f1e498542babf5",
     "grade": false,
     "grade_id": "cell-6a6cfab503bd4bcd",
     "locked": true,
     "schema_version": 3,
     "solution": false,
     "task": false
    }
   },
   "source": [
    "### R Code\n",
    "\n",
    "R creates special numerical variables for you, called dummy variables, to include in the model if you indicate that an input variable (in our case, `state`) is a *factor*. For example, \n",
    "\n",
    "`AC_data_LR <- lm(TARGET_deathRate ~ state, data = AC_cancer_data)`\n",
    "\n",
    "Since `state` is a factor, R creates a dummy variable to estimate the model:\n",
    "\n",
    "- `R` calls the dummy variable `stateCalifornia` (name of the variable followed by the level corresponding to 1)\n",
    "\n",
    "\n",
    "- The reference level (dummy variable = 0 is \"left out\") is \"Alabama\", chosen alphabetically.\n",
    "\n",
    "> **Important:** Note that there's not a *line* in this case. But we can still call it a \"linear regression\" because the model is a linear combination of variables! "
   ]
  },
  {
   "cell_type": "markdown",
   "metadata": {
    "deletable": false,
    "editable": false,
    "nbgrader": {
     "cell_type": "markdown",
     "checksum": "b20990b14c8d80781483e964bab7248d",
     "grade": false,
     "grade_id": "cell-7dd6ff8b03ac703f",
     "locked": true,
     "schema_version": 3,
     "solution": false,
     "task": false
    }
   },
   "source": [
    "**Question 2.1**\n",
    "<br>{points: 1}\n",
    "\n",
    "Using `AC_cancer_data`, use an LR to estimate the relation between `TARGET_deathRate` and `state` and assign it to the object `AC_data_LR`.\n",
    "\n",
    "*Fill out those parts indicated with `...`, uncomment the corresponding code in the cell below, and run it.*"
   ]
  },
  {
   "cell_type": "code",
   "execution_count": null,
   "metadata": {
    "deletable": false,
    "nbgrader": {
     "cell_type": "code",
     "checksum": "5e6c22753e91fd29640835dbe6181b5b",
     "grade": false,
     "grade_id": "cell-ac71cc4d1135a313",
     "locked": false,
     "schema_version": 3,
     "solution": true,
     "task": false
    },
    "tags": []
   },
   "outputs": [],
   "source": [
    "# AC_data_LR <- ...(..., data = ... )\n",
    "\n",
    "# your code here\n",
    "fail() # No Answer - remove if you provide an answer\n",
    "\n",
    "AC_data_LR"
   ]
  },
  {
   "cell_type": "code",
   "execution_count": null,
   "metadata": {
    "deletable": false,
    "editable": false,
    "nbgrader": {
     "cell_type": "code",
     "checksum": "44c4da1df28d3bffa13ba40a0b65fa14",
     "grade": true,
     "grade_id": "cell-2b958124fea93936",
     "locked": true,
     "points": 1,
     "schema_version": 3,
     "solution": false,
     "task": false
    },
    "tags": []
   },
   "outputs": [],
   "source": [
    "test_2.1.0()\n",
    "test_2.1.1()"
   ]
  },
  {
   "cell_type": "markdown",
   "metadata": {
    "deletable": false,
    "editable": false,
    "nbgrader": {
     "cell_type": "markdown",
     "checksum": "abe1288ccbdd0e93cdb009729ca55122",
     "grade": false,
     "grade_id": "cell-72a6a5135ffaaf3b",
     "locked": true,
     "schema_version": 3,
     "solution": false,
     "task": false
    }
   },
   "source": [
    "**Question 2.2**\n",
    "<br>{points: 1}\n",
    "\n",
    "Find the estimated coefficients of `AC_data_LR` using `tidy()`. Report the estimated coefficients, their standard errors, and corresponding $p$-values. Include the corresponding asymptotic 95% confidence intervals. \n",
    "\n",
    "Store the results in the variable `AC_data_LR_results`.\n",
    "\n",
    "*Fill out those parts indicated with `...`, uncomment the corresponding code in the cell below, and run it.*"
   ]
  },
  {
   "cell_type": "code",
   "execution_count": null,
   "metadata": {
    "deletable": false,
    "nbgrader": {
     "cell_type": "code",
     "checksum": "c1ced3d61bc0ae1522d1a07eda06f2ab",
     "grade": false,
     "grade_id": "cell-9294e9ba8d1b9394",
     "locked": false,
     "schema_version": 3,
     "solution": true,
     "task": false
    },
    "tags": []
   },
   "outputs": [],
   "source": [
    "# AC_data_LR_results <- \n",
    "#    ...(..., ...) %>% \n",
    "#    mutate_if(is.numeric, round, 2)\n",
    "\n",
    "# your code here\n",
    "fail() # No Answer - remove if you provide an answer\n",
    "\n",
    "AC_data_LR_results"
   ]
  },
  {
   "cell_type": "code",
   "execution_count": null,
   "metadata": {
    "deletable": false,
    "editable": false,
    "nbgrader": {
     "cell_type": "code",
     "checksum": "79c3ad1295454a0994b0e9076a32a108",
     "grade": true,
     "grade_id": "cell-57610c27ce370eb0",
     "locked": true,
     "points": 1,
     "schema_version": 3,
     "solution": false,
     "task": false
    },
    "tags": []
   },
   "outputs": [],
   "source": [
    "test_2.2()"
   ]
  },
  {
   "cell_type": "markdown",
   "metadata": {
    "deletable": false,
    "editable": false,
    "nbgrader": {
     "cell_type": "markdown",
     "checksum": "76468318feaba7e8dce11626b7be2121",
     "grade": false,
     "grade_id": "cell-349903d046e57131",
     "locked": true,
     "schema_version": 3,
     "solution": false,
     "task": false
    }
   },
   "source": [
    "**Question 2.3**\n",
    "<br>{points: 1}\n",
    "\n",
    "We want to investigate whether the states' expected mortality rates are significantly different. Hence, it will be necessary to perform hypothesis testing on the regression coefficient corresponding to `state`. In plain words, the hypotheses ($H_0$ versus $H_1$) are the following:\n",
    "\n",
    "$$H_0: \\text{there is no difference in the expected mortality rates (means) between both states}$$\n",
    "$$H_1: \\text{there is a difference in the expected mortality rates (means) between both states}$$\n",
    "\n",
    "What is the mathematical translation of these hypotheses?\n",
    "\n",
    "**A.** $H_0: \\beta_1 = 0$ vs. $H_1: \\beta_1 > 0$\n",
    "\n",
    "**B.** $H_0: \\beta_0 = 0$ vs. $H_1: \\beta_0 \\neq 0$\n",
    "\n",
    "**C.** $H_0: \\beta_0 = 0$ vs. $H_1: \\beta_0 > 0$\n",
    "\n",
    "**D.** $H_0: \\hat{\\beta}_1$ = 0 vs. $H_1: \\hat{\\beta}_1 \\neq 0$\n",
    "\n",
    "**E.** $H_0: \\hat{\\beta}_0$ = 0 vs. $H_1: \\hat{\\beta}_0 > 0$\n",
    "\n",
    "**F.** $H_0: \\beta_1 = 0$ vs. $H_1: \\beta_1 \\neq 0$\n",
    "\n",
    "*Assign your answer to an object called `answer2.3`. Your answer should be one of `\"A\"`, `\"B\"`, `\"C\"`, `\"D\"`, `\"E\"`, or `\"F\"` surrounded by quotes.*"
   ]
  },
  {
   "cell_type": "code",
   "execution_count": null,
   "metadata": {
    "deletable": false,
    "nbgrader": {
     "cell_type": "code",
     "checksum": "42bf068382585eafc24c4ce06d1a89ee",
     "grade": false,
     "grade_id": "cell-8ca28d9fe6e21a19",
     "locked": false,
     "schema_version": 3,
     "solution": true,
     "task": false
    },
    "tags": []
   },
   "outputs": [],
   "source": [
    "# answer2.3 <- \n",
    "\n",
    "# your code here\n",
    "fail() # No Answer - remove if you provide an answer"
   ]
  },
  {
   "cell_type": "code",
   "execution_count": null,
   "metadata": {
    "deletable": false,
    "editable": false,
    "nbgrader": {
     "cell_type": "code",
     "checksum": "801772c34d7a663b885f2087c4725227",
     "grade": true,
     "grade_id": "cell-936e1a3537f9f0ab",
     "locked": true,
     "points": 1,
     "schema_version": 3,
     "solution": false,
     "task": false
    },
    "tags": []
   },
   "outputs": [],
   "source": [
    "test_2.3()"
   ]
  },
  {
   "cell_type": "markdown",
   "metadata": {
    "deletable": false,
    "editable": false,
    "nbgrader": {
     "cell_type": "markdown",
     "checksum": "c779e4806fd1801660d1a072d9cf2388",
     "grade": false,
     "grade_id": "cell-70ce39d223c56952",
     "locked": true,
     "schema_version": 3,
     "solution": false,
     "task": false
    }
   },
   "source": [
    "**Question 2.4**\n",
    "<br>{points: 1}\n",
    "\n",
    "Using the corresponding $p$-value stored in `AC_data_LR_results` and a significance level $\\alpha = 0.05$, what is the conclusion of the hypothesis test in Question 2.3 in plain words?\n",
    "\n",
    "**A.** We fail to reject the null hypothesis; thus, there is no statistically significant difference in the mortality rates between states.\n",
    "\n",
    "**B.** We reject the alternative hypothesis; thus, there is no statistically significant difference between states' average mortality rates.\n",
    "\n",
    "**C.** We reject the null hypothesis; thus, there is a statistically significant difference in the average mortality rates between states.\n",
    "\n",
    "*Assign your answer to an object called `answer2.4`. Your answer should be one of `\"A\"`, `\"B\"`, or `\"C\"`, surrounded by quotes.*"
   ]
  },
  {
   "cell_type": "code",
   "execution_count": null,
   "metadata": {
    "deletable": false,
    "nbgrader": {
     "cell_type": "code",
     "checksum": "fa7fb29e168295ddd6199cdc43245fb9",
     "grade": false,
     "grade_id": "cell-171580d19801a8fc",
     "locked": false,
     "schema_version": 3,
     "solution": true,
     "task": false
    },
    "tags": []
   },
   "outputs": [],
   "source": [
    "# answer2.4 <- \n",
    "\n",
    "# your code here\n",
    "fail() # No Answer - remove if you provide an answer"
   ]
  },
  {
   "cell_type": "code",
   "execution_count": null,
   "metadata": {
    "deletable": false,
    "editable": false,
    "nbgrader": {
     "cell_type": "code",
     "checksum": "06287bcb963506e246ba2839953b5f89",
     "grade": true,
     "grade_id": "cell-838f7849134cd6fe",
     "locked": true,
     "points": 1,
     "schema_version": 3,
     "solution": false,
     "task": false
    },
    "tags": []
   },
   "outputs": [],
   "source": [
    "test_2.4()"
   ]
  },
  {
   "cell_type": "markdown",
   "metadata": {
    "deletable": false,
    "editable": false,
    "nbgrader": {
     "cell_type": "markdown",
     "checksum": "344f188073b9cb724e315d14016b1773",
     "grade": false,
     "grade_id": "cell-1e3ed8f6cfb8008d",
     "locked": true,
     "schema_version": 3,
     "solution": false,
     "task": false
    }
   },
   "source": [
    "**Question 2.5**\n",
    "<br>{points: 1}\n",
    "\n",
    "Let's take a look at the results again:"
   ]
  },
  {
   "cell_type": "code",
   "execution_count": null,
   "metadata": {
    "tags": []
   },
   "outputs": [],
   "source": [
    "AC_data_LR_results"
   ]
  },
  {
   "cell_type": "markdown",
   "metadata": {},
   "source": [
    "What is the correct interpretation of the estimated regression coefficient for the dummy variable `stateCalifornia`?\n",
    "\n",
    "**A.** The average mortality rate in California is 34.63 (cases/100,000) below that of Alabama.\n",
    "\n",
    "**B.** The average mortality rate in Alabama is 34.63 (cases/100,000) below that of California.\n",
    "\n",
    "**C.** The average mortality rate in California is 34.63 (cases/100,000).\n",
    "\n",
    "\n",
    "*Assign your answers to the object `answer2.5` (it should be one of `\"A\"`, `\"B\"`, or `\"C\"` surrounded by quotes).*"
   ]
  },
  {
   "cell_type": "code",
   "execution_count": null,
   "metadata": {
    "deletable": false,
    "nbgrader": {
     "cell_type": "code",
     "checksum": "2a48c749cc415b3f260d61ec5ddf9b43",
     "grade": false,
     "grade_id": "cell-974569bc8b3b9f4d",
     "locked": false,
     "schema_version": 3,
     "solution": true,
     "task": false
    },
    "tags": []
   },
   "outputs": [],
   "source": [
    "# answer2.5 <- ...\n",
    "\n",
    "# your code here\n",
    "fail() # No Answer - remove if you provide an answer"
   ]
  },
  {
   "cell_type": "code",
   "execution_count": null,
   "metadata": {
    "deletable": false,
    "editable": false,
    "nbgrader": {
     "cell_type": "code",
     "checksum": "df1fdf1894f620e99884f01a0442fda6",
     "grade": true,
     "grade_id": "cell-689404c848bdbf57",
     "locked": true,
     "points": 1,
     "schema_version": 3,
     "solution": false,
     "task": false
    },
    "tags": []
   },
   "outputs": [],
   "source": [
    "test_2.5()"
   ]
  },
  {
   "cell_type": "markdown",
   "metadata": {
    "deletable": false,
    "editable": false,
    "nbgrader": {
     "cell_type": "markdown",
     "checksum": "b00946fabf1be3d48026bd78c90cfd58",
     "grade": false,
     "grade_id": "cell-4a32c1f2fbee683c",
     "locked": true,
     "schema_version": 3,
     "solution": false,
     "task": false
    }
   },
   "source": [
    "### But wait: isn't this a 2-sample t-test?\n",
    "\n",
    "Run the following cell and discuss results with your neighbour."
   ]
  },
  {
   "cell_type": "code",
   "execution_count": null,
   "metadata": {
    "deletable": false,
    "editable": false,
    "nbgrader": {
     "cell_type": "code",
     "checksum": "cde7897216fdc567b8b907f9efe59226",
     "grade": false,
     "grade_id": "cell-00b0e2f481d93a54",
     "locked": true,
     "schema_version": 3,
     "solution": false,
     "task": false
    },
    "tags": []
   },
   "outputs": [],
   "source": [
    "t.test(TARGET_deathRate ~ state, AC_cancer_data, var.equal=T)"
   ]
  },
  {
   "cell_type": "markdown",
   "metadata": {
    "deletable": false,
    "editable": false,
    "nbgrader": {
     "cell_type": "markdown",
     "checksum": "0df7c0ae960d335b4fbe87ac02d7e2b4",
     "grade": false,
     "grade_id": "cell-6d25c79cd467ed7a",
     "locked": true,
     "schema_version": 3,
     "solution": false,
     "task": false
    }
   },
   "source": [
    "This is not a coincidence! `lm` is running the *same* *t*-test!!"
   ]
  },
  {
   "cell_type": "markdown",
   "metadata": {
    "deletable": false,
    "editable": false,
    "nbgrader": {
     "cell_type": "markdown",
     "checksum": "d9df87078b7a8972745872789c32e238",
     "grade": false,
     "grade_id": "cell-ecc1ba485f634be7",
     "locked": true,
     "schema_version": 3,
     "solution": false,
     "task": false
    }
   },
   "source": [
    "### Categorical variable with more than 2 levels\n",
    "\n",
    "But what do we do if the categorical variable has more levels?\n",
    "\n",
    "We need additional dummy variables. Dummy variables are comparisons to a *reference* level. Thus, we need more of these variables to compare all other levels with respect to the reference.\n",
    "\n",
    "Don't worry, R will create these variables (as long as the categorical variables is a factor)."
   ]
  },
  {
   "cell_type": "code",
   "execution_count": null,
   "metadata": {
    "deletable": false,
    "editable": false,
    "nbgrader": {
     "cell_type": "code",
     "checksum": "b85958ad3e23af2a0e0e1d39e844e6eb",
     "grade": false,
     "grade_id": "cell-9f33651d68c60288",
     "locked": true,
     "schema_version": 3,
     "solution": false,
     "task": false
    },
    "tags": []
   },
   "outputs": [],
   "source": [
    "ACK_cancer_data <- \n",
    "    US_cancer_data %>%\n",
    "    filter(state %in% c(\"California\", \"Alabama\", \"Kansas\")) %>% \n",
    "    droplevels()"
   ]
  },
  {
   "cell_type": "code",
   "execution_count": null,
   "metadata": {
    "deletable": false,
    "editable": false,
    "nbgrader": {
     "cell_type": "code",
     "checksum": "a7769e52677c6c1edd26a2c561cd28dd",
     "grade": false,
     "grade_id": "cell-d1b3a92b37895e76",
     "locked": true,
     "schema_version": 3,
     "solution": false,
     "task": false
    },
    "tags": []
   },
   "outputs": [],
   "source": [
    "ACK_data_LR <- \n",
    "    tidy(lm(TARGET_deathRate ~ state, data = ACK_cancer_data)) %>% \n",
    "    mutate_if(is.numeric, round, 3)\n",
    "\n",
    "ACK_data_LR"
   ]
  },
  {
   "cell_type": "markdown",
   "metadata": {},
   "source": [
    "From the table above, you can get the (sample) average mortality rate of each state:\n",
    "\n",
    "- Alabama (reference level): 192.729\n",
    "- California: 192.729 - 34.632 = 158.097\n",
    "- Kansas: 192.729 - 24.894 = 167.835"
   ]
  },
  {
   "cell_type": "markdown",
   "metadata": {},
   "source": [
    "#### Overriding R's default behavior\n",
    "\n",
    "We can override R's default behavior for selecting a reference level and use 0 as the reference level. This will make all the estimates the actual mean instead of the difference from the reference level."
   ]
  },
  {
   "cell_type": "code",
   "execution_count": null,
   "metadata": {
    "tags": []
   },
   "outputs": [],
   "source": [
    "# The 0 tells R to not fit an intercept (which would be the reference level). \n",
    "tidy(lm(TARGET_deathRate ~ 0 + state, data = ACK_cancer_data)) %>% \n",
    "    mutate_if(is.numeric, round, 3)"
   ]
  },
  {
   "cell_type": "markdown",
   "metadata": {
    "deletable": false,
    "editable": false,
    "nbgrader": {
     "cell_type": "markdown",
     "checksum": "60d733b77e4869bf7b95c687ead8379d",
     "grade": false,
     "grade_id": "cell-afdd9961cbbef389",
     "locked": true,
     "schema_version": 3,
     "solution": false,
     "task": false
    }
   },
   "source": [
    "### Take-away points\n",
    "\n",
    "- Categorical variables can be included in a LR using dummy variables;\n",
    "\n",
    "- R creates them for all factors in the model\n",
    "        \n",
    "- (by default) a reference level is chosen alphabetically and levels of a categorical variable are compared to the reference level!\n",
    "\n",
    "- we can force R to not fit an intercept, so we have three dummy variables, where each coefficient will give the mean. Be careful; this is not the default behaviour. "
   ]
  },
  {
   "cell_type": "markdown",
   "metadata": {
    "deletable": false,
    "editable": false,
    "nbgrader": {
     "cell_type": "markdown",
     "checksum": "75ba37dd56fa85e0fa147f0a387186e1",
     "grade": false,
     "grade_id": "cell-10025b2da2bab927",
     "locked": true,
     "schema_version": 3,
     "solution": false,
     "task": false
    },
    "tags": []
   },
   "source": [
    "# PART II"
   ]
  },
  {
   "cell_type": "markdown",
   "metadata": {
    "deletable": false,
    "editable": false,
    "nbgrader": {
     "cell_type": "markdown",
     "checksum": "6c482153f69501853c05c64642125ea5",
     "grade": false,
     "grade_id": "cell-b0786b1179eeda7a",
     "locked": true,
     "schema_version": 3,
     "solution": false,
     "task": false
    }
   },
   "source": [
    "## 3. MLR: additive model with one continuous and one categorical variable"
   ]
  },
  {
   "cell_type": "markdown",
   "metadata": {
    "deletable": false,
    "editable": false,
    "nbgrader": {
     "cell_type": "markdown",
     "checksum": "f995b2407a75abfebfd56f6456e81b2d",
     "grade": false,
     "grade_id": "cell-b4095171532c8b1f",
     "locked": true,
     "schema_version": 3,
     "solution": false,
     "task": false
    }
   },
   "source": [
    "**Question 3.0**\n",
    "<br>{points: 1}\n",
    "\n",
    "Use the `AC_cancer_data` dataset to estimate the following additive model:\n",
    "$$\n",
    "y_i = \\beta_0 + \\beta_1\\times\\text{stateCalifornia}_i + \\beta_2\\times\\text{povertyPercent}_i + \\varepsilon_i\n",
    "$$\n",
    "\n",
    "Call the object to store the estimated additive model `MLR_state_poverty_add`.\n",
    "\n",
    "Report the estimated coefficients, their standard errors, and corresponding $p$-values using `tidy()`. Include the corresponding asymptotic 95% confidence intervals. \n",
    "\n",
    "Store the results in the variable `MLR_state_poverty_add_results`.\n",
    "\n",
    "*Fill out those parts indicated with `...`, uncomment the corresponding code in the cell below, and run it.*"
   ]
  },
  {
   "cell_type": "code",
   "execution_count": null,
   "metadata": {
    "deletable": false,
    "nbgrader": {
     "cell_type": "code",
     "checksum": "3b8f2920582890e8baed5f7f2b7f1f6e",
     "grade": false,
     "grade_id": "cell-2946a12265647212",
     "locked": false,
     "schema_version": 3,
     "solution": true,
     "task": false
    },
    "tags": []
   },
   "outputs": [],
   "source": [
    "# MLR_state_poverty_add <- ...(..., ...)\n",
    "\n",
    "# MLR_state_poverty_add_results <- \n",
    "#    ...(..., ...) %>% \n",
    "#    mutate_if(is.numeric, round, 2)\n",
    "\n",
    "# your code here\n",
    "fail() # No Answer - remove if you provide an answer\n",
    "\n",
    "MLR_state_poverty_add\n",
    "MLR_state_poverty_add_results"
   ]
  },
  {
   "cell_type": "code",
   "execution_count": null,
   "metadata": {
    "deletable": false,
    "editable": false,
    "nbgrader": {
     "cell_type": "code",
     "checksum": "8b0e71778b6718ad1cb938fa3f017253",
     "grade": true,
     "grade_id": "cell-be7150262eba4cb3",
     "locked": true,
     "points": 1,
     "schema_version": 3,
     "solution": false,
     "task": false
    },
    "slideshow": {
     "slide_type": ""
    },
    "tags": []
   },
   "outputs": [],
   "source": [
    "test_3.0()"
   ]
  },
  {
   "cell_type": "markdown",
   "metadata": {
    "deletable": false,
    "editable": false,
    "nbgrader": {
     "cell_type": "markdown",
     "checksum": "62030c09ddf0ef33bba6a13a98f51f46",
     "grade": false,
     "grade_id": "cell-ce31044ed34aab3c",
     "locked": true,
     "schema_version": 3,
     "solution": false,
     "task": false
    }
   },
   "source": [
    "<span style=\"color: darkred\">NOTE: there are 3 coefficients for 2 lines because the additive model assumes a **common slope**!!</span>"
   ]
  },
  {
   "cell_type": "markdown",
   "metadata": {
    "deletable": false,
    "editable": false,
    "nbgrader": {
     "cell_type": "markdown",
     "checksum": "90d3dd4d2e995be0922f4f40b941b0dd",
     "grade": false,
     "grade_id": "cell-1c26185c5851d59e",
     "locked": true,
     "schema_version": 3,
     "solution": false,
     "task": false
    }
   },
   "source": [
    "**Question 3.1**\n",
    "<br>{points: 1}\n",
    "\n",
    "Using a $10\\%$ significance level (i.e., $\\alpha = 0.10$), and the results in `MLR_state_poverty_add_results`, which of the following interpretations is correct?\n",
    "\n",
    "**A.** On average, the mortality rate in California is significantly different from that in Alabama.\n",
    "\n",
    "**B.** On average, the mortality rate is significantly associated with poverty.\n",
    "\n",
    "**C.** The association between mortality and poverty differs per state.\n",
    "\n",
    "**D.** The expected mortality rate is the same in both states.\n",
    "\n",
    "*Assign your answers to the object `answer3.1`. Your answers have to be included in a single string indicating the correct options **in alphabetical order** and surrounded by quotes (e.g., `\"ABCD\"` indicates you are selecting the four options).*"
   ]
  },
  {
   "cell_type": "code",
   "execution_count": null,
   "metadata": {
    "deletable": false,
    "nbgrader": {
     "cell_type": "code",
     "checksum": "d87904f248c77f3abf90406ab304f08c",
     "grade": false,
     "grade_id": "cell-f85bb6f2a36d6aab",
     "locked": false,
     "schema_version": 3,
     "solution": true,
     "task": false
    },
    "tags": []
   },
   "outputs": [],
   "source": [
    "# answer3.1 <- \n",
    "\n",
    "# your code here\n",
    "fail() # No Answer - remove if you provide an answer"
   ]
  },
  {
   "cell_type": "code",
   "execution_count": null,
   "metadata": {
    "deletable": false,
    "editable": false,
    "nbgrader": {
     "cell_type": "code",
     "checksum": "78dd30a634893c32e6da2275f84b6559",
     "grade": true,
     "grade_id": "cell-4ec433c8a5e3feaf",
     "locked": true,
     "points": 1,
     "schema_version": 3,
     "solution": false,
     "task": false
    },
    "tags": []
   },
   "outputs": [],
   "source": [
    "test_3.1()"
   ]
  },
  {
   "cell_type": "markdown",
   "metadata": {
    "deletable": false,
    "editable": false,
    "nbgrader": {
     "cell_type": "markdown",
     "checksum": "0d2f5e4425359764daeef44f87f60b70",
     "grade": false,
     "grade_id": "cell-b0cb1633a525c60a",
     "locked": true,
     "schema_version": 3,
     "solution": false,
     "task": false
    }
   },
   "source": [
    "**Question 3.2**\n",
    "<br>{points: 1}\n",
    "\n",
    "Create a plot of the data (using `geom_point()`) along with the estimated regression lines coming from the additive regression model, stored in `MLR_state_poverty_add`\n",
    "\n",
    "> Note that your plot should have two regression lines, one for each state. \n",
    "\n",
    "- Colour the points and regression lines by state. \n",
    "\n",
    "- Include a legend indicating what colour corresponds to each state with proper axis labels. \n",
    "\n",
    "The `ggplot()` object's name will be `MLR_state_poverty_add_plot`.\n",
    "\n",
    "*Fill out those parts indicated with `...`, uncomment the corresponding code in the cell below, and run it.*"
   ]
  },
  {
   "cell_type": "code",
   "execution_count": null,
   "metadata": {
    "deletable": false,
    "nbgrader": {
     "cell_type": "code",
     "checksum": "db15aba22641a7fdf6e35fb2ed5c8128",
     "grade": false,
     "grade_id": "cell-9e94dc68363dec56",
     "locked": false,
     "schema_version": 3,
     "solution": true,
     "task": false
    },
    "tags": []
   },
   "outputs": [],
   "source": [
    "# Let's first add a column with the predictions\n",
    "# AC_cancer_data <- \n",
    "#     AC_cancer_data %>%\n",
    "#     add_predictions(...put_the_model_here..., \n",
    "#                     var = \"pred_MLR_add\")\n",
    "\n",
    "\n",
    "\n",
    "# MLR_state_poverty_add_plot <- \n",
    "#     AC_cancer_data %>%\n",
    "#     ggplot(aes(..., ..., color = ...)) +\n",
    "#     geom_...() +\n",
    "#     geom_line(aes(..., ..., color = ...)) +  \n",
    "#   labs(title = \"...\",\n",
    "#        x = \"...\",\n",
    "#        y = \"...\"\n",
    "#   ) +\n",
    "#   theme(\n",
    "#     text = element_text(size = 16.5),\n",
    "#     plot.title = element_text(face = \"bold\"),\n",
    "#     axis.title = element_text(face = \"bold\"),\n",
    "#     legend.title = element_text(face = \"bold\"),\n",
    "#   )\n",
    "\n",
    "# your code here\n",
    "fail() # No Answer - remove if you provide an answer\n",
    "\n",
    "MLR_state_poverty_add_plot"
   ]
  },
  {
   "cell_type": "code",
   "execution_count": null,
   "metadata": {
    "deletable": false,
    "editable": false,
    "nbgrader": {
     "cell_type": "code",
     "checksum": "e375c513022d23794b13f662bccd9a6e",
     "grade": true,
     "grade_id": "cell-10b3b1d7e3b64d1d",
     "locked": true,
     "points": 1,
     "schema_version": 3,
     "solution": false,
     "task": false
    },
    "tags": []
   },
   "outputs": [],
   "source": [
    "test_3.2()"
   ]
  },
  {
   "cell_type": "markdown",
   "metadata": {
    "deletable": false,
    "editable": false,
    "nbgrader": {
     "cell_type": "markdown",
     "checksum": "312f3c329aa368e961fe981ad6f659c0",
     "grade": false,
     "grade_id": "cell-cef46ec1b084cec8",
     "locked": true,
     "schema_version": 3,
     "solution": false,
     "task": false
    }
   },
   "source": [
    "**Question 3.3**\n",
    "<br>{points: 1}\n",
    "\n",
    "Looking at the plot in Question 3.2 and the modelling framework in Question 3.0, what is our fundamental assumption when using an additive MLR with a mixture of continuous and categorical explanatory variables?\n",
    "\n",
    "**A.** The regression lines for both states have different slopes relating poverty to average mortality.\n",
    "\n",
    "**B.** The regression lines for both states have the same slopes relating poverty to average mortality but different intercepts.\n",
    "\n",
    "**C.** The regression lines for both states have different slopes and intercepts relating poverty to average mortality.\n",
    "\n",
    "*Assign your answer to the object `answer3.3`. Your answer should be one of `\"A\"`, `\"B\"`, or `\"C\"` surrounded by quotes.*"
   ]
  },
  {
   "cell_type": "code",
   "execution_count": null,
   "metadata": {
    "deletable": false,
    "nbgrader": {
     "cell_type": "code",
     "checksum": "3dbf3f5736cade464cc47fc198f89931",
     "grade": false,
     "grade_id": "cell-1ea882444c1027f8",
     "locked": false,
     "schema_version": 3,
     "solution": true,
     "task": false
    }
   },
   "outputs": [],
   "source": [
    "# answer3.3 <- \n",
    "\n",
    "# your code here\n",
    "fail() # No Answer - remove if you provide an answer"
   ]
  },
  {
   "cell_type": "code",
   "execution_count": null,
   "metadata": {
    "deletable": false,
    "editable": false,
    "nbgrader": {
     "cell_type": "code",
     "checksum": "09e91abd7503ae1bfdf1dc159d1cc505",
     "grade": true,
     "grade_id": "cell-bc1ca9c4cb59a2ce",
     "locked": true,
     "points": 1,
     "schema_version": 3,
     "solution": false,
     "task": false
    }
   },
   "outputs": [],
   "source": [
    "test_3.3()"
   ]
  },
  {
   "cell_type": "markdown",
   "metadata": {
    "deletable": false,
    "editable": false,
    "nbgrader": {
     "cell_type": "markdown",
     "checksum": "97b57c07e7d965e438232495adfa9ddf",
     "grade": false,
     "grade_id": "cell-a82b9b87faa8f123",
     "locked": true,
     "schema_version": 3,
     "solution": false,
     "task": false
    }
   },
   "source": [
    "#### An additive model with one continuous and one categorical input variable has a common slope and different intercepts for each level of the categorical variable."
   ]
  },
  {
   "cell_type": "markdown",
   "metadata": {
    "deletable": false,
    "editable": false,
    "nbgrader": {
     "cell_type": "markdown",
     "checksum": "bcb5f22681022c9c2781a2043827cf4d",
     "grade": false,
     "grade_id": "cell-c11b86226891397a",
     "locked": true,
     "schema_version": 3,
     "solution": false,
     "task": false
    }
   },
   "source": [
    "## 4. MLR: interaction between a continuous and a categorical variable"
   ]
  },
  {
   "cell_type": "markdown",
   "metadata": {
    "deletable": false,
    "editable": false,
    "nbgrader": {
     "cell_type": "markdown",
     "checksum": "0e22c12213405f31d2491a6170169422",
     "grade": false,
     "grade_id": "cell-a206cc5c30a9f053",
     "locked": true,
     "schema_version": 3,
     "solution": false,
     "task": false
    }
   },
   "source": [
    "Now, we will estimate another MLR model called `MLR_state_poverty_int`, but this time, we do not assume that the association between mortality and poverty is the same in both states. In other words, an *interaction* may exist between the input variables. **If the relation changes by the levels of the categorical variable, we need to add interaction term(s).**"
   ]
  },
  {
   "cell_type": "markdown",
   "metadata": {
    "deletable": false,
    "editable": false,
    "nbgrader": {
     "cell_type": "markdown",
     "checksum": "effd3139833978410224f2e45760df0e",
     "grade": false,
     "grade_id": "cell-facaf3cc65b6e0be",
     "locked": true,
     "schema_version": 3,
     "solution": false,
     "task": false
    }
   },
   "source": [
    "**Question 4.0**\n",
    "<br>{points: 1}\n",
    "\n",
    "Use the data to estimate the new model with an interaction term. \n",
    "\n",
    "Call the object to store the estimated additive model `MLR_state_poverty_int`.\n",
    "\n",
    "Report the estimated coefficients, their standard errors, and corresponding $p$-values using `tidy()`. Include the corresponding asymptotic 95% confidence intervals. Store the results in the variable `MLR_state_poverty_int_results`.\n",
    "\n",
    "*Fill out those parts indicated with `...`, uncomment the corresponding code in the cell below, and run it.*"
   ]
  },
  {
   "cell_type": "code",
   "execution_count": null,
   "metadata": {
    "deletable": false,
    "nbgrader": {
     "cell_type": "code",
     "checksum": "eefcf4eb30aed9376a5bd30b2413811e",
     "grade": false,
     "grade_id": "cell-e2dfc93d5dcc3940",
     "locked": false,
     "schema_version": 3,
     "solution": true,
     "task": false
    },
    "tags": []
   },
   "outputs": [],
   "source": [
    "# MLR_state_poverty_int <- ...(..., ...)\n",
    "\n",
    "# MLR_state_poverty_int_results <- \n",
    "#    ...(..., ...) %>%\n",
    "#    mutate_if(is.numeric, round, 2)\n",
    "\n",
    "\n",
    "# your code here\n",
    "fail() # No Answer - remove if you provide an answer\n",
    "\n",
    "MLR_state_poverty_int\n",
    "MLR_state_poverty_int_results"
   ]
  },
  {
   "cell_type": "code",
   "execution_count": null,
   "metadata": {
    "deletable": false,
    "editable": false,
    "nbgrader": {
     "cell_type": "code",
     "checksum": "228b99df5cc5cfb24c1d7f84acb0c5cb",
     "grade": true,
     "grade_id": "cell-981315043633b23f",
     "locked": true,
     "points": 1,
     "schema_version": 3,
     "solution": false,
     "task": false
    },
    "tags": []
   },
   "outputs": [],
   "source": [
    "test_4.0()"
   ]
  },
  {
   "cell_type": "markdown",
   "metadata": {
    "deletable": false,
    "editable": false,
    "nbgrader": {
     "cell_type": "markdown",
     "checksum": "b338719cdc17d22c08a06e5fae23a73e",
     "grade": false,
     "grade_id": "cell-7db47d332e83d2b3",
     "locked": true,
     "schema_version": 3,
     "solution": false,
     "task": false
    }
   },
   "source": [
    "<font style='color: darkred'>Note: there are now 4 coefficients for 2 lines because in the model with interactions we do *NOT* assume a common slope!!</font>"
   ]
  },
  {
   "cell_type": "markdown",
   "metadata": {
    "deletable": false,
    "editable": false,
    "nbgrader": {
     "cell_type": "markdown",
     "checksum": "e0dbc3b905555c10046c43e9a72b5d62",
     "grade": false,
     "grade_id": "cell-fa10bf6e6ab8a06e",
     "locked": true,
     "schema_version": 3,
     "solution": false,
     "task": false
    }
   },
   "source": [
    "**Question 4.1**\n",
    "<br>{points: 1}\n",
    "\n",
    "Using a significance level $\\alpha = 0.10$, and the results in `MLR_state_poverty_int_results`, which of the following interpretations is correct?\n",
    "\n",
    "**A.** Mortality rates in Alabama are low.\n",
    "\n",
    "**B.** The expected mortality rate does not differ by state.\n",
    "\n",
    "**C.** In California, the expected change in mortality as poverty increases is higher than in Alabama.\n",
    "\n",
    "**D.** In Alabama, the mortality rate is statistically associated with poverty.\n",
    "\n",
    "**E.** The association between mortality and poverty varies (significantly) between Alabama and California.\n",
    "\n",
    "**F.** The association between mortality and poverty is the same in Alabama and California.\n",
    "\n",
    "*Assign your answers to the object `answer4.1`. Your answers have to be included in a single string indicating the correct options **in alphabetical order** and surrounded by quotes (e.g., `\"ABCD\"` indicates you are selecting the four options).*"
   ]
  },
  {
   "cell_type": "code",
   "execution_count": null,
   "metadata": {},
   "outputs": [],
   "source": []
  },
  {
   "cell_type": "code",
   "execution_count": null,
   "metadata": {
    "deletable": false,
    "nbgrader": {
     "cell_type": "code",
     "checksum": "0cf020e93aeac369e24222bf547a369b",
     "grade": false,
     "grade_id": "cell-3257b17772b64147",
     "locked": false,
     "schema_version": 3,
     "solution": true,
     "task": false
    },
    "tags": []
   },
   "outputs": [],
   "source": [
    "# answer4.1 <- \n",
    "\n",
    "# your code here\n",
    "fail() # No Answer - remove if you provide an answer"
   ]
  },
  {
   "cell_type": "code",
   "execution_count": null,
   "metadata": {
    "deletable": false,
    "editable": false,
    "nbgrader": {
     "cell_type": "code",
     "checksum": "a791437a1625a1bc330fd0b9add2de4b",
     "grade": true,
     "grade_id": "cell-466c41ec1c2daeac",
     "locked": true,
     "points": 1,
     "schema_version": 3,
     "solution": false,
     "task": false
    },
    "tags": []
   },
   "outputs": [],
   "source": [
    "test_4.1()"
   ]
  },
  {
   "cell_type": "markdown",
   "metadata": {
    "deletable": false,
    "editable": false,
    "nbgrader": {
     "cell_type": "markdown",
     "checksum": "53c7590cb51391e81cc4335c716e12b2",
     "grade": false,
     "grade_id": "cell-fac6de579f7aac57",
     "locked": true,
     "schema_version": 3,
     "solution": false,
     "task": false
    }
   },
   "source": [
    "**Question 4.2**\n",
    "<br>{points: 1}\n",
    "\n",
    "Create a plot of the data (using `geom_point()`) along with the estimated regression lines coming from the interaction regression model `MLR_state_poverty_int`.\n",
    "\n",
    "> Note that your plot should have two regression lines, one for each state. \n",
    "\n",
    "- You have to colour the points and regression lines by state. \n",
    "\n",
    "- Include a legend indicating the colour of each state with proper axis labels. \n",
    "\n",
    "The `ggplot()` object's name will be `MLR_state_poverty_int_plot`.\n",
    "\n",
    "*Fill out those parts indicated with `...`, uncomment the corresponding code in the cell below, and run it.*"
   ]
  },
  {
   "cell_type": "code",
   "execution_count": null,
   "metadata": {
    "deletable": false,
    "nbgrader": {
     "cell_type": "code",
     "checksum": "86dcf720e406090308171d3bd8a98c32",
     "grade": false,
     "grade_id": "cell-c71a0651a14cbba4",
     "locked": false,
     "schema_version": 3,
     "solution": true,
     "task": false
    },
    "tags": []
   },
   "outputs": [],
   "source": [
    "# Let's first add a column with the predictions\n",
    "# AC_cancer_data <- \n",
    "#     AC_cancer_data %>%\n",
    "#     add_predictions(..., var = \"pred_MLR_int\")\n",
    "\n",
    "\n",
    "# MLR_state_poverty_int_plot <- \n",
    "#     AC_cancer_data %>%\n",
    "#     ggplot(aes(..., ..., color = ...)) +\n",
    "#     geom_...() +\n",
    "#     geom_line(aes(..., ..., color = ...)) +  \n",
    "#   labs(title = \"...\",\n",
    "#        x = \"...\",\n",
    "#        y = \"...\"\n",
    "#   ) +\n",
    "#   theme(\n",
    "#     text = element_text(size = 16.5),\n",
    "#     plot.title = element_text(face = \"bold\"),\n",
    "#     axis.title = element_text(face = \"bold\"),\n",
    "#     legend.title = element_text(face = \"bold\"),\n",
    "#   )\n",
    "\n",
    "# your code here\n",
    "fail() # No Answer - remove if you provide an answer\n",
    "\n",
    "MLR_state_poverty_int_plot"
   ]
  },
  {
   "cell_type": "code",
   "execution_count": null,
   "metadata": {
    "deletable": false,
    "editable": false,
    "nbgrader": {
     "cell_type": "code",
     "checksum": "cd3ae67c54dad725f3eb6728c1a2fbf5",
     "grade": true,
     "grade_id": "cell-199f87e4053a4c6b",
     "locked": true,
     "points": 1,
     "schema_version": 3,
     "solution": false,
     "task": false
    }
   },
   "outputs": [],
   "source": [
    "test_4.2()"
   ]
  },
  {
   "cell_type": "markdown",
   "metadata": {
    "deletable": false,
    "editable": false,
    "nbgrader": {
     "cell_type": "markdown",
     "checksum": "e1f2cbb4303a442f5fea3a19ea0c7eea",
     "grade": false,
     "grade_id": "cell-a679b20a69c2f10c",
     "locked": true,
     "schema_version": 3,
     "solution": false,
     "task": false
    }
   },
   "source": [
    "**Question 4.3**\n",
    "<br>{points: 1}\n",
    "\n",
    "Looking at the plot in Question 4.2 and the modelling framework in Question 4.0, what is the fundamental assumption we are making when using an interaction MLR with a mixture of continuous and categorical explanatory variables?\n",
    "\n",
    "**A.** The regression lines for both states have the same slope relating poverty to average mortality, but different intercepts.\n",
    "\n",
    "**B.** The regression lines for both states have different slopes and intercepts relating poverty to average mortality.\n",
    "\n",
    "**C.** The regression lines for both states have different slopes relating poverty to average mortality, but same intercepts.\n",
    "\n",
    "*Assign your answer to the object `answer4.3`. Your answer should be one of `\"A\"`, `\"B\"`, or `\"C\"` surrounded by quotes.*"
   ]
  },
  {
   "cell_type": "code",
   "execution_count": null,
   "metadata": {
    "deletable": false,
    "nbgrader": {
     "cell_type": "code",
     "checksum": "45c6d0dc87f26b4b096c027433e1bec4",
     "grade": false,
     "grade_id": "cell-359584e444cfad09",
     "locked": false,
     "schema_version": 3,
     "solution": true,
     "task": false
    },
    "tags": []
   },
   "outputs": [],
   "source": [
    "# answer4.3 <- \n",
    "\n",
    "# your code here\n",
    "fail() # No Answer - remove if you provide an answer"
   ]
  },
  {
   "cell_type": "code",
   "execution_count": null,
   "metadata": {
    "deletable": false,
    "editable": false,
    "nbgrader": {
     "cell_type": "code",
     "checksum": "054209c4a1b3d1f80c5d4425829409c6",
     "grade": true,
     "grade_id": "cell-7d6e04742f94b20f",
     "locked": true,
     "points": 1,
     "schema_version": 3,
     "solution": false,
     "task": false
    },
    "tags": []
   },
   "outputs": [],
   "source": [
    "test_4.3()"
   ]
  },
  {
   "cell_type": "markdown",
   "metadata": {
    "deletable": false,
    "editable": false,
    "nbgrader": {
     "cell_type": "markdown",
     "checksum": "a44f4bc63995147a8a36bc4456f030ee",
     "grade": false,
     "grade_id": "cell-1976fe551cbd704a",
     "locked": true,
     "schema_version": 3,
     "solution": false,
     "task": false
    }
   },
   "source": [
    "<font color=\"darkred\"> If the relation between the continuous predictor and the response changes for each  level of the categorical variable, we need to add interaction term(s). The model now has different slopes and different intercepts for each level of the categorical variable </font>  "
   ]
  }
 ],
 "metadata": {
  "jupytext": {
   "formats": "ipynb,Rmd"
  },
  "kernelspec": {
   "display_name": "R",
   "language": "R",
   "name": "ir"
  },
  "language_info": {
   "codemirror_mode": "r",
   "file_extension": ".r",
   "mimetype": "text/x-r-source",
   "name": "R",
   "pygments_lexer": "r",
   "version": "4.3.3"
  },
  "latex_envs": {
   "LaTeX_envs_menu_present": true,
   "autoclose": false,
   "autocomplete": true,
   "bibliofile": "biblio.bib",
   "cite_by": "apalike",
   "current_citInitial": 1,
   "eqLabelWithNumbers": true,
   "eqNumInitial": 1,
   "hotkeys": {
    "equation": "Ctrl-E",
    "itemize": "Ctrl-I"
   },
   "labels_anchors": false,
   "latex_user_defs": false,
   "report_style_numbering": false,
   "user_envs_cfg": false
  }
 },
 "nbformat": 4,
 "nbformat_minor": 4
}
