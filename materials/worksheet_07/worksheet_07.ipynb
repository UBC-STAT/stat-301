{
 "cells": [
  {
   "cell_type": "markdown",
   "metadata": {
    "deletable": false,
    "editable": false,
    "nbgrader": {
     "cell_type": "markdown",
     "checksum": "1a1138bf297b42be34c6f36a97d87ddb",
     "grade": false,
     "grade_id": "cell-f1e1d845873036f4",
     "locked": true,
     "schema_version": 3,
     "solution": false,
     "task": false
    }
   },
   "source": [
    "# Worksheet 07: Goodness of Fit beyond MLR and Stepwise Selection"
   ]
  },
  {
   "cell_type": "markdown",
   "metadata": {
    "deletable": false,
    "editable": false,
    "nbgrader": {
     "cell_type": "markdown",
     "checksum": "91138bc207133bfa2be69dba7e89d03a",
     "grade": false,
     "grade_id": "cell-82d9926086d47a80",
     "locked": true,
     "schema_version": 3,
     "solution": false,
     "task": false
    }
   },
   "source": [
    "#### Lecture and Tutorial Learning Goals:\n",
    "After completing this week's lecture and tutorial work, you will be able to:\n",
    "\n",
    "1. List model metrics that are suitable for evaluation of a statistical model developed to make inferences about the data-generating mechanism (e.g., $R^2$, $\\text{AIC}$, Likelihood ratio test/$F$-test), their strengths and limitations, as well as how they are calculated.\n",
    "2. Identify appropriate goodness-of-fit metrics for MLR, logistic and Poisson regressions.\n",
    "3. Compute appropiate residuals of logistic and Poisson regressions.\n",
    "4. Explain how an $F$-test to compare nested models can be used as a variable selection methods.\n",
    "5. Write a computer script to calculate these model metrics. Interpret and communicate the results from that computer script."
   ]
  },
  {
   "cell_type": "code",
   "execution_count": null,
   "metadata": {
    "deletable": false,
    "editable": false,
    "nbgrader": {
     "cell_type": "code",
     "checksum": "936eda0f82bea3b3c5138df99c75482a",
     "grade": false,
     "grade_id": "cell-a2a153352bc44a68",
     "locked": true,
     "schema_version": 3,
     "solution": false,
     "task": false
    },
    "tags": []
   },
   "outputs": [],
   "source": [
    "# Run this cell before continuing.\n",
    "\n",
    "library(gridExtra)\n",
    "library(faraway)\n",
    "library(broom)\n",
    "library(tidyverse)\n",
    "library(leaps)\n",
    "source(\"tests_worksheet_07.R\")"
   ]
  },
  {
   "cell_type": "markdown",
   "metadata": {
    "deletable": false,
    "editable": false,
    "nbgrader": {
     "cell_type": "markdown",
     "checksum": "e5949450240521b6b37654b955f207ae",
     "grade": false,
     "grade_id": "cell-196013b32cbfa62d",
     "locked": true,
     "schema_version": 3,
     "solution": false,
     "task": false
    }
   },
   "source": [
    "# 1. Goodness-of-fit beyond MLR\n",
    "\n",
    "In this section, you will evaluate a logistic regression model using appropriate goodness-of-fit measures."
   ]
  },
  {
   "cell_type": "markdown",
   "metadata": {
    "deletable": false,
    "editable": false,
    "nbgrader": {
     "cell_type": "markdown",
     "checksum": "b83415c395432f414711116e3d3e159b",
     "grade": false,
     "grade_id": "cell-0f24b9663ff8b33a",
     "locked": true,
     "schema_version": 3,
     "solution": false,
     "task": false
    }
   },
   "source": [
    "#### Dataset\n",
    "\n",
    "You will first use the data frame `breast_cancer` to build and evaluate a logistic regression. \n",
    "\n",
    "This dataset will be a subset of the Wisconsin Diagnostic Breast Cancer dataset ([Mangasarian et al., 1995](http://ubc.summon.serialssolutions.com/2.0.0/link/0/eLvHCXMwlV1Nb9QwEB2xPSA4tHQLohRKDoDgsDSJndiRKlApVBx74PNk2bGDKui2jbf8Ff4uM46tbpZKFZdIO55NvNLLeLx-8waAla_z2UpMEAZXtlZKzllZGSk7WTBdtDa3ts6N61aoOnUqjSGWZaAJhkN9zJfML7dHCi-yfnt-MaPmUXTIGjtpTGAi2cDr-rKkvFsPbQwYBpyafxsvQMTDbPEOVxE5yQSH8iZKHH2iKv4TrsMadLQBKk03kU9WagPHAo___7vuwXpMT7ODAU-bcMvNp3A7seOnsJG6QGQxKEzh7pKk4RQ2o91nL6Oi9ast-LN_qvufb94RAX6xvxc-ZIPtkFDXj23vB_rfiR-b9dxmx_3ZdUO_T_TYgFtsfIXHtuOBinaK84wD9-Hz0YdPhx9nsSPEDPeBJWmp6pJ3VS1tzlvR8Ua6WljWlm3RaMkMs52R1jmJWGu4a6wwtugaaauGtQWaH8Da_GzuHkJWVlpwbgpthKOz3aZsmeRWC9mJxnG7DS8STNT5IPyhaMOEO0xF_WkUZ4qrSuTomEB0k-MzgpiK3UXx4un_F_9DX3qvDjCPw2yPMbxfcCPwLXrd6lgngdMmqa5lx6cJqyoiNTzQLz3xeRq4YWZbAYxXXgGJ27CT8K5iZPOqJEFAUnl8dP2XduDOUPVPjObHsLboL92TIGmxCxPx9TteMcDshnf0L2aRR50)). It has a **binary** response `target`: whether the tumour is `benign` or `malignant`. Hence, the binary response $Y_i$ is mathematically set as:\n",
    "\n",
    "$$\n",
    "Y_i =\n",
    "\\begin{cases}\n",
    "1 \\; \\; \\; \\; \\mbox{if the $i$th tumour is malignant},\\\\\n",
    "0 \\; \\; \\; \\; \t\\mbox{otherwise.}\n",
    "\\end{cases}\n",
    "$$\n",
    "\n",
    "The original dataset contains 569 observations from a digitized image of a breast mass' fine needle aspirate (FNA) and 30 real-valued characteristics (i.e., continuous input variables) plus the binary response and ID number. \n",
    "\n",
    "**We will only work with 16 input variables**."
   ]
  },
  {
   "cell_type": "code",
   "execution_count": null,
   "metadata": {
    "deletable": false,
    "editable": false,
    "nbgrader": {
     "cell_type": "code",
     "checksum": "03e9a594d8c665f9b12a503fc5ecbd79",
     "grade": false,
     "grade_id": "cell-d2dcce84623d04b0",
     "locked": true,
     "schema_version": 3,
     "solution": false,
     "task": false
    }
   },
   "outputs": [],
   "source": [
    "#Run this cell to create a dataset\n",
    "\n",
    "breast_cancer <- read_csv(\"data/breast_cancer.csv\") %>%\n",
    "  select(-c(\n",
    "    mean_area, area_error, concavity_error, concave_points_error, worst_radius, worst_texture, worst_perimeter,\n",
    "    worst_area, worst_smoothness, worst_compactness, worst_concavity, worst_concave_points, worst_symmetry,\n",
    "    worst_fractal_dimension\n",
    "  ))"
   ]
  },
  {
   "cell_type": "markdown",
   "metadata": {
    "deletable": false,
    "editable": false,
    "nbgrader": {
     "cell_type": "markdown",
     "checksum": "3040b5637575d5a945f90b82c34a4428",
     "grade": false,
     "grade_id": "cell-a87a72f86be277f0",
     "locked": true,
     "schema_version": 3,
     "solution": false,
     "task": false
    }
   },
   "source": [
    "**Question 1.0**\n",
    "<br>{points: 1}\n",
    "\n",
    "Replace the levels `malignant` and `benign` for `target` in the dataset `breast_cancer_train` with the numerical values `1` and `0`, respectively.\n",
    "\n",
    "*Fill out those parts indicated with `...`, uncomment the corresponding code in the cell below, and run it.*"
   ]
  },
  {
   "cell_type": "code",
   "execution_count": null,
   "metadata": {
    "deletable": false,
    "nbgrader": {
     "cell_type": "code",
     "checksum": "4036e704142a028766cd4533cd77a861",
     "grade": false,
     "grade_id": "cell-174bc07a43435cb2",
     "locked": false,
     "schema_version": 3,
     "solution": true,
     "task": false
    }
   },
   "outputs": [],
   "source": [
    "# breast_cancer <- \n",
    "#     breast_cancer %>% \n",
    "#     ...(... = ...(..., 1, 0))\n",
    "\n",
    "# your code here\n",
    "fail() # No Answer - remove if you provide an answer\n",
    "\n",
    "head(breast_cancer)"
   ]
  },
  {
   "cell_type": "code",
   "execution_count": null,
   "metadata": {
    "deletable": false,
    "editable": false,
    "nbgrader": {
     "cell_type": "code",
     "checksum": "eb7af6c30ad309ecc4d1cd356774fc11",
     "grade": true,
     "grade_id": "cell-8f7b2d682c69abfe",
     "locked": true,
     "points": 1,
     "schema_version": 3,
     "solution": false,
     "task": false
    }
   },
   "outputs": [],
   "source": [
    "test_1.0()"
   ]
  },
  {
   "cell_type": "markdown",
   "metadata": {
    "deletable": false,
    "editable": false,
    "nbgrader": {
     "cell_type": "markdown",
     "checksum": "1770e1ddb7e7717981f338c20b6e9b50",
     "grade": false,
     "grade_id": "cell-55bd7980238879b2",
     "locked": true,
     "schema_version": 3,
     "solution": false,
     "task": false
    }
   },
   "source": [
    "**Question 1.1**\n",
    "<br>{points: 1}\n",
    "\n",
    "Using the `glm` function, fit a logistic regression model. The model's response will be `target` and the rest of the covariates will be inputs. Call the resulting object `breast_cancer_model`.\n",
    "\n",
    "> tip: check the data object, note that there's a variable called ID that you need to exclude\n",
    "\n",
    "**Note**: You need to write most of this code cell. Go back to `worksheet_04` and `tutorial_04` if you don't recall how to fit a logistic model.\n",
    "\n",
    "*Fill out those parts indicated with `...`, uncomment the corresponding code in the cell below, and run it.*"
   ]
  },
  {
   "cell_type": "code",
   "execution_count": null,
   "metadata": {
    "deletable": false,
    "nbgrader": {
     "cell_type": "code",
     "checksum": "600346dac3ccca2868880958e98a58ac",
     "grade": false,
     "grade_id": "cell-4b28ceeade5ddfb8",
     "locked": false,
     "schema_version": 3,
     "solution": true,
     "task": false
    }
   },
   "outputs": [],
   "source": [
    "# breast_cancer_model <- \n",
    "#     ...\n",
    "\n",
    "# your code here\n",
    "fail() # No Answer - remove if you provide an answer\n",
    "\n",
    "summary(breast_cancer_model)"
   ]
  },
  {
   "cell_type": "code",
   "execution_count": null,
   "metadata": {
    "deletable": false,
    "editable": false,
    "nbgrader": {
     "cell_type": "code",
     "checksum": "7d0d2638b33ae5158bb4560186d230ec",
     "grade": true,
     "grade_id": "cell-60ca74cffd6dee3b",
     "locked": true,
     "points": 1,
     "schema_version": 3,
     "solution": false,
     "task": false
    }
   },
   "outputs": [],
   "source": [
    "test_1.1()"
   ]
  },
  {
   "cell_type": "markdown",
   "metadata": {
    "deletable": false,
    "editable": false,
    "nbgrader": {
     "cell_type": "markdown",
     "checksum": "7d628e646033ec1b0f9680227786ab4b",
     "grade": false,
     "grade_id": "cell-f4fa1ef84fdfcf4f",
     "locked": true,
     "schema_version": 3,
     "solution": false,
     "task": false
    }
   },
   "source": [
    "**Question 1.2**\n",
    "<br>{points: 1}\n",
    "\n",
    "1. Use the function `augment()` with the object `breast_cancer_model` to compute fitted values and residuals and add them to the dataset. We will select only the target to reduce the number of columns displayed.\n",
    "\n",
    "Note that `augment()` computes the *deviance residuals* but you can comput others from the model object, e.g., the *pearson residuals*.\n",
    "\n",
    "2. Add the residuals using the function `residuals` on the estimated model `breast_cancer_model`, and type `response`, `pearson` and `deviance` to the tibble.\n",
    "\n",
    "*Assign your answer to the object `breast_cancer_resid`. Fill out those parts indicated with `...`, uncomment the corresponding code in the cell below, and run it.*"
   ]
  },
  {
   "cell_type": "code",
   "execution_count": null,
   "metadata": {
    "deletable": false,
    "nbgrader": {
     "cell_type": "code",
     "checksum": "d4064564f0d2a7ee1adaef7beed8c7c0",
     "grade": false,
     "grade_id": "cell-ab80d4b97b203b3b",
     "locked": false,
     "schema_version": 3,
     "solution": true,
     "task": false
    }
   },
   "outputs": [],
   "source": [
    "# breast_cancer_resid <- breast_cancer_model %>%\n",
    "#               ...() %>%\n",
    "#               dplyr::select(target,.fitted, .resid,.std.resid) %>%\n",
    "#               mutate(resid_raw = residuals(..., type = \"...\"),\n",
    "#                      resid_deviance = residuals(...),\n",
    "#                      resid_pearson =...(...,... = \"...\")\n",
    "#                      )\n",
    "\n",
    "# your code here\n",
    "fail() # No Answer - remove if you provide an answer\n",
    "\n",
    "head(breast_cancer_resid,3)"
   ]
  },
  {
   "cell_type": "code",
   "execution_count": null,
   "metadata": {
    "deletable": false,
    "editable": false,
    "nbgrader": {
     "cell_type": "code",
     "checksum": "88c07dd4b7fa1d6de6752ca49cf55ee8",
     "grade": true,
     "grade_id": "cell-1177a3c4828fbaf6",
     "locked": true,
     "points": 1,
     "schema_version": 3,
     "solution": false,
     "task": false
    }
   },
   "outputs": [],
   "source": [
    "test_1.2()"
   ]
  },
  {
   "cell_type": "markdown",
   "metadata": {
    "deletable": false,
    "editable": false,
    "nbgrader": {
     "cell_type": "markdown",
     "checksum": "14801485c01b8ef9cc57389318fcefff",
     "grade": false,
     "grade_id": "cell-07ced547bee46c24",
     "locked": true,
     "schema_version": 3,
     "solution": false,
     "task": false
    }
   },
   "source": [
    "**Question 1.3**\n",
    "<br>{points: 2}\n",
    "\n",
    "The `summary()` function reports a *Residual deviance*, which is a analogous to the residual sum of squares (RSS) of MLR.\n",
    "\n",
    "1. Use the output in `breast_cancer_resid` to compute the residual deviance. Save it in an object called `breast_cancer_resid_dev`\n",
    "\n",
    "2. Extract the object `deviance` from `breast_cancer_model` to verify that you computed it correctly. Save it in an object called `summary_dev`\n",
    "\n",
    "*Fill out those parts indicated with `...`, uncomment the corresponding code in the cell below, and run it.*"
   ]
  },
  {
   "cell_type": "code",
   "execution_count": null,
   "metadata": {
    "deletable": false,
    "nbgrader": {
     "cell_type": "code",
     "checksum": "a04e219187171230c77a9247ce67b8ca",
     "grade": false,
     "grade_id": "cell-0f2a90b20f555dc7",
     "locked": false,
     "schema_version": 3,
     "solution": true,
     "task": false
    }
   },
   "outputs": [],
   "source": [
    "# breast_cancer_resid_dev <- ...((...$...)^2)\n",
    "# summary_dev <- ...$...\n",
    "\n",
    "# your code here\n",
    "fail() # No Answer - remove if you provide an answer\n",
    "\n",
    "breast_cancer_resid_dev\n",
    "summary_dev"
   ]
  },
  {
   "cell_type": "code",
   "execution_count": null,
   "metadata": {
    "deletable": false,
    "editable": false,
    "nbgrader": {
     "cell_type": "code",
     "checksum": "7638f89c99364f8679f8fe795ee109f8",
     "grade": true,
     "grade_id": "cell-22e00a7ff805d7f2",
     "locked": true,
     "points": 2,
     "schema_version": 3,
     "solution": false,
     "task": false
    }
   },
   "outputs": [],
   "source": [
    "test_1.3.0()\n",
    "test_1.3.1()"
   ]
  },
  {
   "cell_type": "markdown",
   "metadata": {
    "deletable": false,
    "editable": false,
    "nbgrader": {
     "cell_type": "markdown",
     "checksum": "ef0330bb693f7c82ca1d2f2c78167565",
     "grade": false,
     "grade_id": "cell-3612a77de1cfe92c",
     "locked": true,
     "schema_version": 3,
     "solution": false,
     "task": false
    }
   },
   "source": [
    "**Question 1.4**\n",
    "<br>{points: 2}\n",
    "\n",
    "Note that the function `glance()` also computes the deviance of the intercept-only and full models. However, it does not provide results of statistical test.\n",
    "\n",
    "1. Get the deviance of the intercept-only and full models using `glance()` and `breast_cancer_model`. Call the resulting object `breast_cancer_glance`\n",
    "   \n",
    "2. Extract the object `null` from `breast_cancer_model` to verify that is the same as that given by `glance()`. Call the resulting object `summary_null`.\n",
    "\n",
    "*Fill out those parts indicated with `...`, uncomment the corresponding code in the cell below, and run it.*"
   ]
  },
  {
   "cell_type": "code",
   "execution_count": null,
   "metadata": {
    "deletable": false,
    "nbgrader": {
     "cell_type": "code",
     "checksum": "2100e9974572d2c77c5534a7050eec7e",
     "grade": false,
     "grade_id": "cell-f7c4e7850df668d8",
     "locked": false,
     "schema_version": 3,
     "solution": true,
     "task": false
    }
   },
   "outputs": [],
   "source": [
    "# breast_cancer_glance <- ...(...)\n",
    "# summary_null <- ...$null\n",
    "\n",
    "# your code here\n",
    "fail() # No Answer - remove if you provide an answer\n",
    "\n",
    "breast_cancer_glance\n",
    "summary_null"
   ]
  },
  {
   "cell_type": "code",
   "execution_count": null,
   "metadata": {
    "deletable": false,
    "editable": false,
    "nbgrader": {
     "cell_type": "code",
     "checksum": "8ee6d58c6d2aa16863a32c360ac5c0d5",
     "grade": true,
     "grade_id": "cell-aadb79c8e65597b6",
     "locked": true,
     "points": 2,
     "schema_version": 3,
     "solution": false,
     "task": false
    }
   },
   "outputs": [],
   "source": [
    "test_1.4.0()\n",
    "test_1.4.1()"
   ]
  },
  {
   "cell_type": "markdown",
   "metadata": {
    "deletable": false,
    "editable": false,
    "nbgrader": {
     "cell_type": "markdown",
     "checksum": "72b041d2c0f8212d3ab3b12d844d3987",
     "grade": false,
     "grade_id": "cell-19ed99dd1a443b2d",
     "locked": true,
     "schema_version": 3,
     "solution": false,
     "task": false
    }
   },
   "source": [
    "**Question 1.5**\n",
    "<br>{points: 1}\n",
    "\n",
    "1. Fit a logistic model with only an intercept. Call this model `model_null`.\n",
    "\n",
    "2. Note that the null deviance from `model_null` is the same as its residual deviance. Why??\n",
    "\n",
    "*Fill out those parts indicated with `...`, uncomment the corresponding code in the cell below, and run it.*"
   ]
  },
  {
   "cell_type": "code",
   "execution_count": null,
   "metadata": {
    "deletable": false,
    "nbgrader": {
     "cell_type": "code",
     "checksum": "249bb2a11c9f6f6cd7a90cf0c993af8f",
     "grade": false,
     "grade_id": "cell-e71601ef092ba060",
     "locked": false,
     "schema_version": 3,
     "solution": true,
     "task": false
    }
   },
   "outputs": [],
   "source": [
    "# model_null <- ...(\n",
    "#   ... ~ ...,\n",
    "#   ...,\n",
    "#   ...  \n",
    "# )\n",
    "\n",
    "# your code here\n",
    "fail() # No Answer - remove if you provide an answer\n",
    "\n",
    "summary(model_null)"
   ]
  },
  {
   "cell_type": "code",
   "execution_count": null,
   "metadata": {
    "deletable": false,
    "editable": false,
    "nbgrader": {
     "cell_type": "code",
     "checksum": "691800835d9d580397cae32fad0ed233",
     "grade": true,
     "grade_id": "cell-b826d13ed39cd976",
     "locked": true,
     "points": 1,
     "schema_version": 3,
     "solution": false,
     "task": false
    }
   },
   "outputs": [],
   "source": [
    "test_1.5()"
   ]
  },
  {
   "cell_type": "markdown",
   "metadata": {
    "deletable": false,
    "editable": false,
    "nbgrader": {
     "cell_type": "markdown",
     "checksum": "ded04c8cfc1ebe32499ec5e879bfe429",
     "grade": false,
     "grade_id": "cell-cb408823dabaa6b7",
     "locked": true,
     "schema_version": 3,
     "solution": false,
     "task": false
    }
   },
   "source": [
    "**Question 1.6**\n",
    "<br>{points: 1}\n",
    "\n",
    "1. Use the function `anova()` and the test `Chisq` to test if the full additive logistic model (`breast_cancer_model`) is significantly better from the intercept-only model (`model_null`).\n",
    "\n",
    "2. Store the output of the `anova` function in an object called `breast_cancer_gof`.\n",
    "\n",
    "*Fill out those parts indicated with `...`, uncomment the corresponding code in the cell below, and run it.*"
   ]
  },
  {
   "cell_type": "code",
   "execution_count": null,
   "metadata": {
    "deletable": false,
    "nbgrader": {
     "cell_type": "code",
     "checksum": "0b5f60f0e47fd27a7c6e951e6e35a873",
     "grade": false,
     "grade_id": "cell-af260f9789d91ef6",
     "locked": false,
     "schema_version": 3,
     "solution": true,
     "task": false
    }
   },
   "outputs": [],
   "source": [
    "#breast_cancer_gof <- ...(..., ..., test = \"...\")\n",
    "\n",
    "# your code here\n",
    "fail() # No Answer - remove if you provide an answer\n",
    "\n",
    "breast_cancer_gof"
   ]
  },
  {
   "cell_type": "code",
   "execution_count": null,
   "metadata": {
    "deletable": false,
    "editable": false,
    "nbgrader": {
     "cell_type": "code",
     "checksum": "73831983381d518f1f0daedeb779a8a6",
     "grade": true,
     "grade_id": "cell-8a421d4d63779e33",
     "locked": true,
     "points": 1,
     "schema_version": 3,
     "solution": false,
     "task": false
    }
   },
   "outputs": [],
   "source": [
    "test_1.6()"
   ]
  },
  {
   "cell_type": "markdown",
   "metadata": {
    "deletable": false,
    "editable": false,
    "nbgrader": {
     "cell_type": "markdown",
     "checksum": "a9f38ed7a7fec9a714115b738452447b",
     "grade": false,
     "grade_id": "cell-53380c42debd5fab",
     "locked": true,
     "schema_version": 3,
     "solution": false,
     "task": false
    }
   },
   "source": [
    "**Question 1.7: TRUE or FALSE**\n",
    "<br>{points: 1}\n",
    "\n",
    "Compare the quantities given in the anova table with those obtained before using `summary` and `glance`. *Is the following observation true or false?*\n",
    "\n",
    "\"The quantities in the column `Resid.Dev` corresponde to the residual deviance of the intercept-only and the full models, respectively.\"\n",
    "\n",
    "*Assign your answer to an object called `answer1.6`. Your answer should be one of `\"true\"` or `\"false\"` surrounded by quotes.*"
   ]
  },
  {
   "cell_type": "code",
   "execution_count": null,
   "metadata": {
    "deletable": false,
    "nbgrader": {
     "cell_type": "code",
     "checksum": "5b0aec54d23ff4d388ec1372845acf89",
     "grade": false,
     "grade_id": "cell-19dc4aab7f30bfd1",
     "locked": false,
     "schema_version": 3,
     "solution": true,
     "task": false
    }
   },
   "outputs": [],
   "source": [
    "# answer1.7 <- \n",
    "\n",
    "# your code here\n",
    "fail() # No Answer - remove if you provide an answer"
   ]
  },
  {
   "cell_type": "code",
   "execution_count": null,
   "metadata": {
    "deletable": false,
    "editable": false,
    "nbgrader": {
     "cell_type": "code",
     "checksum": "e5201876af5d7baba1ea510051db876a",
     "grade": true,
     "grade_id": "cell-5110ccc5072094db",
     "locked": true,
     "points": 1,
     "schema_version": 3,
     "solution": false,
     "task": false
    }
   },
   "outputs": [],
   "source": [
    "test_1.7()"
   ]
  },
  {
   "cell_type": "markdown",
   "metadata": {
    "deletable": false,
    "editable": false,
    "nbgrader": {
     "cell_type": "markdown",
     "checksum": "8a233673cdc2ede0e84cf04531095dff",
     "grade": false,
     "grade_id": "cell-633de4d02e393e13",
     "locked": true,
     "schema_version": 3,
     "solution": false,
     "task": false
    },
    "tags": []
   },
   "source": [
    "**Question 1.8**\n",
    "<br>{points: 1}\n",
    "\n",
    "Using a significance level $\\alpha = 0.05$ and the results in `breast_cancer_model`, in plain words, what is the conclusion from the test run results in *Question 1.6*?\n",
    "\n",
    "**A.** We fail to reject the null hypothesis; thus, there is not enough evidence that the *full* model with additional interaction terms is better than the additive (reduced) model.\n",
    "\n",
    "**B.** We reject the null hypothesis; thus, the *full* model is significatly better than the *reduced* model.\n",
    "\n",
    "**C.** We accept the alternative hypothesis; thus, the *full* model is significantly better than the *reduced* model.\n",
    "\n",
    "**D.** We do not accept the alternative hypothesis; thus, the *full* model with additional interaction terms is not better than the *reduced* model.\n",
    "\n",
    "*Assign your answer to an object called `answer1.8`. Your answer should be one of `\"A\"`, `\"B\"`, `\"C\"`, or `\"D\"` surrounded by quotes.*"
   ]
  },
  {
   "cell_type": "code",
   "execution_count": null,
   "metadata": {
    "deletable": false,
    "nbgrader": {
     "cell_type": "code",
     "checksum": "12e3a1ce6b5295f18d305bf947e496e3",
     "grade": false,
     "grade_id": "cell-672ea5acf3fcd97f",
     "locked": false,
     "schema_version": 3,
     "solution": true,
     "task": false
    },
    "tags": []
   },
   "outputs": [],
   "source": [
    "# answer1.8 <- \n",
    "\n",
    "# your code here\n",
    "fail() # No Answer - remove if you provide an answer"
   ]
  },
  {
   "cell_type": "code",
   "execution_count": null,
   "metadata": {
    "deletable": false,
    "editable": false,
    "nbgrader": {
     "cell_type": "code",
     "checksum": "abc9ef6bd643f58db0afb1b9a7323cfa",
     "grade": true,
     "grade_id": "cell-f510cd4a1479fd83",
     "locked": true,
     "points": 1,
     "schema_version": 3,
     "solution": false,
     "task": false
    },
    "tags": []
   },
   "outputs": [],
   "source": [
    "test_1.8()"
   ]
  },
  {
   "cell_type": "markdown",
   "metadata": {
    "deletable": false,
    "editable": false,
    "nbgrader": {
     "cell_type": "markdown",
     "checksum": "65818653794075b7c4769ffb2da05a93",
     "grade": false,
     "grade_id": "cell-95e74ec3f56b4208",
     "locked": true,
     "schema_version": 3,
     "solution": false,
     "task": false
    },
    "tags": []
   },
   "source": [
    "**Question 1.9**\n",
    "<br>{points: 2}\n",
    "\n",
    "Although the `breast_cancer_model` is significantly better than the intercept-only model, not all variables are needed in the model. In fact, many variables are not statistically significant and there may be a multicollinearity problem.\n",
    "\n",
    "In this question, we'll compare the additive logistic model `breast_cancer_model` with a reduced model called `breast_cancer_reduced`. \n",
    "\n",
    "1. Fit a reduced (additive and logistic) model *with only* the variables `mean_fractal_dimension`, `mean_smoothness`, `mean_compactness`, and `mean_concavity`\n",
    "   \n",
    "3. Use the function `anova()` to compare these models and store the results in an object called `breast_cancer_aov`.\n",
    "\n",
    "*Fill out those parts indicated with `...`, uncomment the corresponding code in the cell below, and run it.*"
   ]
  },
  {
   "cell_type": "code",
   "execution_count": null,
   "metadata": {
    "deletable": false,
    "nbgrader": {
     "cell_type": "code",
     "checksum": "3f495af100138b991216efb2ea1a373b",
     "grade": false,
     "grade_id": "cell-0a422db9e2c383d7",
     "locked": false,
     "schema_version": 3,
     "solution": true,
     "task": false
    }
   },
   "outputs": [],
   "source": [
    "# breast_cancer_reduced <- ...\n",
    "\n",
    "#breast_cancer_aov <- ...(..., ..., test = \"...\")\n",
    "\n",
    "# your code here\n",
    "fail() # No Answer - remove if you provide an answer\n",
    "summary(breast_cancer_reduced)\n",
    "breast_cancer_aov"
   ]
  },
  {
   "cell_type": "code",
   "execution_count": null,
   "metadata": {
    "deletable": false,
    "editable": false,
    "nbgrader": {
     "cell_type": "code",
     "checksum": "5e51961d7ba7ef727401b22af7d1fdda",
     "grade": true,
     "grade_id": "cell-07e5ccbfdcbdb745",
     "locked": true,
     "points": 1,
     "schema_version": 3,
     "solution": false,
     "task": false
    }
   },
   "outputs": [],
   "source": [
    "test_1.9()"
   ]
  },
  {
   "cell_type": "markdown",
   "metadata": {
    "deletable": false,
    "editable": false,
    "nbgrader": {
     "cell_type": "markdown",
     "checksum": "5c5926173b8f1d1b2931649fee2a11a9",
     "grade": false,
     "grade_id": "cell-c096bd3acbd91392",
     "locked": true,
     "schema_version": 3,
     "solution": false,
     "task": false
    }
   },
   "source": [
    "**Question 1.10**\n",
    "<br>{points: 1}\n",
    "\n",
    "Using a **significance level $\\alpha = 0.01$** and the results in `breast_cancer_aov`, which of the following claims is correct? \n",
    "\n",
    "**A.** There is enough evidence to reject the null hypothesis, which states that, compared to `breast_cancer_reduced`, the additional variables in the full model `breast_cancer_model` are not relevant (i.e., all their coefficients are simultaneously equal to 0).\n",
    "\n",
    "**B.** There is not enough evidence that the `breast_cancer_reduced` with only 4 covariates is significantly better than the full model `breast_cancer_model`.\n",
    "\n",
    "**C.** The `breast_cancer_reduced` is the best subset we could have considered.\n",
    "\n",
    "**D.** It is surprising that the `breast_cancer_reduced` fits the data well since some of the selected variables were *not* statistically significant in `breast_cancer_model`.\n",
    "\n",
    "*Assign your answer to an object called `answer1.10`. Your answer should be one of `\"A\"`, `\"B\"`, `\"C\"`, or `\"D\"` surrounded by quotes.*"
   ]
  },
  {
   "cell_type": "code",
   "execution_count": null,
   "metadata": {
    "deletable": false,
    "nbgrader": {
     "cell_type": "code",
     "checksum": "08e2b3fc9dd7870a6b44bcddef73a83a",
     "grade": false,
     "grade_id": "cell-526e7a36d70d7656",
     "locked": false,
     "schema_version": 3,
     "solution": true,
     "task": false
    },
    "tags": []
   },
   "outputs": [],
   "source": [
    "# answer1.10 <- \n",
    "\n",
    "# your code here\n",
    "fail() # No Answer - remove if you provide an answer"
   ]
  },
  {
   "cell_type": "code",
   "execution_count": null,
   "metadata": {
    "deletable": false,
    "editable": false,
    "nbgrader": {
     "cell_type": "code",
     "checksum": "76ac3ff6e38fb50a97d928ba5a6e0e7b",
     "grade": true,
     "grade_id": "cell-eaee9f2280c396a0",
     "locked": true,
     "points": 1,
     "schema_version": 3,
     "solution": false,
     "task": false
    },
    "tags": []
   },
   "outputs": [],
   "source": [
    "test_1.10()"
   ]
  },
  {
   "cell_type": "markdown",
   "metadata": {
    "deletable": false,
    "editable": false,
    "nbgrader": {
     "cell_type": "markdown",
     "checksum": "286ae576fd63ad89866af310f7246404",
     "grade": false,
     "grade_id": "cell-780f1094bba1bb0f",
     "locked": true,
     "schema_version": 3,
     "solution": false,
     "task": false
    },
    "tags": []
   },
   "source": [
    "# 2. Model selection\n",
    "\n",
    "In this section, you will use the **backward selection algorithm** to construct a generative multiple linear regression model."
   ]
  },
  {
   "cell_type": "markdown",
   "metadata": {
    "deletable": false,
    "editable": false,
    "nbgrader": {
     "cell_type": "markdown",
     "checksum": "02b3fe1a2bdd4f816a1702f76de88b76",
     "grade": false,
     "grade_id": "cell-5db1ec8ab7f6c357",
     "locked": true,
     "schema_version": 3,
     "solution": false,
     "task": false
    },
    "tags": []
   },
   "source": [
    "Let us start by loading the dataset to be used throughout this tutorial. We will use the dataset `fat` from the library `faraway`. You can find detailed information about it in [Johnson (1996)](https://www.tandfonline.com/doi/full/10.1080/10691898.1996.11910505). This dataset contains the percentage of body fat and a variety of body measurements (continuous variables) of 252 men. We will use `brozek` as the response variable and a subset of 14 variables to build different models. \n",
    "\n",
    "The response variable `brozek` is the percent of body fat using Brozek's equation:\n",
    "\n",
    "$$\\texttt{brozek} = \\frac{457}{\\texttt{density}} - 414.2,$$\n",
    "\n",
    "where body `density` is measured in $\\text{g}/\\text{cm}^3$.\n",
    "\n",
    "The 14 input variables are:\n",
    "\n",
    "- `age`: Age in $\\text{years}$.\n",
    "- `weight`: Weight in $\\text{lb}$.\n",
    "- `height`: Height in $\\text{in}$.\n",
    "- `adipos`: Adiposity index in $\\text{kg}/\\text{m}^2$.\n",
    "\n",
    "$$\\texttt{adipos} = \\frac{\\texttt{weight}}{\\texttt{height}^2}$$\n",
    "\n",
    "- `neck`: Neck circumference in $\\text{cm}$.\n",
    "- `chest`: Chest circumference in $\\text{cm}$.\n",
    "- `abdom`: Abdomen circumference at the umbilicus and level with the iliac crest in $\\text{cm}$.\n",
    "- `hip`: Hip circumference in $\\text{cm}$.\n",
    "- `thigh`: Thigh circumference in $\\text{cm}$.\n",
    "- `knee`: Knee circumference in $\\text{cm}$.\n",
    "- `ankle`: Ankle circumference in $\\text{cm}$.\n",
    "- `biceps`: Extended biceps circumference in $\\text{cm}$.\n",
    "- `forearm`: Forearm circumference in $\\text{cm}$.\n",
    "- `wrist`: Wrist circumference distal to the styloid processes in $\\text{cm}$.\n",
    "\n",
    "Run the code below to create the working data frame called `fat_sample`."
   ]
  },
  {
   "cell_type": "code",
   "execution_count": null,
   "metadata": {
    "deletable": false,
    "editable": false,
    "nbgrader": {
     "cell_type": "code",
     "checksum": "acf07a5af78f78c960395028df37980e",
     "grade": false,
     "grade_id": "cell-03998f31dc8342ba",
     "locked": true,
     "schema_version": 3,
     "solution": false,
     "task": false
    },
    "tags": []
   },
   "outputs": [],
   "source": [
    "# run this cell\n",
    "\n",
    "fat_sample <- \n",
    "    fat %>%\n",
    "    select(brozek, age:adipos, neck:wrist)\n",
    "\n",
    "head(fat_sample,3)"
   ]
  },
  {
   "cell_type": "markdown",
   "metadata": {
    "deletable": false,
    "editable": false,
    "nbgrader": {
     "cell_type": "markdown",
     "checksum": "fbd76481b55c8ffc03bc6218de275673",
     "grade": false,
     "grade_id": "cell-5dcb4d940b3e62e9",
     "locked": true,
     "schema_version": 3,
     "solution": false,
     "task": false
    },
    "tags": []
   },
   "source": [
    "### Selecting a generative model\n",
    "\n",
    "Although many potential input variables are available in the dataset, not all may be relevant to explain the variation of the response variable. The *subset* algorithms learned in the lecture can be used to select a subset of variables to build generative models. \n",
    "\n",
    "Generative models are built and trained to examine the association between the response and the input variables. \n",
    "\n",
    "<font style='color: darkred'>However, using the same data to select and estimate violates the analysis's assumptions and invalidates inference results</font>. This problem is known as a **post-inference problem** and will be discussed further in future lectures. Since the same data cannot be used to select and make inferences, we need to split our dataset into two sets: a *selection* set and a *training* set. \n",
    "\n",
    "In the following questions, we will use the *backward* selection algorithm and the *adjusted* $R^2$ to select a smaller model. "
   ]
  },
  {
   "cell_type": "markdown",
   "metadata": {
    "deletable": false,
    "editable": false,
    "nbgrader": {
     "cell_type": "markdown",
     "checksum": "94afb8fc1e76cabfd7d053c1499dfd26",
     "grade": false,
     "grade_id": "cell-36a56e9d55bdb89f",
     "locked": true,
     "schema_version": 3,
     "solution": false,
     "task": false
    },
    "tags": []
   },
   "source": [
    "**Question 2.0**\n",
    "<br>{points: 1}\n",
    "\n",
    "Let's start by randomly splitting `fat_sample` into two sets on a 70-30% basis: `training_fat` (70% of the data) and `selection_set_fat` (the remaining 30%). The selection will be done using the `selection_set_fat` dataset and the model will be built using the `training_fat` data.\n",
    "\n",
    "Follow the next 3 steps to complete the code below:\n",
    "\n",
    "1. Create an `id` column in `fat_sample` with the row number corresponding to each man in the sample (see function `row_number`).\n",
    "\n",
    "2. Use the function `slice_sample()` to create `training_fat` (sampling *without* replacement) with 70\\% of the observations coming from `fat_sample`.\n",
    "\n",
    "3. Use `anti_join()` with `fat_sample` and `training_fat` to create `selection_set_fat` by column `id`.\n",
    "\n",
    "4. Remove the variable `id` used to split the data\n",
    "\n",
    "*Fill out those parts indicated with `...`, uncomment the corresponding code in the cell below, and run it.*"
   ]
  },
  {
   "cell_type": "code",
   "execution_count": null,
   "metadata": {
    "deletable": false,
    "nbgrader": {
     "cell_type": "code",
     "checksum": "e921f30ef1f002e253a752b711a392e5",
     "grade": false,
     "grade_id": "cell-88095657b7ef5e0d",
     "locked": false,
     "schema_version": 3,
     "solution": true,
     "task": false
    },
    "tags": []
   },
   "outputs": [],
   "source": [
    "set.seed(123) # DO NOT CHANGE!\n",
    "\n",
    "# fat_sample <- \n",
    "#     fat_sample %>%\n",
    "#     ...(id = ...)\n",
    "\n",
    "# training_fat <- \n",
    "#     ... %>%\n",
    "#     ...(prop = ..., replace = ...)\n",
    "\n",
    "# selection_set_fat <- \n",
    "#     ... %>%\n",
    "#     anti_join(..., by = ...)\n",
    "\n",
    "# training_fat <- \n",
    "#     training_fat %>% \n",
    "#     select(-\"id\")\n",
    "\n",
    "# selection_set_fat <- \n",
    "#     selection_set_fat %>% \n",
    "#     select(...)\n",
    "\n",
    "# your code here\n",
    "fail() # No Answer - remove if you provide an answer\n",
    "\n",
    "head(training_fat)\n",
    "nrow(training_fat)\n",
    "\n",
    "head(selection_set_fat)\n",
    "nrow(selection_set_fat)"
   ]
  },
  {
   "cell_type": "code",
   "execution_count": null,
   "metadata": {
    "deletable": false,
    "editable": false,
    "nbgrader": {
     "cell_type": "code",
     "checksum": "205bb8c19193b79ccc376f7458714fdb",
     "grade": true,
     "grade_id": "cell-a648a9e5540d72b0",
     "locked": true,
     "points": 1,
     "schema_version": 3,
     "solution": false,
     "task": false
    },
    "tags": []
   },
   "outputs": [],
   "source": [
    "test_2.0()"
   ]
  },
  {
   "cell_type": "markdown",
   "metadata": {
    "deletable": false,
    "editable": false,
    "nbgrader": {
     "cell_type": "markdown",
     "checksum": "e4b5a35dfa05b37af49783b204e2eeed",
     "grade": false,
     "grade_id": "cell-78e3bba87f64f63a",
     "locked": true,
     "schema_version": 3,
     "solution": false,
     "task": false
    },
    "tags": []
   },
   "source": [
    "**Question 2.1**\n",
    "<br>{points: 1}\n",
    "\n",
    "Using only the extra data in `selection_set_fat`, select a reduced LR using the **backward selection** algorithm. Recall that this method is implemented in the `leaps::regsubsets()` function.\n",
    "\n",
    "The function `regsubsets()` from the `leaps` package identifies various subsets of input variables selected for models of different sizes. The argument `x` of `regsubsets()` is analogous to `formula` in `lm()`. \n",
    "\n",
    "Create one object using `regsubsets()`with `selection_set_fat` and call it `fat_backward_sel`. We will use `fat_bwd_summary_df` to check the results.\n",
    "\n",
    "**Maintain any ordering of columns seen in `selection_set_fat`**\n",
    "\n",
    "*Fill out those parts indicated with `...`, uncomment the corresponding code in the cell below, and run it.*"
   ]
  },
  {
   "cell_type": "code",
   "execution_count": null,
   "metadata": {
    "deletable": false,
    "nbgrader": {
     "cell_type": "code",
     "checksum": "246b0f842de6ccc3aee5fabd7d004713",
     "grade": false,
     "grade_id": "cell-9dab19aa23c8ddf6",
     "locked": false,
     "schema_version": 3,
     "solution": true,
     "task": false
    },
    "tags": []
   },
   "outputs": [],
   "source": [
    "# fat_backward_sel <- ...(\n",
    "#   x=..., \n",
    "#   nvmax=...,\n",
    "#   data=...,\n",
    "#   method=...,\n",
    "# )\n",
    "\n",
    "# fat_backward_sel\n",
    "\n",
    "# fat_bwd_summary <- summary(fat_backward_sel)\n",
    "\n",
    "# fat_bwd_summary_df <- \n",
    "#     tibble(\n",
    "#         n_input_variables = 1:14,\n",
    "#         RSQ = fat_bwd_summary$rsq,\n",
    "#         RSS = fat_bwd_summary$rss,\n",
    "#         ADJ.R2 = fat_bwd_summary$adjr2\n",
    "#     )\n",
    "\n",
    "# your code here\n",
    "fail() # No Answer - remove if you provide an answer"
   ]
  },
  {
   "cell_type": "code",
   "execution_count": null,
   "metadata": {
    "deletable": false,
    "editable": false,
    "nbgrader": {
     "cell_type": "code",
     "checksum": "4050e053469faec8c42a80963fd28c93",
     "grade": true,
     "grade_id": "cell-1834e0983d6a1794",
     "locked": true,
     "points": 1,
     "schema_version": 3,
     "solution": false,
     "task": false
    },
    "tags": []
   },
   "outputs": [],
   "source": [
    "test_2.1()"
   ]
  },
  {
   "cell_type": "markdown",
   "metadata": {
    "deletable": false,
    "editable": false,
    "nbgrader": {
     "cell_type": "markdown",
     "checksum": "bad71c72f2dfa9279f1f6568d33c36cd",
     "grade": false,
     "grade_id": "cell-afd9a48edcdcaab0",
     "locked": true,
     "schema_version": 3,
     "solution": false,
     "task": false
    },
    "tags": []
   },
   "source": [
    "**Question 2.2**\n",
    "<br>{points: 1}\n",
    "\n",
    "The *backward* subset algorithm selected the best model of each size. Results of the 14 models selected are stored in `fat_bwd_summary`. \n",
    "\n",
    "Use the *adjusted* $R^2$ of these 14 models, stored in `fat_bwd_summary_df`, to select the best generative model and indicate which input variables are in the selected model.\n",
    "\n",
    "**A.** `age`.\n",
    "\n",
    "**B.** `weight`.\n",
    "\n",
    "**C.** `height`.\n",
    "\n",
    "**D.** `adipos`.\n",
    "\n",
    "**E.**  `neck`.\n",
    "\n",
    "**F.**  `chest`.\n",
    "\n",
    "**G.**  `abdom`.\n",
    "\n",
    "**H.**  `hip`.\n",
    "\n",
    "**I.**  `thigh`.\n",
    "\n",
    "**J.**  `knee`.\n",
    "\n",
    "**K.**  `ankle`.\n",
    "\n",
    "**L.**  `biceps`.\n",
    "\n",
    "**M.**  `forearm`.\n",
    "\n",
    "**N.**  `wrist`.\n",
    "\n",
    "*Assign your answers to the object `answer2.2`. Your answers must be included in a single string indicating the correct options **in alphabetical order** and surrounded by quotes.*"
   ]
  },
  {
   "cell_type": "code",
   "execution_count": null,
   "metadata": {
    "deletable": false,
    "editable": false,
    "nbgrader": {
     "cell_type": "code",
     "checksum": "01c981c3b9da98c11ef1a0ae7c9085f8",
     "grade": false,
     "grade_id": "cell-45de567764bea01e",
     "locked": true,
     "schema_version": 3,
     "solution": false,
     "task": false
    },
    "tags": []
   },
   "outputs": [],
   "source": [
    "#Run this cell before continuing to examine the results\n",
    "\n",
    "\n",
    "# HINT: try arranging your results in descending order with: arrange(desc(column_name))\n",
    "fat_bwd_summary_df\n",
    "\n",
    "# HINT 2: You can also use the output $which to see the summary of the variables in a \n",
    "# matrix format. Give it a try: fat_bwd_summary$which \n",
    "fat_bwd_summary"
   ]
  },
  {
   "cell_type": "code",
   "execution_count": null,
   "metadata": {
    "deletable": false,
    "nbgrader": {
     "cell_type": "code",
     "checksum": "40740c833fd0404a782c1282b8bffb54",
     "grade": false,
     "grade_id": "cell-6cebf1be4cc59565",
     "locked": false,
     "schema_version": 3,
     "solution": true,
     "task": false
    },
    "tags": []
   },
   "outputs": [],
   "source": [
    "# answer2.2 <- \n",
    "\n",
    "# your code here\n",
    "fail() # No Answer - remove if you provide an answer"
   ]
  },
  {
   "cell_type": "code",
   "execution_count": null,
   "metadata": {
    "deletable": false,
    "editable": false,
    "nbgrader": {
     "cell_type": "code",
     "checksum": "47dbc102d3b3a6b9319f41c24b6985c6",
     "grade": true,
     "grade_id": "cell-1cf2ff609e71bfe7",
     "locked": true,
     "points": 1,
     "schema_version": 3,
     "solution": false,
     "task": false
    },
    "tags": []
   },
   "outputs": [],
   "source": [
    "test_2.2()"
   ]
  },
  {
   "cell_type": "markdown",
   "metadata": {
    "deletable": false,
    "editable": false,
    "nbgrader": {
     "cell_type": "markdown",
     "checksum": "7ddd285a1448b8d2b8edce793ab3fce8",
     "grade": false,
     "grade_id": "cell-2f834801ab2b709d",
     "locked": true,
     "schema_version": 3,
     "solution": false,
     "task": false
    },
    "tags": []
   },
   "source": [
    "**Question 2.3**\n",
    "<br>{points: 1}\n",
    "\n",
    "Now that you have selected a subset of input variables use the independent dataset `training_fat` to build and evaluate a *generative* model. \n",
    "\n",
    "Use `lm` to fit the selected model using `training_fat`, and store the results in an object called `fat_bwd_generative`. \n",
    "\n",
    "Enter the selected variables in the **same order** as they are in `training_fat`. This is not statistically needed; it's only needed for auto-grading purposes.\n",
    "\n",
    "*Fill out those parts indicated with `...`, uncomment the corresponding code in the cell below, and run it.*"
   ]
  },
  {
   "cell_type": "code",
   "execution_count": null,
   "metadata": {
    "deletable": false,
    "nbgrader": {
     "cell_type": "code",
     "checksum": "cc3cceba0303e4cb812227fbf170416c",
     "grade": false,
     "grade_id": "cell-b903605318ff9e7d",
     "locked": false,
     "schema_version": 3,
     "solution": true,
     "task": false
    },
    "tags": []
   },
   "outputs": [],
   "source": [
    "# fat_bwd_generative <- ...(..., ...)\n",
    "\n",
    "# your code here\n",
    "fail() # No Answer - remove if you provide an answer\n",
    "\n",
    "tidy(fat_bwd_generative)"
   ]
  },
  {
   "cell_type": "code",
   "execution_count": null,
   "metadata": {
    "deletable": false,
    "editable": false,
    "nbgrader": {
     "cell_type": "code",
     "checksum": "7359bd255da61317482f710128be1385",
     "grade": true,
     "grade_id": "cell-79c41ee8723c1697",
     "locked": true,
     "points": 1,
     "schema_version": 3,
     "solution": false,
     "task": false
    },
    "tags": []
   },
   "outputs": [],
   "source": [
    "test_2.3()"
   ]
  },
  {
   "cell_type": "markdown",
   "metadata": {
    "deletable": false,
    "editable": false,
    "nbgrader": {
     "cell_type": "markdown",
     "checksum": "1b3d4059419bd5943dfa989d8e6c9b3d",
     "grade": false,
     "grade_id": "cell-9df046a01453d22d",
     "locked": true,
     "schema_version": 3,
     "solution": false,
     "task": false
    },
    "tags": []
   },
   "source": [
    "**Question 2.4**\n",
    "<br>{points: 1}\n",
    "\n",
    "Compute the coefficient of determination $R^2$ to evaluate the model's goodness of fit.\n",
    "\n",
    "> Note that the evaluation is also based on data from `training_fat`\n",
    "\n",
    "*Assign your answer to the object `answer2.4`. Your answer must be a number.*"
   ]
  },
  {
   "cell_type": "code",
   "execution_count": null,
   "metadata": {
    "deletable": false,
    "jp-MarkdownHeadingCollapsed": true,
    "nbgrader": {
     "cell_type": "code",
     "checksum": "bc337e5814131c48a8b51273089a39b9",
     "grade": false,
     "grade_id": "cell-785ec8fc3e384cfe",
     "locked": false,
     "schema_version": 3,
     "solution": true,
     "task": false
    },
    "tags": []
   },
   "outputs": [],
   "source": [
    "# *Your code goes here.*\n",
    "\n",
    "# your code here\n",
    "fail() # No Answer - remove if you provide an answer\n",
    "\n",
    "answer2.4"
   ]
  },
  {
   "cell_type": "code",
   "execution_count": null,
   "metadata": {
    "deletable": false,
    "editable": false,
    "nbgrader": {
     "cell_type": "code",
     "checksum": "a0b74b744901bf21f21445225d749898",
     "grade": true,
     "grade_id": "cell-4cd732f72421bbbd",
     "locked": true,
     "points": 1,
     "schema_version": 3,
     "solution": false,
     "task": false
    },
    "tags": []
   },
   "outputs": [],
   "source": [
    "test_2.4()"
   ]
  }
 ],
 "metadata": {
  "jupytext": {
   "formats": "ipynb,Rmd"
  },
  "kernelspec": {
   "display_name": "R",
   "language": "R",
   "name": "ir"
  },
  "language_info": {
   "codemirror_mode": "r",
   "file_extension": ".r",
   "mimetype": "text/x-r-source",
   "name": "R",
   "pygments_lexer": "r",
   "version": "4.3.3"
  },
  "latex_envs": {
   "LaTeX_envs_menu_present": true,
   "autoclose": false,
   "autocomplete": true,
   "bibliofile": "biblio.bib",
   "cite_by": "apalike",
   "current_citInitial": 1,
   "eqLabelWithNumbers": true,
   "eqNumInitial": 1,
   "hotkeys": {
    "equation": "Ctrl-E",
    "itemize": "Ctrl-I"
   },
   "labels_anchors": false,
   "latex_user_defs": false,
   "report_style_numbering": false,
   "user_envs_cfg": false
  }
 },
 "nbformat": 4,
 "nbformat_minor": 4
}
